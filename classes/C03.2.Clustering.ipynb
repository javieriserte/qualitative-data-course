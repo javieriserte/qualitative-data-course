{
 "cells": [
  {
   "cell_type": "markdown",
   "metadata": {},
   "source": [
    "\n",
    "## Técnicas de agrupamiento - Clustering\n"
   ]
  },
  {
   "cell_type": "markdown",
   "metadata": {},
   "source": [
    "Hay dos grupos de técnicas de agrupamientos, las jerárquicas y las no\n",
    "jerárquicas.\n",
    "\n",
    "En las jerárquicas se genera una estructura de árbol. En la raiz de este árbol\n",
    "se tiene un único grupo que contiene a todos lo elementos. Este grupo se divide\n",
    "en dos subgrupos (o ramas), las cuales se siguen dividiendo hasta llegar a\n",
    "grupos terminales de un solo individuo (hojas).\n",
    "\n",
    "En las no jerárquicas suele partirse de de los elementos separados y en pasos\n",
    "iterativos se toman elementos y se genera un nuevo grupo o se une a un grupo\n",
    "existente.\n"
   ]
  },
  {
   "cell_type": "markdown",
   "metadata": {},
   "source": [
    "\n",
    "### Agrupamiento jerarquico\n",
    "\n",
    "Primero se calcular una matriz de distancias entre los elementos que quiero\n",
    "agrupar.\n",
    "\n",
    "En el ejemplo, estamos calculando distancias euclideas, pero podemos usar otra\n",
    "medida de distancia. La medida que usemos va a afectar el resultado.\n",
    "\n",
    "También es recomendable normalizar los datos antes de calcular las distancias.\n"
   ]
  },
  {
   "cell_type": "markdown",
   "metadata": {},
   "source": [
    "Luego se agrupan los elementos más cercanos entre de acuerdo a algún tipo de\n",
    "criterio de unión ( o \"linkage\").\n",
    "\n",
    "- single: distancia mínima entre dos grupos.\n",
    "- average: distancia de los promedios de cada grupo.\n",
    "- complete: distancia máxima entre dos grupos.\n",
    "- ward: minimiza la varianza de los grupos.\n",
    "\n",
    "El agrupamiento es de \"abajo hacía arriba\" uniendo pares de grupos hasta que no\n",
    "haya más que un solo grupo."
   ]
  },
  {
   "cell_type": "code",
   "execution_count": null,
   "metadata": {},
   "outputs": [],
   "source": [
    "import sklearn.datasets as datasets\n",
    "from scipy.spatial import distance_matrix\n",
    "\n",
    "irisdf = datasets.load_iris(as_frame=True)\n",
    "\n",
    "iris_distances = distance_matrix(irisdf[\"data\"], irisdf[\"data\"])\n",
    "iris_distances"
   ]
  },
  {
   "cell_type": "code",
   "execution_count": null,
   "metadata": {},
   "outputs": [],
   "source": [
    "from sklearn.cluster import AgglomerativeClustering\n",
    "\n",
    "cl = AgglomerativeClustering(\n",
    "  n_clusters=None,\n",
    "  distance_threshold=1.8,\n",
    "  linkage=\"average\",\n",
    "  affinity=\"precomputed\"\n",
    ")\n",
    "\n",
    "fitted = cl.fit(iris_distances)"
   ]
  },
  {
   "cell_type": "code",
   "execution_count": null,
   "metadata": {},
   "outputs": [],
   "source": [
    "print(\"Cantidad de clusters:\", fitted.n_clusters_)\n",
    "print(fitted.labels_)"
   ]
  },
  {
   "cell_type": "code",
   "execution_count": null,
   "metadata": {},
   "outputs": [],
   "source": [
    "import matplotlib.pyplot as plt\n",
    "from scipy.cluster.hierarchy import dendrogram\n",
    "import numpy as np\n",
    "\n",
    "fig = plt.figure(figsize=(20, 4))\n",
    "stacked = np.column_stack(\n",
    "  [fitted.children_, fitted.distances_, np.zeros(fitted.distances_.shape)]\n",
    ")\n",
    "_ = dendrogram(stacked, color_threshold=1.8)"
   ]
  },
  {
   "cell_type": "code",
   "execution_count": null,
   "metadata": {},
   "outputs": [],
   "source": [
    "import matplotlib.pyplot as plt\n",
    "\n",
    "marks = [\"*\", \".\", \"+\"]\n",
    "\n",
    "irisdf[\"data\"][\"fitted_label\"] = fitted.labels_\n",
    "irisdf[\"data\"][\"target\"] = irisdf[\"target\"]\n",
    "for target in range(3):\n",
    "  cdf = irisdf[\"data\"].query(\"target==@target\")\n",
    "  plt.scatter(\n",
    "    cdf[\"sepal length (cm)\"],\n",
    "    cdf[\"petal length (cm)\"],\n",
    "    c = cdf[\"fitted_label\"],\n",
    "    marker = marks[target]\n",
    "  )\n"
   ]
  },
  {
   "cell_type": "markdown",
   "metadata": {},
   "source": [
    "\n",
    "### Agrupamiento no jerarquico\n",
    "\n",
    "Como ejemplo de agrupamiento no jerárquico vamos a ver kmeans.\n",
    "\n",
    "El método de clustering K-means es un algoritmo utilizado para agrupar datos en\n",
    "clusters basándose en sus similitudes.\n",
    "\n",
    "- Inicialización:\n",
    "  - Selecciona el número de clusters que se desea obtener.\n",
    "  - Inicializa los centroides.\n",
    "- Asignación de puntos a clusters:\n",
    "  -  Calcula la distancia entre cada punto de datos y los centroides.\n",
    "  - Asigna cada punto al cluster representado por el centroide más cercano.\n",
    "- Actualización de centroides:\n",
    "  - Calcula el nuevo centroide de cada cluster.\n",
    "\n",
    "El algoritmo de K-means busca minimizar la suma de las distancias cuadradas\n",
    "entre cada punto y su centroide asignado, lo cual se conoce como la función de\n",
    "costo o inercia del modelo.\n"
   ]
  },
  {
   "cell_type": "code",
   "execution_count": null,
   "metadata": {},
   "outputs": [],
   "source": [
    "from sklearn.cluster import KMeans\n",
    "\n",
    "kmeans = KMeans(n_clusters=3)\n",
    "\n",
    "kmeans_fitted = kmeans.fit(irisdf[\"data\"].iloc[:, :4])\n"
   ]
  },
  {
   "cell_type": "code",
   "execution_count": null,
   "metadata": {},
   "outputs": [],
   "source": [
    "kmeans_fitted.labels_"
   ]
  },
  {
   "cell_type": "code",
   "execution_count": null,
   "metadata": {},
   "outputs": [],
   "source": [
    "import matplotlib.pyplot as plt\n",
    "\n",
    "marks = [\"*\", \".\", \"+\"]\n",
    "\n",
    "irisdf[\"data\"][\"fitted_label\"] = kmeans_fitted.labels_\n",
    "irisdf[\"data\"][\"target\"] = irisdf[\"target\"]\n",
    "for target in range(3):\n",
    "  cdf = irisdf[\"data\"].query(\"target==@target\")\n",
    "  plt.scatter(\n",
    "    cdf[\"sepal length (cm)\"],\n",
    "    cdf[\"petal length (cm)\"],\n",
    "    c = cdf[\"fitted_label\"],\n",
    "    marker = marks[target]\n",
    "  )\n"
   ]
  }
 ],
 "metadata": {
  "kernelspec": {
   "display_name": ".venv",
   "language": "python",
   "name": "python3"
  },
  "language_info": {
   "codemirror_mode": {
    "name": "ipython",
    "version": 3
   },
   "file_extension": ".py",
   "mimetype": "text/x-python",
   "name": "python",
   "nbconvert_exporter": "python",
   "pygments_lexer": "ipython3",
   "version": "3.9.4"
  }
 },
 "nbformat": 4,
 "nbformat_minor": 2
}
