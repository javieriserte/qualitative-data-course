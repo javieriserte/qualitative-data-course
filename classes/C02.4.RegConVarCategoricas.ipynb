{
 "cells": [
  {
   "cell_type": "code",
   "execution_count": null,
   "metadata": {},
   "outputs": [],
   "source": [
    "# To use only Google Colab\n",
    "# ! pip install matplotlib --upgrade"
   ]
  },
  {
   "cell_type": "markdown",
   "metadata": {},
   "source": [
    "## Modelos de regresión con variables categóricas\n",
    "\n",
    "Los modelos lineales que vimos antes\n",
    "  - Solo pueden trabajar con variables dependientes e independientes continuas.\n",
    "\n",
    "Existen modelos alternartivos para trabajar con variables categóricas\n",
    "  - En las variables independientes\n",
    "  - En las variables dependientes"
   ]
  },
  {
   "cell_type": "markdown",
   "metadata": {},
   "source": [
    "## Análisis de Regresión Logística con variables independientes categóricas\n",
    "\n",
    "Es posible hacer un modelo de regresión lineal con variables independientes\n",
    "categóricas.\n",
    "\n",
    "Tenemos que modificar los datos y el modelo, para que las variables categóricas\n",
    "pueden ser incluidas.\n",
    "\n",
    "- Si la variable es dicotómica:\n",
    "  - Se modifica su valor para sea\n",
    "    - 1 para una categroría\n",
    "    - 0 para la otra categoria.\n",
    "- Si la variable tiene tres o mas valores:\n",
    "  - Se incluyen en el modelo\n",
    "    - Tantas variables como categorias\n",
    "    - Cada variable puede tener valores 0 o 1\n"
   ]
  },
  {
   "cell_type": "code",
   "execution_count": null,
   "metadata": {},
   "outputs": [],
   "source": [
    "from rdatasets import data, descr\n",
    "\n",
    "survey = data(\"MASS\", \"survey\")\n",
    "survey.dropna(inplace=True)\n",
    "print(survey)\n",
    "print(descr(\"MASS\", \"survey\"))"
   ]
  },
  {
   "cell_type": "markdown",
   "metadata": {},
   "source": [
    "Vamos a tratar de predecir la altura:\n",
    "  - Por el sexo la persona\n",
    "  - La frecuencia de fumar\n",
    "  - La frecuencia de ejercitación\n"
   ]
  },
  {
   "cell_type": "code",
   "execution_count": null,
   "metadata": {},
   "outputs": [],
   "source": [
    "import pandas as pd\n",
    "survey_mod = survey[[\"Height\", \"Sex\", \"Smoke\", \"Exer\"]]\n",
    "\n",
    "survey_mod = pd.get_dummies(survey_mod)\n",
    "survey_mod.drop(columns=[\"Sex_Male\"], inplace = True)\n",
    "survey_mod"
   ]
  },
  {
   "cell_type": "code",
   "execution_count": null,
   "metadata": {},
   "outputs": [],
   "source": [
    "import statsmodels.api as sm\n",
    "import pandas as pd\n",
    "import numpy as np\n",
    "\n",
    "\n",
    "train_frac = 0.7\n",
    "train_elems = int(round(train_frac * len(survey_mod)))\n",
    "print(f\"Selecciono {train_elems} elementos para entrenar\")\n",
    "print(f\"Selecciono {len(survey_mod)-train_elems} elementos para testear\")\n",
    "\n",
    "suffled_indexes = survey_mod.index.to_numpy()\n",
    "np.random.shuffle(suffled_indexes)\n",
    "train_indexes = suffled_indexes[:train_elems]\n",
    "test_indexes = suffled_indexes[train_elems:]\n",
    "\n",
    "survey_train = survey_mod.loc[train_indexes,:]\n",
    "survey_test = survey_mod.loc[test_indexes,:]\n",
    "\n",
    "exog = survey_train.drop(columns=[\"Height\"])\n",
    "exog = sm.add_constant(exog)\n",
    "exog\n",
    "\n",
    "regmod = sm.OLS(\n",
    "  endog = survey_train[\"Height\"],\n",
    "  exog = exog\n",
    ")\n",
    "fitted = regmod.fit()\n",
    "fitted.params\n",
    "\n",
    "test = survey_test.drop(columns=[\"Height\"])\n",
    "test = sm.add_constant(test)\n",
    "test\n",
    "\n",
    "test_predicted = fitted.predict(test)\n",
    "test_predicted.name = \"Predicted\"\n",
    "test_predicted"
   ]
  },
  {
   "cell_type": "code",
   "execution_count": null,
   "metadata": {},
   "outputs": [],
   "source": [
    "import statsmodels.api as sm\n",
    "import matplotlib.pyplot as plt\n",
    "import numpy as np\n",
    "import scipy.stats as st\n",
    "\n",
    "plt.scatter(\n",
    "  x = survey_test[\"Height\"],\n",
    "  y = test_predicted\n",
    ")\n",
    "plt.ylabel(\"Altura predicha\")\n",
    "plt.xlabel(\"Altura real\")\n",
    "\n",
    "pearson_corr = st.pearsonr(survey_test[\"Height\"], test_predicted)\n",
    "pearson_corr\n",
    "\n",
    "\n",
    "fitted2 = sm.OLS(\n",
    "  survey_test[\"Height\"],\n",
    "  sm.add_constant(test_predicted)\n",
    ").fit()\n",
    "x = np.linspace(min(survey_test[\"Height\"]), max(survey_test[\"Height\"]), 100)\n",
    "plt.plot(\n",
    "  x,\n",
    "  fitted2.params @ (sm.add_constant(x)).T,\n",
    "  color = \"Red\"\n",
    ")\n",
    "plt.text(155, 190, f\"$\\\\rho = {pearson_corr[0]:0.3f}$\")\n"
   ]
  },
  {
   "cell_type": "markdown",
   "metadata": {},
   "source": [
    "## Modelo lineal con una variable dependiente con varias categorías\n",
    "\n",
    "Para utilizar un modelo lineal para prededir\n",
    "\n",
    "- Una variable dependiente\n",
    "  - Can varias categorías\n",
    "- Se contruyen varios modelos logisticos\n",
    "  - Si hay N categorias,\n",
    "  - Se generan N modelos.\n",
    "  - Cada uno de ellos predice cada variable.\n",
    "  - Finalmente,\n",
    "    - Se toma el valor de la mayor predicción individual"
   ]
  },
  {
   "cell_type": "markdown",
   "metadata": {},
   "source": [
    "Queremos predecir la frecuencia de ejericio:\n",
    "- El pulso\n",
    "- La altura\n",
    "- Edad"
   ]
  },
  {
   "cell_type": "code",
   "execution_count": null,
   "metadata": {},
   "outputs": [],
   "source": [
    "outputs = survey[\"Exer\"].unique()\n",
    "outputs"
   ]
  },
  {
   "cell_type": "code",
   "execution_count": null,
   "metadata": {},
   "outputs": [],
   "source": [
    "from rdatasets import data, descr\n",
    "\n",
    "survey = data(\"MASS\", \"survey\")\n",
    "survey.dropna(inplace=True)\n",
    "\n",
    "train_frac = 0.7\n",
    "train_elems = int(round(train_frac * len(survey)))\n",
    "print(f\"Selecciono {train_elems} elementos para entrenar\")\n",
    "print(f\"Selecciono {len(survey)-train_elems} elementos para testear\")\n",
    "\n",
    "suffled_indexes = survey_mod.index.to_numpy()\n",
    "np.random.shuffle(suffled_indexes)\n",
    "train_indexes = suffled_indexes[:train_elems]\n",
    "test_indexes = suffled_indexes[train_elems:]\n",
    "\n",
    "survey_train = survey.loc[train_indexes,:]\n",
    "survey_test = survey.loc[test_indexes,:]\n",
    "survey_test\n",
    "exog = survey_train[[\"Pulse\", \"Height\", \"Age\"]]\n",
    "exog\n",
    "\n",
    "fitted_models = []\n",
    "for o in outputs:\n",
    "  c_endog = (survey_train[\"Exer\"] == o).astype(int)\n",
    "  m = sm.Logit(\n",
    "    endog = c_endog,\n",
    "    exog = exog\n",
    "  )\n",
    "  fitted_models.append(m.fit())"
   ]
  },
  {
   "cell_type": "code",
   "execution_count": null,
   "metadata": {},
   "outputs": [],
   "source": [
    "from sklearn.metrics import classification_report\n",
    "\n",
    "exog = survey_test[[\"Pulse\", \"Height\", \"Age\"]]\n",
    "\n",
    "predicted = [\n",
    "  m.predict(exog)\n",
    "  for m in fitted_models\n",
    "]\n",
    "\n",
    "predicted = np.column_stack(predicted)\n",
    "joint_predicted = np.apply_along_axis(np.argmax, 1, predicted)\n",
    "\n",
    "test_values = survey_test[\"Exer\"].replace(\n",
    "  {\n",
    "    outputs[0]: 0,\n",
    "    outputs[1]: 1,\n",
    "    outputs[2]: 2\n",
    "  }\n",
    ")\n",
    "\n",
    "a = classification_report(\n",
    "  test_values,\n",
    "  joint_predicted,\n",
    "  target_names = outputs,\n",
    "  zero_division = 0\n",
    ")\n",
    "print(a)"
   ]
  }
 ],
 "metadata": {
  "kernelspec": {
   "display_name": "Python 3.9.4 ('.venv': venv)",
   "language": "python",
   "name": "python3"
  },
  "language_info": {
   "codemirror_mode": {
    "name": "ipython",
    "version": 3
   },
   "file_extension": ".py",
   "mimetype": "text/x-python",
   "name": "python",
   "nbconvert_exporter": "python",
   "pygments_lexer": "ipython3",
   "version": "3.9.4"
  },
  "orig_nbformat": 4,
  "vscode": {
   "interpreter": {
    "hash": "2642d409aca2f3e50c4cc7e12f906abb96a179c2b76bcb58c2b6a9943c6a4da3"
   }
  }
 },
 "nbformat": 4,
 "nbformat_minor": 2
}
