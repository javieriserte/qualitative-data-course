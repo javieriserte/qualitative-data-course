{
 "cells": [
  {
   "cell_type": "code",
   "execution_count": null,
   "metadata": {},
   "outputs": [],
   "source": [
    "# Upgrade matplotlib on Colab\n",
    "# !pip install matplotlib --upgrade"
   ]
  },
  {
   "cell_type": "markdown",
   "metadata": {},
   "source": [
    "## Métodos de clasificación\n",
    "\n",
    "### Análisis de discriminantes lineales\n",
    "\n",
    "- Es un método para clasificar elementos\n",
    "  - Cada variable aleatorio se asocia con una dimensión geométrica\n",
    "- Divide el espacio n-dimensional\n",
    "  - por medio lineas rectas (planos, hiperplanos)\n",
    "- Los sectores que se obtienen separan las categorías."
   ]
  },
  {
   "cell_type": "code",
   "execution_count": null,
   "metadata": {},
   "outputs": [],
   "source": [
    "import scipy.stats as st\n",
    "import matplotlib.pyplot as plt\n",
    "import numpy as np\n",
    "\n",
    "data_a = st.multivariate_normal.rvs([1, 1], [[0.0, 0.1],[0.1, 0.0]], size=100)\n",
    "data_b = st.multivariate_normal.rvs([-1, -1], [[0.0, 0.1],[0.1, 0.0]], size=100)\n",
    "# data_c = st.multivariate_normal.rvs([1, -1], [[0.0, 0.1],[0.1, 0.0]], size=100)\n",
    "\n",
    "joint_data = np.row_stack(\n",
    "    [\n",
    "        data_a,\n",
    "        data_b,\n",
    "        # data_c\n",
    "    ]\n",
    ")\n",
    "\n",
    "plt.scatter(\n",
    "    joint_data[:, 0],\n",
    "    joint_data[:, 1],\n",
    ")\n",
    "plt.xlim(-4, 4)\n",
    "plt.ylim(-4, 4)\n"
   ]
  },
  {
   "cell_type": "code",
   "execution_count": null,
   "metadata": {},
   "outputs": [],
   "source": [
    "from sklearn.discriminant_analysis import LinearDiscriminantAnalysis\n",
    "\n",
    "lda = LinearDiscriminantAnalysis()\n",
    "fitted = lda.fit(\n",
    "    joint_data,\n",
    "    [1]*100 +\n",
    "    [2]*100\n",
    "    # + [3] *100\n",
    ")\n"
   ]
  },
  {
   "cell_type": "markdown",
   "metadata": {},
   "source": [
    "Podemos predecir las categorías de nuevos datos."
   ]
  },
  {
   "cell_type": "code",
   "execution_count": null,
   "metadata": {},
   "outputs": [],
   "source": [
    "fitted.predict(joint_data)"
   ]
  },
  {
   "cell_type": "markdown",
   "metadata": {},
   "source": [
    "Podemos extraer los datos de las rectas"
   ]
  },
  {
   "cell_type": "code",
   "execution_count": null,
   "metadata": {},
   "outputs": [],
   "source": [
    "\n",
    "print(f\"Los valores de la/s ordenadas al origen es/son: {fitted.intercept_}\")\n",
    "print(f\"Los valores de los coeficientes son: {fitted.coef_}\")\n"
   ]
  },
  {
   "cell_type": "markdown",
   "metadata": {},
   "source": [
    "También podemos extraer loo puntos medio de cada categoría"
   ]
  },
  {
   "cell_type": "code",
   "execution_count": null,
   "metadata": {},
   "outputs": [],
   "source": [
    "print(f\"Las medias de las categorías son:\\n{fitted.means_}\")\n"
   ]
  },
  {
   "cell_type": "markdown",
   "metadata": {},
   "source": [
    "Las rectas que describen los planos se definen como:\n",
    "- $0 = a + b_1 \\times X_1 + b_2\\times X_2 \\ldots $"
   ]
  },
  {
   "cell_type": "code",
   "execution_count": null,
   "metadata": {},
   "outputs": [],
   "source": [
    "m = fitted.coef_[0, 0] / fitted.coef_[0, 1]\n",
    "m1 = fitted.intercept_ / fitted.coef_[0, 1]\n",
    "# m1 = fitted.intercept_[2] / fitted.coef_[2, 1]\n",
    "\n",
    "line_div = lambda x: - m * x - m1\n",
    "plt.scatter(\n",
    "    joint_data[:, 0],\n",
    "    joint_data[:, 1],\n",
    "    c = [0] * 100 + [1] * 100 # [2] * 100\n",
    ")\n",
    "plt.xlim(-4, 4)\n",
    "plt.ylim(-4, 4)\n",
    "\n",
    "xs = np.linspace(-4, 4, 100)\n",
    "plt.plot(\n",
    "    xs,\n",
    "    line_div(xs),\n",
    "    color = \"red\"\n",
    ")\n",
    "plt.text(\n",
    "    1, 3,\n",
    "    s = \"$X_2 = -\\\\frac{b_1}{b_2}\\\\times X_1 - \\\\frac{a}{b_2}$\",\n",
    "    fontsize = 16\n",
    ")\n",
    "plt.xlabel(\"$X_1$\")\n",
    "plt.ylabel(\"$X_2$\")\n",
    "plt.tight_layout()"
   ]
  },
  {
   "cell_type": "markdown",
   "metadata": {},
   "source": [
    "Ejemplo con el dataset Iris"
   ]
  },
  {
   "cell_type": "code",
   "execution_count": null,
   "metadata": {},
   "outputs": [],
   "source": [
    "import sklearn.datasets as datasets\n",
    "\n",
    "iris = datasets.load_iris(as_frame = True)\n",
    "df = iris[\"frame\"]"
   ]
  },
  {
   "cell_type": "code",
   "execution_count": null,
   "metadata": {},
   "outputs": [],
   "source": [
    "from sklearn.discriminant_analysis import LinearDiscriminantAnalysis\n",
    "from sklearn.model_selection import train_test_split\n",
    "\n",
    "train, test = train_test_split(df)\n",
    "lda = LinearDiscriminantAnalysis()\n",
    "fitted = lda.fit(train.drop(columns=[\"target\"]), train[\"target\"])\n",
    "predicted_classes = fitted.predict(test.drop(columns=[\"target\"]))"
   ]
  },
  {
   "cell_type": "code",
   "execution_count": null,
   "metadata": {},
   "outputs": [],
   "source": [
    "prediction_table = (predicted_classes == test[\"target\"]).value_counts()\n",
    "accuracy = prediction_table[True] / (prediction_table.sum())\n",
    "print(f\"Accuracy: {accuracy*100:0.2f}%\")"
   ]
  },
  {
   "cell_type": "markdown",
   "metadata": {},
   "source": [
    "### Análisis de discriminantes cuadráticos"
   ]
  },
  {
   "cell_type": "code",
   "execution_count": null,
   "metadata": {},
   "outputs": [],
   "source": [
    "\n",
    "import scipy.stats as st\n",
    "import matplotlib.pyplot as plt\n",
    "import numpy as np\n",
    "\n",
    "data_a = st.multivariate_normal.rvs([0, 1.3], [[0.0, 0.1],[0.1, 0.0]], size=100)\n",
    "data_b = st.multivariate_normal.rvs([-1, 0], [[0.0, 0.2],[0.2, 0.0]], size=100)\n",
    "data_c = st.multivariate_normal.rvs([1, 0], [[0.0, 0.2],[0.2, 0.0]], size=100)\n",
    "\n",
    "joint_data = np.row_stack(\n",
    "    [\n",
    "        data_a,\n",
    "        data_b,\n",
    "        data_c\n",
    "    ]\n",
    ")\n",
    "\n",
    "plt.scatter(\n",
    "    joint_data[:, 0],\n",
    "    joint_data[:, 1],\n",
    "    c = [0] * 100 + [1] * 200\n",
    ")\n",
    "plt.xlim(-4, 4)\n",
    "plt.ylim(-4, 4)"
   ]
  },
  {
   "cell_type": "code",
   "execution_count": null,
   "metadata": {},
   "outputs": [],
   "source": [
    "from sklearn.discriminant_analysis import QuadraticDiscriminantAnalysis\n",
    "from sklearn.model_selection import train_test_split\n",
    "\n",
    "joint_data = np.column_stack([joint_data, [0]*100 + [1]*200])\n",
    "\n",
    "train, test = train_test_split(joint_data)\n",
    "\n",
    "qda = QuadraticDiscriminantAnalysis()\n",
    "\n",
    "fitted = qda.fit(joint_data[:, [0, 1]], joint_data[:, 2])\n",
    "\n",
    "predicted = fitted.predict(test[:, [0, 1]])"
   ]
  },
  {
   "cell_type": "code",
   "execution_count": null,
   "metadata": {},
   "outputs": [],
   "source": [
    "import pandas as pd\n",
    "prediction_table = pd.Series(predicted == test[:,2]).value_counts()\n",
    "\n",
    "print(prediction_table)\n",
    "\n",
    "accuracy = prediction_table[True] / prediction_table.sum()\n",
    "print(f\"accuracy = {accuracy}\")"
   ]
  },
  {
   "cell_type": "markdown",
   "metadata": {},
   "source": [
    "Podemos visualizar el área de decisión"
   ]
  },
  {
   "cell_type": "code",
   "execution_count": null,
   "metadata": {},
   "outputs": [],
   "source": [
    "xy = np.meshgrid(\n",
    "    np.linspace(-4, 4, 50),\n",
    "    np.linspace(-4, 4, 50)\n",
    ")\n",
    "xy = np.array([xy[0].ravel(), xy[1].ravel()])\n",
    "\n",
    "plt.scatter(\n",
    "    xy.T[:,0],\n",
    "    xy.T[:,1],\n",
    "    c = (fitted.decision_function(xy.T)>0),\n",
    "    alpha = 0.3,\n",
    "    s = 5\n",
    ")\n",
    "\n",
    "plt.scatter(\n",
    "    joint_data[:, 0],\n",
    "    joint_data[:, 1],\n",
    "    c = ['red'] * 100 + ['blue'] * 200\n",
    ")\n"
   ]
  },
  {
   "cell_type": "code",
   "execution_count": null,
   "metadata": {},
   "outputs": [],
   "source": [
    "import pandas as pd\n",
    "\n",
    "data = [\n",
    "    [0, \"A1\", \"B1\", \"C1\"],\n",
    "    [0, \"A1\", \"B1\", \"C1\"],\n",
    "    [0, \"A1\", \"B1\", \"C2\"],\n",
    "    [0, \"A1\", \"B1\", \"C2\"],\n",
    "    [0, \"A1\", \"B1\", \"C1\"],\n",
    "    [0, \"A2\", \"B1\", \"C2\"],\n",
    "    [1, \"A1\", \"B3\", \"C1\"],\n",
    "    [1, \"A1\", \"B3\", \"C2\"],\n",
    "    [1, \"A1\", \"B1\", \"C1\"],\n",
    "    [1, \"A2\", \"B1\", \"C2\"],\n",
    "    [1, \"A2\", \"B1\", \"C1\"],\n",
    "    [1, \"A2\", \"B1\", \"C2\"],\n",
    "    [1, \"A2\", \"B3\", \"C1\"],\n",
    "    [1, \"A2\", \"B3\", \"C2\"],\n",
    "]\n",
    "\n",
    "df = pd.DataFrame(\n",
    "    data = data,\n",
    "    columns = [\"Group\", \"VarA\", \"VarB\", \"VarC\"]\n",
    ")\n",
    "\n",
    "df = pd.get_dummies(df)\n",
    "\n",
    "lda = LinearDiscriminantAnalysis()\n",
    "\n",
    "lda.fit(df.iloc[:, 1:], df[\"Group\"])\n",
    "\n",
    "predicted = lda.predict(df.iloc[:, 1:])\n",
    "\n",
    "predicted == df[\"Group\"]"
   ]
  }
 ],
 "metadata": {
  "kernelspec": {
   "display_name": "Python 3.10.6 64-bit",
   "language": "python",
   "name": "python3"
  },
  "language_info": {
   "codemirror_mode": {
    "name": "ipython",
    "version": 3
   },
   "file_extension": ".py",
   "mimetype": "text/x-python",
   "name": "python",
   "nbconvert_exporter": "python",
   "pygments_lexer": "ipython3",
   "version": "3.10.6"
  },
  "orig_nbformat": 4,
  "vscode": {
   "interpreter": {
    "hash": "369f2c481f4da34e4445cda3fffd2e751bd1c4d706f27375911949ba6bb62e1c"
   }
  }
 },
 "nbformat": 4,
 "nbformat_minor": 2
}
