{
  "cells": [
    {
      "cell_type": "code",
      "execution_count": null,
      "metadata": {
        "colab": {
          "base_uri": "https://localhost:8080/",
          "height": 523
        },
        "id": "ftdn9jK1gPb0",
        "outputId": "06696431-4ff1-437a-f2e5-7a85406ecc0f"
      },
      "outputs": [],
      "source": [
        "# To use only Google Colab\n",
        "# ! pip install matplotlib --upgrade"
      ]
    },
    {
      "cell_type": "markdown",
      "metadata": {
        "id": "RTwZKb8BgPb3"
      },
      "source": [
        "# Unidad II. Regresiones y reducción de dimensionalidad.\n",
        "\n",
        "## Modelos de regresión lineales\n",
        "\n",
        "Los modelos de regresión lineales:\n",
        "- predicen una o más variable *dependientes*\n",
        "- como una combinación lineal de\n",
        "  - un conjunto de variables *independientes*\n",
        "- $Y = \\alpha + \\beta_{1}X_{1} + \\beta_{2}X_{2} + ... + \\beta_{k}X_{k} + E$\n",
        "  - $Y$ es la variable *dependiente*.\n",
        "  - $X_1, X_2, ...$ son las variables *independientes*.\n",
        "  - $\\beta_1, \\beta_2, ...$ son los *coeficientes*.\n",
        "  - $\\alpha$ es la ordenada al origen.\n",
        "  - $E$ es un término que representa el error.\n",
        "- El problema del modelo:\n",
        "  - Es hallar $\\alpha, \\beta_1, \\beta_2$\n",
        "  - Esto suele hacerse mediante el criterio de cuadrados mínimos:\n",
        "  - minimizar $ \\sum_{i=1}^{N}(Y_{i}-\\hat{Y}_{i})^{2} = \\sum_{i=1}^{N} E_{i}^{2}$\n",
        "- El modelo asume:\n",
        "  - *Linealidad*: La variable dependiente se obtiene por una combinación lineal\n",
        "    de las otras.\n",
        "  - Independencia de los residuos\n",
        "  - Homocedasticidad: Igualdad de varianza para cada variable independiente.\n",
        "  - Normalidad: Los residuos se distribuyen de manera normal con $\\mu = 0$\n",
        "  - No-colinealidad: Las variables independientes no pueden ser combinaciones\n",
        "    lineales unas de otras, no debe haber correlación entre ellas."
      ]
    },
    {
      "cell_type": "markdown",
      "metadata": {
        "id": "HS3UB4OygPb5"
      },
      "source": [
        "Vamos a simular un modelo lineal completo."
      ]
    },
    {
      "cell_type": "code",
      "execution_count": null,
      "metadata": {
        "id": "yMII_mkLgPb6"
      },
      "outputs": [],
      "source": [
        "import numpy as np\n",
        "import scipy.stats as st\n",
        "\n",
        "# Simular variables aleatorias\n",
        "nvars = 2\n",
        "nvalues = 1000\n",
        "variables = np.random.rand(nvars, nvalues)\n",
        "\n",
        "# Simular la intersección\n",
        "alpha = np.random.rand()\n",
        "\n",
        "# Simulación de los coeficientes\n",
        "betas = np.random.rand(nvars)\n",
        "\n",
        "# simular los errores\n",
        "errors = 0.05 * st.norm.rvs(size=nvalues)"
      ]
    },
    {
      "cell_type": "code",
      "execution_count": null,
      "metadata": {
        "colab": {
          "base_uri": "https://localhost:8080/"
        },
        "id": "bIVYpX5bgPb6",
        "outputId": "9c7486e0-7b60-4c21-af52-0b9504167f3f"
      },
      "outputs": [],
      "source": [
        "model = alpha + np.matmul(betas, variables)  + errors\n",
        "model[:4]\n"
      ]
    },
    {
      "cell_type": "code",
      "execution_count": null,
      "metadata": {
        "id": "AgmAAf0hgPb7"
      },
      "outputs": [],
      "source": [
        "import statsmodels.api as sm\n",
        "\n",
        "exog = sm.add_constant(variables.T)\n",
        "\n",
        "# Ordinal Least Square\n",
        "reg_mod = sm.OLS(\n",
        "    endog = model,\n",
        "    exog = exog\n",
        ")\n",
        "\n",
        "fitted = reg_mod.fit()\n"
      ]
    },
    {
      "cell_type": "code",
      "execution_count": null,
      "metadata": {
        "colab": {
          "base_uri": "https://localhost:8080/"
        },
        "id": "Hx2qkZqegPb8",
        "outputId": "e3f7f552-6e46-4d4c-d06d-3356ba0b6e20"
      },
      "outputs": [],
      "source": [
        "# alpha, beta1, beta2\n",
        "print(f\"Fitted coefficients: {fitted.params}\")\n",
        "print(f\"Real coefficients: {[alpha, betas]}\")\n"
      ]
    },
    {
      "cell_type": "code",
      "execution_count": null,
      "metadata": {
        "colab": {
          "base_uri": "https://localhost:8080/",
          "height": 467
        },
        "id": "O4nR6q8XgPb9",
        "outputId": "54485400-227a-48a9-9278-72bb017b1d0a"
      },
      "outputs": [],
      "source": [
        "fitted.summary()"
      ]
    },
    {
      "cell_type": "code",
      "execution_count": null,
      "metadata": {
        "id": "N53wDaiTgPb9",
        "outputId": "c04bf621-f84e-47ac-e4fb-60d5904274a6"
      },
      "outputs": [],
      "source": [
        "var_with_intercept = sm.add_constant(variables.T)\n",
        "print(\"Variables with estimated alpha:\")\n",
        "print(var_with_intercept[:4,:])\n",
        "\n",
        "print(f\"predicted:\\n{fitted.predict(var_with_intercept[:4,:])}\")\n",
        "print(f\"Real values:\\n{model[:4]}\")\n"
      ]
    },
    {
      "cell_type": "code",
      "execution_count": null,
      "metadata": {
        "id": "a3Bq5xMwgPb-",
        "outputId": "b40957a5-f5c5-4f33-d794-c89df298263c"
      },
      "outputs": [],
      "source": [
        "import matplotlib.pyplot as plt\n",
        "\n",
        "plt.scatter(\n",
        "    model,\n",
        "    fitted.predict(var_with_intercept)\n",
        ")\n",
        "plt.xlabel(\"Real data\")\n",
        "plt.ylabel(\"Predicted\")\n",
        "plt.title(f\"Coeficiente de determinación: $R^2 = {fitted.rsquared:0.3f}$\")"
      ]
    },
    {
      "cell_type": "code",
      "execution_count": null,
      "metadata": {
        "id": "J5v9AqOqgPb-",
        "outputId": "bff4f825-491b-46e3-a8ba-16987eb751e5"
      },
      "outputs": [],
      "source": [
        "_ = plt.hist(fitted.resid, bins = 50)"
      ]
    },
    {
      "cell_type": "markdown",
      "metadata": {
        "id": "vjP7JaougPb_"
      },
      "source": [
        "### Coeficientes de determinación\n",
        "\n",
        "Es el valor $R^2$ de la regresión. \n",
        "- Es la proporción de la varianza de la variables de respuesta que puede ser\n",
        "  predicha a partir de las variables explicativas.\n",
        "- Varía entre 0 y 1.\n",
        "  - Cuanto mayor es, menos incerteza se tiene de los valores reales a partir del\n",
        "   modelo.\n",
        "- Suma de los cuadrado de los datos:\n",
        "  - $SS_{data} = \\sum_i{(y_i-\\bar{y})^2}$\n",
        "- Suma de los cuadrados de las predicciones:\n",
        "  - $SS_{pred} = \\sum_i{(fit(y_i)-\\bar{y})^2}$\n",
        "- $R^2 = \\frac{SS_{pred}}{SS_{data}}$"
      ]
    },
    {
      "cell_type": "markdown",
      "metadata": {
        "id": "deJpVYgLgPb_"
      },
      "source": [
        "Veamos como cambia el $R^2$ con el error del modelo."
      ]
    },
    {
      "cell_type": "code",
      "execution_count": null,
      "metadata": {
        "id": "B3v705SXgPb_",
        "outputId": "46a988f3-4c49-4359-ab56-9a15b922ce30"
      },
      "outputs": [],
      "source": [
        "nvars <- 2\n",
        "nvalues <- 50\n",
        "variables <- np.random.rand(nvars, nvalues)\n",
        "exog = sm.add_constant(variables.T)\n",
        "alpha <- np.random.rand()\n",
        "betas <- np.random.rand(nvars)\n",
        "fig, axes = plt.subplots(ncols=2, nrows=2)\n",
        "axes = axes.flatten()\n",
        "for i, err in enumerate([0.05, 0.2, 0.5, 1]):\n",
        "  errors = st.norm.rvs(size=nvalues) * err\n",
        "  y = alpha + betas@variables + errors\n",
        "  reg_mod = sm.OLS(endog = y, exog = exog)\n",
        "  fitted = reg_mod.fit()\n",
        "  fval = fitted.fittedvalues\n",
        "  axes[i].scatter(y,fval)\n",
        "  axes[i].set_title(f\"$R^2$: {fitted.rsquared:0.4f}\")\n",
        "fig.tight_layout()"
      ]
    },
    {
      "cell_type": "code",
      "execution_count": null,
      "metadata": {
        "id": "3ijQXXCEgPcA",
        "outputId": "bff3a231-aab5-4489-e54f-fa2c370d87ab"
      },
      "outputs": [],
      "source": [
        "fitted.resid"
      ]
    },
    {
      "cell_type": "markdown",
      "metadata": {
        "id": "SPErb-9fgPcA"
      },
      "source": [
        "### Mínimos Cuadrados Ponderados.\n",
        "\n",
        "En el caso de no cumplirse con la homocedacia\n",
        "- es posible darle a cada observación un peso inversamente proporcional a la\n",
        "  varianza para ese variable.\n",
        "- Regresion por minimos cuadrados ponderados.\n",
        "- Lo óptimo es conocer la varianza de los residuos\n",
        "  - Muy dificil de conocer\n",
        "- Se puede estimar a partir de los residuos."
      ]
    },
    {
      "cell_type": "markdown",
      "metadata": {
        "id": "-blM4tAfgPcB"
      },
      "source": [
        "\n",
        "## Ridge Regression\n",
        "\n",
        "- Esta regresión es mucho más robusta a la presencia de variables\n",
        "  explicativas correlacionadas (colineales).\n"
      ]
    },
    {
      "cell_type": "markdown",
      "metadata": {
        "id": "IEuIb5XlgPcB"
      },
      "source": [
        "\n",
        "### Buscando colinearidad\n",
        "\n",
        "Correlación:\n",
        "- Medidas de variación conjunta entre dos variables aleatorias.\n",
        "- Es una medida sin unidades que varía entre -1 y 1.\n",
        "    - más fácil de trabajar e interpretar.\n"
      ]
    },
    {
      "cell_type": "code",
      "execution_count": null,
      "metadata": {
        "id": "8VPyj5AEgPcB",
        "outputId": "b5137784-edb5-45ee-cc1a-0a60bfc81b20"
      },
      "outputs": [],
      "source": [
        "import sklearn.datasets as datasets\n",
        "\n",
        "iris = datasets.load_iris(as_frame=True)\n",
        "\n",
        "iris_m = iris[\"frame\"].iloc[:, :4].copy()\n",
        "iris_m\n",
        "\n",
        "# Queremos estimar sepal_length a patir de las otras variables.\n",
        "iris_m.corr()"
      ]
    },
    {
      "cell_type": "code",
      "execution_count": null,
      "metadata": {
        "id": "C4p3VxhogPcB",
        "outputId": "cbeb89e6-c3e6-43d1-fff9-b347ff49b7b9"
      },
      "outputs": [],
      "source": [
        "from sklearn.linear_model import Ridge\n",
        "from sklearn.linear_model import RidgeCV\n",
        "from sklearn.model_selection import RepeatedKFold\n",
        "\n",
        "# Defino los variables dependientes e independientes.\n",
        "x = iris_m[[\"sepal width (cm)\", \"petal length (cm)\", \"petal width (cm)\"]]\n",
        "y = iris_m[\"sepal length (cm)\"]\n",
        "\n",
        "# Defino el modelo\n",
        "model = Ridge()\n",
        "\n",
        "# Hago el ajuste del modelo\n",
        "fitted = model.fit(x, y)\n",
        "\n",
        "plt.scatter(y, fitted.predict(x))"
      ]
    }
  ],
  "metadata": {
    "colab": {
      "provenance": []
    },
    "kernelspec": {
      "display_name": "Python 3.9.9 ('.venv': venv)",
      "language": "python",
      "name": "python3"
    },
    "language_info": {
      "codemirror_mode": {
        "name": "ipython",
        "version": 3
      },
      "file_extension": ".py",
      "mimetype": "text/x-python",
      "name": "python",
      "nbconvert_exporter": "python",
      "pygments_lexer": "ipython3",
      "version": "3.9.9"
    },
    "orig_nbformat": 4,
    "vscode": {
      "interpreter": {
        "hash": "83b07c2f4bf3433171e71c2622c13225f444329e11349f4a7cc98dac3684b888"
      }
    }
  },
  "nbformat": 4,
  "nbformat_minor": 0
}
