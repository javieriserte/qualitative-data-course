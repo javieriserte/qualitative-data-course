{
  "cells": [
    {
      "cell_type": "code",
      "execution_count": 1,
      "metadata": {
        "id": "ftdn9jK1gPb0",
        "outputId": "06696431-4ff1-437a-f2e5-7a85406ecc0f",
        "colab": {
          "base_uri": "https://localhost:8080/",
          "height": 523
        }
      },
      "outputs": [
        {
          "output_type": "stream",
          "name": "stdout",
          "text": [
            "Looking in indexes: https://pypi.org/simple, https://us-python.pkg.dev/colab-wheels/public/simple/\n",
            "Requirement already satisfied: matplotlib in /usr/local/lib/python3.7/dist-packages (3.2.2)\n",
            "Collecting matplotlib\n",
            "  Downloading matplotlib-3.5.3-cp37-cp37m-manylinux_2_5_x86_64.manylinux1_x86_64.whl (11.2 MB)\n",
            "\u001b[K     |████████████████████████████████| 11.2 MB 8.8 MB/s \n",
            "\u001b[?25hRequirement already satisfied: cycler>=0.10 in /usr/local/lib/python3.7/dist-packages (from matplotlib) (0.11.0)\n",
            "Requirement already satisfied: pyparsing>=2.2.1 in /usr/local/lib/python3.7/dist-packages (from matplotlib) (3.0.9)\n",
            "Requirement already satisfied: kiwisolver>=1.0.1 in /usr/local/lib/python3.7/dist-packages (from matplotlib) (1.4.4)\n",
            "Requirement already satisfied: python-dateutil>=2.7 in /usr/local/lib/python3.7/dist-packages (from matplotlib) (2.8.2)\n",
            "Collecting fonttools>=4.22.0\n",
            "  Downloading fonttools-4.38.0-py3-none-any.whl (965 kB)\n",
            "\u001b[K     |████████████████████████████████| 965 kB 37.8 MB/s \n",
            "\u001b[?25hRequirement already satisfied: packaging>=20.0 in /usr/local/lib/python3.7/dist-packages (from matplotlib) (21.3)\n",
            "Requirement already satisfied: pillow>=6.2.0 in /usr/local/lib/python3.7/dist-packages (from matplotlib) (7.1.2)\n",
            "Requirement already satisfied: numpy>=1.17 in /usr/local/lib/python3.7/dist-packages (from matplotlib) (1.21.6)\n",
            "Requirement already satisfied: typing-extensions in /usr/local/lib/python3.7/dist-packages (from kiwisolver>=1.0.1->matplotlib) (4.1.1)\n",
            "Requirement already satisfied: six>=1.5 in /usr/local/lib/python3.7/dist-packages (from python-dateutil>=2.7->matplotlib) (1.15.0)\n",
            "Installing collected packages: fonttools, matplotlib\n",
            "  Attempting uninstall: matplotlib\n",
            "    Found existing installation: matplotlib 3.2.2\n",
            "    Uninstalling matplotlib-3.2.2:\n",
            "      Successfully uninstalled matplotlib-3.2.2\n",
            "Successfully installed fonttools-4.38.0 matplotlib-3.5.3\n"
          ]
        },
        {
          "output_type": "display_data",
          "data": {
            "application/vnd.colab-display-data+json": {
              "pip_warning": {
                "packages": [
                  "matplotlib",
                  "mpl_toolkits"
                ]
              }
            }
          },
          "metadata": {}
        }
      ],
      "source": [
        "# To use only Google Colab\n",
        "! pip install matplotlib --upgrade"
      ]
    },
    {
      "cell_type": "markdown",
      "metadata": {
        "id": "RTwZKb8BgPb3"
      },
      "source": [
        "# Unidad II. Regresiones y reducción de dimensionalidad.\n",
        "\n",
        "## Modelos de regresión lineales\n",
        "\n",
        "Los modelos de regresión lineales:\n",
        "- predicen una o más variable *dependientes*\n",
        "- como una combinación lineal de\n",
        "  - un conjunto de variables *independientes*\n",
        "- $Y = \\alpha + \\beta_{1}X_{1} + \\beta_{2}X_{2} + ... + \\beta_{k}X_{k} + E$\n",
        "  - $Y$ es la variable *dependiente*.\n",
        "  - $X_1, X_2, ...$ son las variables *independientes*.\n",
        "  - $\\beta_1, \\beta_2, ...$ son los *coeficientes*.\n",
        "  - $\\alpha$ es la ordenada al origen.\n",
        "  - $E$ es un término que representa el error.\n",
        "- El problema del modelo:\n",
        "  - Es hallar $\\alpha, \\beta_1, \\beta_2$\n",
        "  - Esto suele hacerse mediante el criterio de cuadrados mínimos:\n",
        "  - minimizar $ \\sum_{i=1}^{N}(Y_{i}-\\hat{Y}_{i})^{2} = \\sum_{i=1}^{N} E_{i}^{2}$\n",
        "- El modelo asume:\n",
        "  - *Linealidad*: La variable dependiente se obtiene por una combinación lineal\n",
        "    de las otras.\n",
        "  - Independencia de los residuos\n",
        "  - Homocedasticidad: Igualdad de varianza para cada variable independiente.\n",
        "  - Normalidad: Los residuos se distribuyen de manera normal con $\\mu = 0$\n",
        "  - No-colinealidad: Las variables independientes no pueden ser combinaciones\n",
        "    lineales unas de otras, no debe haber correlación entre ellas."
      ]
    },
    {
      "cell_type": "markdown",
      "metadata": {
        "id": "HS3UB4OygPb5"
      },
      "source": [
        "Vamos a simular un modelo lineal completo."
      ]
    },
    {
      "cell_type": "code",
      "execution_count": 3,
      "metadata": {
        "id": "yMII_mkLgPb6"
      },
      "outputs": [],
      "source": [
        "import numpy as np\n",
        "import scipy.stats as st\n",
        "\n",
        "# Simular variables aleatorias\n",
        "nvars = 2\n",
        "nvalues = 1000\n",
        "variables = np.random.rand(nvars, nvalues)\n",
        "\n",
        "# Simular la intersección\n",
        "alpha = np.random.rand()\n",
        "\n",
        "# Simulación de los coeficientes\n",
        "betas = np.random.rand(nvars)\n",
        "\n",
        "# simular los errores\n",
        "errors = 0.05 * st.norm.rvs(size=nvalues)"
      ]
    },
    {
      "cell_type": "code",
      "execution_count": 11,
      "metadata": {
        "id": "bIVYpX5bgPb6",
        "outputId": "9c7486e0-7b60-4c21-af52-0b9504167f3f",
        "colab": {
          "base_uri": "https://localhost:8080/"
        }
      },
      "outputs": [
        {
          "output_type": "execute_result",
          "data": {
            "text/plain": [
              "array([1.63720797, 0.94779458, 1.5161354 , 1.58971091])"
            ]
          },
          "metadata": {},
          "execution_count": 11
        }
      ],
      "source": [
        "model = alpha + np.matmul(betas, variables)  + errors\n",
        "model[:4]\n"
      ]
    },
    {
      "cell_type": "code",
      "execution_count": 12,
      "metadata": {
        "id": "AgmAAf0hgPb7"
      },
      "outputs": [],
      "source": [
        "import statsmodels.api as sm\n",
        "\n",
        "exog = sm.add_constant(variables.T)\n",
        "\n",
        "# Ordinal Least Square\n",
        "reg_mod = sm.OLS(\n",
        "    endog = model,\n",
        "    exog = exog\n",
        ")\n",
        "\n",
        "fitted = reg_mod.fit()\n"
      ]
    },
    {
      "cell_type": "code",
      "execution_count": 13,
      "metadata": {
        "id": "Hx2qkZqegPb8",
        "outputId": "e3f7f552-6e46-4d4c-d06d-3356ba0b6e20",
        "colab": {
          "base_uri": "https://localhost:8080/"
        }
      },
      "outputs": [
        {
          "output_type": "stream",
          "name": "stdout",
          "text": [
            "Fitted coefficients: [0.76109845 0.8500342  0.17290346]\n",
            "Real coefficients: [0.7627757981377125, array([0.85494351, 0.16427632])]\n"
          ]
        }
      ],
      "source": [
        "# alpha, beta1, beta2\n",
        "print(f\"Fitted coefficients: {fitted.params}\")\n",
        "print(f\"Real coefficients: {[alpha, betas]}\")\n"
      ]
    },
    {
      "cell_type": "code",
      "execution_count": 14,
      "metadata": {
        "id": "O4nR6q8XgPb9",
        "outputId": "54485400-227a-48a9-9278-72bb017b1d0a",
        "colab": {
          "base_uri": "https://localhost:8080/",
          "height": 467
        }
      },
      "outputs": [
        {
          "output_type": "execute_result",
          "data": {
            "text/plain": [
              "<class 'statsmodels.iolib.summary.Summary'>\n",
              "\"\"\"\n",
              "                            OLS Regression Results                            \n",
              "==============================================================================\n",
              "Dep. Variable:                      y   R-squared:                       0.960\n",
              "Model:                            OLS   Adj. R-squared:                  0.960\n",
              "Method:                 Least Squares   F-statistic:                 1.201e+04\n",
              "Date:                Sat, 26 Nov 2022   Prob (F-statistic):               0.00\n",
              "Time:                        15:32:56   Log-Likelihood:                 1552.2\n",
              "No. Observations:                1000   AIC:                            -3098.\n",
              "Df Residuals:                     997   BIC:                            -3084.\n",
              "Df Model:                           2                                         \n",
              "Covariance Type:            nonrobust                                         \n",
              "==============================================================================\n",
              "                 coef    std err          t      P>|t|      [0.025      0.975]\n",
              "------------------------------------------------------------------------------\n",
              "const          0.7611      0.004    177.737      0.000       0.753       0.770\n",
              "x1             0.8500      0.006    152.157      0.000       0.839       0.861\n",
              "x2             0.1729      0.006     30.820      0.000       0.162       0.184\n",
              "==============================================================================\n",
              "Omnibus:                        1.901   Durbin-Watson:                   1.926\n",
              "Prob(Omnibus):                  0.387   Jarque-Bera (JB):                1.763\n",
              "Skew:                           0.008   Prob(JB):                        0.414\n",
              "Kurtosis:                       2.795   Cond. No.                         5.28\n",
              "==============================================================================\n",
              "\n",
              "Notes:\n",
              "[1] Standard Errors assume that the covariance matrix of the errors is correctly specified.\n",
              "\"\"\""
            ],
            "text/html": [
              "<table class=\"simpletable\">\n",
              "<caption>OLS Regression Results</caption>\n",
              "<tr>\n",
              "  <th>Dep. Variable:</th>            <td>y</td>        <th>  R-squared:         </th> <td>   0.960</td> \n",
              "</tr>\n",
              "<tr>\n",
              "  <th>Model:</th>                   <td>OLS</td>       <th>  Adj. R-squared:    </th> <td>   0.960</td> \n",
              "</tr>\n",
              "<tr>\n",
              "  <th>Method:</th>             <td>Least Squares</td>  <th>  F-statistic:       </th> <td>1.201e+04</td>\n",
              "</tr>\n",
              "<tr>\n",
              "  <th>Date:</th>             <td>Sat, 26 Nov 2022</td> <th>  Prob (F-statistic):</th>  <td>  0.00</td>  \n",
              "</tr>\n",
              "<tr>\n",
              "  <th>Time:</th>                 <td>15:32:56</td>     <th>  Log-Likelihood:    </th> <td>  1552.2</td> \n",
              "</tr>\n",
              "<tr>\n",
              "  <th>No. Observations:</th>      <td>  1000</td>      <th>  AIC:               </th> <td>  -3098.</td> \n",
              "</tr>\n",
              "<tr>\n",
              "  <th>Df Residuals:</th>          <td>   997</td>      <th>  BIC:               </th> <td>  -3084.</td> \n",
              "</tr>\n",
              "<tr>\n",
              "  <th>Df Model:</th>              <td>     2</td>      <th>                     </th>     <td> </td>    \n",
              "</tr>\n",
              "<tr>\n",
              "  <th>Covariance Type:</th>      <td>nonrobust</td>    <th>                     </th>     <td> </td>    \n",
              "</tr>\n",
              "</table>\n",
              "<table class=\"simpletable\">\n",
              "<tr>\n",
              "    <td></td>       <th>coef</th>     <th>std err</th>      <th>t</th>      <th>P>|t|</th>  <th>[0.025</th>    <th>0.975]</th>  \n",
              "</tr>\n",
              "<tr>\n",
              "  <th>const</th> <td>    0.7611</td> <td>    0.004</td> <td>  177.737</td> <td> 0.000</td> <td>    0.753</td> <td>    0.770</td>\n",
              "</tr>\n",
              "<tr>\n",
              "  <th>x1</th>    <td>    0.8500</td> <td>    0.006</td> <td>  152.157</td> <td> 0.000</td> <td>    0.839</td> <td>    0.861</td>\n",
              "</tr>\n",
              "<tr>\n",
              "  <th>x2</th>    <td>    0.1729</td> <td>    0.006</td> <td>   30.820</td> <td> 0.000</td> <td>    0.162</td> <td>    0.184</td>\n",
              "</tr>\n",
              "</table>\n",
              "<table class=\"simpletable\">\n",
              "<tr>\n",
              "  <th>Omnibus:</th>       <td> 1.901</td> <th>  Durbin-Watson:     </th> <td>   1.926</td>\n",
              "</tr>\n",
              "<tr>\n",
              "  <th>Prob(Omnibus):</th> <td> 0.387</td> <th>  Jarque-Bera (JB):  </th> <td>   1.763</td>\n",
              "</tr>\n",
              "<tr>\n",
              "  <th>Skew:</th>          <td> 0.008</td> <th>  Prob(JB):          </th> <td>   0.414</td>\n",
              "</tr>\n",
              "<tr>\n",
              "  <th>Kurtosis:</th>      <td> 2.795</td> <th>  Cond. No.          </th> <td>    5.28</td>\n",
              "</tr>\n",
              "</table><br/><br/>Notes:<br/>[1] Standard Errors assume that the covariance matrix of the errors is correctly specified."
            ]
          },
          "metadata": {},
          "execution_count": 14
        }
      ],
      "source": [
        "fitted.summary()"
      ]
    },
    {
      "cell_type": "code",
      "execution_count": null,
      "metadata": {
        "id": "N53wDaiTgPb9",
        "outputId": "c04bf621-f84e-47ac-e4fb-60d5904274a6"
      },
      "outputs": [
        {
          "name": "stdout",
          "output_type": "stream",
          "text": [
            "Variables with estimated alpha:\n",
            "[[1.         0.33919747 0.02766105]\n",
            " [1.         0.68698863 0.90822611]\n",
            " [1.         0.78263511 0.4105387 ]\n",
            " [1.         0.89299157 0.2699141 ]]\n",
            "predicted:\n",
            "[0.68780517 1.46386622 1.18377432 1.14984092]\n",
            "Real values:\n",
            "[0.68337303 1.38371137 1.21937544 1.1281875 ]\n"
          ]
        }
      ],
      "source": [
        "var_with_intercept = sm.add_constant(variables.T)\n",
        "print(\"Variables with estimated alpha:\")\n",
        "print(var_with_intercept[:4,:])\n",
        "\n",
        "print(f\"predicted:\\n{fitted.predict(var_with_intercept[:4,:])}\")\n",
        "print(f\"Real values:\\n{model[:4]}\")\n"
      ]
    },
    {
      "cell_type": "code",
      "execution_count": null,
      "metadata": {
        "id": "a3Bq5xMwgPb-",
        "outputId": "b40957a5-f5c5-4f33-d794-c89df298263c"
      },
      "outputs": [
        {
          "data": {
            "text/plain": [
              "Text(0.5, 1.0, 'Coeficiente de determinación: $R^2 = 0.963$')"
            ]
          },
          "execution_count": 223,
          "metadata": {},
          "output_type": "execute_result"
        },
        {
          "data": {
            "image/png": "[encoded data removed]",
            "text/plain": [
              "<Figure size 640x480 with 1 Axes>"
            ]
          },
          "metadata": {},
          "output_type": "display_data"
        }
      ],
      "source": [
        "import matplotlib.pyplot as plt\n",
        "\n",
        "plt.scatter(\n",
        "    model,\n",
        "    fitted.predict(var_with_intercept)\n",
        ")\n",
        "plt.xlabel(\"Real data\")\n",
        "plt.ylabel(\"Predicted\")\n",
        "plt.title(f\"Coeficiente de determinación: $R^2 = {fitted.rsquared:0.3f}$\")"
      ]
    },
    {
      "cell_type": "code",
      "execution_count": null,
      "metadata": {
        "id": "J5v9AqOqgPb-",
        "outputId": "bff4f825-491b-46e3-a8ba-16987eb751e5"
      },
      "outputs": [
        {
          "data": {
            "image/png": "[encoded data removed]",
            "text/plain": [
              "<Figure size 640x480 with 1 Axes>"
            ]
          },
          "metadata": {},
          "output_type": "display_data"
        }
      ],
      "source": [
        "_ = plt.hist(fitted.resid, bins = 50)"
      ]
    },
    {
      "cell_type": "markdown",
      "metadata": {
        "id": "vjP7JaougPb_"
      },
      "source": [
        "### Coeficientes de determinación\n",
        "\n",
        "Es el valor $R^2$ de la regresión. \n",
        "- Es la proporción de la varianza de la variables de respuesta que puede ser\n",
        "  predicha a partir de las variables explicativas.\n",
        "- Varía entre 0 y 1.\n",
        "  - Cuanto mayor es, menos incerteza se tiene de los valores reales a partir del\n",
        "   modelo.\n",
        "- Suma de los cuadrado de los datos:\n",
        "  - $SS_{data} = \\sum_i{(y_i-\\bar{y})^2}$\n",
        "- Suma de los cuadrados de las predicciones:\n",
        "  - $SS_{pred} = \\sum_i{(fit(y_i)-\\bar{y})^2}$\n",
        "- $R^2 = \\frac{SS_{pred}}{SS_{data}}$"
      ]
    },
    {
      "cell_type": "markdown",
      "metadata": {
        "id": "deJpVYgLgPb_"
      },
      "source": [
        "Veamos como cambia el $R^2$ con el error del modelo."
      ]
    },
    {
      "cell_type": "code",
      "execution_count": null,
      "metadata": {
        "id": "B3v705SXgPb_",
        "outputId": "46a988f3-4c49-4359-ab56-9a15b922ce30"
      },
      "outputs": [
        {
          "data": {
            "image/png": "[encoded data removed]",
            "text/plain": [
              "<Figure size 640x480 with 4 Axes>"
            ]
          },
          "metadata": {},
          "output_type": "display_data"
        }
      ],
      "source": [
        "nvars <- 2\n",
        "nvalues <- 50\n",
        "variables <- np.random.rand(nvars, nvalues)\n",
        "exog = sm.add_constant(variables.T)\n",
        "alpha <- np.random.rand()\n",
        "betas <- np.random.rand(nvars)\n",
        "fig, axes = plt.subplots(ncols=2, nrows=2)\n",
        "axes = axes.flatten()\n",
        "for i, err in enumerate([0.05, 0.2, 0.5, 1]):\n",
        "  errors = st.norm.rvs(size=nvalues) * err\n",
        "  y = alpha + betas@variables + errors\n",
        "  reg_mod = sm.OLS(endog = y, exog = exog)\n",
        "  fitted = reg_mod.fit()\n",
        "  fval = fitted.fittedvalues\n",
        "  axes[i].scatter(y,fval)\n",
        "  axes[i].set_title(f\"$R^2$: {fitted.rsquared:0.4f}\")\n",
        "fig.tight_layout()"
      ]
    },
    {
      "cell_type": "code",
      "execution_count": null,
      "metadata": {
        "id": "3ijQXXCEgPcA",
        "outputId": "bff3a231-aab5-4489-e54f-fa2c370d87ab"
      },
      "outputs": [
        {
          "data": {
            "text/plain": [
              "array([ 1.04441879e+00,  1.09286033e+00, -1.47901795e-01, -4.35121338e-01,\n",
              "       -5.29203595e-01, -1.26119052e-01, -6.26399260e-01, -6.19372330e-01,\n",
              "        1.32566127e+00, -9.89967605e-01,  8.71862482e-01, -1.16978461e+00,\n",
              "        5.89742503e-01, -1.67480550e-02,  1.24072172e+00,  3.61657334e-01,\n",
              "        1.04509665e-01,  6.33569394e-01,  1.38058602e+00, -1.71076088e-01,\n",
              "       -1.36852890e+00,  2.89177791e-01, -8.09722370e-01, -4.11511193e-01,\n",
              "        7.60312686e-02, -7.34930152e-02, -6.81998684e-01,  4.74928800e-01,\n",
              "       -1.36658873e-01,  4.90274699e-01, -1.44283200e-01,  5.42226847e-01,\n",
              "        5.07865258e-01,  1.52458784e+00,  5.97211542e-01, -6.37680971e-01,\n",
              "       -9.39573378e-01,  2.27668118e-02, -6.75488167e-01, -3.80059334e-01,\n",
              "       -2.93536836e-01, -7.46809723e-01, -3.76363630e-01, -3.83015253e-01,\n",
              "        7.41208033e-01, -8.44768817e-01,  1.78407073e-01, -1.12121790e+00,\n",
              "        1.01342845e+00,  3.02399356e-01, -7.69082928e-01,  1.08427509e+00,\n",
              "        2.54602510e-01, -9.27622795e-01, -5.88282497e-03,  1.90251287e-01,\n",
              "        5.24799841e-01, -4.51194133e-01, -4.28720089e-01, -5.54240961e-01,\n",
              "       -1.22896222e+00,  5.32859685e-01,  1.35049825e+00,  8.32775699e-01,\n",
              "       -1.30380837e+00, -2.77278744e-01,  6.10939106e-01,  1.74840866e+00,\n",
              "       -7.28561087e-01,  1.15279010e+00,  5.93583165e-01, -6.69448488e-01,\n",
              "        4.45666330e-01, -1.30179250e+00, -1.39241277e+00,  1.13808344e+00,\n",
              "       -9.58970656e-02,  2.96014880e-01,  6.83166509e-01,  4.61450375e-01,\n",
              "        7.12063066e-01, -1.28227485e+00,  2.92502330e-01, -4.26954485e-01,\n",
              "        1.06371593e+00,  1.77328655e-01, -2.13280427e+00,  6.44615156e-01,\n",
              "       -4.19440537e-02,  3.82547297e-01,  1.05085075e+00,  6.54285858e-02,\n",
              "        1.93726621e+00, -9.52800894e-02, -5.89838398e-01, -3.66785137e-01,\n",
              "        4.09296519e-01,  3.15495589e-01,  1.53738433e+00,  1.43636729e+00,\n",
              "       -1.16876116e+00,  1.82660807e+00,  2.97843843e-01,  1.30238344e+00,\n",
              "       -1.04462145e+00, -3.18915347e-01,  1.60352569e+00, -3.41927195e-02,\n",
              "       -1.01649959e+00, -1.47337516e-01,  4.68025133e-01,  1.16219811e-01,\n",
              "        1.59487710e+00,  3.59961346e-01, -6.52007823e-01,  1.40814364e+00,\n",
              "        7.00974819e-02, -2.18969244e-01, -1.44147385e+00, -1.82971826e+00,\n",
              "        2.17487780e-01,  4.90850207e-01,  9.09226877e-01, -1.57547186e+00,\n",
              "        3.49135462e-01,  4.72039794e-01, -9.94348447e-01, -2.66132085e-01,\n",
              "       -1.00826697e+00,  6.19872873e-01, -1.69296640e+00,  1.05631644e-01,\n",
              "       -1.17772678e-01,  1.47033986e+00, -2.97709771e-01, -1.58726476e+00,\n",
              "       -1.85562824e-01,  1.45770105e-01,  7.38507531e-01, -1.10699023e+00,\n",
              "       -3.31025507e-01,  1.34129312e+00,  1.50612285e-01, -6.09645285e-01,\n",
              "        4.43051996e-01,  1.02752124e+00,  5.09067474e-02,  6.92858170e-01,\n",
              "        9.21788698e-01, -5.88254163e-01,  3.22441404e-01,  4.12779963e-01,\n",
              "       -2.44912160e+00, -2.43761207e-01, -1.32976831e+00, -2.32997170e-01,\n",
              "        1.66195236e+00, -4.35125150e-01, -9.16426891e-01, -1.62521366e+00,\n",
              "       -9.20069856e-01, -1.46917873e-01,  1.84013788e+00, -4.63531077e-01,\n",
              "       -2.69941763e-01, -7.07879440e-01,  1.50123392e+00, -6.68811204e-01,\n",
              "        1.68021087e+00, -3.00455236e-01,  3.99674390e-01,  1.13727481e+00,\n",
              "        9.75024534e-01,  8.77901088e-01,  1.09945511e+00, -3.28431215e-01,\n",
              "       -1.15775602e+00,  2.81539819e-01, -7.13853397e-01, -4.65906843e-01,\n",
              "        3.60583138e-01, -5.41692457e-01,  7.23644856e-01,  1.33985547e+00,\n",
              "       -7.80844509e-01,  4.91401748e-01, -1.81498912e+00, -1.26528709e+00,\n",
              "       -2.40373038e-01, -1.21925657e+00, -5.50934773e-03, -4.76954649e-01,\n",
              "        1.70295190e-01, -2.91272685e-01, -4.04375252e-01, -1.32715308e+00,\n",
              "        1.36706445e+00, -2.00725959e-01,  7.11524369e-01, -4.59902662e-01,\n",
              "       -2.67223095e-01, -5.68601190e-01,  2.08090627e-01,  1.47606964e+00,\n",
              "        9.13566518e-01, -1.08574898e-01, -1.21550684e+00,  3.56578942e-01,\n",
              "        5.19046398e-02,  2.89220946e-02,  2.41905038e-01,  6.96690285e-01,\n",
              "       -1.84071697e-01, -1.73412396e-01, -2.24736699e+00, -6.96031679e-01,\n",
              "       -6.92185756e-01,  2.65177791e-01,  1.57424294e+00, -5.19151053e-01,\n",
              "       -2.51698785e-01,  5.97778461e-02,  2.03336719e-02, -1.15355984e+00,\n",
              "        1.75480364e-02,  1.17697979e+00,  9.22378563e-01,  6.00457520e-02,\n",
              "       -1.74141646e+00,  1.12077903e+00,  7.87103778e-01, -4.51910096e-01,\n",
              "       -9.28897543e-02, -1.13290755e-01,  8.57225170e-01,  4.47234343e-01,\n",
              "        1.89017971e+00, -5.06307522e-03,  9.37061422e-02,  2.40670361e+00,\n",
              "       -2.49363516e-01, -1.37534782e+00,  4.10641607e-01, -1.68173801e+00,\n",
              "       -4.67413427e-01, -1.91091416e-01, -6.44334522e-01, -6.87805984e-01,\n",
              "        5.32827215e-01, -6.41622827e-01, -5.86501706e-01,  9.41620112e-01,\n",
              "       -8.91910653e-01, -1.25314493e+00, -2.49603983e-01,  9.51351925e-01,\n",
              "       -6.33383709e-02,  1.42191306e+00,  1.21991916e+00,  4.07530607e-01,\n",
              "        1.57161628e+00,  5.04706119e-01,  8.56266966e-01, -2.39819031e+00,\n",
              "       -1.74331014e-02, -1.12414417e+00,  6.36872957e-01, -3.46335171e-01,\n",
              "        1.46696129e+00, -4.61756587e-01, -1.18369212e+00, -1.98760386e+00,\n",
              "       -1.03258234e+00,  2.36492838e-01, -1.89458524e-01, -2.01176902e+00,\n",
              "        2.16505893e-02,  1.76722984e-03, -1.81474152e+00,  1.51543701e+00,\n",
              "       -1.70077274e-01, -1.97762541e+00,  1.97469190e-01, -4.39795641e-01,\n",
              "        1.43214794e+00, -4.37102880e-01,  1.19133754e+00,  1.37668277e+00,\n",
              "        1.43458022e+00,  1.45388099e-01,  7.07572237e-01,  3.37446957e-01,\n",
              "       -8.97709291e-01,  9.44478230e-01, -7.66210794e-01, -4.38135784e-02,\n",
              "       -1.21325517e+00,  1.72545192e-01,  2.91363833e-01, -8.26953154e-02,\n",
              "       -6.58082911e-01,  1.55352208e+00, -2.89449364e-01,  4.55458932e-01,\n",
              "       -7.46796502e-02, -7.97091761e-02, -1.13202362e+00,  4.53325206e-01,\n",
              "       -2.87955415e-02,  5.14103160e-01, -1.00869527e-01,  6.61414585e-01,\n",
              "       -8.01321618e-01, -1.25254288e+00, -1.28369568e+00,  7.84812813e-01,\n",
              "        8.44092157e-01, -8.22565153e-01,  2.58265672e-01, -7.84046812e-01,\n",
              "        1.07156660e+00,  2.27280818e-01,  8.31201601e-01,  1.24754728e+00,\n",
              "       -9.75389596e-01, -5.02024368e-01,  8.47990807e-02,  7.22810174e-01,\n",
              "        6.06631512e-02, -1.56883960e+00, -3.85444972e-01,  2.05909392e+00,\n",
              "       -9.59378210e-01, -5.51319626e-01,  4.20710167e-01, -3.46665094e-01,\n",
              "        2.33085798e-01, -1.37176101e+00, -9.20855581e-01, -4.68297082e-01,\n",
              "        1.02497131e+00,  8.64489400e-02, -4.40348212e-01, -5.02747024e-01,\n",
              "        4.57070912e-02,  3.16019476e-01, -4.72175857e-01, -5.67542115e-01,\n",
              "        8.52707200e-01,  4.19172091e-01, -8.13851839e-01, -1.99691172e-01,\n",
              "        9.56963805e-01,  3.18179721e-01,  1.64306660e+00,  1.09126926e+00,\n",
              "        5.31181698e-01, -1.78632021e+00,  1.57138865e+00,  2.91269119e-01,\n",
              "       -1.16796132e+00, -4.65690720e-01, -8.37139975e-01,  2.08895211e+00,\n",
              "       -4.39422979e-01,  1.68364195e-01,  1.96627277e+00, -5.98487905e-01,\n",
              "        1.41419937e+00, -1.83358688e+00, -5.58498152e-01,  1.01584462e+00,\n",
              "       -4.97485915e-01,  6.65957798e-01, -3.79723712e-01,  1.96862409e+00,\n",
              "        1.23960696e+00, -1.88584239e-01, -1.97235113e+00,  7.87996511e-01,\n",
              "        1.82625373e+00,  1.98732993e+00,  2.09856848e+00, -7.77023620e-01,\n",
              "        1.66928314e+00,  9.51528348e-01,  4.70737126e-01, -7.92441309e-01,\n",
              "        9.55575630e-02, -5.19448499e-03,  1.43385491e+00,  1.77893858e-01,\n",
              "        4.19463471e-01,  1.56075148e-01,  8.16307847e-01,  3.42756100e-01,\n",
              "       -2.18750873e+00, -1.83888704e+00,  4.50815939e-01,  7.72021383e-01,\n",
              "       -5.44330108e-01,  1.53083941e+00, -2.31436647e+00, -3.48803262e-01,\n",
              "        6.50771644e-02, -6.29517156e-01, -1.06757683e+00, -5.64472359e-01,\n",
              "       -2.99467557e-01, -5.98884715e-01, -5.64497097e-01,  5.41991979e-01,\n",
              "       -2.43379873e-01,  1.12246440e+00,  1.16757292e-01, -1.69585903e+00,\n",
              "       -1.80336075e+00,  7.61482613e-01, -6.47511965e-01, -8.15100984e-01,\n",
              "       -9.43624531e-01, -1.89448737e+00, -2.70980695e-01,  1.97829122e+00,\n",
              "        1.16281011e-01,  2.01207195e+00,  1.17931916e+00,  1.12703342e-01,\n",
              "       -9.84722920e-01, -7.69311399e-01,  8.36061829e-01, -6.47960561e-01,\n",
              "        9.90190680e-01,  1.77380246e+00,  7.07396708e-01,  9.32903419e-01,\n",
              "        1.89915341e+00,  2.78566968e-01,  1.02184584e+00,  1.33459080e+00,\n",
              "        6.22848496e-01,  6.27095657e-01, -6.94583535e-01,  1.61785878e+00,\n",
              "        2.24599986e+00, -1.35580736e+00, -6.22312644e-01, -3.61387150e-02,\n",
              "        1.20176061e+00, -4.26726362e-01,  7.23005960e-01, -2.12109788e+00,\n",
              "        8.19398914e-01, -1.28108300e+00, -1.67441540e-05, -8.55307802e-01,\n",
              "        1.16618545e+00, -1.69581853e+00, -1.09439138e-02, -1.42982897e+00,\n",
              "        9.04910925e-01, -7.44658952e-01,  2.20025302e-01, -1.54907808e+00,\n",
              "       -1.46690678e+00,  5.91788868e-01,  6.58033632e-01,  2.82448885e-01,\n",
              "       -7.58243484e-01, -3.80753209e-01, -2.41206232e+00,  7.09543860e-01,\n",
              "        1.12221400e+00, -2.38478404e-01, -3.61120543e-01,  1.59891824e-01,\n",
              "        7.58169169e-01, -4.42250962e-02, -1.30140561e+00,  3.41771175e-01,\n",
              "       -1.95488168e-01, -3.16973952e-01, -1.04432948e+00,  1.13314900e+00,\n",
              "       -9.51439573e-01, -1.63116986e+00, -1.00317837e+00, -1.09851427e+00,\n",
              "       -4.99746796e-01,  8.06005304e-01,  3.84059839e-01, -2.96977276e-01,\n",
              "        7.73502820e-03,  4.38535941e-01, -3.50941346e-01,  2.56851082e+00,\n",
              "        6.77654803e-01, -2.09681068e+00,  1.51773614e+00, -2.53764770e-01,\n",
              "       -2.70898821e+00,  1.75816076e+00, -8.19544042e-01,  2.86227556e-01,\n",
              "        1.41606036e+00, -1.62100996e-01,  2.59404594e+00, -1.07043332e+00,\n",
              "       -6.20552584e-01, -1.25320339e+00,  1.50182701e+00,  5.53238696e-01,\n",
              "       -1.23540767e+00,  4.60095757e-01, -1.82662392e+00,  1.18954393e-01,\n",
              "       -2.97200154e-01,  3.07618509e-01, -3.70743088e-01, -3.49608252e-01,\n",
              "       -7.06053140e-01,  5.25554804e-01, -1.38804675e+00, -3.02936152e-01,\n",
              "        8.58678245e-01, -8.84113162e-01,  5.02061215e-01, -1.85746281e+00,\n",
              "        3.94308365e-01, -2.08287186e+00,  7.62876455e-01,  6.54935225e-01,\n",
              "        8.23115306e-01,  5.44671854e-01,  4.64583582e-01, -2.01982292e+00,\n",
              "       -9.29969058e-01, -1.09416787e+00,  2.36726334e-01,  3.61445423e-01,\n",
              "       -1.42593667e-01,  1.25757273e-01,  1.42332142e+00, -1.40283298e+00,\n",
              "       -8.19249789e-02, -7.73576154e-01, -2.62580587e-01,  9.93008485e-01,\n",
              "       -2.07246649e+00,  1.55612142e-01, -1.33012032e+00,  2.45705695e-01,\n",
              "       -1.65543391e+00, -5.17211442e-01, -6.31554687e-01,  9.43157292e-01,\n",
              "        4.17869470e-01,  2.61789709e-01, -4.81006862e-01, -1.14949736e+00,\n",
              "        1.08074846e-02,  6.02794748e-01, -9.66435253e-01, -2.62984219e-01,\n",
              "        1.06067587e+00, -5.40641917e-01, -1.16232512e+00,  5.93775408e-01,\n",
              "       -1.10298148e+00, -2.54818592e-01,  1.23143074e+00, -1.52473428e+00,\n",
              "       -7.71905636e-02, -1.10182027e+00, -1.18560069e+00, -1.08361746e+00,\n",
              "       -2.17072952e-01,  4.81305246e-01,  2.37557332e+00, -3.04845331e-01,\n",
              "        1.57124747e+00, -2.77248586e+00,  9.29028796e-01, -5.33334470e-01,\n",
              "       -8.33167641e-02,  3.56695479e-01, -2.47999059e-01, -1.22302104e+00,\n",
              "        7.31159019e-01,  2.41116429e-01,  2.39701511e-01, -5.02790134e-01,\n",
              "        4.95385476e-01, -1.20902727e+00,  2.43059080e+00, -1.35223472e+00,\n",
              "        8.38954409e-01, -1.72191173e+00, -2.60791526e-01,  9.43956559e-01,\n",
              "        1.95928601e-03,  1.72958565e+00, -1.51394190e+00, -1.26175840e+00,\n",
              "       -2.43013440e+00, -1.16909520e+00,  4.28831195e-01, -1.14259669e+00,\n",
              "       -7.06163704e-01, -5.31632527e-01,  5.24179755e-01, -1.22929912e-01,\n",
              "        1.65325497e+00, -7.37639749e-01, -1.71857400e+00,  1.12809564e+00,\n",
              "       -2.06022118e-01, -2.12198579e+00,  1.97627991e-01,  1.89264407e+00,\n",
              "       -2.89575477e-01,  1.12500741e-01,  2.47140230e+00, -1.09949933e+00,\n",
              "        9.06163996e-01,  5.69976436e-01, -5.87646682e-01,  1.43265057e+00,\n",
              "       -2.29730619e+00, -4.73274116e-01,  7.88333504e-01,  1.31789630e+00,\n",
              "        6.23442244e-01,  9.30988432e-01,  2.01829542e+00,  3.84193771e-01,\n",
              "        1.26379751e+00,  7.68942551e-01,  1.15448177e+00, -3.90727959e-01,\n",
              "        1.33247712e+00, -1.54373014e+00,  1.21370171e+00, -2.07542180e+00,\n",
              "        1.14432400e+00,  1.35606470e+00, -4.70073516e-01,  4.60434525e-01,\n",
              "       -1.07184288e+00, -1.09425379e+00, -8.70986309e-01,  2.28112407e-01,\n",
              "       -3.88777128e-02, -5.45990562e-01, -2.21366621e-01, -5.95773616e-01,\n",
              "       -5.66695852e-01,  1.95162458e+00,  4.25120111e-01, -9.73310383e-02,\n",
              "        1.98103748e+00, -3.69200750e-01,  1.15256937e-01,  1.02006188e+00,\n",
              "       -4.21926665e-01,  1.76987944e+00, -2.40337211e+00,  7.35217077e-01,\n",
              "       -8.51392988e-01, -1.19703122e+00, -3.07249021e-01,  1.21922081e+00,\n",
              "       -2.06066882e+00,  1.00056116e+00,  7.65761476e-01,  7.31005844e-01,\n",
              "       -2.86585426e-01,  1.85433110e+00,  7.77447086e-01, -7.19468291e-01,\n",
              "        3.59830446e-01, -1.47062222e+00,  8.80355745e-01,  1.96394958e-01,\n",
              "       -1.94954850e+00, -7.45047963e-01,  1.97050533e+00, -9.74749310e-01,\n",
              "        8.73762001e-01,  1.60881106e-01, -3.85651388e-01,  5.10646834e-01,\n",
              "       -4.27931559e-01,  7.85623573e-01, -6.55069390e-01,  2.27012051e+00,\n",
              "        1.89297467e-01,  1.40494592e+00,  1.51054972e+00,  1.48189514e-01,\n",
              "        1.82768049e-01, -8.29341877e-01, -4.01735094e-01, -3.21627401e-01,\n",
              "       -4.79710762e-01,  9.65988793e-01, -3.72130649e-01,  9.24385874e-03,\n",
              "        3.52396374e-01,  1.38874003e+00,  1.34738409e+00,  1.10312925e+00,\n",
              "       -1.71708835e+00, -3.40512280e-01, -1.55798799e+00,  1.53059011e-01,\n",
              "       -2.24481889e-01,  5.20941254e-01, -5.46550821e-01, -1.05850951e+00,\n",
              "       -1.11252129e-01,  3.38492630e-02,  9.38402648e-01, -9.66605226e-01,\n",
              "        1.62759211e+00,  5.22786565e-01, -2.67439078e-01, -1.46608292e+00,\n",
              "        1.70500610e+00,  8.62920329e-02, -3.98971033e-01, -1.67454494e-01,\n",
              "       -1.42034633e+00, -6.89554478e-01, -4.41941511e-01, -8.22292676e-01,\n",
              "       -8.66671706e-02,  1.01173295e+00, -1.38493987e-01, -1.50650471e+00,\n",
              "       -3.04006377e-01, -2.06909053e+00,  4.85630400e-01, -2.25231812e-01,\n",
              "        9.32871034e-01,  2.43160854e-01, -5.15132644e-01,  1.21200046e+00,\n",
              "       -1.97532573e+00,  2.20905531e+00,  2.87868936e-01, -5.03578551e-01,\n",
              "        7.38603489e-01,  2.01173679e+00,  8.45632196e-01, -1.40992431e+00,\n",
              "       -1.03924164e+00, -2.21624454e+00,  1.12973276e+00,  4.78829437e-01,\n",
              "       -4.01634162e-01,  3.79389256e-01, -2.53587001e+00, -2.90543107e-01,\n",
              "        5.34552798e-01,  2.00560078e-01, -1.80759193e+00, -1.11241268e+00,\n",
              "        4.73643693e-01, -2.49563460e+00,  1.19309610e-01, -8.32925799e-01,\n",
              "       -1.12140199e+00,  3.98012408e-01,  1.15012357e+00,  5.88224112e-01,\n",
              "        4.52278810e-01, -1.15056652e+00, -6.82878434e-01,  6.44280736e-02,\n",
              "       -1.14852197e+00,  1.22271173e+00,  3.00525167e-01,  4.26659668e-01,\n",
              "        1.21139384e-01, -1.19139211e-01, -4.39366340e-01, -5.33448422e-01,\n",
              "       -1.28298504e-01,  2.54763864e-01, -7.90708528e-02, -4.14613989e-01,\n",
              "       -3.69241318e-01, -1.49065457e+00, -2.50607958e+00, -9.37457962e-01,\n",
              "        4.30219060e-01,  1.66661423e+00,  3.74443862e-01,  5.64191205e-01,\n",
              "        4.54957834e-01,  7.09102497e-01,  2.00341620e-01,  6.03472938e-01,\n",
              "       -2.04102555e+00,  7.57834076e-02,  2.33449348e-01, -1.09153481e+00,\n",
              "       -1.06212233e+00, -1.13255389e+00,  1.32121478e+00,  4.71969007e-01,\n",
              "        1.29335335e+00,  1.59033045e-01,  1.36679549e+00,  1.05172819e+00,\n",
              "       -4.91269115e-01, -7.43392932e-01, -1.29397884e+00, -6.15019270e-01,\n",
              "        7.01796574e-01,  4.53717718e-01,  3.02230191e-01,  5.76936316e-01,\n",
              "        3.19321576e-01,  4.18243454e-01, -5.87288375e-01, -2.04913681e+00,\n",
              "        2.00884638e+00, -1.04819234e+00,  1.82228200e+00,  5.17695195e-01,\n",
              "       -1.02423385e-01,  1.77723698e+00,  1.28320061e+00,  1.65082364e+00,\n",
              "        1.10579401e+00,  1.42192247e-01, -1.40106677e+00, -5.68252234e-01,\n",
              "       -1.75336582e+00,  1.76623777e-01,  1.50949256e+00, -7.83535986e-01,\n",
              "       -1.11086450e+00,  7.58964645e-01, -2.68809742e-01, -7.61598069e-01,\n",
              "        1.27360518e+00, -1.42103196e+00, -1.36961857e+00, -3.91889216e-01,\n",
              "        2.48161647e-01, -8.24720485e-01, -1.49014795e+00, -1.04069147e+00,\n",
              "       -9.00811503e-01, -1.89651055e+00, -8.81698691e-01,  4.06143656e-01,\n",
              "       -3.23223508e-01,  5.79718916e-01,  1.11799220e+00, -3.02047401e-01,\n",
              "        1.13196974e+00,  8.99201287e-01,  4.40027458e-01,  9.19256896e-01,\n",
              "        4.04127729e-01,  1.05139427e+00, -1.63271653e+00, -1.85594878e+00,\n",
              "        1.31124956e+00, -1.24640217e+00, -4.42843190e-01, -7.19572154e-01,\n",
              "        9.24876364e-02,  1.87648503e+00, -1.24298492e-01,  6.84626440e-01,\n",
              "       -9.44976460e-01, -1.28074738e+00,  2.26293047e+00, -4.93306802e-01,\n",
              "        8.58559045e-01,  1.69777576e-02, -5.13577317e-01, -2.52932778e+00,\n",
              "        1.95889487e-01, -3.41742221e-01,  2.41727817e+00, -1.67951119e+00,\n",
              "       -4.84578346e-01,  6.80530791e-01,  1.28251454e+00,  2.47934408e+00,\n",
              "       -8.18958418e-01,  5.11519537e-01,  4.63983608e-02,  2.13622998e-01,\n",
              "        1.91259540e+00, -1.66638401e-01, -4.02399502e-01, -8.70475138e-01,\n",
              "       -5.85096583e-01, -6.16911535e-01,  4.25041521e-01, -1.00657718e+00,\n",
              "        1.38238896e+00,  2.36579588e+00,  1.36390541e+00, -6.20014089e-02,\n",
              "       -1.00295753e+00,  7.30065187e-01, -2.37292459e+00,  1.73484612e+00,\n",
              "        4.10462858e-01, -1.13099783e+00, -2.09435512e+00, -5.04149029e-01,\n",
              "       -1.80980735e+00,  4.67589604e-01,  1.46184113e-01,  6.90938991e-01,\n",
              "       -1.25183793e+00,  2.18736785e+00, -2.82266091e-01,  2.38098908e+00,\n",
              "        1.03986113e+00, -6.89375593e-01,  1.94456186e+00, -7.27378606e-01,\n",
              "        4.86553149e-02, -4.30795645e-01,  3.78838206e-01, -1.03935801e+00,\n",
              "       -8.15375845e-01, -3.67561995e-01, -9.03452585e-02, -3.42238841e-01,\n",
              "        2.41018150e-01,  6.58738489e-02,  2.33943855e+00,  2.09031803e+00,\n",
              "        1.38637638e-01,  9.38390838e-02,  1.49522059e-01,  7.10336195e-01,\n",
              "        1.60725924e+00,  5.32010505e-01, -6.22587021e-01,  5.28960635e-01,\n",
              "        1.19184932e+00, -8.66273969e-01, -4.32936820e-01, -6.32445335e-01,\n",
              "       -4.89212901e-01,  7.86177942e-01, -1.72798530e+00, -9.51607621e-01,\n",
              "        6.17821659e-01, -2.47677828e+00,  7.64388295e-01, -1.53700291e+00,\n",
              "        1.59209348e+00,  1.92448017e-01,  5.27128429e-01,  9.07799234e-01,\n",
              "       -1.18044103e-01,  7.89573790e-01,  5.23923338e-01,  9.25426025e-02,\n",
              "        1.77744616e+00, -5.70743275e-01,  2.68077105e-01,  2.56788750e-01,\n",
              "       -2.65997335e+00,  1.05520273e+00,  8.75333138e-01,  2.15414989e+00,\n",
              "        9.83897481e-01,  2.73322790e+00,  5.21540100e-02, -2.02404962e+00,\n",
              "        7.43933222e-01,  2.31767932e+00,  7.96656931e-01,  6.32241262e-01,\n",
              "       -1.13999570e+00,  6.63097485e-01, -1.87737880e+00, -1.61907385e-01,\n",
              "        1.66642951e-01, -1.46394267e+00, -1.77163648e-01,  4.65557995e-01,\n",
              "       -6.45115620e-01, -6.08295726e-01,  1.17484391e+00, -1.74620344e+00])"
            ]
          },
          "execution_count": 239,
          "metadata": {},
          "output_type": "execute_result"
        }
      ],
      "source": [
        "fitted.resid"
      ]
    },
    {
      "cell_type": "markdown",
      "metadata": {
        "id": "SPErb-9fgPcA"
      },
      "source": [
        "### Mínimos Cuadrados Ponderados.\n",
        "\n",
        "En el caso de no cumplirse con la homocedacia\n",
        "- es posible darle a cada observación un peso inversamente proporcional a la\n",
        "  varianza para ese variable.\n",
        "- Regresion por minimos cuadrados ponderados.\n",
        "- Lo óptimo es conocer la varianza de los residuos\n",
        "  - Muy dificil de conocer\n",
        "- Se puede estimar a partir de los residuos."
      ]
    },
    {
      "cell_type": "markdown",
      "metadata": {
        "id": "-blM4tAfgPcB"
      },
      "source": [
        "\n",
        "## Ridge Regression\n",
        "\n",
        "- Esta regresión es mucho más robusta a la presencia de variables\n",
        "  explicativas correlacionadas (colineales).\n",
        "\n",
        "\n",
        "```{r}\n",
        "# En este ejemplo, vamos a modelar la \n",
        "# variable GNP.deflator como respuesta al\n",
        "# resto de las variables aleatorias.\n",
        "head(longley)\n",
        "```\n"
      ]
    },
    {
      "cell_type": "markdown",
      "metadata": {
        "id": "IEuIb5XlgPcB"
      },
      "source": [
        "\n",
        "### Buscando colinearidad\n",
        "\n",
        "Correlación:\n",
        "- Medidas de variación conjunta entre dos variables aleatorias.\n",
        "- Es una medida sin unidades que varía entre -1 y 1.\n",
        "    - más fácil de trabajar e interpretar.\n"
      ]
    },
    {
      "cell_type": "code",
      "execution_count": null,
      "metadata": {
        "id": "8VPyj5AEgPcB",
        "outputId": "b5137784-edb5-45ee-cc1a-0a60bfc81b20"
      },
      "outputs": [
        {
          "data": {
            "text/html": [
              "<div>\n",
              "<style scoped>\n",
              "    .dataframe tbody tr th:only-of-type {\n",
              "        vertical-align: middle;\n",
              "    }\n",
              "\n",
              "    .dataframe tbody tr th {\n",
              "        vertical-align: top;\n",
              "    }\n",
              "\n",
              "    .dataframe thead th {\n",
              "        text-align: right;\n",
              "    }\n",
              "</style>\n",
              "<table border=\"1\" class=\"dataframe\">\n",
              "  <thead>\n",
              "    <tr style=\"text-align: right;\">\n",
              "      <th></th>\n",
              "      <th>sepal length (cm)</th>\n",
              "      <th>sepal width (cm)</th>\n",
              "      <th>petal length (cm)</th>\n",
              "      <th>petal width (cm)</th>\n",
              "    </tr>\n",
              "  </thead>\n",
              "  <tbody>\n",
              "    <tr>\n",
              "      <th>sepal length (cm)</th>\n",
              "      <td>1.000000</td>\n",
              "      <td>-0.117570</td>\n",
              "      <td>0.871754</td>\n",
              "      <td>0.817941</td>\n",
              "    </tr>\n",
              "    <tr>\n",
              "      <th>sepal width (cm)</th>\n",
              "      <td>-0.117570</td>\n",
              "      <td>1.000000</td>\n",
              "      <td>-0.428440</td>\n",
              "      <td>-0.366126</td>\n",
              "    </tr>\n",
              "    <tr>\n",
              "      <th>petal length (cm)</th>\n",
              "      <td>0.871754</td>\n",
              "      <td>-0.428440</td>\n",
              "      <td>1.000000</td>\n",
              "      <td>0.962865</td>\n",
              "    </tr>\n",
              "    <tr>\n",
              "      <th>petal width (cm)</th>\n",
              "      <td>0.817941</td>\n",
              "      <td>-0.366126</td>\n",
              "      <td>0.962865</td>\n",
              "      <td>1.000000</td>\n",
              "    </tr>\n",
              "  </tbody>\n",
              "</table>\n",
              "</div>"
            ],
            "text/plain": [
              "                   sepal length (cm)  ...  petal width (cm)\n",
              "sepal length (cm)           1.000000  ...          0.817941\n",
              "sepal width (cm)           -0.117570  ...         -0.366126\n",
              "petal length (cm)           0.871754  ...          0.962865\n",
              "petal width (cm)            0.817941  ...          1.000000\n",
              "\n",
              "[4 rows x 4 columns]"
            ]
          },
          "execution_count": 243,
          "metadata": {},
          "output_type": "execute_result"
        }
      ],
      "source": [
        "import sklearn.datasets as datasets\n",
        "\n",
        "iris = datasets.load_iris(as_frame=True)\n",
        "\n",
        "iris_m = iris[\"frame\"].iloc[:, :4].copy()\n",
        "iris_m\n",
        "\n",
        "# Queremos estimar sepal_length a patir de las otras variables.\n",
        "iris_m.corr()"
      ]
    },
    {
      "cell_type": "code",
      "execution_count": null,
      "metadata": {
        "id": "C4p3VxhogPcB",
        "outputId": "cbeb89e6-c3e6-43d1-fff9-b347ff49b7b9"
      },
      "outputs": [
        {
          "data": {
            "text/plain": [
              "<matplotlib.collections.PathCollection at 0x1d4eab9a910>"
            ]
          },
          "execution_count": 261,
          "metadata": {},
          "output_type": "execute_result"
        },
        {
          "data": {
            "image/png": "[encoded data removed]",
            "text/plain": [
              "<Figure size 640x480 with 1 Axes>"
            ]
          },
          "metadata": {},
          "output_type": "display_data"
        }
      ],
      "source": [
        "from sklearn.linear_model import Ridge\n",
        "from sklearn.linear_model import RidgeCV\n",
        "from sklearn.model_selection import RepeatedKFold\n",
        "\n",
        "# Defino los variables dependientes e independientes.\n",
        "x = iris_m[[\"sepal width (cm)\", \"petal length (cm)\", \"petal width (cm)\"]]\n",
        "y = iris_m[\"sepal length (cm)\"]\n",
        "\n",
        "# Defino el modelo\n",
        "model = Ridge()\n",
        "\n",
        "# Hago el ajuste del modelo\n",
        "fitted = model.fit(x, y)\n",
        "\n",
        "plt.scatter(y, fitted.predict(x))"
      ]
    }
  ],
  "metadata": {
    "kernelspec": {
      "display_name": "Python 3.9.4 ('.venv': venv)",
      "language": "python",
      "name": "python3"
    },
    "language_info": {
      "codemirror_mode": {
        "name": "ipython",
        "version": 3
      },
      "file_extension": ".py",
      "mimetype": "text/x-python",
      "name": "python",
      "nbconvert_exporter": "python",
      "pygments_lexer": "ipython3",
      "version": "3.9.4"
    },
    "orig_nbformat": 4,
    "vscode": {
      "interpreter": {
        "hash": "2642d409aca2f3e50c4cc7e12f906abb96a179c2b76bcb58c2b6a9943c6a4da3"
      }
    },
    "colab": {
      "provenance": []
    }
  },
  "nbformat": 4,
  "nbformat_minor": 0
}