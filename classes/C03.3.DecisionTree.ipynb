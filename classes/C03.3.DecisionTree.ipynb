{
 "cells": [
  {
   "cell_type": "code",
   "execution_count": null,
   "metadata": {},
   "outputs": [],
   "source": [
    "# upgrade matplotlib on Colab\n",
    "# !pip install matplotlib --upgrade"
   ]
  },
  {
   "cell_type": "markdown",
   "metadata": {},
   "source": [
    "# Unidad 3 - Clasificación"
   ]
  },
  {
   "cell_type": "markdown",
   "metadata": {},
   "source": [
    "## Árboles de desición\n",
    "\n",
    "- Divide el espacio n-dimensional de las variables aleatorias\n",
    "  - Hace sucesivas divisiones\n",
    "    - Cada división parte el espacio en dos\n",
    "    - La división se da por el valor de una única variable.\n",
    "    - A cada una de las sub-regiones puede volver a subvidivirse.\n",
    "  - Luego de una series de divisiones quedan definidos espacios que se\n",
    "    assignan a un categoria.\n",
    "  - Durante el entrenamiento\n",
    "    - Se eligen las variables y los valores de corte de cada división\n"
   ]
  },
  {
   "cell_type": "code",
   "execution_count": null,
   "metadata": {},
   "outputs": [],
   "source": [
    "import numpy as np\n",
    "import scipy.stats as st\n",
    "import matplotlib.pyplot as plt\n",
    "\n",
    "data_a = np.array(\n",
    "  [[0, 0]] * 25 +\n",
    "  [[1, 1]] * 25 +\n",
    "  [[2, 0.5]] * 25 +\n",
    "  [[3, 0]] * 25\n",
    ")\n",
    "data_a2 = st.multivariate_normal.rvs(\n",
    "  [0 ,0],\n",
    "  [[0, 0.1], [0.1, 0]],\n",
    "  size = 100\n",
    ")\n",
    "data_a = data_a + data_a2\n",
    "\n",
    "data_b = np.array(\n",
    "  [[-1.5, -0.5]] * 25 +\n",
    "  [[1.1, -0.5]] * 25 +\n",
    "  [[-0.3, -1]] * 25 +\n",
    "  [[-1.4, 0.7]] * 25\n",
    ")\n",
    "data_b2 = st.multivariate_normal.rvs(\n",
    "  [0 ,0],\n",
    "  [[0, 0.1], [0.1, 0]],\n",
    "  size = 100\n",
    ")\n",
    "data_b = data_b + data_b2\n",
    "\n",
    "data = np.row_stack((data_a, data_b))\n",
    "\n",
    "plt.scatter(\n",
    "  *(data.T.tolist()),\n",
    "  c=[0] * 100 + [1] * 100,\n",
    ")\n",
    "plt.xlabel(\"Var 1\")\n",
    "plt.ylabel(\"Var 2\")"
   ]
  },
  {
   "cell_type": "code",
   "execution_count": null,
   "metadata": {},
   "outputs": [],
   "source": [
    "\n",
    "plt.xlabel(\"Var 1\")\n",
    "plt.ylabel(\"Var 2\")\n",
    "plt.scatter(*(data.T.tolist()), c=[0] * 100 + [1] * 100)\n",
    "# Primer corte\n",
    "plt.plot([-2, 4], [0, 0], color = \"red\")\n",
    "plt.annotate(\n",
    "  xy = (3.5, 0),\n",
    "  xytext = (4, 1.5),\n",
    "  text = \"$Var2 >= 0$\",\n",
    "  arrowprops={\"arrowstyle\": \"->\"},\n",
    "  ha = \"right\"\n",
    ")\n",
    "\n",
    "# Segundo corte\n",
    "plt.plot([-2, 4], [0, 0], color = \"gray\")\n",
    "plt.plot([1.8, 1.8], [-1.5, 0], color = \"red\")\n",
    "plt.annotate(\n",
    "  xy = (1.8, -0.75),\n",
    "  xytext = (4, -1.5),\n",
    "  text = \"$Var1 >= 1.8$\",\n",
    "  arrowprops={\"arrowstyle\": \"->\"},\n",
    "  ha = \"right\"\n",
    ")\n",
    "\n",
    "# Tercer corte\n",
    "plt.plot([-2, 4], [0, 0], color = \"gray\")\n",
    "plt.plot([1.8, 1.8], [-1.5, 0], color = \"gray\")\n",
    "plt.plot([-0.80, -0.80], [0, 1.5], color = \"red\")\n",
    "plt.annotate(\n",
    "  xy = (-0.8, 0.75),\n",
    "  xytext = (4, -0.7),\n",
    "  text = \"$Var1 >= -0.8$\",\n",
    "  arrowprops={\"arrowstyle\": \"->\"},\n",
    "  ha = \"right\"\n",
    ")\n",
    "\n",
    "# Otros cortes\n",
    "plt.plot([-2, 4], [0, 0], color = \"gray\")\n",
    "plt.plot([1.8, 1.8], [-1.5, 0], color = \"gray\")\n",
    "plt.plot([-2, 1.8], [-0.4, -0.4], color = \"gray\")\n",
    "plt.plot([-0.8, -0.8], [0, -0.4], color = \"red\")\n",
    "plt.plot([0.70, 0.70], [0, -0.4], color = \"red\")\n",
    "plt.plot([-0.80, -0.80], [0, 1.5], color = \"red\")"
   ]
  },
  {
   "cell_type": "markdown",
   "metadata": {},
   "source": [
    "Veamos como se hace en Python."
   ]
  },
  {
   "cell_type": "code",
   "execution_count": null,
   "metadata": {},
   "outputs": [],
   "source": [
    "from sklearn.tree import DecisionTreeClassifier\n",
    "\n",
    "dt = DecisionTreeClassifier()\n",
    "fitted = dt.fit(data, [0]*100 + [1]*100)"
   ]
  },
  {
   "cell_type": "code",
   "execution_count": null,
   "metadata": {},
   "outputs": [],
   "source": [
    "predicted = fitted.predict(data)\n",
    "predicted"
   ]
  },
  {
   "cell_type": "code",
   "execution_count": null,
   "metadata": {},
   "outputs": [],
   "source": [
    "all(predicted == [0] * 100 + [1] * 100)"
   ]
  },
  {
   "cell_type": "code",
   "execution_count": null,
   "metadata": {},
   "outputs": [],
   "source": [
    "from sklearn.inspection import DecisionBoundaryDisplay\n",
    "\n",
    "DecisionBoundaryDisplay.from_estimator(\n",
    "  dt,\n",
    "  data,\n",
    "  response_method=\"predict\",\n",
    "  alpha = 0.3\n",
    ")\n",
    "plt.scatter(*(data.T.tolist()), c=[0] * 100 + [1] * 100)\n"
   ]
  },
  {
   "cell_type": "code",
   "execution_count": null,
   "metadata": {},
   "outputs": [],
   "source": [
    "from sklearn.tree import plot_tree\n",
    "\n",
    "fig, axes = plt.subplots(figsize=(10,8))\n",
    "plot_tree(dt, filled=True, ax = axes)\n",
    "fig.tight_layout()"
   ]
  },
  {
   "cell_type": "code",
   "execution_count": null,
   "metadata": {},
   "outputs": [],
   "source": [
    "from sklearn import datasets\n",
    "\n",
    "iris = datasets.load_iris(as_frame=True)\n",
    "\n",
    "df = iris[\"frame\"]\n",
    "\n",
    "df"
   ]
  },
  {
   "cell_type": "code",
   "execution_count": null,
   "metadata": {},
   "outputs": [],
   "source": [
    "from sklearn.tree import DecisionTreeClassifier\n",
    "from sklearn.model_selection import train_test_split\n",
    "\n",
    "import pandas as pd\n",
    "\n",
    "train, test = train_test_split(df)\n",
    "tree = DecisionTreeClassifier()\n",
    "\n",
    "fitted = tree.fit(train.drop(columns=[\"target\"]), train[\"target\"])\n",
    "\n",
    "predicted = fitted.predict(test.drop(columns=[\"target\"]))\n",
    "\n",
    "prediction = pd.Series(predicted==test[\"target\"]).value_counts()\n",
    "accuracy = prediction[True] / prediction.sum()\n",
    "\n",
    "print(f\"Accuracy: {accuracy}\")\n"
   ]
  },
  {
   "cell_type": "code",
   "execution_count": null,
   "metadata": {},
   "outputs": [],
   "source": [
    "from sklearn.tree import plot_tree\n",
    "\n",
    "plot_tree(\n",
    "  fitted,\n",
    "  filled = True\n",
    ")"
   ]
  },
  {
   "cell_type": "markdown",
   "metadata": {},
   "source": [
    "### RandomForest\n",
    "\n",
    "- Se construyen muchos arboles de decisión\n",
    "- Se elije por votación simple."
   ]
  },
  {
   "cell_type": "code",
   "execution_count": null,
   "metadata": {},
   "outputs": [],
   "source": [
    "from sklearn.ensemble import RandomForestClassifier\n",
    "from sklearn.model_selection import cross_val_score, KFold, train_test_split\n",
    "from sklearn.datasets import load_iris\n",
    "from sklearn.metrics import accuracy_score\n",
    "\n",
    "iris = load_iris()\n",
    "\n",
    "X = iris.data\n",
    "y = iris.target\n",
    "\n",
    "# split testing and training\n",
    "X_train, X_test, y_train, y_test = train_test_split(X, y)\n",
    "\n",
    "# Create Random Forest Classifier\n",
    "rf_classifier = RandomForestClassifier(n_estimators=100)\n",
    "\n",
    "# Create 5-fold cross-validation\n",
    "k_fold = KFold(n_splits=5, shuffle=True, random_state=0)\n",
    "\n",
    "# Perform cross-validation\n",
    "cv_scores = cross_val_score(\n",
    "  rf_classifier,\n",
    "  X_train,\n",
    "  y_train,\n",
    "  cv=k_fold,\n",
    "  scoring = \"accuracy\"\n",
    ")\n",
    "\n",
    "# cross-validation scores\n",
    "print(\"Cross-validation scores:\", cv_scores)\n",
    "print(\"Mean CV accuracy:\", cv_scores.mean())\n",
    "print(\"Mean CV deviation:\", cv_scores.std())\n",
    "\n",
    "# Train full model\n",
    "fitted = rf_classifier.fit(X_train, y_train)\n",
    "predicted = fitted.predict(X_test)\n",
    "\n",
    "# Full model accuracy\n",
    "acc = accuracy_score(y_test, predicted)\n",
    "print(\"Full model accuracy:\", acc)\n"
   ]
  }
 ],
 "metadata": {
  "kernelspec": {
   "display_name": "Python 3.9.9 ('.venv': venv)",
   "language": "python",
   "name": "python3"
  },
  "language_info": {
   "codemirror_mode": {
    "name": "ipython",
    "version": 3
   },
   "file_extension": ".py",
   "mimetype": "text/x-python",
   "name": "python",
   "nbconvert_exporter": "python",
   "pygments_lexer": "ipython3",
   "version": "3.9.4"
  },
  "orig_nbformat": 4,
  "vscode": {
   "interpreter": {
    "hash": "83b07c2f4bf3433171e71c2622c13225f444329e11349f4a7cc98dac3684b888"
   }
  }
 },
 "nbformat": 4,
 "nbformat_minor": 2
}
