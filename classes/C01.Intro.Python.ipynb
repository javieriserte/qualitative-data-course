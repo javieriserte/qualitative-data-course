{
  "cells": [
    {
      "cell_type": "markdown",
      "metadata": {
        "id": "h6dUnzNL78fK"
      },
      "source": [
        "# Análisis de datos cualitativos"
      ]
    },
    {
      "cell_type": "markdown",
      "metadata": {
        "id": "Zf-jT3lg78fL"
      },
      "source": [
        "## Introducción a Python"
      ]
    },
    {
      "cell_type": "markdown",
      "metadata": {
        "id": "0JpBJSaU78fM"
      },
      "source": [
        "### Variables y operaciones básicas"
      ]
    },
    {
      "cell_type": "code",
      "execution_count": null,
      "metadata": {
        "colab": {
          "base_uri": "https://localhost:8080/"
        },
        "id": "h7YyV2u2upGG",
        "outputId": "5610b43f-943f-4730-c6e1-31244c41eda5"
      },
      "outputs": [],
      "source": [
        "var = \"Bienvenidos al curso de analisis de datos cualitativos\"\n",
        "\n",
        "var1 = 12\n",
        "var2 = 23\n",
        "\n",
        "var1 + var2\n",
        "var1 - var2"
      ]
    },
    {
      "cell_type": "markdown",
      "metadata": {},
      "source": [
        "### Tipos de datos\n",
        "\n",
        "En Python, los tipos de datos básicos incluyen:\n",
        "\n",
        "- Enteros (int): Representan números enteros, positivos o negativos, sin parte decimal. Por ejemplo: 5, -10, 1000.\n",
        "\n",
        "- Flotantes (float): Representan números reales con parte decimal. Por ejemplo: 3.14, 2.718, 10.0.\n",
        "\n",
        "- Booleanos (bool): Representan valores de verdad, es decir, verdadero (True) o falso (False). Se utilizan en operaciones lógicas y de control de flujo.\n",
        "\n",
        "- Cadenas de caracteres (str): Representan secuencias de caracteres, como texto. Se pueden definir utilizando comillas simples (') o dobles (\"). Por ejemplo: 'Hola mundo', \"Python es genial\"."
      ]
    },
    {
      "cell_type": "markdown",
      "metadata": {
        "id": "VkCwbcGr78fN"
      },
      "source": [
        "### Estructuras de datos"
      ]
    },
    {
      "cell_type": "code",
      "execution_count": null,
      "metadata": {
        "id": "YENyL6auvcul"
      },
      "outputs": [],
      "source": [
        "# Listas\n",
        "lista = [1, 2, 3, 4, 5]\n",
        "lista.append(6)\n",
        "lista.remove(1)\n",
        "a = lista[0]\n",
        "\n",
        "# Diccionarios\n",
        "data = {\n",
        "    \"a\": 1,\n",
        "    \"b\": 2,\n",
        "    \"c\": 3\n",
        "}\n",
        "data.get(\"d\", 0)\n",
        "\n",
        "# Sets (conjuntos)\n",
        "set1 = set([1, 2, 1, 3])\n",
        "set2 = set([3, 4, 5, 6])\n",
        "set3 = set2 - set1\n",
        "set3\n",
        "\n",
        "# Tuplas\n",
        "tupla = (1, 2, 3)\n",
        "tupla\n",
        "\n",
        "# Las tuplas pueden ser claves en diccionarios.\n",
        "d1 = {\n",
        "    tupla: \"mi primer tupla\"\n",
        "}"
      ]
    },
    {
      "cell_type": "markdown",
      "metadata": {
        "id": "LCuChE8178fN"
      },
      "source": [
        "### Loops y condicionales"
      ]
    },
    {
      "cell_type": "code",
      "execution_count": null,
      "metadata": {
        "colab": {
          "base_uri": "https://localhost:8080/"
        },
        "id": "UiLtY3Y_z7w3",
        "outputId": "2e13582f-fcaf-4a85-fc18-6a3c2954afa0"
      },
      "outputs": [],
      "source": [
        "for a in data:\n",
        "  value = data[a]\n",
        "  print(f\"El valor {value} esta asociado a la clave {a}\")"
      ]
    },
    {
      "cell_type": "code",
      "execution_count": null,
      "metadata": {
        "colab": {
          "base_uri": "https://localhost:8080/"
        },
        "id": "3MNrDS6r1fzD",
        "outputId": "2b5e0eab-a7f0-4b4d-b843-bfe2796f7759"
      },
      "outputs": [],
      "source": [
        "for key, value in data.items():\n",
        "  print(f\"El valor {value} está asociado a la clave {key}\")"
      ]
    },
    {
      "cell_type": "code",
      "execution_count": null,
      "metadata": {
        "colab": {
          "base_uri": "https://localhost:8080/"
        },
        "id": "TMHOHi7615c7",
        "outputId": "8bdbd15a-2ce3-426d-a2a7-f500bb41fc9b"
      },
      "outputs": [],
      "source": [
        "for i in range(10):\n",
        "  print(i)"
      ]
    },
    {
      "cell_type": "code",
      "execution_count": null,
      "metadata": {
        "colab": {
          "base_uri": "https://localhost:8080/"
        },
        "id": "-YNsdCH92N35",
        "outputId": "9de59670-a9fd-47e4-8ed0-fa5eb6d5f4da"
      },
      "outputs": [],
      "source": [
        "var1 = 10\n",
        "if var1 > 10:\n",
        "  print(\"La variable es mayor a 10\")\n",
        "else:\n",
        "  print(\"La variable es menor o igual a 10\")"
      ]
    },
    {
      "cell_type": "markdown",
      "metadata": {
        "id": "4KD7Mg8R78fO"
      },
      "source": [
        "### Funciones y funciones anónimas"
      ]
    },
    {
      "cell_type": "markdown",
      "metadata": {},
      "source": [
        "#### Funciones explicitas"
      ]
    },
    {
      "cell_type": "code",
      "execution_count": null,
      "metadata": {
        "colab": {
          "base_uri": "https://localhost:8080/"
        },
        "id": "QPsUsQz62-Y4",
        "outputId": "90310aab-d9fa-4c2e-b731-71f43009a41f"
      },
      "outputs": [],
      "source": [
        "var1 = 5\n",
        "\n",
        "def elevar_al_cuadrado(n):\n",
        "  return n**2\n",
        "\n",
        "elevar_al_cuadrado(var1)"
      ]
    },
    {
      "cell_type": "markdown",
      "metadata": {},
      "source": [
        "#### Funciones anónimas"
      ]
    },
    {
      "cell_type": "code",
      "execution_count": null,
      "metadata": {
        "colab": {
          "base_uri": "https://localhost:8080/"
        },
        "id": "FzAJr9Ge3vCl",
        "outputId": "ee0d2de2-2517-4022-b336-bcf26f8287dd"
      },
      "outputs": [],
      "source": [
        "fn = lambda n: n**2\n",
        "fn(2)"
      ]
    },
    {
      "cell_type": "markdown",
      "metadata": {
        "id": "jc8s38pW78fO"
      },
      "source": [
        "### Clases y objetos"
      ]
    },
    {
      "cell_type": "markdown",
      "metadata": {},
      "source": [
        "En la programación orientada a objetos, los objetos son entidades que:\n",
        "\n",
        "- combinan datos y de comportamiento.\n",
        "- se usan para modelar entidades complejas."
      ]
    },
    {
      "cell_type": "code",
      "execution_count": null,
      "metadata": {
        "colab": {
          "base_uri": "https://localhost:8080/"
        },
        "id": "i_SDS9gM4u4C",
        "outputId": "5b1b5f50-fc43-4d9b-9586-3fa69a364143"
      },
      "outputs": [],
      "source": [
        "class Persona:\n",
        "  def __init__(self, altura, peso, nombre):\n",
        "    # Variables de instancia, o atributos.\n",
        "    self.altura = altura\n",
        "    self.peso = peso\n",
        "    self.nombre = nombre\n",
        "  # Métodos...\n",
        "  def presentarse(self):\n",
        "    print(f\"Hola, mi nombre es {self.nombre}\")\n",
        "  def saludar(self, otra_persona):\n",
        "    print(f\"{self.nombre} saluda a {otra_persona.nombre}\")\n",
        "  def comparar_altura(self, otra_persona):\n",
        "    if self.altura > otra_persona.altura:\n",
        "      print(f\"{self.nombre} es más alto que {otra_persona.nombre}\")\n",
        "    elif self.altura < otra_persona.altura:\n",
        "      print(f\"{self.nombre} es más bajo que {otra_persona.nombre}\")\n",
        "    else:\n",
        "      print(f\"{self.nombre} tiene la misma altura que {otra_persona.nombre}\")\n",
        "\n",
        "\n",
        "p1 = Persona(180, 75, \"Juan\")\n",
        "p2 = Persona(190, 85, \"Pedro\")\n",
        "\n",
        "p1.presentarse()\n",
        "p2.presentarse()\n",
        "p1.saludar(p2)\n",
        "p1.comparar_altura(p2)"
      ]
    },
    {
      "cell_type": "markdown",
      "metadata": {
        "id": "nuXpbP_k78fP"
      },
      "source": [
        "## Ejercicios de practica de python"
      ]
    },
    {
      "cell_type": "markdown",
      "metadata": {
        "id": "dm8bbJIT78fQ"
      },
      "source": [
        "1. Imprimir la suma del número actual y el anterior en una lista\n",
        "2. Eliminar los primeros n caracteres de un string\n",
        "3. Contar la cantidad de veces que aparece cada elemento en una lista\n",
        "4. Imprimir los números de una lista que son divisibles por cinco\n",
        "5. Imprimir el patrón, hasta una altura arbitraria:\n",
        "```\n",
        "       *\n",
        "      * *\n",
        "     * * *\n",
        "    * * * *\n",
        "```\n",
        "6. Separar numeros pares e impares de un lista\n",
        "7. Calcular el impuesto de un ingreso según estas reglas:\n",
        "\n",
        "    1. Primeros 100000 pesos -> 0 por ciento\n",
        "    2. 100000 pesos a 200000 pesos -> 5 por ciento,\n",
        "       del exceso sobre tope mínimo de esta categoria,\n",
        "       hasta el tope máximo de esta categoría.\n",
        "       Más lo que corresponda en las categorías previas.\n",
        "    3. 200000 pesos a 250000 pesos -> 10 por ciento\n",
        "       del exceso sobre tope mínimo de esta categoria,\n",
        "       hasta el tope máximo de esta categoría.\n",
        "       Más lo que corresponda en las categorías previas.\n",
        "    4. Más de 250000 -> 25 por ciento\n",
        "       del exceso sobre tope mínimo de esta categoria,\n",
        "       Más lo que corresponda en las categorías previas.\n",
        "\n",
        "8. Dada una frase y posibles anagramas, elegir los correctos.\n",
        "9. Dada la secuencia de una proteína, escribir una función que permita\n",
        "   calcular la frecuencia de aparición de k-mers de la longitud pedida.\n",
        "   El resultado debe ser diccionario.\n",
        "10. Imprimir un gráfico tipo DotPlot para dos secuencias.\n",
        "    Luego, solo mostrar las diagonales que tienen al menos cinco coincidencias."
      ]
    },
    {
      "cell_type": "markdown",
      "metadata": {},
      "source": [
        "### Anotaciones de tipos\n",
        "\n",
        "En las últimas versiones de python, las variables pueden ser anotadas con el\n",
        "tipo que le corresponde.\n",
        "\n",
        "La anotación de tipos sirve para:\n",
        "\n",
        "- Dar mayor claridad al código.\n",
        "- Para que herramientas externas pueden analizar y verificar la consistencia\n",
        "  de tipos en el código."
      ]
    },
    {
      "cell_type": "code",
      "execution_count": null,
      "metadata": {},
      "outputs": [],
      "source": [
        "# por ejemplo, una variable:\n",
        "\n",
        "var1 = 1\n",
        "\n",
        "# su puede anotar como:\n",
        "\n",
        "var1:int = 1"
      ]
    },
    {
      "cell_type": "code",
      "execution_count": null,
      "metadata": {},
      "outputs": [],
      "source": [
        "# una función\n",
        "\n",
        "def eliminar_pares(numeros):\n",
        "  resultado = []\n",
        "  for n in numeros:\n",
        "    if n%2!=0:\n",
        "      resultado.append(n)\n",
        "  return resultado\n",
        "\n",
        "# Se puede anotar:\n",
        "\n",
        "def eliminar_pares(numeros: list[int]) -> list[int]:\n",
        "  resultado:list[int] = []\n",
        "  for n in numeros:\n",
        "    if n%2!=0:\n",
        "      resultado.append(n)\n",
        "  return resultado\n"
      ]
    },
    {
      "cell_type": "markdown",
      "metadata": {},
      "source": [
        "### Construcción de listas, sets y diccionarios por comprensión.\n",
        "\n"
      ]
    },
    {
      "cell_type": "code",
      "execution_count": null,
      "metadata": {},
      "outputs": [],
      "source": [
        "# a partir de la lista1\n",
        "lista1 = [1, 2, 3, 4, 5]\n",
        "\n",
        "# quiero construir la lista de cuadrados.\n",
        "cuadrados = []\n",
        "for x in lista1:\n",
        "  cuadrados.append(x**2)\n",
        "print(cuadrados)\n",
        "\n",
        "# Alternativamente usando comprensión de listas:\n",
        "cuadrados = [x**2 for x in lista1]"
      ]
    },
    {
      "cell_type": "code",
      "execution_count": null,
      "metadata": {},
      "outputs": [],
      "source": [
        "# a partir de la lista1\n",
        "lista1 = [1, 2, 3, 4, 5]\n",
        "\n",
        "# quiero construir la lista de cuadrados de los números paras.\n",
        "cuadrados_pares = []\n",
        "for x in lista1:\n",
        "  if x%2==0:\n",
        "    cuadrados_pares.append(x**2)\n",
        "print(cuadrados_pares)\n",
        "\n",
        "# Alternativamente usando comprensión de listas:\n",
        "cuadrados_pares = [x**2 for x in lista1 if x%2==0]"
      ]
    },
    {
      "cell_type": "code",
      "execution_count": null,
      "metadata": {},
      "outputs": [],
      "source": [
        "# A partir de la lista1,\n",
        "lista1 = [\n",
        "  (\"Q01970\", \"1-phosphatidylinositol 4,5-bisphosphate phosphodiesterase beta-3\"),\n",
        "  (\"P63104\", \"14-3-3 protein zeta/delta\"),\n",
        "  (\"P60896\", \"26S proteasome complex subunit SEM1\"),\n",
        "  (\"P55036\", \"26S proteasome non-ATPase regulatory subunit 4\"),\n",
        "]\n",
        "\n",
        "# quiero armar un diccionario.\n",
        "idrs = {}\n",
        "for uniprot, nombre in lista1:\n",
        "  idrs[uniprot] = nombre\n",
        "\n",
        "# Alternativamente construyendolo por comprensión\n",
        "idrs = {\n",
        "  uniprot: nombre for uniprot, nombre in lista1\n",
        "}"
      ]
    },
    {
      "cell_type": "code",
      "execution_count": null,
      "metadata": {},
      "outputs": [],
      "source": [
        "# A partir de estos datos\n",
        "data = [\n",
        "  (\"P13551\", \"Thermus thermophilus\"),\n",
        "  (\"P03129\", \"Human papillomavirus\"),\n",
        "  (\"P14738\", \"Staphylococcus aureus\"),\n",
        "  (\"P06179\", \"Salmonella typhimurium\"),\n",
        "  (\"P26477\", \"Salmonella typhimurium\"),\n",
        "  (\"P56206\", \"Thermus thermophilus\")\n",
        "]\n",
        "\n",
        "# quiero obtener el conjunto de los organismos.\n",
        "organismos = set()\n",
        "for uniprot, orgn in data:\n",
        "  organismos.add(orgn)\n",
        "\n",
        "# alternativamente construyendo el conjunto por comprensión\n",
        "organismos = {orgn for uniprot, orgn in data}"
      ]
    },
    {
      "cell_type": "markdown",
      "metadata": {},
      "source": [
        "### map, filter y reduce\n",
        "\n",
        "map(), filter() y reduce() son tres funciones que permiten manipular estructuras de\n",
        "datos que pueden ser iteradas, por ejemplo las listas.\n",
        "\n"
      ]
    },
    {
      "cell_type": "markdown",
      "metadata": {},
      "source": [
        "\n",
        "- Función map(función, iterable):\n",
        "\n",
        "  - map() aplica una función a cada elemento de un iterable (como una lista) y\n",
        "  devuelve un iterador que produce los resultados.\n",
        "  - Toma dos argumentos: la función que se aplicará y el iterable sobre el cual\n",
        "  se aplicará esa función.\n",
        "  - La función pasada como primer argumento será aplicada a cada elemento del\n",
        "  iterable, y el resultado será un nuevo iterador que produce los resultados de\n",
        "  aplicar la función a cada elemento.\n",
        "  - Por ejemplo:\n",
        "  ```python\n",
        "    lista = [1, 2, 3, 4, 5]\n",
        "    cuadrados = map(lambda x: x**2, lista)\n",
        "    print(list(cuadrados))  # Salida: [1, 4, 9, 16, 25]\n",
        "  ```\n"
      ]
    },
    {
      "cell_type": "markdown",
      "metadata": {},
      "source": [
        "\n",
        "- Función filter(función, iterable):\n",
        "\n",
        "  - filter() crea un iterador que devuelve los elementos de un iterable para los\n",
        "    cuales una función devuelve True.\n",
        "  - Toma dos argumentos: la función que se aplicará y el iterable sobre el cual\n",
        "    se aplicará esa función.\n",
        "  - La función pasada como primer argumento debe devolver True o False. Si\n",
        "    devuelve True, el elemento se incluirá en el iterador de salida; de lo\n",
        "    contrario, se omitirá.\n",
        "  - Por ejemplo:\n",
        "  ```python\n",
        "    lista = [1, 2, 3, 4, 5]\n",
        "    impares = filter(lambda x: x % 2 != 0, lista)\n",
        "    print(list(impares))  # Salida: [1, 3, 5]\n",
        "  ```\n"
      ]
    },
    {
      "cell_type": "markdown",
      "metadata": {},
      "source": [
        "\n",
        "- Función reduce(función, iterable, valor_inicial):\n",
        "\n",
        "  - reduce() aplica repetidamente una función a los elementos del iterable,\n",
        "    reduciendo así la secuencia a un solo valor.\n",
        "  - Toma tres argumentos: la función que se aplicará, el iterable sobre el cual\n",
        "    se aplicará esa función y un valor inicial opcional.\n",
        "  - La función pasada como primer argumento debe aceptar dos argumentos y\n",
        "    devolver un resultado. Este resultado se utilizará como el primer argumento\n",
        "    en la próxima llamada a la función, junto con el siguiente elemento del iterable.\n",
        "  - Es necesario importar reduce del módulo functools.\n",
        "  - Por ejemplo:\n",
        "  ```python\n",
        "    from functools import reduce\n",
        "    lista = [1, 2, 3, 4, 5]\n",
        "    suma = reduce(lambda x, y: x + y, lista)\n",
        "    print(suma)  # Salida: 15\n",
        "  ```\n"
      ]
    },
    {
      "cell_type": "markdown",
      "metadata": {},
      "source": [
        "### Piping"
      ]
    },
    {
      "cell_type": "markdown",
      "metadata": {},
      "source": [
        "Piping es la transformación de datos a traves de operaciones encadenadas.\n",
        "Cada operación toma los resultados de un paso previo, hace una transformacíon\n",
        "y los envía a la salida de datos para que otra operación continue.\n",
        "\n",
        "\n",
        "Datos de partida -> operación 1 -> operación 2 -> Resultado final.\n",
        "\n",
        "El python los pipes no son nativos del lenguage pero se pueden utilzar con el\n",
        "paquete \"pipe\"."
      ]
    },
    {
      "cell_type": "code",
      "execution_count": null,
      "metadata": {},
      "outputs": [],
      "source": [
        "import pipe\n",
        "\n",
        "# data contiene datos de algunas proteinas desordenadas: El uniprot accession,\n",
        "# El nombre de la proteína, la longitud de la proteína y el contenido porcentual\n",
        "# de desorden\n",
        "data = [\n",
        "  (\"P13551\", \"Elongation factor G\", \"Thermus thermophilus\", 691, 8.54),\n",
        "  (\"P03129\", \"Protein E7\", \"Human papillomavirus type 16\", 98, 52.04),\n",
        "  (\"P14738\", \"Fibronectin-binding protein A\", \"Staphylococcus aureus\", 1018, 12.77),\n",
        "  (\"P06179\", \"Flagellin\", \"Salmonella typhimurium\", 495, 21.21),\n",
        "  (\"P26477\", \"Negative regulator of flagellin synthesis\", \"Salmonella typhimurium \", 97, 100.00),\n",
        "  (\"P56206\", \"Glycine--tRNA ligase\", \"Thermus thermophilus\", 506, 17.00),\n",
        "  (\"P02929\", \"Protein TonB\", \"Escherichia coli\", 239, 20.50),\n",
        "  (\"P27001\", \"Phenylalanine--tRNA ligase alpha subunit\", \"Thermus thermophilus\", 350, 28.86),\n",
        "  (\"P11409\", \"Modification methylase PvuII\", \"Proteus hauseri\", 336, 11.31),\n",
        "]\n",
        "\n",
        "# quiero transformar estos datos:\n",
        "# - eliminar las del genero Salmonella y Escherichia.\n",
        "# - Calcular la cantidad de posiciones desordenadas y agregarlo a los datos existentes.\n",
        "# - Finalmente eliminarlas que tengon menos de 100 posiciones desordenadas.\n",
        "\n",
        "resultado = filter(\n",
        "  lambda x: x[5]>=100,\n",
        "    map(\n",
        "    lambda x: (*x, round(x[3]*x[4]/100)),\n",
        "    filter(\n",
        "      lambda x: not any(y in x[2] for y in [\"Escherichia\", \"Salmonella\"]),\n",
        "      data\n",
        "    )\n",
        "  )\n",
        ")\n",
        "list(resultado)"
      ]
    },
    {
      "cell_type": "code",
      "execution_count": null,
      "metadata": {},
      "outputs": [],
      "source": [
        "# Alternativamente\n",
        "\n",
        "r1 = filter(\n",
        "  lambda x: not any(y in x[2] for y in [\"Escherichia\", \"Salmonella\"]),\n",
        "  data\n",
        ")\n",
        "r2 = map(lambda x: (*x, round(x[3]*x[4]/100)), r1)\n",
        "resultado = filter(lambda x: x[5]>=100, r2)\n",
        "list(resultado)"
      ]
    },
    {
      "cell_type": "code",
      "execution_count": null,
      "metadata": {},
      "outputs": [],
      "source": [
        "# usando pipes\n",
        "from pipe import map, filter\n",
        "resultado = list(\n",
        "  data\n",
        "    | filter(lambda x: not any(y in x[2] for y in [\"Escherichia\", \"Salmonella\"]))\n",
        "    | map(lambda x: (*x, round(x[3]*x[4]/100)))\n",
        "    | filter(lambda x: x[5]>=100)\n",
        ")\n",
        "resultado"
      ]
    },
    {
      "cell_type": "markdown",
      "metadata": {
        "id": "xOc-IsNY78fR"
      },
      "source": [
        "## Introducción a Numpy"
      ]
    },
    {
      "cell_type": "markdown",
      "metadata": {
        "id": "xQQq1aw378fR"
      },
      "source": [
        "- Computación numérica\n",
        "- Centrada en Arrays multidimensionales\n",
        "- Referencia de la API:\n",
        "  - https://numpy.org/doc/stable/reference/index.html"
      ]
    },
    {
      "cell_type": "markdown",
      "metadata": {
        "id": "VU9GRqqV78fS"
      },
      "source": [
        "### Crear Arrays\n",
        "\n",
        "- np.array\n",
        "- np.zeros\n",
        "- np.ones\n",
        "- np.empty\n",
        "- np.arange\n",
        "- np.linspace\n",
        "- np.identity"
      ]
    },
    {
      "cell_type": "code",
      "execution_count": null,
      "metadata": {},
      "outputs": [],
      "source": [
        "import numpy as np\n",
        "\n",
        "arr1 = np.array([[1, 2, 3], [6,7,8]])\n",
        "print(arr1)\n",
        "\n",
        "arr2 = np.ones((2,3))\n",
        "print(arr2)\n",
        "\n",
        "print(arr2 * arr1)\n",
        "\n",
        "print(np.empty((2, 3)))\n",
        "\n",
        "np.arange(\n",
        "  start = 1,\n",
        "  stop = 20,\n",
        "  step = 4\n",
        ")\n",
        "\n",
        "np.linspace(\n",
        "  np.array([0, 1]),\n",
        "  np.array([1, 11]),\n",
        "  3\n",
        ")\n",
        "\n",
        "np.identity(4)"
      ]
    },
    {
      "cell_type": "markdown",
      "metadata": {
        "id": "3t5eskoZ78fT"
      },
      "source": [
        "### Cambiar forma de un array\n",
        "\n",
        "- reshape\n",
        "- transpose\n",
        "\n"
      ]
    },
    {
      "cell_type": "code",
      "execution_count": null,
      "metadata": {},
      "outputs": [],
      "source": [
        "arr1 = (\n",
        "  np.array(range(12))\n",
        "    .reshape((3, 4))\n",
        "    .transpose()\n",
        ")\n",
        "print(arr1)"
      ]
    },
    {
      "cell_type": "markdown",
      "metadata": {
        "id": "BqLqGLL278fT"
      },
      "source": [
        "### Funciones universales\n",
        "\n",
        "- Funciones que se aplican a Arrays de cualquier dimension\n",
        "- por elemento\n",
        "\n",
        "Por ejemplo:\n",
        "\n",
        "- numpy.add\n",
        "- numpy.matmul\n",
        "- numpy.multiply\n",
        "- numpy.equal\n",
        "- numpy.logical_and"
      ]
    },
    {
      "cell_type": "code",
      "execution_count": null,
      "metadata": {},
      "outputs": [],
      "source": [
        "arr1 = (\n",
        "  np.array(range(12))\n",
        "    .reshape((3, 4))\n",
        ")\n",
        "\n",
        "np.add(arr1, arr1) # igual a arr1 + arr1\n",
        "\n",
        "np.matmul(arr1, arr1.transpose()) # igual arr1 @ arr1.transpose()\n",
        "\n",
        "np.multiply(arr1, arr1) # arr1 * arr1\n",
        "\n",
        "np.equal(arr1, arr1 * 0) # igual arr1 == arr1\n",
        "\n",
        "np.logical_and(arr1>0, arr1%2==0) # igual  (arr1 > 0) & (arr1 %2==0)\n"
      ]
    },
    {
      "cell_type": "markdown",
      "metadata": {},
      "source": [
        "### Subseteo de arrays"
      ]
    },
    {
      "cell_type": "code",
      "execution_count": null,
      "metadata": {},
      "outputs": [],
      "source": [
        "arr1 = np.array(range(12)).reshape(3,4)\n",
        "\n",
        "print(arr1[1, 0])\n"
      ]
    },
    {
      "cell_type": "code",
      "execution_count": null,
      "metadata": {},
      "outputs": [],
      "source": [
        "arr1 = np.array(list(\"CTACTGATGCCTGACTG\"))\n",
        "index = [\n",
        "  [0, 1, 2],\n",
        "  [1, 2, 3],\n",
        "  [2, 3, 4],\n",
        "  [3, 4, 5]\n",
        "]\n",
        "arr1[index]"
      ]
    },
    {
      "cell_type": "markdown",
      "metadata": {
        "id": "cQq3ezDc78fT"
      },
      "source": [
        "## Introducción a Pandas\n",
        "\n",
        "Permite trabajar con:\n",
        "- Series de datos (Series)\n",
        "- Datos tabulares (Dataframe)\n",
        "\n",
        "Referencia:\n",
        "- https://pandas.pydata.org/docs/reference/index.html\n",
        "- Cheat Sheet : https://pandas.pydata.org/Pandas_Cheat_Sheet.pdf"
      ]
    },
    {
      "cell_type": "markdown",
      "metadata": {
        "id": "pAG7T23E78fT"
      },
      "source": [
        "### Crear Series y DataFrame\n",
        "\n",
        "- Dataframe\n",
        "  - desde dicctionario\n",
        "  - desde listas\n",
        "  - desde un archivo\n",
        "- Series\n",
        "  - Desde una lista"
      ]
    },
    {
      "cell_type": "code",
      "execution_count": null,
      "metadata": {},
      "outputs": [],
      "source": [
        "import pandas as pd\n",
        "\n",
        "# Crear desde un diccionario\n",
        "data = {\n",
        "  \"uniprot\": ['P13551', 'P03129', 'P14738', 'P06179', 'P26477', 'P56206', 'P02929', 'P27001', 'P11409'],\n",
        "  \"name\": [\n",
        "    'Elongation factor G', 'Protein E7', 'Fibronectin-binding protein A', 'Flagellin',\n",
        "    'Negative regulator of flagellin synthesis', 'Glycine--tRNA ligase', 'Protein TonB',\n",
        "    'Phenylalanine--tRNA ligase alpha subunit', 'Modification methylase PvuII'\n",
        "  ],\n",
        "  \"species\": [\n",
        "    'Thermus thermophilus', 'Human papillomavirus type 16', 'Staphylococcus aureus',\n",
        "    'Salmonella typhimurium', 'Salmonella typhimurium ', 'Thermus thermophilus',\n",
        "    'Escherichia coli', 'Thermus thermophilus', 'Proteus hauseri'\n",
        "  ],\n",
        "  \"length\": [691, 98, 1018, 495, 97, 506, 239, 350, 336],\n",
        "  \"disorder_content\": [8.54, 52.04, 12.77, 21.21, 100.0, 17.0, 20.5, 28.86, 11.31],\n",
        "}\n",
        "\n",
        "df = pd.DataFrame(data)\n",
        "\n",
        "df"
      ]
    },
    {
      "cell_type": "code",
      "execution_count": null,
      "metadata": {},
      "outputs": [],
      "source": [
        "# Desde una lista\n",
        "data = [\n",
        "  (\"P13551\", \"Elongation factor G\", \"Thermus thermophilus\", 691, 8.54),\n",
        "  (\"P03129\", \"Protein E7\", \"Human papillomavirus type 16\", 98, 52.04),\n",
        "  (\"P14738\", \"Fibronectin-binding protein A\", \"Staphylococcus aureus\", 1018, 12.77),\n",
        "  (\"P06179\", \"Flagellin\", \"Salmonella typhimurium\", 495, 21.21),\n",
        "  (\"P26477\", \"Negative regulator of flagellin synthesis\", \"Salmonella typhimurium \", 97, 100.00),\n",
        "  (\"P56206\", \"Glycine--tRNA ligase\", \"Thermus thermophilus\", 506, 17.00),\n",
        "  (\"P02929\", \"Protein TonB\", \"Escherichia coli\", 239, 20.50),\n",
        "  (\"P27001\", \"Phenylalanine--tRNA ligase alpha subunit\", \"Thermus thermophilus\", 350, 28.86),\n",
        "  (\"P11409\", \"Modification methylase PvuII\", \"Proteus hauseri\", 336, 11.31),\n",
        "]\n",
        "\n",
        "df = pd.DataFrame(data, columns=[\"uniprot\", \"name\", \"species\", \"length\", \"disorder_content\"])\n",
        "df"
      ]
    },
    {
      "cell_type": "code",
      "execution_count": null,
      "metadata": {},
      "outputs": [],
      "source": [
        "# Desde un archivo\n",
        "\n",
        "df = pd.from_csv(\"nombre de archivo.csv\")"
      ]
    },
    {
      "cell_type": "code",
      "execution_count": null,
      "metadata": {},
      "outputs": [],
      "source": [
        "# Crear un serie\n",
        "\n",
        "serie1 = pd.Series([\"P00404\", \"Protein ot founnd\", \"Organism not found\", 0, 0])"
      ]
    },
    {
      "cell_type": "markdown",
      "metadata": {
        "id": "DAzq6LTl78fV"
      },
      "source": [
        "### Cambiar la forma de un Dataframe\n",
        "\n",
        "- shape\n",
        "- melt\n",
        "- pivot\n",
        "- concat"
      ]
    },
    {
      "cell_type": "markdown",
      "metadata": {},
      "source": [
        "#### Ver las dimensiones de un DataFrame"
      ]
    },
    {
      "cell_type": "code",
      "execution_count": null,
      "metadata": {},
      "outputs": [],
      "source": [
        "data = {\n",
        "  \"uniprot\": ['P13551', 'P03129', 'P14738'],\n",
        "  \"length\": [691, 98, 1018],\n",
        "  \"dominios\": [2, 1, 4],\n",
        "  \"low_complexity_regions\": [0, 1, 2],\n",
        "}\n",
        "df = pd.DataFrame(data)\n",
        "display(df)\n",
        "\n",
        "df.shape"
      ]
    },
    {
      "cell_type": "markdown",
      "metadata": {},
      "source": [
        "#### Pasar de formato ancho (wide) a largo (long)"
      ]
    },
    {
      "cell_type": "code",
      "execution_count": null,
      "metadata": {},
      "outputs": [],
      "source": [
        "\n",
        "melted = df.melt(\n",
        "  value_vars=[\"length\", \"dominios\", \"low_complexity_regions\"],\n",
        "  id_vars = \"uniprot\",\n",
        "  var_name = \"property\"\n",
        ")\n",
        "\n",
        "display(melted)\n"
      ]
    },
    {
      "cell_type": "code",
      "execution_count": null,
      "metadata": {},
      "outputs": [],
      "source": [
        "# Pasar de formato ancho (wide) a largo (long)\n",
        "df.melt(\n",
        "  value_vars=[\"length\", \"dominios\"],\n",
        "  id_vars = [\"uniprot\", \"low_complexity_regions\"],\n",
        "  var_name = \"property\",\n",
        ")\n"
      ]
    },
    {
      "cell_type": "markdown",
      "metadata": {},
      "source": [
        "#### Pasar de formato largo(long) a ancho(wide)"
      ]
    },
    {
      "cell_type": "code",
      "execution_count": null,
      "metadata": {},
      "outputs": [],
      "source": [
        "melted.pivot(\n",
        "  index=[\"uniprot\"],\n",
        "  columns=[\"property\"],\n",
        "  values = [\"value\"]\n",
        ")"
      ]
    },
    {
      "cell_type": "markdown",
      "metadata": {},
      "source": [
        "#### Concatenar dataframes"
      ]
    },
    {
      "cell_type": "code",
      "execution_count": null,
      "metadata": {},
      "outputs": [],
      "source": [
        "df1 = pd.DataFrame(\n",
        "  [\n",
        "    (\"P26477\", \"Negative regulator of flagellin synthesis\", \"Salmonella typhimurium \", 97, 100.00),\n",
        "    (\"P56206\", \"Glycine--tRNA ligase\", \"Thermus thermophilus\", 506, 17.00),\n",
        "    (\"P02929\", \"Protein TonB\", \"Escherichia coli\", 239, 20.50),\n",
        "    (\"P27001\", \"Phenylalanine--tRNA ligase alpha subunit\", \"Thermus thermophilus\", 350, 28.86),\n",
        "    (\"P11409\", \"Modification methylase PvuII\", \"Proteus hauseri\", 336, 11.31),\n",
        "  ],\n",
        "  columns=[\"uniprot\", \"name\", \"species\", \"length\", \"disorder_content\"]\n",
        ")\n",
        "\n",
        "df2 = pd.DataFrame(\n",
        "  [\n",
        "    (\"P13551\", \"Elongation factor G\", \"Thermus thermophilus\", 691, 8.54),\n",
        "    (\"P03129\", \"Protein E7\", \"Human papillomavirus type 16\", 98, 52.04),\n",
        "    (\"P14738\", \"Fibronectin-binding protein A\", \"Staphylococcus aureus\", 1018, 12.77),\n",
        "    (\"P06179\", \"Flagellin\", \"Salmonella typhimurium\", 495, 21.21),\n",
        "  ],\n",
        "  columns=[\"uniprot\", \"name\", \"species\", \"length\", \"disorder_content\"]\n",
        ")\n",
        "\n",
        "display(df1)\n",
        "display(df2)"
      ]
    },
    {
      "cell_type": "code",
      "execution_count": null,
      "metadata": {},
      "outputs": [],
      "source": [
        "pd.concat([df1, df2])"
      ]
    },
    {
      "cell_type": "markdown",
      "metadata": {},
      "source": [
        "### Cambiar el índice de un DataFrame\n"
      ]
    },
    {
      "cell_type": "code",
      "execution_count": null,
      "metadata": {},
      "outputs": [],
      "source": [
        "df = df1.set_index(\"uniprot\")\n",
        "df"
      ]
    },
    {
      "cell_type": "markdown",
      "metadata": {
        "id": "iY7VILTs78fV"
      },
      "source": [
        "### Subsetting\n",
        "\n",
        "- Seleccionar filas\n",
        "- Seleccionar columas\n",
        "- Seleccionar filas y columnas"
      ]
    },
    {
      "cell_type": "code",
      "execution_count": null,
      "metadata": {},
      "outputs": [],
      "source": [
        "# Seleccionar filas\n",
        "\n",
        "## por nombre del indice\n",
        "df.loc[\"P26477\", :]\n",
        "\n",
        "df.loc[[\"P26477\", \"P56206\"], :]\n",
        "\n",
        "## por la posición\n",
        "display(df.iloc[0, :])\n",
        "\n",
        "display(df.iloc[[0], :]) # Cual es la diferencia.\n"
      ]
    },
    {
      "cell_type": "code",
      "execution_count": null,
      "metadata": {},
      "outputs": [],
      "source": [
        "# Seleccionar Columnas\n",
        "\n",
        "## Por nombre de la columna\n",
        "\n",
        "df[\"name\"]\n",
        "\n",
        "df.name\n",
        "\n",
        "df.loc[:, \"name\"]\n",
        "\n",
        "df.loc[:, [\"name\", \"length\"]]\n",
        "\n",
        "## Por posición\n",
        "\n",
        "df.iloc[:, 0]"
      ]
    },
    {
      "cell_type": "code",
      "execution_count": null,
      "metadata": {},
      "outputs": [],
      "source": [
        "# Seleccionar filas y columnas\n",
        "\n",
        "# por nombre\n",
        "df.loc[[\"P26477\", \"P02929\"], [\"name\", \"species\"]]\n",
        "\n",
        "# por posición\n",
        "df.iloc[[0, 2], [0, 2]]\n",
        "\n",
        "# Alternativas\n",
        "df.loc[[\"P26477\", \"P02929\"], :].iloc[:, [0, 2]]\n",
        "df.loc[[\"P26477\", \"P02929\"], :][[\"name\", \"species\"]]\n"
      ]
    },
    {
      "cell_type": "markdown",
      "metadata": {
        "id": "92Tv3-QK78fW"
      },
      "source": [
        "### Combinar Dataframes"
      ]
    },
    {
      "cell_type": "code",
      "execution_count": null,
      "metadata": {},
      "outputs": [],
      "source": [
        "data1 = [\n",
        "  (\"P13551\", \"Elongation factor G\", \"Thermus thermophilus\"),\n",
        "  (\"P03129\", \"Protein E7\", \"Human papillomavirus type 16\"),\n",
        "  (\"P14738\", \"Fibronectin-binding protein A\", \"Staphylococcus aureus\"),\n",
        "  (\"P06179\", \"Flagellin\", \"Salmonella typhimurium\"),\n",
        "  (\"P26477\", \"Negative regulator of flagellin synthesis\", \"Salmonella typhimurium\"),\n",
        "  (\"P56206\", \"Glycine--tRNA ligase\", \"Thermus thermophilus\"),\n",
        "  (\"P02929\", \"Protein TonB\", \"Escherichia coli\"),\n",
        "  (\"P27001\", \"Phenylalanine--tRNA ligase alpha subunit\", \"Thermus thermophilus\"),\n",
        "  (\"P11409\", \"Modification methylase PvuII\", \"Proteus hauseri\"),\n",
        "]\n",
        "\n",
        "df1 = pd.DataFrame(data1, columns=[\"uniprot\", \"name\", \"species\"])\n",
        "display(df1)\n",
        "\n",
        "\n",
        "data2 = [\n",
        "  (\"P56206\", 506, 17.00),\n",
        "  (\"P02929\", 239, 20.50),\n",
        "  (\"P27001\", 350, 28.86),\n",
        "  (\"P11409\", 336, 11.31),\n",
        "  (\"P13551\", 691, 8.54),\n",
        "  (\"P03129\", 98, 52.04),\n",
        "  (\"P14738\", 1018, 12.77),\n",
        "  (\"P06179\", 495, 21.21),\n",
        "  (\"P26477\", 97, 100.00),\n",
        "]\n",
        "\n",
        "df2 = pd.DataFrame(data2, columns=[\"uniprot\", \"length\", \"disorder_content\"])\n",
        "display(df2)\n",
        "\n",
        "\n"
      ]
    },
    {
      "cell_type": "code",
      "execution_count": null,
      "metadata": {},
      "outputs": [],
      "source": [
        "merged = pd.merge(\n",
        "  df1,\n",
        "  df2,\n",
        "  on=\"uniprot\",\n",
        "  how=\"inner\"\n",
        ")\n",
        "merged"
      ]
    },
    {
      "cell_type": "markdown",
      "metadata": {},
      "source": [
        "### Agregar columnas"
      ]
    },
    {
      "cell_type": "code",
      "execution_count": null,
      "metadata": {},
      "outputs": [],
      "source": [
        "merged2 = merged\n",
        "\n",
        "\n",
        "merged2[\"disordered_positions\"] = (merged2[\"length\"] * merged2[\"disorder_content\"]/100).round()\n",
        "merged2\n"
      ]
    },
    {
      "cell_type": "code",
      "execution_count": null,
      "metadata": {},
      "outputs": [],
      "source": [
        "merged3 = merged.assign(disordered_positions= lambda df: (df[\"length\"] * df[\"disorder_content\"]/100).round())\n",
        "merged3"
      ]
    },
    {
      "cell_type": "markdown",
      "metadata": {
        "id": "CSLnCxev78fW"
      },
      "source": [
        "### Resumen de datos\n",
        "\n",
        "- value_counts\n",
        "- describe\n",
        "- info"
      ]
    },
    {
      "cell_type": "code",
      "execution_count": null,
      "metadata": {},
      "outputs": [],
      "source": [
        "merged3.species.value_counts()"
      ]
    },
    {
      "cell_type": "code",
      "execution_count": null,
      "metadata": {},
      "outputs": [],
      "source": [
        "merged3.describe()"
      ]
    },
    {
      "cell_type": "code",
      "execution_count": null,
      "metadata": {},
      "outputs": [],
      "source": [
        "merged3.info()"
      ]
    },
    {
      "cell_type": "markdown",
      "metadata": {
        "id": "LgFxLUkV78fW"
      },
      "source": [
        "### Agrupar datos\n",
        "\n",
        "- groupby\n",
        "- aggregate"
      ]
    },
    {
      "cell_type": "code",
      "execution_count": null,
      "metadata": {},
      "outputs": [],
      "source": [
        "(\n",
        "  merged3[[\"species\", \"length\", \"disorder_content\", \"disordered_positions\"]]\n",
        "    .groupby([\"species\"])\n",
        "    .max()\n",
        ")"
      ]
    },
    {
      "cell_type": "code",
      "execution_count": null,
      "metadata": {},
      "outputs": [],
      "source": [
        "(\n",
        "  merged3\n",
        "    .groupby([\"species\"])\n",
        "    .apply(\n",
        "      lambda rows: rows[\"uniprot\"].str.cat(sep=\"/\")\n",
        "    )\n",
        ")"
      ]
    },
    {
      "cell_type": "code",
      "execution_count": null,
      "metadata": {},
      "outputs": [],
      "source": [
        "# aggregate\n",
        "merged3.agg([min, max, lambda x: x.iloc[0]])\n"
      ]
    },
    {
      "cell_type": "markdown",
      "metadata": {
        "id": "ryt4tAJd78fW"
      },
      "source": [
        "## Introducción a Matplotlib\n",
        "\n",
        "- Creación de gráficos\n",
        "- Referencia\n",
        "  - https://matplotlib.org/stable/api/index.html\n",
        "- Ejemplos:\n",
        "  - https://matplotlib.org/stable/gallery/index.html"
      ]
    },
    {
      "cell_type": "markdown",
      "metadata": {
        "id": "ZUCg3TRv78fW"
      },
      "source": [
        "### Crear plots y axes"
      ]
    },
    {
      "cell_type": "code",
      "execution_count": null,
      "metadata": {},
      "outputs": [],
      "source": [
        "import matplotlib.pyplot as plt\n",
        "\n",
        "titulos_internacionales = {\n",
        "  'R. Madrid': 23,\n",
        "  'Barc.': 19,\n",
        "  'Liv.': 13,\n",
        "  'B. Munich': 10,\n",
        "  'Juve.': 9\n",
        "}\n",
        "\n",
        "names = list(titulos_internacionales.keys())\n",
        "values = list(titulos_internacionales.values())\n",
        "\n",
        "fig, axs = plt.subplots(1, 3, figsize=(16, 6), sharey=True)\n",
        "\n",
        "axs[0].bar(names, values)\n",
        "axs[1].scatter(names, values)\n",
        "axs[2].plot(names, values)\n",
        "\n",
        "fig.suptitle('Equipos con más títulos internacionales.')\n"
      ]
    },
    {
      "cell_type": "markdown",
      "metadata": {
        "id": "8zMCxTn_78fX"
      },
      "source": [
        "### Anotar un plot"
      ]
    },
    {
      "cell_type": "code",
      "execution_count": null,
      "metadata": {},
      "outputs": [],
      "source": [
        "axs[0].annotate(\n",
        "  '14 champion leagues', (0.2, 20),\n",
        "  xytext=(4.5, 22),\n",
        "  arrowprops=dict(facecolor='black', shrink=0.1),\n",
        "  fontsize=16,\n",
        "  horizontalalignment='right',\n",
        "  verticalalignment='top'\n",
        ")\n",
        "fig"
      ]
    },
    {
      "cell_type": "markdown",
      "metadata": {
        "id": "AZeOwhMw78fX"
      },
      "source": [
        "## Introducción a Scipy\n",
        "\n",
        "- Computación científica en python.\n",
        "  - Estadística\n",
        "  - Métodos de optimization\n",
        "  - Resolución de ecuaciones diferenciales\n",
        "  - etc.\n",
        "- Referencia:\n",
        "  - https://docs.scipy.org/doc/scipy/reference/stats.html"
      ]
    },
    {
      "cell_type": "markdown",
      "metadata": {
        "id": "WOWJ853I78fX"
      },
      "source": [
        "- Distribuciones de probabilidad\n",
        "    - continuas\n",
        "    - multivariadas\n",
        "    - discretas\n",
        "- Estadísticos de resumen\n",
        "- Correlación\n",
        "- Test estadísticos\n",
        "- Ajuste de datos a una distribución\n",
        "\n"
      ]
    },
    {
      "cell_type": "markdown",
      "metadata": {
        "id": "PXLB0oM378fX"
      },
      "source": [
        "## Introducción a SymPy\n",
        "\n",
        "- Computación simbólica\n",
        "- Referencia:\n",
        "  - https://www.sympy.org/en/index.html\n"
      ]
    },
    {
      "cell_type": "markdown",
      "metadata": {
        "id": "vp1v_kB_78fY"
      },
      "source": [
        "### Cálculo de derivadas"
      ]
    },
    {
      "cell_type": "code",
      "execution_count": null,
      "metadata": {},
      "outputs": [],
      "source": [
        "import sympy as sy\n",
        "\n",
        "# Declaro varaibles que represenan simbolos matemáticos.\n",
        "x, y, z = sy.symbols('x y z')\n",
        "\n",
        "\n",
        "# Declaron una función\n",
        "f = sy.cos(x)\n",
        "\n",
        "# Calculo la derivada\n",
        "dfdx = sy.diff(f, x)\n",
        "\n",
        "dfdx"
      ]
    },
    {
      "cell_type": "markdown",
      "metadata": {
        "id": "csU9W6XK78fY"
      },
      "source": [
        "### Cálculo de integrales"
      ]
    },
    {
      "cell_type": "code",
      "execution_count": null,
      "metadata": {},
      "outputs": [],
      "source": [
        "f = sy.cos(x)\n",
        "\n",
        "Sf = sy.integrate(f, x)\n",
        "\n",
        "Sf"
      ]
    },
    {
      "cell_type": "markdown",
      "metadata": {
        "id": "I4NDB4rQ78fY"
      },
      "source": [
        "### Resolución de ecuaciones"
      ]
    },
    {
      "cell_type": "code",
      "execution_count": null,
      "metadata": {},
      "outputs": [],
      "source": [
        "f1 = sy.cos(x)\n",
        "f2 = sy.sin(x)\n",
        "\n",
        "eq = sy.Eq(f1, f2)\n",
        "\n",
        "sy.solveset(eq, x)\n"
      ]
    },
    {
      "cell_type": "markdown",
      "metadata": {
        "id": "PhXh1UEn78fY"
      },
      "source": [
        "## "
      ]
    }
  ],
  "metadata": {
    "colab": {
      "provenance": []
    },
    "kernelspec": {
      "display_name": "Python 3.9.4 ('.venv': venv)",
      "language": "python",
      "name": "python3"
    },
    "language_info": {
      "codemirror_mode": {
        "name": "ipython",
        "version": 3
      },
      "file_extension": ".py",
      "mimetype": "text/x-python",
      "name": "python",
      "nbconvert_exporter": "python",
      "pygments_lexer": "ipython3",
      "version": "3.9.4"
    },
    "orig_nbformat": 4,
    "vscode": {
      "interpreter": {
        "hash": "2642d409aca2f3e50c4cc7e12f906abb96a179c2b76bcb58c2b6a9943c6a4da3"
      }
    }
  },
  "nbformat": 4,
  "nbformat_minor": 0
}
