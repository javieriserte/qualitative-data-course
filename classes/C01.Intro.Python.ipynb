{
  "cells": [
    {
      "cell_type": "markdown",
      "metadata": {
        "id": "h6dUnzNL78fK"
      },
      "source": [
        "# Análisis de datos cualitativos"
      ]
    },
    {
      "cell_type": "markdown",
      "metadata": {
        "id": "Zf-jT3lg78fL"
      },
      "source": [
        "## Introducción a Python"
      ]
    },
    {
      "cell_type": "markdown",
      "metadata": {
        "id": "0JpBJSaU78fM"
      },
      "source": [
        "### Variables y operaciones básicas"
      ]
    },
    {
      "cell_type": "code",
      "execution_count": 3,
      "metadata": {
        "colab": {
          "base_uri": "https://localhost:8080/"
        },
        "id": "h7YyV2u2upGG",
        "outputId": "5610b43f-943f-4730-c6e1-31244c41eda5"
      },
      "outputs": [
        {
          "data": {
            "text/plain": [
              "-11"
            ]
          },
          "execution_count": 3,
          "metadata": {},
          "output_type": "execute_result"
        }
      ],
      "source": [
        "var = \"Bienvenidos al curso de analisis de datos cualitativos\"\n",
        "\n",
        "var1 = 12\n",
        "var2 = 23\n",
        "\n",
        "var1 + var2\n",
        "var1 - var2"
      ]
    },
    {
      "cell_type": "markdown",
      "metadata": {},
      "source": [
        "### Tipos de datos\n",
        "\n",
        "En Python, los tipos de datos básicos incluyen:\n",
        "\n",
        "- Enteros (int): Representan números enteros, positivos o negativos, sin parte decimal. Por ejemplo: 5, -10, 1000.\n",
        "\n",
        "- Flotantes (float): Representan números reales con parte decimal. Por ejemplo: 3.14, 2.718, 10.0.\n",
        "\n",
        "- Booleanos (bool): Representan valores de verdad, es decir, verdadero (True) o falso (False). Se utilizan en operaciones lógicas y de control de flujo.\n",
        "\n",
        "- Cadenas de caracteres (str): Representan secuencias de caracteres, como texto. Se pueden definir utilizando comillas simples (') o dobles (\"). Por ejemplo: 'Hola mundo', \"Python es genial\"."
      ]
    },
    {
      "cell_type": "markdown",
      "metadata": {
        "id": "VkCwbcGr78fN"
      },
      "source": [
        "### Estructuras de datos"
      ]
    },
    {
      "cell_type": "code",
      "execution_count": 23,
      "metadata": {
        "id": "YENyL6auvcul"
      },
      "outputs": [],
      "source": [
        "# Listas\n",
        "lista = [1, 2, 3, 4, 5]\n",
        "lista.append(6)\n",
        "lista.remove(1)\n",
        "a = lista[0]\n",
        "\n",
        "# Diccionarios\n",
        "data = {\n",
        "    \"a\": 1,\n",
        "    \"b\": 2,\n",
        "    \"c\": 3\n",
        "}\n",
        "data.get(\"d\", 0)\n",
        "\n",
        "# Sets (conjuntos)\n",
        "set1 = set([1, 2, 1, 3])\n",
        "set2 = set([3, 4, 5, 6])\n",
        "set3 = set2 - set1\n",
        "set3\n",
        "\n",
        "# Tuplas\n",
        "tupla = (1, 2, 3)\n",
        "tupla\n",
        "\n",
        "# Las tuplas pueden ser claves en diccionarios.\n",
        "d1 = {\n",
        "    tupla: \"mi primer tupla\"\n",
        "}"
      ]
    },
    {
      "cell_type": "markdown",
      "metadata": {
        "id": "LCuChE8178fN"
      },
      "source": [
        "### Loops y condicionales"
      ]
    },
    {
      "cell_type": "code",
      "execution_count": 32,
      "metadata": {
        "colab": {
          "base_uri": "https://localhost:8080/"
        },
        "id": "UiLtY3Y_z7w3",
        "outputId": "2e13582f-fcaf-4a85-fc18-6a3c2954afa0"
      },
      "outputs": [
        {
          "name": "stdout",
          "output_type": "stream",
          "text": [
            "El valor 1 esta asociado a la clave a\n",
            "El valor 2 esta asociado a la clave b\n",
            "El valor 3 esta asociado a la clave c\n"
          ]
        }
      ],
      "source": [
        "for a in data:\n",
        "  value = data[a]\n",
        "  print(f\"El valor {value} esta asociado a la clave {a}\")"
      ]
    },
    {
      "cell_type": "code",
      "execution_count": 34,
      "metadata": {
        "colab": {
          "base_uri": "https://localhost:8080/"
        },
        "id": "3MNrDS6r1fzD",
        "outputId": "2b5e0eab-a7f0-4b4d-b843-bfe2796f7759"
      },
      "outputs": [
        {
          "name": "stdout",
          "output_type": "stream",
          "text": [
            "El valor 1 está asociado a la clave a\n",
            "El valor 2 está asociado a la clave b\n",
            "El valor 3 está asociado a la clave c\n"
          ]
        }
      ],
      "source": [
        "for key, value in data.items():\n",
        "  print(f\"El valor {value} está asociado a la clave {key}\")"
      ]
    },
    {
      "cell_type": "code",
      "execution_count": 35,
      "metadata": {
        "colab": {
          "base_uri": "https://localhost:8080/"
        },
        "id": "TMHOHi7615c7",
        "outputId": "8bdbd15a-2ce3-426d-a2a7-f500bb41fc9b"
      },
      "outputs": [
        {
          "name": "stdout",
          "output_type": "stream",
          "text": [
            "0\n",
            "1\n",
            "2\n",
            "3\n",
            "4\n",
            "5\n",
            "6\n",
            "7\n",
            "8\n",
            "9\n"
          ]
        }
      ],
      "source": [
        "for i in range(10):\n",
        "  print(i)"
      ]
    },
    {
      "cell_type": "code",
      "execution_count": 38,
      "metadata": {
        "colab": {
          "base_uri": "https://localhost:8080/"
        },
        "id": "-YNsdCH92N35",
        "outputId": "9de59670-a9fd-47e4-8ed0-fa5eb6d5f4da"
      },
      "outputs": [
        {
          "name": "stdout",
          "output_type": "stream",
          "text": [
            "La variable es menor o igual a 10\n"
          ]
        }
      ],
      "source": [
        "var1 = 10\n",
        "if var1 > 10:\n",
        "  print(\"La variable es mayor a 10\")\n",
        "else:\n",
        "  print(\"La variable es menor o igual a 10\")"
      ]
    },
    {
      "cell_type": "markdown",
      "metadata": {
        "id": "4KD7Mg8R78fO"
      },
      "source": [
        "### Funciones y funciones anónimas"
      ]
    },
    {
      "cell_type": "markdown",
      "metadata": {},
      "source": [
        "#### Funciones explicitas"
      ]
    },
    {
      "cell_type": "code",
      "execution_count": 40,
      "metadata": {
        "colab": {
          "base_uri": "https://localhost:8080/"
        },
        "id": "QPsUsQz62-Y4",
        "outputId": "90310aab-d9fa-4c2e-b731-71f43009a41f"
      },
      "outputs": [
        {
          "data": {
            "text/plain": [
              "25"
            ]
          },
          "execution_count": 40,
          "metadata": {},
          "output_type": "execute_result"
        }
      ],
      "source": [
        "var1 = 5\n",
        "\n",
        "def elevar_al_cuadrado(n):\n",
        "  return n**2\n",
        "\n",
        "elevar_al_cuadrado(var1)"
      ]
    },
    {
      "cell_type": "markdown",
      "metadata": {},
      "source": [
        "#### Funciones anónimas"
      ]
    },
    {
      "cell_type": "code",
      "execution_count": 43,
      "metadata": {
        "colab": {
          "base_uri": "https://localhost:8080/"
        },
        "id": "FzAJr9Ge3vCl",
        "outputId": "ee0d2de2-2517-4022-b336-bcf26f8287dd"
      },
      "outputs": [
        {
          "data": {
            "text/plain": [
              "4"
            ]
          },
          "execution_count": 43,
          "metadata": {},
          "output_type": "execute_result"
        }
      ],
      "source": [
        "fn = lambda n: n**2\n",
        "fn(2)"
      ]
    },
    {
      "cell_type": "markdown",
      "metadata": {
        "id": "jc8s38pW78fO"
      },
      "source": [
        "### Clases y objetos"
      ]
    },
    {
      "cell_type": "markdown",
      "metadata": {},
      "source": [
        "En la programación orientada a objetos, los objetos son entidades que:\n",
        "\n",
        "- combinan datos y de comportamiento.\n",
        "- se usan para modelar entidades complejas."
      ]
    },
    {
      "cell_type": "code",
      "execution_count": 5,
      "metadata": {
        "colab": {
          "base_uri": "https://localhost:8080/"
        },
        "id": "i_SDS9gM4u4C",
        "outputId": "5b1b5f50-fc43-4d9b-9586-3fa69a364143"
      },
      "outputs": [
        {
          "name": "stdout",
          "output_type": "stream",
          "text": [
            "Hola, mi nombre es Juan\n",
            "Hola, mi nombre es Pedro\n",
            "Juan saluda a Pedro\n",
            "Juan es más bajo que Pedro\n"
          ]
        }
      ],
      "source": [
        "class Persona:\n",
        "  def __init__(self, altura, peso, nombre):\n",
        "    # Variables de instancia, o atributos.\n",
        "    self.altura = altura\n",
        "    self.peso = peso\n",
        "    self.nombre = nombre\n",
        "  # Métodos...\n",
        "  def presentarse(self):\n",
        "    print(f\"Hola, mi nombre es {self.nombre}\")\n",
        "  def saludar(self, otra_persona):\n",
        "    print(f\"{self.nombre} saluda a {otra_persona.nombre}\")\n",
        "  def comparar_altura(self, otra_persona):\n",
        "    if self.altura > otra_persona.altura:\n",
        "      print(f\"{self.nombre} es más alto que {otra_persona.nombre}\")\n",
        "    elif self.altura < otra_persona.altura:\n",
        "      print(f\"{self.nombre} es más bajo que {otra_persona.nombre}\")\n",
        "    else:\n",
        "      print(f\"{self.nombre} tiene la misma altura que {otra_persona.nombre}\")\n",
        "\n",
        "\n",
        "p1 = Persona(180, 75, \"Juan\")\n",
        "p2 = Persona(190, 85, \"Pedro\")\n",
        "\n",
        "p1.presentarse()\n",
        "p2.presentarse()\n",
        "p1.saludar(p2)\n",
        "p1.comparar_altura(p2)"
      ]
    },
    {
      "cell_type": "markdown",
      "metadata": {
        "id": "nuXpbP_k78fP"
      },
      "source": [
        "## Ejercicios de practica de python"
      ]
    },
    {
      "cell_type": "markdown",
      "metadata": {
        "id": "dm8bbJIT78fQ"
      },
      "source": [
        "1. Imprimir la suma del número actual y el anterior en una lista\n",
        "2. Eliminar los primeros n caracteres de un string\n",
        "3. Contar la cantidad de veces que aparece cada elemento en una lista\n",
        "4. Imprimir los números de una lista que son divisibles por cinco\n",
        "5. Imprimir el patrón, hasta una altura arbitraria:\n",
        "```\n",
        "       *\n",
        "      * *\n",
        "     * * *\n",
        "    * * * *\n",
        "```\n",
        "6. Separar numeros pares e impares de un lista\n",
        "7. Calcular el impuesto de un ingreso según estas reglas:\n",
        "\n",
        "    1. Primeros 100000 pesos -> 0 por ciento\n",
        "    2. 100000 pesos a 200000 pesos -> 5 por ciento,\n",
        "       del exceso sobre tope mínimo de esta categoria,\n",
        "       hasta el tope máximo de esta categoría.\n",
        "       Más lo que corresponda en las categorías previas.\n",
        "    3. 200000 pesos a 250000 pesos -> 10 por ciento\n",
        "       del exceso sobre tope mínimo de esta categoria,\n",
        "       hasta el tope máximo de esta categoría.\n",
        "       Más lo que corresponda en las categorías previas.\n",
        "    4. Más de 250000 -> 25 por ciento\n",
        "       del exceso sobre tope mínimo de esta categoria,\n",
        "       Más lo que corresponda en las categorías previas.\n",
        "\n",
        "8. Dada una frase y posibles anagramas, elegir los correctos.\n",
        "9. Dada la secuencia de una proteína, escribir una función que permita\n",
        "   calcular la frecuencia de aparición de k-mers de la longitud pedida.\n",
        "   El resultado debe ser diccionario.\n",
        "10. Imprimir un gráfico tipo DotPlot para dos secuencias.\n",
        "    Luego, solo mostrar las diagonales que tienen al menos cinco coincidencias."
      ]
    },
    {
      "cell_type": "markdown",
      "metadata": {},
      "source": [
        "### Resolución"
      ]
    },
    {
      "cell_type": "markdown",
      "metadata": {
        "id": "TW3bF-2_Pfs9"
      },
      "source": [
        "1. Imprimir la suma del número actual y el anterior en una lista."
      ]
    },
    {
      "cell_type": "code",
      "execution_count": null,
      "metadata": {
        "id": "kiPIDYipPmmW"
      },
      "outputs": [],
      "source": [
        "l = [1, 2, 3, 4]\n",
        "\n",
        "def ej1(n, lista):\n",
        "  v = lista.index(n)\n",
        "  if v:\n",
        "    print(\"No hay un numero anterior\")\n",
        "    return None\n",
        "  else:\n",
        "    suma = n + lista[v-1]\n",
        "    return suma\n"
      ]
    },
    {
      "cell_type": "code",
      "execution_count": 49,
      "metadata": {
        "colab": {
          "base_uri": "https://localhost:8080/"
        },
        "id": "XKO5Ic_1Q7Oq",
        "outputId": "da562664-91a5-4c69-d6c1-72076de5518b"
      },
      "outputs": [
        {
          "data": {
            "text/plain": [
              "[1, 3, 5, 7]"
            ]
          },
          "execution_count": 49,
          "metadata": {},
          "output_type": "execute_result"
        }
      ],
      "source": [
        "def ej1v2(lista):\n",
        "  resultado = []\n",
        "  for n in lista:\n",
        "    if n == 0:\n",
        "      resultado.append(lista[n])\n",
        "    else:\n",
        "      resultado.append(lista[n] + lista[n-1])\n",
        "  return resultado\n",
        "\n",
        "ej1v2([1, 2, 3, 4])"
      ]
    },
    {
      "cell_type": "code",
      "execution_count": 53,
      "metadata": {
        "colab": {
          "base_uri": "https://localhost:8080/"
        },
        "id": "gjKJKsIKSeeF",
        "outputId": "f03ceb1e-f7e2-4dee-dc38-01cbb64011fb"
      },
      "outputs": [
        {
          "data": {
            "text/plain": [
              "[1, 3, 5, 7]"
            ]
          },
          "execution_count": 53,
          "metadata": {},
          "output_type": "execute_result"
        }
      ],
      "source": [
        "lista = [7,9,5,3]\n",
        "\n",
        "def ej1v2(lista):\n",
        "  numero_anterior = 0\n",
        "  resultado = []\n",
        "  for n in lista:\n",
        "    suma = n + numero_anterior\n",
        "    numero_anterior = n\n",
        "    resultado.append(suma)\n",
        "  return resultado\n",
        "\n",
        "ej1v2([1,2,3,4])"
      ]
    },
    {
      "cell_type": "markdown",
      "metadata": {
        "id": "giUn6dWHTk-a"
      },
      "source": [
        "Eliminar los primeros n caracteres de un string"
      ]
    },
    {
      "cell_type": "code",
      "execution_count": 55,
      "metadata": {
        "colab": {
          "base_uri": "https://localhost:8080/",
          "height": 35
        },
        "id": "FlA5PRWtTmeS",
        "outputId": "4f4ac552-5379-4073-dbdf-d100aade02e0"
      },
      "outputs": [
        {
          "data": {
            "application/vnd.google.colaboratory.intrinsic+json": {
              "type": "string"
            },
            "text/plain": [
              "' es un string'"
            ]
          },
          "execution_count": 55,
          "metadata": {},
          "output_type": "execute_result"
        }
      ],
      "source": [
        "s = \"Este es un string\"\n",
        "\n",
        "\" es un string\"\n",
        "\n",
        "def remover_n_caracteres(s, n):\n",
        "  return s[n:]\n",
        "\n",
        "remover_n_caracteres(s, 4)\n"
      ]
    },
    {
      "cell_type": "markdown",
      "metadata": {
        "id": "Q-HxJu3lUiUf"
      },
      "source": [
        "Contar la cantidad de veces que aparece cada elemento en una lista"
      ]
    },
    {
      "cell_type": "code",
      "execution_count": 65,
      "metadata": {
        "colab": {
          "base_uri": "https://localhost:8080/"
        },
        "id": "FNVFEG9nUrcg",
        "outputId": "26974188-d1d0-4d05-8e3e-f9a4f8f37617"
      },
      "outputs": [
        {
          "data": {
            "text/plain": [
              "{1: 3, 2: 2, 3: 1}"
            ]
          },
          "execution_count": 65,
          "metadata": {},
          "output_type": "execute_result"
        }
      ],
      "source": [
        "lista = [1, 2, 3, 1, 1, 2]\n",
        "\n",
        "\n",
        "lista.count(1)\n",
        "\n",
        "def contar_elementos(lista):\n",
        "  for i in lista:\n",
        "    v = lista.count(i)\n",
        "    print(f\"El elemento {i} aparece {v} veces\")\n",
        "\n",
        "# contar_elementos(lista)\n",
        "\n",
        "def contar_elementos_v2(lista):\n",
        "  resultado = {}\n",
        "  for n in set(lista):\n",
        "    resultado[n] = lista.count(n)\n",
        "  return resultado\n",
        "\n",
        "# contar_elementos_v2(lista)\n",
        "\n",
        "def contar_elementos_v3(lista):\n",
        "  resultado = {}\n",
        "  for n in lista:\n",
        "    if n not in resultado:\n",
        "      resultado[n] = 1\n",
        "    else:\n",
        "      resultado[n] += 1\n",
        "  return resultado\n",
        "\n",
        "contar_elementos_v3(lista)\n"
      ]
    },
    {
      "cell_type": "markdown",
      "metadata": {
        "id": "WD_q-AetXkF_"
      },
      "source": [
        "Imprimir los números de una lista que son divisibles por cinco"
      ]
    },
    {
      "cell_type": "code",
      "execution_count": 73,
      "metadata": {
        "colab": {
          "base_uri": "https://localhost:8080/"
        },
        "id": "tnzI5uRnXnaW",
        "outputId": "ebd75954-22b7-460c-a787-da2ef8ee569f"
      },
      "outputs": [
        {
          "data": {
            "text/plain": [
              "[54]"
            ]
          },
          "execution_count": 73,
          "metadata": {},
          "output_type": "execute_result"
        }
      ],
      "source": [
        "lista = [1, 5, 20, 54]\n",
        "\n",
        "def imprimir_divisible_por_cinco(lista):\n",
        "  resultado = []\n",
        "  for i in lista:\n",
        "    if i % 5 == 0:\n",
        "      resultado.append(i)\n",
        "  return resultado\n",
        "\n",
        "def imprimir_divisible_por_cinco_v2(lista):\n",
        "  resultado = [i for i in lista if i % 5 == 0]\n",
        "  return resultado\n",
        "\n",
        "def imprimir_divisible_por_n(lista, n):\n",
        "  resultado = [i for i in lista if i % n == 0]\n",
        "  return resultado\n",
        "\n",
        "imprimir_divisible_por_n(lista, 9)\n",
        "\n",
        "\n"
      ]
    },
    {
      "cell_type": "markdown",
      "metadata": {
        "id": "IUOI-PG4X-tG"
      },
      "source": [
        "Imprimir el patrón, hasta una altura arbitraria:"
      ]
    },
    {
      "cell_type": "code",
      "execution_count": 80,
      "metadata": {
        "colab": {
          "base_uri": "https://localhost:8080/"
        },
        "id": "nb3n1ZyDa-Fd",
        "outputId": "dc06bc8b-9c5d-47a6-a0dc-4ab0afbe701f"
      },
      "outputs": [
        {
          "name": "stdout",
          "output_type": "stream",
          "text": [
            "      * \n",
            "     * * \n",
            "    * * * \n",
            "   * * * * \n",
            "  * * * * * \n",
            " * * * * * * \n",
            "* * * * * * * \n"
          ]
        }
      ],
      "source": [
        "# imprimir_triangulo(3)\n",
        "\n",
        "#  *\n",
        "# * *\n",
        "#* * *\n",
        "\n",
        "def imprimir_triangulo(n):\n",
        "  '''imprime un arbolito simetrico con n numeros de columna'''\n",
        "  for x in range(1, n + 1):\n",
        "    espacios = n - x\n",
        "    palabra = ' ' * int(espacios) + '* ' * x\n",
        "    print(palabra)\n",
        "\n",
        "imprimir_triangulo(7)\n"
      ]
    },
    {
      "cell_type": "markdown",
      "metadata": {
        "id": "87yk1dSKcpyp"
      },
      "source": [
        "Separar numeros pares e impares de un lista\n"
      ]
    },
    {
      "cell_type": "code",
      "execution_count": 83,
      "metadata": {
        "colab": {
          "base_uri": "https://localhost:8080/"
        },
        "id": "2CRuu2fPctx-",
        "outputId": "52b1188e-2857-4aaf-da90-c84c1b2c2494"
      },
      "outputs": [
        {
          "data": {
            "text/plain": [
              "([3, 55], [4, 8, 12])"
            ]
          },
          "execution_count": 83,
          "metadata": {},
          "output_type": "execute_result"
        }
      ],
      "source": [
        "lista = [3, 4, 8 , 12, 55]\n",
        "\n",
        "([3, 55], [4, 8, 12])\n",
        "\n",
        "def separar(lista):\n",
        "  lista_pares = []\n",
        "  lista_impares = []\n",
        "  for n in lista:\n",
        "    if n % 2 == 0:\n",
        "      lista_pares.append(n)\n",
        "    else:\n",
        "      lista_impares.append(n)\n",
        "  return lista_impares, lista_pares\n",
        "\n",
        "def separar_v2(lista):\n",
        "  lista_pares = [x for x in lista if x % 2 == 0]\n",
        "  lista_impares = [x for x in lista if x % 2 != 0]\n",
        "  return lista_impares, lista_pares\n",
        "\n",
        "separar_v2(lista)\n"
      ]
    },
    {
      "cell_type": "markdown",
      "metadata": {
        "id": "VTcFxaeveVvs"
      },
      "source": [
        "Calcular el impuesto de un ingreso según estas reglas:\n",
        "\n",
        "    Primeros 100000 pesos -> 0 por ciento\n",
        "    100000 pesos a 200000 pesos -> 5 por ciento\n",
        "    200000 pesos a 250000 pesos -> 10 por ciento\n",
        "    El resto -> 25 por ciento\n",
        "\n"
      ]
    },
    {
      "cell_type": "markdown",
      "metadata": {
        "id": "hxINaTvygSrx"
      },
      "source": [
        "150000\n",
        " - 0 > 100000\n",
        " - 0.05 * 50000\n",
        "\n",
        " 220000\n",
        " - 0 > 100000\n",
        " - 0.05 * 100000\n",
        " - 0.1 * 20000\n"
      ]
    },
    {
      "cell_type": "code",
      "execution_count": 6,
      "metadata": {
        "colab": {
          "base_uri": "https://localhost:8080/"
        },
        "id": "6MV5KpfqeaFT",
        "outputId": "84618a49-dbcc-4568-b70f-3ae472a9de70"
      },
      "outputs": [
        {
          "data": {
            "text/plain": [
              "8000.0"
            ]
          },
          "execution_count": 6,
          "metadata": {},
          "output_type": "execute_result"
        }
      ],
      "source": [
        "\n",
        "def calc_impuesto_aux(ingreso, tope_min, tope_max, percent):\n",
        "  if ingreso <= tope_min:\n",
        "    return 0\n",
        "  exceso = min(ingreso-tope_min, tope_max)\n",
        "  return exceso * percent / 100\n",
        "\n",
        "def calcular_impuesto(ingreso):\n",
        "  result = [\n",
        "    calc_impuesto_aux(ingreso, 0, 100_000, 0),\n",
        "    calc_impuesto_aux(ingreso, 100_000, 200_000, 5),\n",
        "    calc_impuesto_aux(ingreso, 200_000, 250_000, 10),\n",
        "    calc_impuesto_aux(ingreso, 250_000, float('inf'), 25),\n",
        "  ]\n",
        "  return sum(result)\n",
        "\n",
        "\n",
        "calcular_impuesto(220000)\n"
      ]
    },
    {
      "cell_type": "markdown",
      "metadata": {
        "id": "dx8GYFVzh7GT"
      },
      "source": [
        "Dada una frase y posibles anagramas, elegir los correctos."
      ]
    },
    {
      "cell_type": "code",
      "execution_count": 102,
      "metadata": {
        "colab": {
          "base_uri": "https://localhost:8080/"
        },
        "id": "EMDmb7Tfh9pR",
        "outputId": "70ce5ab9-8a96-4991-a810-bb152b77ba71"
      },
      "outputs": [
        {
          "data": {
            "text/plain": [
              "['Tio Sam me da pan', 'Tio Samm da pena']"
            ]
          },
          "execution_count": 102,
          "metadata": {},
          "output_type": "execute_result"
        }
      ],
      "source": [
        "frase =  \"Istmo de Panama\"\n",
        "posibles_anagramas = [\"Tio Sam me da pan\", \"Tio Sam me da queso\", \"Tio Samm da pena\"]\n",
        "\n",
        "#seleccionar_anagramas(frase, posibles_anagramas)\n",
        "\n",
        "[\"Tio Sam me da pan\", \"Tio Samm da pena\"]\n",
        "\n",
        "def contar_letras(frase):\n",
        "  resultado = {}\n",
        "  frase = frase.lower()\n",
        "  for n in set(frase):\n",
        "    if n != \" \":\n",
        "      resultado[n] = frase.count(n)\n",
        "  return resultado\n",
        "\n",
        "def seleccionar_anagramas(frase, anagramas):\n",
        "  letras_frase = contar_letras(frase)\n",
        "  resultado = []\n",
        "  for a in anagramas:\n",
        "    letras_en_anagrama = contar_letras(a)\n",
        "    if letras_frase == letras_en_anagrama:\n",
        "      resultado.append(a)\n",
        "  return resultado\n",
        "\n",
        "seleccionar_anagramas(frase, posibles_anagramas)"
      ]
    },
    {
      "cell_type": "markdown",
      "metadata": {},
      "source": [
        "9. Dada la secuencia de una proteína, escribir una función que permita\n",
        "   calcular la frecuencia de aparición de k-mers de la longitud pedida.\n",
        "   El resultado debe ser diccionario."
      ]
    },
    {
      "cell_type": "code",
      "execution_count": 19,
      "metadata": {},
      "outputs": [
        {
          "data": {
            "text/plain": [
              "{'MQG': 0.05,\n",
              " 'QGT': 0.05,\n",
              " 'GTY': 0.05,\n",
              " 'TYK': 0.05,\n",
              " 'YKL': 0.05,\n",
              " 'KLP': 0.05,\n",
              " 'LPI': 0.05,\n",
              " 'PIM': 0.05,\n",
              " 'IMN': 0.05,\n",
              " 'MNE': 0.05,\n",
              " 'NED': 0.05,\n",
              " 'EDE': 0.15,\n",
              " 'DED': 0.15,\n",
              " 'EDQ': 0.05,\n",
              " 'DQQ': 0.05,\n",
              " 'QQQ': 0.05}"
            ]
          },
          "execution_count": 19,
          "metadata": {},
          "output_type": "execute_result"
        }
      ],
      "source": [
        "from collections import defaultdict\n",
        "\n",
        "def kmers(sequence:str, kmer_length:int=3) -> dict[str, float]:\n",
        "  if len(sequence) < kmer_length:\n",
        "    return {}\n",
        "  result = defaultdict(float)\n",
        "  total_kmers = 0\n",
        "  for index in range(len(sequence)-kmer_length+1):\n",
        "    kmer = sequence[index: index+kmer_length]\n",
        "    total_kmers += 1\n",
        "    result[kmer] += 1\n",
        "  result = {\n",
        "    kmer: float(count) / total_kmers\n",
        "    for kmer, count in result.items()\n",
        "  }\n",
        "  return result\n",
        "\n",
        "kmers(\"MQGTYKLPIMNEDEDEDEDQQQ\")\n"
      ]
    },
    {
      "cell_type": "markdown",
      "metadata": {},
      "source": [
        "10. Imprimir un gráfico tipo DotPlot para dos secuencias.\n",
        "    Luego, solo mostrar las diagonales que tienen al menos cinco coincidencias."
      ]
    },
    {
      "cell_type": "code",
      "execution_count": 52,
      "metadata": {},
      "outputs": [
        {
          "name": "stdout",
          "output_type": "stream",
          "text": [
            ".......X.................\n",
            "X........................\n",
            ".X.......................\n",
            "..X......................\n",
            "...X.....................\n",
            "....X....X...............\n",
            "........X...........X....\n",
            "....X....X...............\n",
            "........X...........X....\n",
            ".............X.......X...\n",
            "..........X.......X...X..\n",
            ".......................X.\n",
            "......X..........X......X\n",
            "\n",
            ".........................\n",
            "X........................\n",
            ".X.......................\n",
            "..X......................\n",
            "...X.....................\n",
            "....X....................\n",
            ".........................\n",
            ".........................\n",
            "....................X....\n",
            ".....................X...\n",
            "......................X..\n",
            ".......................X.\n",
            "........................X\n"
          ]
        }
      ],
      "source": [
        "def dotplot(seq1:str, seq2: str):\n",
        "  result = [\n",
        "    [int(i==j) for j in seq2]\n",
        "    for i in seq1\n",
        "  ]\n",
        "  return result\n",
        "\n",
        "def count_in_diag(dotplot, x, y):\n",
        "  counter = 0\n",
        "  while dotplot[x][y] == 1 and x>=0 and y>=0:\n",
        "    counter += 1\n",
        "    x -= 1\n",
        "    y -= 1\n",
        "  return counter\n",
        "\n",
        "def update_dotplot(dotplot, x, y, val):\n",
        "  while dotplot[x][y] == 1 and x>=0 and y>=0:\n",
        "    dotplot[x][y] = val\n",
        "    x -= 1\n",
        "    y -= 1\n",
        "\n",
        "def clean_dotplot(dotplot:list[list[int]]) -> list[list[int]]:\n",
        "  h = len(dotplot)\n",
        "  w = len(dotplot[0])\n",
        "  for i in range(h-1, -1, -1):\n",
        "    for j in range(w-1, -1, -1):\n",
        "      if dotplot[i][j]==1:\n",
        "        count = count_in_diag(dotplot, i, j)\n",
        "        if count >= 5:\n",
        "          update_dotplot(dotplot, i, j, count)\n",
        "        else:\n",
        "          update_dotplot(dotplot, i, j, 0)\n",
        "\n",
        "\n",
        "def print_dotplot(dotplot:list[list[int]]):\n",
        "  for row in dotplot:\n",
        "    print(\"\".join(\"X\" if col>0 else \".\" for col in row))\n",
        "\n",
        "dp = dotplot(\"QWERTYCYCKALM\", \"WERTYHMQCYAIPKFGNMASCKALM\")\n",
        "print_dotplot(dp)\n",
        "print(\"\")\n",
        "count_in_diag(dp, 3, 2)\n",
        "clean_dotplot(dp)\n",
        "print_dotplot(dp)"
      ]
    },
    {
      "cell_type": "code",
      "execution_count": 36,
      "metadata": {},
      "outputs": [
        {
          "data": {
            "text/plain": [
              "[9, 8, 7, 6, 5, 4, 3, 2, 1]"
            ]
          },
          "execution_count": 36,
          "metadata": {},
          "output_type": "execute_result"
        }
      ],
      "source": [
        "list(range(10-1, 1-1, -1))"
      ]
    },
    {
      "cell_type": "markdown",
      "metadata": {},
      "source": [
        "### Anotaciones de tipos\n",
        "\n",
        "En las últimas versiones de python, las variables pueden ser anotadas con el\n",
        "tipo que le corresponde.\n",
        "\n",
        "La anotación de tipos sirve para:\n",
        "\n",
        "- Dar mayor claridad al código.\n",
        "- Para que herramientas externas pueden analizar y verificar la consistencia\n",
        "  de tipos en el código."
      ]
    },
    {
      "cell_type": "code",
      "execution_count": 6,
      "metadata": {},
      "outputs": [],
      "source": [
        "# por ejemplo, una variable:\n",
        "\n",
        "var1 = 1\n",
        "\n",
        "# su puede anotar como:\n",
        "\n",
        "var1:int = 1"
      ]
    },
    {
      "cell_type": "code",
      "execution_count": null,
      "metadata": {},
      "outputs": [],
      "source": [
        "# una función\n",
        "\n",
        "def eliminar_pares(numeros):\n",
        "  resultado = []\n",
        "  for n in numeros:\n",
        "    if n%2!=0:\n",
        "      resultado.append(n)\n",
        "  return resultado\n",
        "\n",
        "# Se puede anotar:\n",
        "\n",
        "def eliminar_pares(numeros: list[int]) -> list[int]:\n",
        "  resultado:list[int] = []\n",
        "  for n in numeros:\n",
        "    if n%2!=0:\n",
        "      resultado.append(n)\n",
        "  return resultado\n"
      ]
    },
    {
      "cell_type": "markdown",
      "metadata": {},
      "source": [
        "### Construcción de listas, sets y diccionarios por comprensión.\n",
        "\n"
      ]
    },
    {
      "cell_type": "code",
      "execution_count": 7,
      "metadata": {},
      "outputs": [
        {
          "name": "stdout",
          "output_type": "stream",
          "text": [
            "[1, 4, 9, 16, 25]\n"
          ]
        }
      ],
      "source": [
        "# a partir de la lista1\n",
        "lista1 = [1, 2, 3, 4, 5]\n",
        "\n",
        "# quiero construir la lista de cuadrados.\n",
        "cuadrados = []\n",
        "for x in lista1:\n",
        "  cuadrados.append(x**2)\n",
        "print(cuadrados)\n",
        "\n",
        "# Alternativamente usando comprensión de listas:\n",
        "cuadrados = [x**2 for x in lista1]"
      ]
    },
    {
      "cell_type": "code",
      "execution_count": null,
      "metadata": {},
      "outputs": [
        {
          "name": "stdout",
          "output_type": "stream",
          "text": [
            "[1, 4, 9, 16, 25]\n"
          ]
        }
      ],
      "source": [
        "# a partir de la lista1\n",
        "lista1 = [1, 2, 3, 4, 5]\n",
        "\n",
        "# quiero construir la lista de cuadrados de los números paras.\n",
        "cuadrados_pares = []\n",
        "for x in lista1:\n",
        "  if x%2==0:\n",
        "    cuadrados_pares.append(x**2)\n",
        "print(cuadrados_pares)\n",
        "\n",
        "# Alternativamente usando comprensión de listas:\n",
        "cuadrados_pares = [x**2 for x in lista1 if x%2==0]"
      ]
    },
    {
      "cell_type": "code",
      "execution_count": 8,
      "metadata": {},
      "outputs": [
        {
          "data": {
            "text/plain": [
              "{'Q01970': '1-phosphatidylinositol 4,5-bisphosphate phosphodiesterase beta-3',\n",
              " 'P63104': '14-3-3 protein zeta/delta',\n",
              " 'P60896': '26S proteasome complex subunit SEM1',\n",
              " 'P55036': '26S proteasome non-ATPase regulatory subunit 4'}"
            ]
          },
          "execution_count": 8,
          "metadata": {},
          "output_type": "execute_result"
        }
      ],
      "source": [
        "# A partir de la lista1,\n",
        "lista1 = [\n",
        "  (\"Q01970\", \"1-phosphatidylinositol 4,5-bisphosphate phosphodiesterase beta-3\"),\n",
        "  (\"P63104\", \"14-3-3 protein zeta/delta\"),\n",
        "  (\"P60896\", \"26S proteasome complex subunit SEM1\"),\n",
        "  (\"P55036\", \"26S proteasome non-ATPase regulatory subunit 4\"),\n",
        "]\n",
        "\n",
        "# quiero armar un diccionario.\n",
        "idrs = {}\n",
        "for uniprot, nombre in lista1:\n",
        "  idrs[uniprot] = nombre\n",
        "\n",
        "# Alternativamente construyendolo por comprensión\n",
        "idrs = {\n",
        "  uniprot: nombre for uniprot, nombre in lista1\n",
        "}"
      ]
    },
    {
      "cell_type": "code",
      "execution_count": 1,
      "metadata": {},
      "outputs": [],
      "source": [
        "# A partir de estos datos\n",
        "data = [\n",
        "  (\"P13551\", \"Thermus thermophilus\"),\n",
        "  (\"P03129\", \"Human papillomavirus\"),\n",
        "  (\"P14738\", \"Staphylococcus aureus\"),\n",
        "  (\"P06179\", \"Salmonella typhimurium\"),\n",
        "  (\"P26477\", \"Salmonella typhimurium\"),\n",
        "  (\"P56206\", \"Thermus thermophilus\")\n",
        "]\n",
        "\n",
        "# quiero obtener el conjunto de los organismos.\n",
        "organismos = set()\n",
        "for uniprot, orgn in data:\n",
        "  organismos.add(orgn)\n",
        "\n",
        "# alternativamente construyendo el conjunto por comprensión\n",
        "organismos = {orgn for uniprot, orgn in data}"
      ]
    },
    {
      "cell_type": "markdown",
      "metadata": {},
      "source": [
        "### map, filter y reduce\n",
        "\n",
        "map(), filter() y reduce() son tres funciones que permiten manipular estructuras de\n",
        "datos que pueden ser iteradas, por ejemplo las listas.\n",
        "\n"
      ]
    },
    {
      "cell_type": "markdown",
      "metadata": {},
      "source": [
        "\n",
        "- Función map(función, iterable):\n",
        "\n",
        "  - map() aplica una función a cada elemento de un iterable (como una lista) y\n",
        "  devuelve un iterador que produce los resultados.\n",
        "  - Toma dos argumentos: la función que se aplicará y el iterable sobre el cual\n",
        "  se aplicará esa función.\n",
        "  - La función pasada como primer argumento será aplicada a cada elemento del\n",
        "  iterable, y el resultado será un nuevo iterador que produce los resultados de\n",
        "  aplicar la función a cada elemento.\n",
        "  - Por ejemplo:\n",
        "  ```python\n",
        "    lista = [1, 2, 3, 4, 5]\n",
        "    cuadrados = map(lambda x: x**2, lista)\n",
        "    print(list(cuadrados))  # Salida: [1, 4, 9, 16, 25]\n",
        "  ```\n"
      ]
    },
    {
      "cell_type": "markdown",
      "metadata": {},
      "source": [
        "\n",
        "- Función filter(función, iterable):\n",
        "\n",
        "  - filter() crea un iterador que devuelve los elementos de un iterable para los\n",
        "    cuales una función devuelve True.\n",
        "  - Toma dos argumentos: la función que se aplicará y el iterable sobre el cual\n",
        "    se aplicará esa función.\n",
        "  - La función pasada como primer argumento debe devolver True o False. Si\n",
        "    devuelve True, el elemento se incluirá en el iterador de salida; de lo\n",
        "    contrario, se omitirá.\n",
        "  - Por ejemplo:\n",
        "  ```python\n",
        "    lista = [1, 2, 3, 4, 5]\n",
        "    impares = filter(lambda x: x % 2 != 0, lista)\n",
        "    print(list(impares))  # Salida: [1, 3, 5]\n",
        "  ```\n"
      ]
    },
    {
      "cell_type": "markdown",
      "metadata": {},
      "source": [
        "\n",
        "- Función reduce(función, iterable, valor_inicial):\n",
        "\n",
        "  - reduce() aplica repetidamente una función a los elementos del iterable,\n",
        "    reduciendo así la secuencia a un solo valor.\n",
        "  - Toma tres argumentos: la función que se aplicará, el iterable sobre el cual\n",
        "    se aplicará esa función y un valor inicial opcional.\n",
        "  - La función pasada como primer argumento debe aceptar dos argumentos y\n",
        "    devolver un resultado. Este resultado se utilizará como el primer argumento\n",
        "    en la próxima llamada a la función, junto con el siguiente elemento del iterable.\n",
        "  - Es necesario importar reduce del módulo functools.\n",
        "  - Por ejemplo:\n",
        "  ```python\n",
        "    from functools import reduce\n",
        "    lista = [1, 2, 3, 4, 5]\n",
        "    suma = reduce(lambda x, y: x + y, lista)\n",
        "    print(suma)  # Salida: 15\n",
        "  ```\n"
      ]
    },
    {
      "cell_type": "markdown",
      "metadata": {},
      "source": [
        "### Piping"
      ]
    },
    {
      "cell_type": "markdown",
      "metadata": {},
      "source": [
        "Piping es la transformación de datos a traves de operaciones encadenadas.\n",
        "Cada operación toma los resultados de un paso previo, hace una transformacíon\n",
        "y los envía a la salida de datos para que otra operación continue.\n",
        "\n",
        "\n",
        "Datos de partida -> operación 1 -> operación 2 -> Resultado final.\n",
        "\n",
        "El python los pipes no son nativos del lenguage pero se pueden utilzar con el\n",
        "paquete \"pipe\"."
      ]
    },
    {
      "cell_type": "code",
      "execution_count": 68,
      "metadata": {},
      "outputs": [
        {
          "data": {
            "text/plain": [
              "[('P14738',\n",
              "  'Fibronectin-binding protein A',\n",
              "  'Staphylococcus aureus',\n",
              "  1018,\n",
              "  12.77,\n",
              "  130),\n",
              " ('P27001',\n",
              "  'Phenylalanine--tRNA ligase alpha subunit',\n",
              "  'Thermus thermophilus',\n",
              "  350,\n",
              "  28.86,\n",
              "  101)]"
            ]
          },
          "execution_count": 68,
          "metadata": {},
          "output_type": "execute_result"
        }
      ],
      "source": [
        "import pipe\n",
        "\n",
        "# data contiene datos de algunas proteinas desordenadas: El uniprot accession,\n",
        "# El nombre de la proteína, la longitud de la proteína y el contenido porcentual\n",
        "# de desorden\n",
        "data = [\n",
        "  (\"P13551\", \"Elongation factor G\", \"Thermus thermophilus\", 691, 8.54),\n",
        "  (\"P03129\", \"Protein E7\", \"Human papillomavirus type 16\", 98, 52.04),\n",
        "  (\"P14738\", \"Fibronectin-binding protein A\", \"Staphylococcus aureus\", 1018, 12.77),\n",
        "  (\"P06179\", \"Flagellin\", \"Salmonella typhimurium\", 495, 21.21),\n",
        "  (\"P26477\", \"Negative regulator of flagellin synthesis\", \"Salmonella typhimurium \", 97, 100.00),\n",
        "  (\"P56206\", \"Glycine--tRNA ligase\", \"Thermus thermophilus\", 506, 17.00),\n",
        "  (\"P02929\", \"Protein TonB\", \"Escherichia coli\", 239, 20.50),\n",
        "  (\"P27001\", \"Phenylalanine--tRNA ligase alpha subunit\", \"Thermus thermophilus\", 350, 28.86),\n",
        "  (\"P11409\", \"Modification methylase PvuII\", \"Proteus hauseri\", 336, 11.31),\n",
        "]\n",
        "\n",
        "# quiero transformar estos datos:\n",
        "# - eliminar las del genero Salmonella y Escherichia.\n",
        "# - Calcular la cantidad de posiciones desordenadas y agregarlo a los datos existentes.\n",
        "# - Finalmente eliminarlas que tengon menos de 100 posiciones desordenadas.\n",
        "\n",
        "resultado = filter(\n",
        "  lambda x: x[5]>=100,\n",
        "    map(\n",
        "    lambda x: (*x, round(x[3]*x[4]/100)),\n",
        "    filter(\n",
        "      lambda x: not any(y in x[2] for y in [\"Escherichia\", \"Salmonella\"]),\n",
        "      data\n",
        "    )\n",
        "  )\n",
        ")\n",
        "list(resultado)"
      ]
    },
    {
      "cell_type": "code",
      "execution_count": 69,
      "metadata": {},
      "outputs": [
        {
          "data": {
            "text/plain": [
              "[('P14738',\n",
              "  'Fibronectin-binding protein A',\n",
              "  'Staphylococcus aureus',\n",
              "  1018,\n",
              "  12.77,\n",
              "  130),\n",
              " ('P27001',\n",
              "  'Phenylalanine--tRNA ligase alpha subunit',\n",
              "  'Thermus thermophilus',\n",
              "  350,\n",
              "  28.86,\n",
              "  101)]"
            ]
          },
          "execution_count": 69,
          "metadata": {},
          "output_type": "execute_result"
        }
      ],
      "source": [
        "# Alternativamente\n",
        "\n",
        "r1 = filter(\n",
        "  lambda x: not any(y in x[2] for y in [\"Escherichia\", \"Salmonella\"]),\n",
        "  data\n",
        ")\n",
        "r2 = map(lambda x: (*x, round(x[3]*x[4]/100)), r1)\n",
        "resultado = filter(lambda x: x[5]>=100, r2)\n",
        "list(resultado)"
      ]
    },
    {
      "cell_type": "code",
      "execution_count": 71,
      "metadata": {},
      "outputs": [
        {
          "data": {
            "text/plain": [
              "[('P14738',\n",
              "  'Fibronectin-binding protein A',\n",
              "  'Staphylococcus aureus',\n",
              "  1018,\n",
              "  12.77,\n",
              "  130),\n",
              " ('P27001',\n",
              "  'Phenylalanine--tRNA ligase alpha subunit',\n",
              "  'Thermus thermophilus',\n",
              "  350,\n",
              "  28.86,\n",
              "  101)]"
            ]
          },
          "execution_count": 71,
          "metadata": {},
          "output_type": "execute_result"
        }
      ],
      "source": [
        "# usando pipes\n",
        "from pipe import map, filter\n",
        "resultado = list(\n",
        "  data\n",
        "    | filter(lambda x: not any(y in x[2] for y in [\"Escherichia\", \"Salmonella\"]))\n",
        "    | map(lambda x: (*x, round(x[3]*x[4]/100)))\n",
        "    | filter(lambda x: x[5]>=100)\n",
        ")\n",
        "resultado"
      ]
    },
    {
      "cell_type": "markdown",
      "metadata": {
        "id": "xOc-IsNY78fR"
      },
      "source": [
        "## Introducción a Numpy"
      ]
    },
    {
      "cell_type": "markdown",
      "metadata": {
        "id": "xQQq1aw378fR"
      },
      "source": [
        "- Computación numérica\n",
        "- Centrada en Arrays multidimensionales\n",
        "- Referencia de la API:\n",
        "  - https://numpy.org/doc/stable/reference/index.html"
      ]
    },
    {
      "cell_type": "markdown",
      "metadata": {
        "id": "VU9GRqqV78fS"
      },
      "source": [
        "### Crear Arrays\n",
        "\n",
        "- np.array\n",
        "- np.zeros\n",
        "- np.ones\n",
        "- np.empty\n",
        "- np.arange\n",
        "- np.linspace\n",
        "- np.identity"
      ]
    },
    {
      "cell_type": "code",
      "execution_count": 17,
      "metadata": {},
      "outputs": [
        {
          "name": "stdout",
          "output_type": "stream",
          "text": [
            "[[1 2 3]\n",
            " [6 7 8]]\n",
            "[[1. 1. 1.]\n",
            " [1. 1. 1.]]\n",
            "[[1. 2. 3.]\n",
            " [6. 7. 8.]]\n",
            "[[1. 2. 3.]\n",
            " [6. 7. 8.]]\n"
          ]
        },
        {
          "data": {
            "text/plain": [
              "array([[1., 0., 0., 0.],\n",
              "       [0., 1., 0., 0.],\n",
              "       [0., 0., 1., 0.],\n",
              "       [0., 0., 0., 1.]])"
            ]
          },
          "execution_count": 17,
          "metadata": {},
          "output_type": "execute_result"
        }
      ],
      "source": [
        "import numpy as np\n",
        "\n",
        "arr1 = np.array([[1, 2, 3], [6,7,8]])\n",
        "print(arr1)\n",
        "\n",
        "arr2 = np.ones((2,3))\n",
        "print(arr2)\n",
        "\n",
        "print(arr2 * arr1)\n",
        "\n",
        "print(np.empty((2, 3)))\n",
        "\n",
        "np.arange(\n",
        "  start = 1,\n",
        "  stop = 20,\n",
        "  step = 4\n",
        ")\n",
        "\n",
        "np.linspace(\n",
        "  np.array([0, 1]),\n",
        "  np.array([1, 11]),\n",
        "  3\n",
        ")\n",
        "\n",
        "np.identity(4)"
      ]
    },
    {
      "cell_type": "markdown",
      "metadata": {
        "id": "3t5eskoZ78fT"
      },
      "source": [
        "### Cambiar forma de un array\n",
        "\n",
        "- reshape\n",
        "- transpose\n",
        "\n"
      ]
    },
    {
      "cell_type": "code",
      "execution_count": 33,
      "metadata": {},
      "outputs": [
        {
          "name": "stdout",
          "output_type": "stream",
          "text": [
            "[[ 0  4  8]\n",
            " [ 1  5  9]\n",
            " [ 2  6 10]\n",
            " [ 3  7 11]]\n"
          ]
        }
      ],
      "source": [
        "arr1 = (\n",
        "  np.array(range(12))\n",
        "    .reshape((3, 4))\n",
        "    .transpose()\n",
        ")\n",
        "print(arr1)"
      ]
    },
    {
      "cell_type": "markdown",
      "metadata": {
        "id": "BqLqGLL278fT"
      },
      "source": [
        "### Funciones universales\n",
        "\n",
        "- Funciones que se aplican a Arrays de cualquier dimension\n",
        "- por elemento\n",
        "\n",
        "Por ejemplo:\n",
        "\n",
        "- numpy.add\n",
        "- numpy.matmul\n",
        "- numpy.multiply\n",
        "- numpy.equal\n",
        "- numpy.logical_and"
      ]
    },
    {
      "cell_type": "code",
      "execution_count": 65,
      "metadata": {},
      "outputs": [
        {
          "data": {
            "text/plain": [
              "array([[False, False,  True, False],\n",
              "       [ True, False,  True, False],\n",
              "       [ True, False,  True, False]])"
            ]
          },
          "execution_count": 65,
          "metadata": {},
          "output_type": "execute_result"
        }
      ],
      "source": [
        "arr1 = (\n",
        "  np.array(range(12))\n",
        "    .reshape((3, 4))\n",
        ")\n",
        "\n",
        "np.add(arr1, arr1) # igual a arr1 + arr1\n",
        "\n",
        "np.matmul(arr1, arr1.transpose()) # igual arr1 @ arr1.transpose()\n",
        "\n",
        "np.multiply(arr1, arr1) # arr1 * arr1\n",
        "\n",
        "np.equal(arr1, arr1 * 0) # igual arr1 == arr1\n",
        "\n",
        "np.logical_and(arr1>0, arr1%2==0) # igual  (arr1 > 0) & (arr1 %2==0)\n"
      ]
    },
    {
      "cell_type": "markdown",
      "metadata": {},
      "source": [
        "### Subseteo de arrays"
      ]
    },
    {
      "cell_type": "code",
      "execution_count": 81,
      "metadata": {},
      "outputs": [
        {
          "name": "stdout",
          "output_type": "stream",
          "text": [
            "4\n"
          ]
        }
      ],
      "source": [
        "arr1 = np.array(range(12)).reshape(3,4)\n",
        "\n",
        "print(arr1[1, 0])\n"
      ]
    },
    {
      "cell_type": "code",
      "execution_count": 89,
      "metadata": {},
      "outputs": [
        {
          "data": {
            "text/plain": [
              "array([['C', 'T', 'A'],\n",
              "       ['T', 'A', 'C'],\n",
              "       ['A', 'C', 'T'],\n",
              "       ['C', 'T', 'G']], dtype='<U1')"
            ]
          },
          "execution_count": 89,
          "metadata": {},
          "output_type": "execute_result"
        }
      ],
      "source": [
        "arr1 = np.array(list(\"CTACTGATGCCTGACTG\"))\n",
        "index = [\n",
        "  [0, 1, 2],\n",
        "  [1, 2, 3],\n",
        "  [2, 3, 4],\n",
        "  [3, 4, 5]\n",
        "]\n",
        "arr1[index]"
      ]
    },
    {
      "cell_type": "markdown",
      "metadata": {
        "id": "cQq3ezDc78fT"
      },
      "source": [
        "## Introducción a Pandas\n",
        "\n",
        "Permite trabajar con:\n",
        "- Series de datos (Series)\n",
        "- Datos tabulares (Dataframe)\n",
        "\n",
        "Referencia:\n",
        "- https://pandas.pydata.org/docs/reference/index.html\n",
        "- Cheat Sheet : https://pandas.pydata.org/Pandas_Cheat_Sheet.pdf"
      ]
    },
    {
      "cell_type": "markdown",
      "metadata": {
        "id": "pAG7T23E78fT"
      },
      "source": [
        "### Crear Series y DataFrame\n",
        "\n",
        "- Dataframe\n",
        "  - desde dicctionario\n",
        "  - desde listas\n",
        "  - desde un archivo\n",
        "- Series\n",
        "  - Desde una lista"
      ]
    },
    {
      "cell_type": "markdown",
      "metadata": {
        "id": "DAzq6LTl78fV"
      },
      "source": [
        "### Cambiar la forma de un Dataframe\n",
        "\n",
        "- shape\n",
        "- melt\n",
        "- pivot\n",
        "- concat"
      ]
    },
    {
      "cell_type": "markdown",
      "metadata": {
        "id": "iY7VILTs78fV"
      },
      "source": [
        "### Subsetting\n",
        "\n",
        "- Seleccionar filas\n",
        "- Seleccionar columas\n",
        "- Seleccionar filas y columnas"
      ]
    },
    {
      "cell_type": "markdown",
      "metadata": {
        "id": "92Tv3-QK78fW"
      },
      "source": [
        "### Combinar Dataframes\n",
        "- merge"
      ]
    },
    {
      "cell_type": "markdown",
      "metadata": {
        "id": "CSLnCxev78fW"
      },
      "source": [
        "### Resumen de datos\n",
        "\n",
        "- value_counts\n",
        "- describe"
      ]
    },
    {
      "cell_type": "markdown",
      "metadata": {
        "id": "LgFxLUkV78fW"
      },
      "source": [
        "### Agrupar datos\n",
        "\n",
        "- groupby\n",
        "- aggregate"
      ]
    },
    {
      "cell_type": "markdown",
      "metadata": {
        "id": "ryt4tAJd78fW"
      },
      "source": [
        "## Introducción a Matplotlib\n",
        "\n",
        "- Creación de gráficos\n",
        "- Referencia\n",
        "  - https://matplotlib.org/stable/api/index.html\n",
        "- Ejemplos:\n",
        "  - https://matplotlib.org/stable/gallery/index.html"
      ]
    },
    {
      "cell_type": "markdown",
      "metadata": {
        "id": "ZUCg3TRv78fW"
      },
      "source": [
        "### Crear plots y axes"
      ]
    },
    {
      "cell_type": "markdown",
      "metadata": {
        "id": "RUOfyo3078fW"
      },
      "source": [
        "### Cambiar texto de un plot"
      ]
    },
    {
      "cell_type": "markdown",
      "metadata": {
        "id": "8zMCxTn_78fX"
      },
      "source": [
        "### Anotar un plot"
      ]
    },
    {
      "cell_type": "markdown",
      "metadata": {
        "id": "AZeOwhMw78fX"
      },
      "source": [
        "## Introducción a Scipy\n",
        "\n",
        "- Computación científica en python.\n",
        "  - Estadística\n",
        "  - Métodos de optimization\n",
        "  - Resolución de ecuaciones diferenciales\n",
        "  - etc.\n",
        "- Referencia:\n",
        "  - https://docs.scipy.org/doc/scipy/reference/stats.html"
      ]
    },
    {
      "cell_type": "markdown",
      "metadata": {
        "id": "WOWJ853I78fX"
      },
      "source": [
        "- Distribuciones de probabilidad\n",
        "    - continuas\n",
        "    - multivariadas\n",
        "    - discretas\n",
        "- Estadísticos de resumen\n",
        "- Correlación\n",
        "- Test estadísticos\n",
        "- Ajuste de datos a una distribución\n",
        "\n"
      ]
    },
    {
      "cell_type": "markdown",
      "metadata": {
        "id": "PXLB0oM378fX"
      },
      "source": [
        "## Introducción a SymPy\n",
        "\n",
        "- Computación simbólica\n",
        "- Referencia:\n",
        "  - https://www.sympy.org/en/index.html\n"
      ]
    },
    {
      "cell_type": "markdown",
      "metadata": {
        "id": "vp1v_kB_78fY"
      },
      "source": [
        "### Cálculo de derivadas"
      ]
    },
    {
      "cell_type": "markdown",
      "metadata": {
        "id": "csU9W6XK78fY"
      },
      "source": [
        "### Cálculo de integrales"
      ]
    },
    {
      "cell_type": "markdown",
      "metadata": {
        "id": "I4NDB4rQ78fY"
      },
      "source": [
        "### Resolución de ecuaciones"
      ]
    },
    {
      "cell_type": "markdown",
      "metadata": {
        "id": "PhXh1UEn78fY"
      },
      "source": [
        "## "
      ]
    }
  ],
  "metadata": {
    "colab": {
      "provenance": []
    },
    "kernelspec": {
      "display_name": "Python 3.9.4 ('.venv': venv)",
      "language": "python",
      "name": "python3"
    },
    "language_info": {
      "codemirror_mode": {
        "name": "ipython",
        "version": 3
      },
      "file_extension": ".py",
      "mimetype": "text/x-python",
      "name": "python",
      "nbconvert_exporter": "python",
      "pygments_lexer": "ipython3",
      "version": "3.9.7"
    },
    "orig_nbformat": 4,
    "vscode": {
      "interpreter": {
        "hash": "2642d409aca2f3e50c4cc7e12f906abb96a179c2b76bcb58c2b6a9943c6a4da3"
      }
    }
  },
  "nbformat": 4,
  "nbformat_minor": 0
}
