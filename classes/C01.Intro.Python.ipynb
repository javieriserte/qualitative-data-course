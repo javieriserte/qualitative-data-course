{
 "cells": [
  {
   "cell_type": "markdown",
   "metadata": {},
   "source": [
    "# Análisis de datos cualitativos"
   ]
  },
  {
   "cell_type": "markdown",
   "metadata": {},
   "source": [
    "## Introducción a Python"
   ]
  },
  {
   "cell_type": "markdown",
   "metadata": {},
   "source": [
    "### Variables y operaciones básicas"
   ]
  },
  {
   "cell_type": "markdown",
   "metadata": {},
   "source": [
    "### Estructuras de datos"
   ]
  },
  {
   "cell_type": "markdown",
   "metadata": {},
   "source": [
    "### Loops y condicionales"
   ]
  },
  {
   "cell_type": "markdown",
   "metadata": {},
   "source": [
    "### Funciones y funciones anónimas"
   ]
  },
  {
   "cell_type": "markdown",
   "metadata": {},
   "source": [
    "### Classes y objetos"
   ]
  },
  {
   "cell_type": "markdown",
   "metadata": {},
   "source": [
    "## Ejercicios de practica de python"
   ]
  },
  {
   "cell_type": "markdown",
   "metadata": {},
   "source": [
    "1. Imprimir la suma del número actual y el anterior en una lista\n",
    "1. Eliminar los primeros n caracteres de un string\n",
    "1. Contar la cantidad de veces que aparece cada elemento en una lista\n",
    "1. Imprimir los números de una lista que son divisibles por cinco\n",
    "1. Imprimir el patrón, hasta una altura arbitraria:\n",
    "   *\n",
    "  * *\n",
    " * * *\n",
    "* * * *\n",
    "1. Separar numeros pares e impares de un lista\n",
    "1. Calcular el impuesto de un ingreso según estas reglas:\n",
    "  - Primeros 100000$ -> 0%\n",
    "  - 100000$ a 200000$ -> 5%\n",
    "  - 200000$ a 250000$ -> 10%\n",
    "  - El resto -> 25%\n",
    "1. Dada una frase y posibles anagramas, elegir los correctos."
   ]
  },
  {
   "cell_type": "markdown",
   "metadata": {},
   "source": [
    "## Introducción a Numpy"
   ]
  },
  {
   "cell_type": "markdown",
   "metadata": {},
   "source": [
    "- Computación numérica\n",
    "- Centrada en Arrays multidimensionales\n",
    "- Referencia de la API:\n",
    "  - https://numpy.org/doc/stable/reference/index.html"
   ]
  },
  {
   "cell_type": "markdown",
   "metadata": {},
   "source": [
    "### Crear Arrays\n",
    "\n",
    "- np.array\n",
    "- np.zeros\n",
    "- np.ones\n",
    "- np.empty\n",
    "- np.arange\n",
    "- np.linspace\n",
    "- np.identity"
   ]
  },
  {
   "cell_type": "markdown",
   "metadata": {},
   "source": [
    "### Cambiar forma de un array\n",
    "\n",
    "- reshape\n",
    "- transpose"
   ]
  },
  {
   "cell_type": "markdown",
   "metadata": {},
   "source": [
    "### Funciones universales\n",
    "\n",
    "- Funciones que se aplican a Arrays de cualquier dimension\n",
    "- por elemento\n",
    "\n",
    "Por ejemplo:\n",
    "\n",
    "- numpy.add\n",
    "- numpy.matmul\n",
    "- numpy.equal\n",
    "- numpy.logical_and"
   ]
  },
  {
   "cell_type": "markdown",
   "metadata": {},
   "source": [
    "## Introducción a Pandas\n",
    "\n",
    "Permite trabajar con:\n",
    "- Series de datos (Series)\n",
    "- Datos tabulares (Dataframe)\n",
    "\n",
    "Referencia:\n",
    "- https://pandas.pydata.org/docs/reference/index.html\n",
    "- Cheat Sheet : https://pandas.pydata.org/Pandas_Cheat_Sheet.pdf"
   ]
  },
  {
   "cell_type": "markdown",
   "metadata": {},
   "source": [
    "### Crear Series y DataFrame\n",
    "\n",
    "- Dataframe\n",
    "  - desde dicctionario\n",
    "  - desde listas\n",
    "  - desde un archivo\n",
    "- Series\n",
    "  - Desde una lista"
   ]
  },
  {
   "cell_type": "markdown",
   "metadata": {},
   "source": [
    "### Cambiar la forma de un Dataframe\n",
    "\n",
    "- shape\n",
    "- melt\n",
    "- pivot\n",
    "- concat"
   ]
  },
  {
   "cell_type": "markdown",
   "metadata": {},
   "source": [
    "### Subsetting\n",
    "\n",
    "- Seleccionar filas\n",
    "- Seleccionar columas\n",
    "- Seleccionar filas y columnas"
   ]
  },
  {
   "cell_type": "markdown",
   "metadata": {},
   "source": [
    "### Combinar Dataframes\n",
    "- merge"
   ]
  },
  {
   "cell_type": "markdown",
   "metadata": {},
   "source": [
    "### Resumen de datos\n",
    "\n",
    "- value_counts\n",
    "- describe"
   ]
  },
  {
   "cell_type": "markdown",
   "metadata": {},
   "source": [
    "### Agrupar datos\n",
    "\n",
    "- groupby\n",
    "- aggregate"
   ]
  },
  {
   "cell_type": "markdown",
   "metadata": {},
   "source": [
    "## Introducción a Matplotlib\n",
    "\n",
    "- Creación de gráficos\n",
    "- Referencia\n",
    "  - https://matplotlib.org/stable/api/index.html\n",
    "- Ejemplos:\n",
    "  - https://matplotlib.org/stable/gallery/index.html"
   ]
  },
  {
   "cell_type": "markdown",
   "metadata": {},
   "source": [
    "### Crear plots y axes"
   ]
  },
  {
   "cell_type": "markdown",
   "metadata": {},
   "source": [
    "### Cambiar texto de un plot"
   ]
  },
  {
   "cell_type": "markdown",
   "metadata": {},
   "source": [
    "### Anotar un plot"
   ]
  },
  {
   "cell_type": "markdown",
   "metadata": {},
   "source": [
    "## Introducción a Scipy\n",
    "\n",
    "- Computación científica en python.\n",
    "  - Estadística\n",
    "  - Métodos de optimization\n",
    "  - Resolución de ecuaciones diferenciales\n",
    "  - etc.\n",
    "- Referencia:\n",
    "  - https://docs.scipy.org/doc/scipy/reference/stats.html"
   ]
  },
  {
   "cell_type": "markdown",
   "metadata": {},
   "source": [
    "- Distribuciones de probabilidad\n",
    "    - continuas\n",
    "    - multivariadas\n",
    "    - discretas\n",
    "- Estadísticos de resumen\n",
    "- Correlación\n",
    "- Test estadísticos\n",
    "- Ajuste de datos a una distribución\n",
    "\n"
   ]
  },
  {
   "cell_type": "markdown",
   "metadata": {},
   "source": [
    "## Introducción a SymPy\n",
    "\n",
    "- Computación simbólica\n",
    "- Referencia:\n",
    "  - https://www.sympy.org/en/index.html\n"
   ]
  },
  {
   "cell_type": "markdown",
   "metadata": {},
   "source": [
    "### Cálculo de derivadas"
   ]
  },
  {
   "cell_type": "markdown",
   "metadata": {},
   "source": [
    "### Cálculo de integrales"
   ]
  },
  {
   "cell_type": "markdown",
   "metadata": {},
   "source": [
    "### Resolución de ecuaciones"
   ]
  },
  {
   "cell_type": "markdown",
   "metadata": {},
   "source": [
    "## "
   ]
  }
 ],
 "metadata": {
  "kernelspec": {
   "display_name": "Python 3.9.4 ('.venv': venv)",
   "language": "python",
   "name": "python3"
  },
  "language_info": {
   "codemirror_mode": {
    "name": "ipython",
    "version": 3
   },
   "file_extension": ".py",
   "mimetype": "text/x-python",
   "name": "python",
   "nbconvert_exporter": "python",
   "pygments_lexer": "ipython3",
   "version": "3.9.4"
  },
  "orig_nbformat": 4,
  "vscode": {
   "interpreter": {
    "hash": "2642d409aca2f3e50c4cc7e12f906abb96a179c2b76bcb58c2b6a9943c6a4da3"
   }
  }
 },
 "nbformat": 4,
 "nbformat_minor": 2
}
