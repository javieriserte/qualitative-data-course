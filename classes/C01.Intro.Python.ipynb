{
  "cells": [
    {
      "cell_type": "markdown",
      "metadata": {
        "id": "h6dUnzNL78fK"
      },
      "source": [
        "# Análisis de datos cualitativos"
      ]
    },
    {
      "cell_type": "markdown",
      "metadata": {
        "id": "Zf-jT3lg78fL"
      },
      "source": [
        "## Introducción a Python"
      ]
    },
    {
      "cell_type": "markdown",
      "metadata": {
        "id": "0JpBJSaU78fM"
      },
      "source": [
        "### Variables y operaciones básicas"
      ]
    },
    {
      "cell_type": "code",
      "source": [
        "var = \"Bienvenidos al curso de analisis de datos cualitativos\"\n",
        "\n",
        "var1 = 12\n",
        "var2 = 23\n",
        "\n",
        "var1 + var2\n",
        "var1 - var2"
      ],
      "metadata": {
        "id": "h7YyV2u2upGG",
        "outputId": "5610b43f-943f-4730-c6e1-31244c41eda5",
        "colab": {
          "base_uri": "https://localhost:8080/"
        }
      },
      "execution_count": 3,
      "outputs": [
        {
          "output_type": "execute_result",
          "data": {
            "text/plain": [
              "-11"
            ]
          },
          "metadata": {},
          "execution_count": 3
        }
      ]
    },
    {
      "cell_type": "markdown",
      "metadata": {
        "id": "VkCwbcGr78fN"
      },
      "source": [
        "### Estructuras de datos"
      ]
    },
    {
      "cell_type": "code",
      "source": [
        "# Listas\n",
        "lista = [1, 2, 3, 4, 5]\n",
        "\n",
        "# Diccionarios\n",
        "data = {\n",
        "    \"a\": 1,\n",
        "    \"b\": 2,\n",
        "    \"c\": 3\n",
        "}\n",
        "data.get(\"d\", 0)\n",
        "\n",
        "# Sets (conjuntos)\n",
        "set1 = set([1, 2, 1, 3])\n",
        "set2 = set([3, 4, 5, 6])\n",
        "set3 = set2 - set1\n",
        "set3\n",
        "\n",
        "# Tuplas\n",
        "tupla = (1, 2, 3)\n",
        "tupla\n",
        "\n",
        "d1 = {\n",
        "    tupla: \"mi primer tupla\"\n",
        "}\n"
      ],
      "metadata": {
        "id": "YENyL6auvcul"
      },
      "execution_count": 23,
      "outputs": []
    },
    {
      "cell_type": "markdown",
      "metadata": {
        "id": "LCuChE8178fN"
      },
      "source": [
        "### Loops y condicionales"
      ]
    },
    {
      "cell_type": "code",
      "source": [
        "for a in data:\n",
        "  value = data[a]\n",
        "  print(f\"El valor {value} esta asociado a la clave {a}\")\n"
      ],
      "metadata": {
        "id": "UiLtY3Y_z7w3",
        "outputId": "2e13582f-fcaf-4a85-fc18-6a3c2954afa0",
        "colab": {
          "base_uri": "https://localhost:8080/"
        }
      },
      "execution_count": 32,
      "outputs": [
        {
          "output_type": "stream",
          "name": "stdout",
          "text": [
            "El valor 1 esta asociado a la clave a\n",
            "El valor 2 esta asociado a la clave b\n",
            "El valor 3 esta asociado a la clave c\n"
          ]
        }
      ]
    },
    {
      "cell_type": "code",
      "source": [
        "for key, value in data.items():\n",
        "  print(f\"El valor {value} está asociado a la clave {key}\")"
      ],
      "metadata": {
        "id": "3MNrDS6r1fzD",
        "outputId": "2b5e0eab-a7f0-4b4d-b843-bfe2796f7759",
        "colab": {
          "base_uri": "https://localhost:8080/"
        }
      },
      "execution_count": 34,
      "outputs": [
        {
          "output_type": "stream",
          "name": "stdout",
          "text": [
            "El valor 1 está asociado a la clave a\n",
            "El valor 2 está asociado a la clave b\n",
            "El valor 3 está asociado a la clave c\n"
          ]
        }
      ]
    },
    {
      "cell_type": "code",
      "source": [
        "for i in range(10):\n",
        "  print(i)"
      ],
      "metadata": {
        "id": "TMHOHi7615c7",
        "outputId": "8bdbd15a-2ce3-426d-a2a7-f500bb41fc9b",
        "colab": {
          "base_uri": "https://localhost:8080/"
        }
      },
      "execution_count": 35,
      "outputs": [
        {
          "output_type": "stream",
          "name": "stdout",
          "text": [
            "0\n",
            "1\n",
            "2\n",
            "3\n",
            "4\n",
            "5\n",
            "6\n",
            "7\n",
            "8\n",
            "9\n"
          ]
        }
      ]
    },
    {
      "cell_type": "code",
      "source": [
        "var1 = 10\n",
        "if var1 > 10:\n",
        "  print(\"La variable es mayor a 10\")\n",
        "else:\n",
        "  print(\"La variable es menor o igual a 10\")"
      ],
      "metadata": {
        "id": "-YNsdCH92N35",
        "outputId": "9de59670-a9fd-47e4-8ed0-fa5eb6d5f4da",
        "colab": {
          "base_uri": "https://localhost:8080/"
        }
      },
      "execution_count": 38,
      "outputs": [
        {
          "output_type": "stream",
          "name": "stdout",
          "text": [
            "La variable es menor o igual a 10\n"
          ]
        }
      ]
    },
    {
      "cell_type": "markdown",
      "metadata": {
        "id": "4KD7Mg8R78fO"
      },
      "source": [
        "### Funciones y funciones anónimas"
      ]
    },
    {
      "cell_type": "code",
      "source": [
        "var1 = 5\n",
        "\n",
        "def elevar_al_cuadrado(n):\n",
        "  return n**2\n",
        "\n",
        "elevar_al_cuadrado(var1)\n"
      ],
      "metadata": {
        "id": "QPsUsQz62-Y4",
        "outputId": "90310aab-d9fa-4c2e-b731-71f43009a41f",
        "colab": {
          "base_uri": "https://localhost:8080/"
        }
      },
      "execution_count": 40,
      "outputs": [
        {
          "output_type": "execute_result",
          "data": {
            "text/plain": [
              "25"
            ]
          },
          "metadata": {},
          "execution_count": 40
        }
      ]
    },
    {
      "cell_type": "code",
      "source": [
        "fn = lambda n: n**2\n",
        "fn(2)"
      ],
      "metadata": {
        "id": "FzAJr9Ge3vCl",
        "outputId": "ee0d2de2-2517-4022-b336-bcf26f8287dd",
        "colab": {
          "base_uri": "https://localhost:8080/"
        }
      },
      "execution_count": 43,
      "outputs": [
        {
          "output_type": "execute_result",
          "data": {
            "text/plain": [
              "4"
            ]
          },
          "metadata": {},
          "execution_count": 43
        }
      ]
    },
    {
      "cell_type": "markdown",
      "metadata": {
        "id": "jc8s38pW78fO"
      },
      "source": [
        "### Classes y objetos"
      ]
    },
    {
      "cell_type": "code",
      "source": [
        "class Persona:\n",
        "  def __init__(self, altura, peso, nombre):\n",
        "    self.altura = altura\n",
        "    self.peso = peso\n",
        "    self.nombre = nombre\n",
        "  def presentarse(self):\n",
        "    print(f\"Hola, mi nombre es {self.nombre}\")\n",
        "\n",
        "p1 = Persona(180, 75, \"Juan\")\n",
        "p2 = Persona(190, 85, \"Pedro\")\n",
        "\n",
        "p1.presentarse()\n",
        "p2.presentarse()\n"
      ],
      "metadata": {
        "id": "i_SDS9gM4u4C",
        "outputId": "5b1b5f50-fc43-4d9b-9586-3fa69a364143",
        "colab": {
          "base_uri": "https://localhost:8080/"
        }
      },
      "execution_count": 47,
      "outputs": [
        {
          "output_type": "stream",
          "name": "stdout",
          "text": [
            "Hola, mi nombre es Juan\n",
            "Hola, mi nombre es Pedro\n"
          ]
        }
      ]
    },
    {
      "cell_type": "markdown",
      "metadata": {
        "id": "nuXpbP_k78fP"
      },
      "source": [
        "## Ejercicios de practica de python"
      ]
    },
    {
      "cell_type": "markdown",
      "source": [
        "1. Imprimir la suma del número actual y el anterior en una lista"
      ],
      "metadata": {
        "id": "TW3bF-2_Pfs9"
      }
    },
    {
      "cell_type": "code",
      "source": [
        "l = [1, 2, 3, 4]\n",
        "\n",
        "def ej1(n, lista):\n",
        "  v = lista.index(n)\n",
        "  if v:\n",
        "    print(\"No hay un numero anterior\")\n",
        "    return None\n",
        "  else:\n",
        "    suma = n + lista[v-1]\n",
        "    return suma\n"
      ],
      "metadata": {
        "id": "kiPIDYipPmmW"
      },
      "execution_count": null,
      "outputs": []
    },
    {
      "cell_type": "code",
      "source": [
        "def ej1v2(lista):\n",
        "  resultado = []\n",
        "  for n in lista:\n",
        "    if n == 0:\n",
        "      resultado.append(lista[n])\n",
        "    else:\n",
        "      resultado.append(lista[n] + lista[n-1])\n",
        "  return resultado\n",
        "\n",
        "ej1v2([1, 2, 3, 4])"
      ],
      "metadata": {
        "id": "XKO5Ic_1Q7Oq",
        "outputId": "da562664-91a5-4c69-d6c1-72076de5518b",
        "colab": {
          "base_uri": "https://localhost:8080/"
        }
      },
      "execution_count": 49,
      "outputs": [
        {
          "output_type": "execute_result",
          "data": {
            "text/plain": [
              "[1, 3, 5, 7]"
            ]
          },
          "metadata": {},
          "execution_count": 49
        }
      ]
    },
    {
      "cell_type": "code",
      "source": [
        "lista = [7,9,5,3]\n",
        "\n",
        "def ej1v2(lista):\n",
        "  numero_anterior = 0\n",
        "  resultado = []\n",
        "  for n in lista:\n",
        "    suma = n + numero_anterior\n",
        "    numero_anterior = n\n",
        "    resultado.append(suma)\n",
        "  return resultado\n",
        "\n",
        "ej1v2([1,2,3,4])"
      ],
      "metadata": {
        "id": "gjKJKsIKSeeF",
        "outputId": "f03ceb1e-f7e2-4dee-dc38-01cbb64011fb",
        "colab": {
          "base_uri": "https://localhost:8080/"
        }
      },
      "execution_count": 53,
      "outputs": [
        {
          "output_type": "execute_result",
          "data": {
            "text/plain": [
              "[1, 3, 5, 7]"
            ]
          },
          "metadata": {},
          "execution_count": 53
        }
      ]
    },
    {
      "cell_type": "markdown",
      "source": [
        "Eliminar los primeros n caracteres de un string"
      ],
      "metadata": {
        "id": "giUn6dWHTk-a"
      }
    },
    {
      "cell_type": "code",
      "source": [
        "s = \"Este es un string\"\n",
        "\n",
        "\" es un string\"\n",
        "\n",
        "def remover_n_caracteres(s, n):\n",
        "  return s[n:]\n",
        "\n",
        "remover_n_caracteres(s, 4)\n"
      ],
      "metadata": {
        "id": "FlA5PRWtTmeS",
        "outputId": "4f4ac552-5379-4073-dbdf-d100aade02e0",
        "colab": {
          "base_uri": "https://localhost:8080/",
          "height": 35
        }
      },
      "execution_count": 55,
      "outputs": [
        {
          "output_type": "execute_result",
          "data": {
            "text/plain": [
              "' es un string'"
            ],
            "application/vnd.google.colaboratory.intrinsic+json": {
              "type": "string"
            }
          },
          "metadata": {},
          "execution_count": 55
        }
      ]
    },
    {
      "cell_type": "markdown",
      "source": [
        "Contar la cantidad de veces que aparece cada elemento en una lista"
      ],
      "metadata": {
        "id": "Q-HxJu3lUiUf"
      }
    },
    {
      "cell_type": "code",
      "source": [
        "lista = [1, 2, 3, 1, 1, 2]\n",
        "\n",
        "\n",
        "lista.count(1)\n",
        "\n",
        "def contar_elementos(lista):\n",
        "  for i in lista:\n",
        "    v = lista.count(i)\n",
        "    print(f\"El elemento {i} aparece {v} veces\")\n",
        "\n",
        "# contar_elementos(lista)\n",
        "\n",
        "def contar_elementos_v2(lista):\n",
        "  resultado = {}\n",
        "  for n in set(lista):\n",
        "    resultado[n] = lista.count(n)\n",
        "  return resultado\n",
        "\n",
        "# contar_elementos_v2(lista)\n",
        "\n",
        "def contar_elementos_v3(lista):\n",
        "  resultado = {}\n",
        "  for n in lista:\n",
        "    if n not in resultado:\n",
        "      resultado[n] = 1\n",
        "    else:\n",
        "      resultado[n] += 1\n",
        "  return resultado\n",
        "\n",
        "contar_elementos_v3(lista)\n"
      ],
      "metadata": {
        "id": "FNVFEG9nUrcg",
        "outputId": "26974188-d1d0-4d05-8e3e-f9a4f8f37617",
        "colab": {
          "base_uri": "https://localhost:8080/"
        }
      },
      "execution_count": 65,
      "outputs": [
        {
          "output_type": "execute_result",
          "data": {
            "text/plain": [
              "{1: 3, 2: 2, 3: 1}"
            ]
          },
          "metadata": {},
          "execution_count": 65
        }
      ]
    },
    {
      "cell_type": "markdown",
      "source": [
        "Imprimir los números de una lista que son divisibles por cinco"
      ],
      "metadata": {
        "id": "WD_q-AetXkF_"
      }
    },
    {
      "cell_type": "code",
      "source": [
        "lista = [1, 5, 20, 54]\n",
        "\n",
        "def imprimir_divisible_por_cinco(lista):\n",
        "  resultado = []\n",
        "  for i in lista:\n",
        "    if i % 5 == 0:\n",
        "      resultado.append(i)\n",
        "  return resultado\n",
        "\n",
        "def imprimir_divisible_por_cinco_v2(lista):\n",
        "  resultado = [i for i in lista if i % 5 == 0]\n",
        "  return resultado\n",
        "\n",
        "def imprimir_divisible_por_n(lista, n):\n",
        "  resultado = [i for i in lista if i % n == 0]\n",
        "  return resultado\n",
        "\n",
        "imprimir_divisible_por_n(lista, 9)\n",
        "\n",
        "\n"
      ],
      "metadata": {
        "id": "tnzI5uRnXnaW",
        "outputId": "ebd75954-22b7-460c-a787-da2ef8ee569f",
        "colab": {
          "base_uri": "https://localhost:8080/"
        }
      },
      "execution_count": 73,
      "outputs": [
        {
          "output_type": "execute_result",
          "data": {
            "text/plain": [
              "[54]"
            ]
          },
          "metadata": {},
          "execution_count": 73
        }
      ]
    },
    {
      "cell_type": "markdown",
      "source": [
        "Imprimir el patrón, hasta una altura arbitraria:"
      ],
      "metadata": {
        "id": "IUOI-PG4X-tG"
      }
    },
    {
      "cell_type": "code",
      "source": [
        "# imprimir_triangulo(3)\n",
        "\n",
        "#  *\n",
        "# * *\n",
        "#* * *\n",
        "\n",
        "def imprimir_triangulo(n):\n",
        "  '''imprime un arbolito simetrico con n numeros de columna'''\n",
        "  for x in range(1, n + 1):\n",
        "    espacios = n - x\n",
        "    palabra = ' ' * int(espacios) + '* ' * x\n",
        "    print(palabra)\n",
        "\n",
        "imprimir_triangulo(7)\n"
      ],
      "metadata": {
        "id": "nb3n1ZyDa-Fd",
        "outputId": "dc06bc8b-9c5d-47a6-a0dc-4ab0afbe701f",
        "colab": {
          "base_uri": "https://localhost:8080/"
        }
      },
      "execution_count": 80,
      "outputs": [
        {
          "output_type": "stream",
          "name": "stdout",
          "text": [
            "      * \n",
            "     * * \n",
            "    * * * \n",
            "   * * * * \n",
            "  * * * * * \n",
            " * * * * * * \n",
            "* * * * * * * \n"
          ]
        }
      ]
    },
    {
      "cell_type": "markdown",
      "source": [
        "Separar numeros pares e impares de un lista\n"
      ],
      "metadata": {
        "id": "87yk1dSKcpyp"
      }
    },
    {
      "cell_type": "code",
      "source": [
        "lista = [3, 4, 8 , 12, 55]\n",
        "\n",
        "([3, 55], [4, 8, 12])\n",
        "\n",
        "def separar(lista):\n",
        "  lista_pares = []\n",
        "  lista_impares = []\n",
        "  for n in lista:\n",
        "    if n % 2 == 0:\n",
        "      lista_pares.append(n)\n",
        "    else:\n",
        "      lista_impares.append(n)\n",
        "  return lista_impares, lista_pares\n",
        "\n",
        "def separar_v2(lista):\n",
        "  lista_pares = [x for x in lista if x % 2 == 0]\n",
        "  lista_impares = [x for x in lista if x % 2 != 0]\n",
        "  return lista_impares, lista_pares\n",
        "\n",
        "separar_v2(lista)\n"
      ],
      "metadata": {
        "id": "2CRuu2fPctx-",
        "outputId": "52b1188e-2857-4aaf-da90-c84c1b2c2494",
        "colab": {
          "base_uri": "https://localhost:8080/"
        }
      },
      "execution_count": 83,
      "outputs": [
        {
          "output_type": "execute_result",
          "data": {
            "text/plain": [
              "([3, 55], [4, 8, 12])"
            ]
          },
          "metadata": {},
          "execution_count": 83
        }
      ]
    },
    {
      "cell_type": "markdown",
      "source": [
        "Calcular el impuesto de un ingreso según estas reglas:\n",
        "\n",
        "    Primeros 100000 pesos -> 0 por ciento\n",
        "    100000 pesos a 200000 pesos -> 5 por ciento\n",
        "    200000 pesos a 250000 pesos -> 10 por ciento\n",
        "    El resto -> 25 por ciento\n",
        "\n"
      ],
      "metadata": {
        "id": "VTcFxaeveVvs"
      }
    },
    {
      "cell_type": "markdown",
      "source": [
        "150000\n",
        " - 0 > 100000\n",
        " - 0.05 * 50000\n",
        "\n",
        " 220000\n",
        " - 0 > 100000\n",
        " - 0.05 * 100000\n",
        " - 0.1 * 20000\n"
      ],
      "metadata": {
        "id": "hxINaTvygSrx"
      }
    },
    {
      "cell_type": "code",
      "source": [
        "ingreso = 100000\n",
        "\n",
        "def calcular_impuesto(ingreso):\n",
        "  if ingreso <= 100000:\n",
        "    return 0\n",
        "  elif ingreso > 100000 and ingreso <= 200000:\n",
        "    return 0.05 * ingreso\n",
        "  elif ingreso > 200000 and ingreso <= 250000:\n",
        "    return 0.1 * ingreso\n",
        "  else:\n",
        "    return 0.25 * ingreso\n",
        "\n",
        "calcular_impuesto(ingreso)\n",
        "\n",
        "def calcular_impuesto_v2(ingreso):\n",
        "  if ingreso <= 100000:\n",
        "    return 0\n",
        "  elif ingreso > 100000 and ingreso <= 200000:\n",
        "    return 0.05 * (ingreso-100000)\n",
        "  elif ingreso > 200000 and ingreso <= 250000:\n",
        "    return 0.05 * 100000 + 0.1 * (ingreso - 200000)\n",
        "  else:\n",
        "    return 0.05 * 100000 + 0.1 * 50000 + 0.25 * (ingreso - 250000)\n",
        "\n",
        "calcular_impuesto_v2(350000)"
      ],
      "metadata": {
        "id": "6MV5KpfqeaFT",
        "outputId": "84618a49-dbcc-4568-b70f-3ae472a9de70",
        "colab": {
          "base_uri": "https://localhost:8080/"
        }
      },
      "execution_count": 89,
      "outputs": [
        {
          "output_type": "execute_result",
          "data": {
            "text/plain": [
              "35000.0"
            ]
          },
          "metadata": {},
          "execution_count": 89
        }
      ]
    },
    {
      "cell_type": "markdown",
      "source": [
        "Dada una frase y posibles anagramas, elegir los correctos."
      ],
      "metadata": {
        "id": "dx8GYFVzh7GT"
      }
    },
    {
      "cell_type": "code",
      "source": [
        "frase =  \"Istmo de Panama\"\n",
        "posibles_anagramas = [\"Tio Sam me da pan\", \"Tio Sam me da queso\", \"Tio Samm da pena\"]\n",
        "\n",
        "#seleccionar_anagramas(frase, posibles_anagramas)\n",
        "\n",
        "[\"Tio Sam me da pan\", \"Tio Samm da pena\"]\n",
        "\n",
        "def contar_letras(frase):\n",
        "  resultado = {}\n",
        "  frase = frase.lower()\n",
        "  for n in set(frase):\n",
        "    if n != \" \":\n",
        "      resultado[n] = frase.count(n)\n",
        "  return resultado\n",
        "\n",
        "def seleccionar_anagramas(frase, anagramas):\n",
        "  letras_frase = contar_letras(frase)\n",
        "  resultado = []\n",
        "  for a in anagramas:\n",
        "    letras_en_anagrama = contar_letras(a)\n",
        "    if letras_frase == letras_en_anagrama:\n",
        "      resultado.append(a)\n",
        "  return resultado\n",
        "  \n",
        "seleccionar_anagramas(frase, posibles_anagramas)"
      ],
      "metadata": {
        "id": "EMDmb7Tfh9pR",
        "outputId": "70ce5ab9-8a96-4991-a810-bb152b77ba71",
        "colab": {
          "base_uri": "https://localhost:8080/"
        }
      },
      "execution_count": 102,
      "outputs": [
        {
          "output_type": "execute_result",
          "data": {
            "text/plain": [
              "['Tio Sam me da pan', 'Tio Samm da pena']"
            ]
          },
          "metadata": {},
          "execution_count": 102
        }
      ]
    },
    {
      "cell_type": "code",
      "source": [
        "{\"a\":1, \"b\":2} == {\"b\":2, \"a\":1}"
      ],
      "metadata": {
        "id": "duIHL1yakgYq",
        "outputId": "e0b20838-400f-41c3-e3d1-a2fd490a1707",
        "colab": {
          "base_uri": "https://localhost:8080/"
        }
      },
      "execution_count": 101,
      "outputs": [
        {
          "output_type": "execute_result",
          "data": {
            "text/plain": [
              "False"
            ]
          },
          "metadata": {},
          "execution_count": 101
        }
      ]
    },
    {
      "cell_type": "markdown",
      "metadata": {
        "id": "dm8bbJIT78fQ"
      },
      "source": [
        "1. Imprimir la suma del número actual y el anterior en una lista\n",
        "\n",
        "\n",
        "2. Eliminar los primeros n caracteres de un string\n",
        "3. Contar la cantidad de veces que aparece cada elemento en una lista\n",
        "4. Imprimir los números de una lista que son divisibles por cinco\n",
        "5. Imprimir el patrón, hasta una altura arbitraria:\n",
        "```\n",
        "       *\n",
        "      * *\n",
        "     * * *\n",
        "    * * * *\n",
        "```\n",
        "6. Separar numeros pares e impares de un lista\n",
        "7. Calcular el impuesto de un ingreso según estas reglas:\n",
        "  1. Primeros 100000 pesos -> 0 por ciento\n",
        "  2. 100000 pesos a 200000 pesos -> 5 por ciento\n",
        "  3. 200000 pesos a 250000 pesos -> 10 por ciento\n",
        "  4. El resto -> 25 por ciento\n",
        "\n",
        "8. Dada una frase y posibles anagramas, elegir los correctos."
      ]
    },
    {
      "cell_type": "markdown",
      "metadata": {
        "id": "xOc-IsNY78fR"
      },
      "source": [
        "## Introducción a Numpy"
      ]
    },
    {
      "cell_type": "markdown",
      "metadata": {
        "id": "xQQq1aw378fR"
      },
      "source": [
        "- Computación numérica\n",
        "- Centrada en Arrays multidimensionales\n",
        "- Referencia de la API:\n",
        "  - https://numpy.org/doc/stable/reference/index.html"
      ]
    },
    {
      "cell_type": "markdown",
      "metadata": {
        "id": "VU9GRqqV78fS"
      },
      "source": [
        "### Crear Arrays\n",
        "\n",
        "- np.array\n",
        "- np.zeros\n",
        "- np.ones\n",
        "- np.empty\n",
        "- np.arange\n",
        "- np.linspace\n",
        "- np.identity"
      ]
    },
    {
      "cell_type": "markdown",
      "metadata": {
        "id": "3t5eskoZ78fT"
      },
      "source": [
        "### Cambiar forma de un array\n",
        "\n",
        "- reshape\n",
        "- transpose"
      ]
    },
    {
      "cell_type": "markdown",
      "metadata": {
        "id": "BqLqGLL278fT"
      },
      "source": [
        "### Funciones universales\n",
        "\n",
        "- Funciones que se aplican a Arrays de cualquier dimension\n",
        "- por elemento\n",
        "\n",
        "Por ejemplo:\n",
        "\n",
        "- numpy.add\n",
        "- numpy.matmul\n",
        "- numpy.equal\n",
        "- numpy.logical_and"
      ]
    },
    {
      "cell_type": "markdown",
      "metadata": {
        "id": "cQq3ezDc78fT"
      },
      "source": [
        "## Introducción a Pandas\n",
        "\n",
        "Permite trabajar con:\n",
        "- Series de datos (Series)\n",
        "- Datos tabulares (Dataframe)\n",
        "\n",
        "Referencia:\n",
        "- https://pandas.pydata.org/docs/reference/index.html\n",
        "- Cheat Sheet : https://pandas.pydata.org/Pandas_Cheat_Sheet.pdf"
      ]
    },
    {
      "cell_type": "markdown",
      "metadata": {
        "id": "pAG7T23E78fT"
      },
      "source": [
        "### Crear Series y DataFrame\n",
        "\n",
        "- Dataframe\n",
        "  - desde dicctionario\n",
        "  - desde listas\n",
        "  - desde un archivo\n",
        "- Series\n",
        "  - Desde una lista"
      ]
    },
    {
      "cell_type": "markdown",
      "metadata": {
        "id": "DAzq6LTl78fV"
      },
      "source": [
        "### Cambiar la forma de un Dataframe\n",
        "\n",
        "- shape\n",
        "- melt\n",
        "- pivot\n",
        "- concat"
      ]
    },
    {
      "cell_type": "markdown",
      "metadata": {
        "id": "iY7VILTs78fV"
      },
      "source": [
        "### Subsetting\n",
        "\n",
        "- Seleccionar filas\n",
        "- Seleccionar columas\n",
        "- Seleccionar filas y columnas"
      ]
    },
    {
      "cell_type": "markdown",
      "metadata": {
        "id": "92Tv3-QK78fW"
      },
      "source": [
        "### Combinar Dataframes\n",
        "- merge"
      ]
    },
    {
      "cell_type": "markdown",
      "metadata": {
        "id": "CSLnCxev78fW"
      },
      "source": [
        "### Resumen de datos\n",
        "\n",
        "- value_counts\n",
        "- describe"
      ]
    },
    {
      "cell_type": "markdown",
      "metadata": {
        "id": "LgFxLUkV78fW"
      },
      "source": [
        "### Agrupar datos\n",
        "\n",
        "- groupby\n",
        "- aggregate"
      ]
    },
    {
      "cell_type": "markdown",
      "metadata": {
        "id": "ryt4tAJd78fW"
      },
      "source": [
        "## Introducción a Matplotlib\n",
        "\n",
        "- Creación de gráficos\n",
        "- Referencia\n",
        "  - https://matplotlib.org/stable/api/index.html\n",
        "- Ejemplos:\n",
        "  - https://matplotlib.org/stable/gallery/index.html"
      ]
    },
    {
      "cell_type": "markdown",
      "metadata": {
        "id": "ZUCg3TRv78fW"
      },
      "source": [
        "### Crear plots y axes"
      ]
    },
    {
      "cell_type": "markdown",
      "metadata": {
        "id": "RUOfyo3078fW"
      },
      "source": [
        "### Cambiar texto de un plot"
      ]
    },
    {
      "cell_type": "markdown",
      "metadata": {
        "id": "8zMCxTn_78fX"
      },
      "source": [
        "### Anotar un plot"
      ]
    },
    {
      "cell_type": "markdown",
      "metadata": {
        "id": "AZeOwhMw78fX"
      },
      "source": [
        "## Introducción a Scipy\n",
        "\n",
        "- Computación científica en python.\n",
        "  - Estadística\n",
        "  - Métodos de optimization\n",
        "  - Resolución de ecuaciones diferenciales\n",
        "  - etc.\n",
        "- Referencia:\n",
        "  - https://docs.scipy.org/doc/scipy/reference/stats.html"
      ]
    },
    {
      "cell_type": "markdown",
      "metadata": {
        "id": "WOWJ853I78fX"
      },
      "source": [
        "- Distribuciones de probabilidad\n",
        "    - continuas\n",
        "    - multivariadas\n",
        "    - discretas\n",
        "- Estadísticos de resumen\n",
        "- Correlación\n",
        "- Test estadísticos\n",
        "- Ajuste de datos a una distribución\n",
        "\n"
      ]
    },
    {
      "cell_type": "markdown",
      "metadata": {
        "id": "PXLB0oM378fX"
      },
      "source": [
        "## Introducción a SymPy\n",
        "\n",
        "- Computación simbólica\n",
        "- Referencia:\n",
        "  - https://www.sympy.org/en/index.html\n"
      ]
    },
    {
      "cell_type": "markdown",
      "metadata": {
        "id": "vp1v_kB_78fY"
      },
      "source": [
        "### Cálculo de derivadas"
      ]
    },
    {
      "cell_type": "markdown",
      "metadata": {
        "id": "csU9W6XK78fY"
      },
      "source": [
        "### Cálculo de integrales"
      ]
    },
    {
      "cell_type": "markdown",
      "metadata": {
        "id": "I4NDB4rQ78fY"
      },
      "source": [
        "### Resolución de ecuaciones"
      ]
    },
    {
      "cell_type": "markdown",
      "metadata": {
        "id": "PhXh1UEn78fY"
      },
      "source": [
        "## "
      ]
    }
  ],
  "metadata": {
    "kernelspec": {
      "display_name": "Python 3.9.4 ('.venv': venv)",
      "language": "python",
      "name": "python3"
    },
    "language_info": {
      "codemirror_mode": {
        "name": "ipython",
        "version": 3
      },
      "file_extension": ".py",
      "mimetype": "text/x-python",
      "name": "python",
      "nbconvert_exporter": "python",
      "pygments_lexer": "ipython3",
      "version": "3.9.4"
    },
    "orig_nbformat": 4,
    "vscode": {
      "interpreter": {
        "hash": "2642d409aca2f3e50c4cc7e12f906abb96a179c2b76bcb58c2b6a9943c6a4da3"
      }
    },
    "colab": {
      "provenance": []
    }
  },
  "nbformat": 4,
  "nbformat_minor": 0
}