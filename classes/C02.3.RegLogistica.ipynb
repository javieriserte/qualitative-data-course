{
 "cells": [
  {
   "cell_type": "code",
   "execution_count": null,
   "metadata": {},
   "outputs": [],
   "source": [
    "# To use only Google Colab\n",
    "# ! pip install matplotlib --upgrade"
   ]
  },
  {
   "cell_type": "markdown",
   "metadata": {},
   "source": [
    "## Modelos de regresión con variables categóricas\n",
    "\n",
    "Los modelos lineales que vimos antes\n",
    "  - Solo pueden trabajar con variables dependientes e independientes continuas.\n",
    "\n",
    "Existen modelos alternartivos para trabajar con variables categóricas\n",
    "  - En las variables independientes\n",
    "  - En las variables dependientes"
   ]
  },
  {
   "cell_type": "markdown",
   "metadata": {},
   "source": [
    "## Análisis de Regresión Logística.\n",
    "\n",
    "Es un tipo de regresión alternativa que permite modelar variables dependientes\n",
    "con dos categorias.\n"
   ]
  },
  {
   "cell_type": "markdown",
   "metadata": {},
   "source": [
    "Vamos a analizar los datos del dataset *survey*.\n",
    "\n",
    "- Este dataset tiene datos de estudiantes.\n",
    "  - Queremos generar un modelo que nos permita predecir si un\n",
    "  - estudiante es\n",
    "    - hombre\n",
    "    - mujer\n",
    "  - usando como variables independientes\n",
    "    - la altura\n",
    "    - el pulso\n",
    "    - el tamaño de la mano con la que escribe\n",
    "- En este caso un modelo linear simple no es una buena solución.\n",
    "  - Podemos hacer una regresión logistica:\n",
    "  - $$logistic(x, \\alpha, \\beta) = \\frac{1}{1+e^{-(\\alpha+\\beta x)}}$$\n",
    "- Necesitamos modificar nuestros datos\n",
    "  Los valores del sexo que queremos predecir sean 1 y 0.\n"
   ]
  },
  {
   "cell_type": "code",
   "execution_count": null,
   "metadata": {},
   "outputs": [],
   "source": [
    "from rdatasets import data, descr\n",
    "\n",
    "survey = data(\"MASS\", \"survey\")\n",
    "survey.dropna(inplace=True)\n",
    "print(survey)\n",
    "print(descr(\"MASS\", \"survey\"))"
   ]
  },
  {
   "cell_type": "code",
   "execution_count": null,
   "metadata": {},
   "outputs": [],
   "source": [
    "import matplotlib.pyplot as plt\n",
    "survey[\"Sex\"] = [0 if x else 1 for x in (survey[\"Sex\"] == \"Male\")]\n",
    "survey\n"
   ]
  },
  {
   "cell_type": "code",
   "execution_count": null,
   "metadata": {},
   "outputs": [],
   "source": [
    "import statsmodels.api as sm\n",
    "import numpy as np\n",
    "\n",
    "plt.scatter(\n",
    "  x = survey[\"Height\"],\n",
    "  y = survey[\"Sex\"]\n",
    ")\n",
    "plt.yticks([0, 1], labels = [\"Male(0)\", \"Female(1)\"])\n",
    "plt.ylabel(\"Sex\")\n",
    "plt.xlabel(\"Height(cm)\")\n",
    "\n",
    "exog = sm.add_constant(survey[\"Height\"])\n",
    "regmod = sm.OLS(endog=survey[\"Sex\"], exog=exog)\n",
    "fitted = regmod.fit()\n",
    "\n",
    "plt.plot(\n",
    "  survey[\"Height\"],\n",
    "  fitted.predict(exog),\n",
    "  label=\"Fitted lineal\",\n",
    "  color = \"red\"\n",
    ")\n",
    "a = 51\n",
    "b = -0.3\n",
    "x = np.linspace(150, 190, 100)\n",
    "y2 = 1 / (1 + np.exp(-(x * b + a)))\n",
    "plt.plot(x, y2, color=\"green\", label = \"Fitted Logistic\")\n",
    "plt.legend()"
   ]
  },
  {
   "cell_type": "code",
   "execution_count": null,
   "metadata": {},
   "outputs": [],
   "source": [
    "import pandas as pd\n",
    "train_frac = 0.7\n",
    "train_elems = int(round(train_frac * len(survey)))\n",
    "print(f\"Selecciono {train_elems} elementos para entrenar\")\n",
    "print(f\"Selecciono {len(survey)-train_elems} elementos para testear\")\n",
    "\n",
    "suffled_indexes = survey.index.to_numpy()\n",
    "np.random.shuffle(suffled_indexes)\n",
    "train_indexes = suffled_indexes[:train_elems]\n",
    "test_indexes = suffled_indexes[train_elems:]\n",
    "\n",
    "survey_train = survey.loc[train_indexes,:]\n",
    "survey_test = survey.loc[test_indexes,:]\n",
    "\n",
    "exog = survey_train[[\"Height\", \"Wr.Hnd\", \"Pulse\"]]\n",
    "exog = sm.add_constant(exog)\n",
    "\n",
    "regmod = sm.Logit(\n",
    "  endog = survey_train[\"Sex\"],\n",
    "  exog = exog\n",
    ")\n",
    "fitted_log = regmod.fit()\n",
    "fitted_log.params\n",
    "\n",
    "test = survey_test[[\"Height\", \"Wr.Hnd\", \"Pulse\"]]\n",
    "test = sm.add_constant(test)\n",
    "test\n",
    "\n",
    "test_predicted = fitted_log.predict(test)\n",
    "test_predicted = (test_predicted > 0.5).astype(int)\n",
    "test_predicted.name = \"Predicted\"\n"
   ]
  },
  {
   "cell_type": "markdown",
   "metadata": {},
   "source": [
    "\n",
    "Luego del ajuste podemos considerar como \"Female\" aquellos valores mayores a 0.5 y \"Male\" a los menores.\n"
   ]
  },
  {
   "cell_type": "markdown",
   "metadata": {},
   "source": [
    "Comparemos que tan bien fue nuestra predicción.\n",
    "\n",
    "Podemos construir una tabla de contingencia para saber cuantos elementos\n",
    "predijimos correctamente."
   ]
  },
  {
   "cell_type": "code",
   "execution_count": null,
   "metadata": {},
   "outputs": [],
   "source": [
    "pd.crosstab(survey_test[\"Sex\"], test_predicted)"
   ]
  },
  {
   "cell_type": "markdown",
   "metadata": {},
   "source": [
    "## Metricas de diagnóstico\n",
    "\n",
    "|           | Real Pos. | Real Neg |\n",
    "| ---       | ---       | ---      |\n",
    "| Pred Pos. | TP        | FP       |\n",
    "| Pred Neg. | FN        | TN       |\n",
    "\n",
    "\n",
    "### Accuracy:\n",
    "\n",
    "- $\\frac{TP + TN}{TP + TN + FP + FN}$\n",
    "\n",
    "### Sensibility (TPR, recall):\n",
    "\n",
    "- $\\frac{TP}{TP + FN}$\n",
    "\n",
    "### False Positive Rate:\n",
    "\n",
    "- $\\frac{FP}{FP+TN}$\n",
    "\n",
    "### Precision (PPV):\n",
    "\n",
    "- $\\frac{TP}{TP + FP}$\n",
    "\n",
    "### F1 - Score (Media armónica de precision y recall)\n",
    "\n",
    "- $\\frac{2TP}{2TP + FP + FN}$"
   ]
  },
  {
   "cell_type": "markdown",
   "metadata": {},
   "source": [
    "## Curvas ROC\n",
    "\n",
    "- Una de las formas más usadas evaluar el resultado de un predictor binario:\n",
    "  - visualizar\n",
    "  - evaluar\n",
    "- Receiver Operating Characteristic.\n",
    "- Es un gráfico que muestra:\n",
    "  - la tasa de *falsos positivos* en el eje X\n",
    "  - la tasa de *verdaderos positivos* en el eje Y\n",
    "  - en el conjunto de datos predichos.\n",
    "  - Necesito:\n",
    "    - conocer los valores reales.\n",
    "    - poder ordenalos\n",
    "- Se ordenan los valores de la predicción y se le asocia a cada uno una etiqueta\n",
    "  - Verdadero/Falso\n",
    "  - de acuerdo a la información real.\n",
    "  - De esta forma queda una tabla de dos columnas.\n",
    "- Luego\n",
    "  - Se calcula:\n",
    "    - la tasa de verdaderos positivos\n",
    "    - la tasa de falses positivos\n",
    "    - para cada fila de la tabla"
   ]
  },
  {
   "cell_type": "markdown",
   "metadata": {},
   "source": [
    "\n",
    "|           | Real Pos. | Real Neg |\n",
    "| ---       | ---       | ---      |\n",
    "| Pred Pos. | TP        | FP       |\n",
    "| Pred Neg. | FN        | TN       |\n",
    "\n",
    "\n",
    "True Positive Rate:\n",
    "- $\\frac{TP}{TP+FN}$\n",
    "\n",
    "False Positive Rate:\n",
    "\n",
    "- $\\frac{FP}{FP+TN}$\n"
   ]
  },
  {
   "cell_type": "markdown",
   "metadata": {},
   "source": [
    "Tabla para crear la curva ROC\n",
    "\n",
    "| Pred | Etiqueta | TPR                | FPR                |\n",
    "| --   | --       | -------            | -------            |\n",
    "|      |          | 0                  | 0                  |\n",
    "| 0.9  | TRUE     | 1 / (1 + 3) = 0.25 | 0 / (0 + 4) = 0.00 |\n",
    "| 0.8  | FALSE    | 1 / (1 + 3) = 0.25 | 1 / (1 + 3) = 0.25 |\n",
    "| 0.7  | TRUE     | 2 / (2 + 2) = 0.50 | 1 / (1 + 3) = 0.25 |\n",
    "| 0.6  | FALSE    | 2 / (2 + 2) = 0.50 | 2 / (2 + 2) = 0.50 |\n",
    "| 0.5  | TRUE     | 3 / (3 + 1) = 0.75 | 2 / (2 + 2) = 0.50 |\n",
    "| 0.4  | TRUE     | 4 / (4 + 0) = 1.00 | 2 / (2 + 2) = 0.50 |\n",
    "| 0.3  | FALSE    | 4 / (4 + 0) = 1.00 | 3 / (3 + 1) = 0.75 |\n",
    "| 0.2  | FALSE    | 4 / (4 + 0) = 1.00 | 4 / (4 + 0) = 1.00 |\n"
   ]
  },
  {
   "cell_type": "code",
   "execution_count": null,
   "metadata": {},
   "outputs": [],
   "source": [
    "fpr = [0, 0, 0.25, 0.25, 0.50, 0.50, 0.50, 0.75, 1.00]\n",
    "tpr = [0, 0.25, 0.25, 0.50, 0.50, 0.75, 1.00, 1.00, 1.00]\n",
    "\n",
    "plt.plot(fpr, tpr)\n",
    "plt.fill_between(fpr, tpr, color=\"lightblue\")"
   ]
  },
  {
   "cell_type": "markdown",
   "metadata": {},
   "source": [
    "El area bajo la curva de este gráfico (AUC) es una medida de la capacidad\n",
    "predictiva:\n",
    "  - Un AUC = 1 es una predicción perfecta.\n",
    "  - Un AUC = 0.5 es una predicción aleatoria.\n",
    "  - Un AUC = 0 es una anti predicción perfecta."
   ]
  },
  {
   "cell_type": "code",
   "execution_count": null,
   "metadata": {},
   "outputs": [],
   "source": [
    "# Agrego una columna con los valores crudos de la preicción.\n",
    "survey_test[\"Pred\"] = fitted_log.predict(test)\n",
    "survey_test.sort_values(\"Pred\", inplace=True, ascending=False)\n",
    "survey_test\n",
    "\n",
    "tpr = survey_test[\"Sex\"].cumsum() / survey_test[\"Sex\"].sum()\n",
    "fpr = (1-survey_test[\"Sex\"]).cumsum() / (len(survey_test[\"Sex\"]) - survey_test[\"Sex\"].sum())\n",
    "\n",
    "plt.plot(fpr, tpr)\n",
    "plt.fill_between(fpr, tpr, color=\"lightblue\")\n",
    "plt.xlabel(\"FPR\")\n",
    "plt.ylabel(\"TPR\")\n",
    "\n",
    "\n",
    "# Calcula el area, sumando el area\n",
    "# los rectangulos que la componen\n",
    "delta_x = (fpr.iloc[1:].to_numpy() - fpr.iloc[:-1].to_numpy())\n",
    "y_values = tpr.iloc[1:].to_numpy()\n",
    "auc = (delta_x * y_values).sum()\n",
    "\n",
    "print(f\"El AUC es {auc:0.3f}\")\n",
    "\n",
    "plt.annotate(\n",
    "  xy = (0.5, 0.5),\n",
    "  xytext = (0.5, 0.9),\n",
    "  text = f\"AUC = {auc:0.3f}\"\n",
    ")"
   ]
  },
  {
   "cell_type": "code",
   "execution_count": null,
   "metadata": {},
   "outputs": [],
   "source": [
    "from sklearn import metrics\n",
    "\n",
    "auc2 = metrics.auc(fpr, tpr)\n",
    "print(f\"El AUC es {auc2}\")"
   ]
  }
 ],
 "metadata": {
  "kernelspec": {
   "display_name": "Python 3.9.9 ('.venv': venv)",
   "language": "python",
   "name": "python3"
  },
  "language_info": {
   "codemirror_mode": {
    "name": "ipython",
    "version": 3
   },
   "file_extension": ".py",
   "mimetype": "text/x-python",
   "name": "python",
   "nbconvert_exporter": "python",
   "pygments_lexer": "ipython3",
   "version": "3.9.4"
  },
  "orig_nbformat": 4,
  "vscode": {
   "interpreter": {
    "hash": "83b07c2f4bf3433171e71c2622c13225f444329e11349f4a7cc98dac3684b888"
   }
  }
 },
 "nbformat": 4,
 "nbformat_minor": 2
}
