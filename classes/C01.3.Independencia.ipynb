{
 "cells": [
  {
   "cell_type": "code",
   "execution_count": null,
   "metadata": {},
   "outputs": [],
   "source": [
    "# To use only Google Colab\n",
    "# ! pip install matplotlib --upgrade"
   ]
  },
  {
   "cell_type": "markdown",
   "metadata": {},
   "source": [
    "# Unidad I. Regresiones y reducción de dimensionalidad.\n",
    "\n",
    "## Independencia de variables y medidas de asociación.\n",
    "\n",
    "- Distribución conjunta de variables aleatorias.\n",
    " - Tablas de Contingencia.\n",
    " - Concepto de independencia."
   ]
  },
  {
   "cell_type": "markdown",
   "metadata": {},
   "source": [
    "Distribución conjunta (o *multivariada*)\n",
    "- la distribución de la intersección dos o más variables aleatorias.\n",
    "  - para dos variables: *distribución bivariada*\n",
    "- En el caso de dos variables aleatorias $X$ e $Y$:\n",
    "  - $P(X=x, Y=y)$\n",
    "  - $P(X, Y)$\n",
    "- Se debe cumplir:\n",
    "  - $\\sum_{i}\\sum_{j} P(X=x_{i}, Y=y_{j}) = 1$"
   ]
  },
  {
   "cell_type": "markdown",
   "metadata": {},
   "source": [
    "Probabilidad condicional:\n",
    "- Probabilidad de que:\n",
    "  - una de las variables tome un valor\n",
    "  - dado que el valor otra variable haya sido fijada\n",
    "- $P(x|y)$\n",
    "  - Es la probabilidad de $x$ dado $y$.\n",
    "  - Donde el valor de $y$ está fijado.\n",
    "- Se cumple que:\n",
    "  - $P(X=x, Y=y) = P(X=x|Y=y) \\cdot P(Y=y)$\n",
    "  - $P(X=x, Y=y) = P(Y=y|X=x) \\cdot P(X=x)$"
   ]
  },
  {
   "cell_type": "markdown",
   "metadata": {},
   "source": [
    "Variables independientes:\n",
    "- Si $X$ e $Y$ son variables **independientes**, se cumple que:\n",
    "- $P(X=x, Y=y) = P(X=x) \\cdot P(Y=y)$\n",
    "  - Es decir:\n",
    "    - P(X=x|Y=y) = P(X=x)\n",
    "    - P(Y=y|X=x) = P(Y=y)"
   ]
  },
  {
   "cell_type": "markdown",
   "metadata": {},
   "source": [
    "Probabilidades marginales:\n",
    "- Distribución de probabilidades de un subconjunto de las variables aleatorias.\n",
    "- Para distribuciones conjuntas bivariadas:\n",
    "  - P(X=x) (o P(Y=y))\n",
    "  - $ P(X=x) = \\sum_{y} P(X=x, Y=y)$"
   ]
  },
  {
   "cell_type": "markdown",
   "metadata": {},
   "source": [
    "\n",
    "Las definiciones anteriores son para dos variables categóricas.\n",
    "- Se extiende para variables continuas\n",
    "- donde la función de densidad de probabilidad (*PDF*) conjunta se define como:\n",
    "\n"
   ]
  },
  {
   "cell_type": "markdown",
   "metadata": {},
   "source": [
    "### Tablas de Contingencia\n",
    "\n",
    "- Representan todas las combinaciones de valores posibles para\n",
    "  - un determinado número de variables categóricas.\n",
    "  - Lo más frecuente es representar dos variables.\n",
    "    - Pero podrían representarse más.\n",
    "- Pueden contener valores de probabilidad\n",
    "  - pero también se usarse con frecuencias.\n",
    "\n",
    "| Y \\ X | x1 | x2 | x3 | P(Y=y) |\n",
    "| ---   | ---| ---| ---| ---    |\n",
    "| y1    |  a |  b |  c | a+b+c  |\n",
    "| y2    |  d |  e |  f | d+b+f  |\n",
    "| P(X=x)|a+d | d+e| c+f| total  |\n"
   ]
  },
  {
   "cell_type": "markdown",
   "metadata": {},
   "source": [
    "### Construir tablas de contingencia a partir de los datos"
   ]
  },
  {
   "cell_type": "code",
   "execution_count": null,
   "metadata": {},
   "outputs": [],
   "source": [
    "import pandas as pd\n",
    "\n",
    "data = [\n",
    "    [\"DP00004\", \"P49913\", \"Cathelicidin antimicrobial peptide\", \"Homo sapiens\", \"170\", \"No\"],\n",
    "    [\"DP00007\", \"P27695\", \"DNA-(apurinic or apyrimidinic site) lyase\", \"Homo sapiens\", \"318\", \"No\"],\n",
    "    [\"DP00011\", \"P0DMM9\", \"Sulfotransferase 1A3\", \"Homo sapiens\", \"295\", \"No\"],\n",
    "    [\"DP00012\", \"P13569\", \"Cystic fibrosis transmembrane conductance regulator\", \"Homo sapiens\", \"1480\", \"No\"],\n",
    "    [\"DP00013\", \"P0DN86\", \"Choriogonadotropin subunit beta 3\", \"Homo sapiens\", \"165\", \"No\"],\n",
    "    [\"DP00016\", \"P38936\", \"Cyclin-dependent kinase inhibitor 1\", \"Homo sapiens\", \"164\", \"Si\"],\n",
    "    [\"DP00017\", \"P49918\", \"Cyclin-dependent kinase inhibitor 1C\", \"Homo sapiens\", \"316\", \"Si\"],\n",
    "    [\"DP00018\", \"P46527\", \"Cyclin-dependent kinase inhibitor 1B\", \"Homo sapiens\", \"198\", \"Si\"],\n",
    "    [\"DP00023\", \"P14061\", \"Estradiol 17-beta-dehydrogenase 1\", \"Homo sapiens\", \"328\", \"No\"],\n",
    "    [\"DP00028\", \"Q13541\", \"Eukaryotic translation initiation factor 4E-binding protein 1\", \"Homo sapiens\", \"118\", \"Si\"],\n",
    "    [\"DP00030\", \"P04150\", \"Glucocorticoid receptor\", \"Homo sapiens\", \"777\", \"No\"],\n",
    "    [\"DP00033\", \"P10912\", \"Growth hormone receptor\", \"Homo sapiens\", \"638\", \"No\"],\n",
    "    [\"DP00039\", \"P05204\", \"Non-histone chromosomal protein HMG-17\", \"Homo sapiens\", \"90\", \"Si\"],\n",
    "    [\"DP00040\", \"P17096\", \"High mobility group protein HMG-I/HMG-Y\", \"Homo sapiens\", \"107\", \"Si\"],\n",
    "    [\"DP00054\", \"P78356\", \"Phosphatidylinositol 5-phosphate 4-kinase type-2 beta\", \"Homo sapiens\", \"416\", \"No\"],\n",
    "    [\"DP00061\", \"P27694\", \"Replication protein A 70 kDa DNA-binding subunit\", \"Homo sapiens\", \"616\", \"No\"],\n",
    "    [\"DP00062\", \"P19793\", \"Retinoic acid receptor RXR-alpha\", \"Homo sapiens\", \"462\", \"No\"],\n",
    "    [\"DP00069\", \"P63027\", \"Vesicle-associated membrane protein 2\", \"Homo sapiens\", \"116\", \"No\"],\n",
    "    [\"DP00070\", \"P37840\", \"Alpha-synuclein\", \"Homo sapiens\", \"140\", \"Si\"],\n",
    "    [\"DP00072\", \"Q8WZ42\", \"Titin\", \"Homo sapiens\", \"34350\", \"Si\"],\n",
    "    [\"DP00043\", \"P02929\", \"Protein TonB\", \"Escherichia coli (strain K12)\", \"239\", \"No\"],\n",
    "    [\"DP00088\", \"P0ABI8\", \"Cytochrome bo(3) ubiquinol oxidase subunit 1\", \"Escherichia coli (strain K12)\", \"663\", \"No\"],\n",
    "    [\"DP00089\", \"P0ABJ1\", \"Cytochrome bo(3) ubiquinol oxidase subunit 2\", \"Escherichia coli (strain K12)\", \"315\", \"No\"],\n",
    "    [\"DP00100\", \"P0A6H5\", \"ATP-dependent protease ATPase subunit HslU\", \"Escherichia coli (strain K12)\", \"443\", \"No\"],\n",
    "    [\"DP00103\", \"P09372\", \"Protein GrpE\", \"Escherichia coli (strain K12)\", \"197\", \"No\"],\n",
    "    [\"DP00107\", \"P69924\", \"Ribonucleoside-diphosphate reductase 1 subunit beta\", \"Escherichia coli (strain K12)\", \"376\", \"No\"],\n",
    "    [\"DP00140\", \"P0A7L8\", \"50S ribosomal protein L27\", \"Escherichia coli (strain K12)\", \"85\", \"Si\"],\n",
    "    [\"DP00145\", \"P0A7S3\", \"30S ribosomal protein S12\", \"Escherichia coli (strain K12)\", \"124\", \"No\"],\n",
    "    [\"DP00146\", \"P0A7T7\", \"30S ribosomal protein S18\", \"Escherichia coli (strain K12)\", \"75\", \"Si\"],\n",
    "    [\"DP00147\", \"P0A7U3\", \"30S ribosomal protein S19\", \"Escherichia coli (strain K12)\", \"92\", \"No\"],\n",
    "    [\"DP00161\", \"P77173\", \"Cell division protein ZipA\", \"Escherichia coli (strain K12)\", \"328\", \"No\"],\n",
    "    [\"DP00190\", \"P38038\", \"Sulfite reductase [NADPH] flavoprotein alpha-component\", \"Escherichia coli (strain K12)\", \"599\", \"No\"],\n",
    "    [\"DP00194\", \"P0AFZ3\", \"Stringent starvation protein B\", \"Escherichia coli (strain K12)\", \"165\", \"No\"],\n",
    "    [\"DP00197\", \"P0A707\", \"Translation initiation factor IF-3\", \"Escherichia coli (strain K12)\", \"180\", \"No\"],\n",
    "    [\"DP00207\", \"P21513\", \"Ribonuclease E\", \"Escherichia coli (strain K12)\", \"1061\", \"No\"],\n",
    "    [\"DP00242\", \"P0AG63\", \"30S ribosomal protein S17\", \"Escherichia coli (strain K12)\", \"84\", \"Si\"],\n",
    "    [\"DP00252\", \"P0A877\", \"Tryptophan synthase alpha chain\", \"Escherichia coli (strain K12)\", \"268\", \"No\"],\n",
    "    [\"DP00299\", \"P0AE70\", \"Endoribonuclease toxin MazF\", \"Escherichia coli (strain K12)\", \"111\", \"No\"],\n",
    "    [\"DP00301\", \"P0ABQ4\", \"Dihydrofolate reductase\", \"Escherichia coli (strain K12)\", \"159\", \"No\"],\n",
    "    [\"DP00337\", \"P06968\", \"Deoxyuridine 5'-triphosphate nucleotidohydrolase\", \"Escherichia coli (strain K12)\", \"152\", \"No\"],\n",
    "]\n",
    "\n",
    "df = pd.DataFrame(\n",
    "    data = data,\n",
    "    columns = [\"DisprotID\", \"UniprotId\", \"Name\", \"Organism\", \"length\", \"Fully Disordered\"]\n",
    ")\n",
    "df"
   ]
  },
  {
   "cell_type": "code",
   "execution_count": null,
   "metadata": {},
   "outputs": [],
   "source": [
    "contin_df = pd.crosstab(df[\"Organism\"], df[\"Fully Disordered\"])\n",
    "contin_df"
   ]
  },
  {
   "cell_type": "code",
   "execution_count": null,
   "metadata": {},
   "outputs": [],
   "source": [
    "prob_df = contin_df / contin_df.sum().sum()\n",
    "prob_df"
   ]
  },
  {
   "cell_type": "code",
   "execution_count": null,
   "metadata": {},
   "outputs": [],
   "source": [
    "margin_disorder = prob_df.sum()\n",
    "margin_disorder"
   ]
  },
  {
   "cell_type": "code",
   "execution_count": null,
   "metadata": {},
   "outputs": [],
   "source": [
    "margin_org = prob_df.sum(axis=1)\n",
    "margin_org"
   ]
  },
  {
   "cell_type": "code",
   "execution_count": null,
   "metadata": {},
   "outputs": [],
   "source": [
    "import scipy.stats as st\n",
    "\n",
    "st.contingency.crosstab(df[\"Organism\"], df[\"Fully Disordered\"])"
   ]
  },
  {
   "cell_type": "markdown",
   "metadata": {},
   "source": [
    "## Medidas de asociación"
   ]
  },
  {
   "cell_type": "markdown",
   "metadata": {},
   "source": [
    "### Variables continuas"
   ]
  },
  {
   "cell_type": "markdown",
   "metadata": {},
   "source": [
    "#### Coeficiente correlación de Pearson\n",
    "\n",
    "- El coeficiente de correlación de Pearson mide la relación lineal entre dos conjuntos de datos.\n",
    "- Varía entre -1 y +1, con 0 implicando ninguna correlación.\n",
    "- Correlaciones de -1 o +1 implican una relación lineal exacta.\n",
    "- Correlaciones positivas implican que a medida que x aumenta, también lo hace y.\n",
    "- Correlaciones negativas implican que a medida que x aumenta, y disminuye.\n",
    "- $r_{XY} = \\frac{\\sum{(X_i - \\bar{X})(Y_i - \\bar{Y})}}{\\sqrt{\\sum{(X_i - \\bar{X})^2} \\cdot \\sum{(Y_i - \\bar{Y})^2}}}$\n"
   ]
  },
  {
   "cell_type": "code",
   "execution_count": null,
   "metadata": {},
   "outputs": [],
   "source": [
    "\n",
    "import numpy as np\n",
    "import scipy.stats as st\n",
    "from matplotlib import pyplot as plt\n",
    "\n",
    "data = np.array([\n",
    "  0.02256488, 0.26681332, 0.29162887, 0.48849624, 0.50184021,\n",
    "  0.58003829, 0.59856923, 0.64207527, 0.65445321, 0.8683472\n",
    "])\n",
    "\n",
    "datay = np.array([\n",
    "  0.02090346, 0.02950049, 0.03190492, 0.05852373, 0.19714768,\n",
    "  0.37935066, 0.40032053, 0.52997007, 0.62628891, 0.64026217\n",
    "])\n",
    "\n",
    "fig, axes = plt.subplots()\n",
    "\n",
    "axes.scatter(data,  datay)\n",
    "\n",
    "coeff = st.pearsonr(data, datay)\n",
    "\n",
    "axes.text(\n",
    "  x=0.05,\n",
    "  y=0.60,\n",
    "  s = f\"Pearson: {coeff.statistic:0.4f}\",\n",
    "  fontsize = 16\n",
    ")\n"
   ]
  },
  {
   "cell_type": "markdown",
   "metadata": {},
   "source": [
    "### Variables categóricas"
   ]
  },
  {
   "cell_type": "markdown",
   "metadata": {},
   "source": [
    "#### Coeficiente de asociación de Cramer\n",
    "\n",
    "El coeficiente de correlación de Cramer es una medida de asociación entre dos\n",
    "variables categóricas en una tabla de contingencia. Es una generalización del\n",
    "coeficiente de correlación de Pearson adaptada para variables categóricas.\n",
    "El coeficiente de correlación de Cramer se denota como \\( V \\) y varía entre 0\n",
    "y 1, donde 0 indica ausencia de asociación y 1 indica una asociación\n",
    "perfecta entre las variables categóricas.\n",
    "\n",
    "La fórmula para calcular el coeficiente de correlación de Cramer es:\n",
    "\n",
    "$ V = \\sqrt{\\frac{\\chi^2}{n \\cdot \\min((r - 1), (c - 1))}} $\n",
    "\n",
    "Donde:\n",
    "- \\( V \\) es el coeficiente de correlación de Cramer.\n",
    "- \\( \\chi^2 \\) es el estadístico chi-cuadrado asociado a la tabla de contingencia.\n",
    "- \\( n \\) es el tamaño total de la muestra.\n",
    "- \\( r \\) es el número de filas en la tabla de contingencia.\n",
    "- \\( c \\) es el número de columnas en la tabla de contingencia.\n"
   ]
  },
  {
   "cell_type": "code",
   "execution_count": null,
   "metadata": {},
   "outputs": [],
   "source": [
    "import numpy as np\n",
    "\n",
    "from scipy.stats.contingency import association, crosstab\n",
    "\n",
    "data = {\n",
    "  \"paciente\": [\n",
    "    'P1', 'P2', 'P3', 'P4', 'P5', 'P6',\n",
    "    'P7', 'P8', 'P9', 'P10', 'P11', 'P12',\n",
    "    'P13', 'P14', 'P15', 'P16', 'P17', 'P18'\n",
    "  ],\n",
    "  \"droga\": [\n",
    "    'C', 'B', 'C', 'A', 'A', 'A',\n",
    "    'A', 'B', 'C', 'C', 'C', 'C',\n",
    "    'C', 'B', 'B', 'A', 'B', 'C'\n",
    "  ],\n",
    "  \"tiempo\": [\n",
    "    'Mañana', 'Noche', 'Mañana', 'Mañana', 'Noche', 'Noche',\n",
    "    'Noche', 'Mañana', 'Noche', 'Mañana', 'Mañana', 'Noche',\n",
    "    'Mañana', 'Mañana', 'Mañana', 'Mañana', 'Mañana', 'Noche'\n",
    "  ],\n",
    "  \"resultado\": [\n",
    "    'Positivo', 'Negativo', 'Positivo', 'Negativo', 'Negativo', 'Negativo',\n",
    "    'Negativo', 'Negativo', 'Positivo', 'Positivo', 'Positivo', 'Negativo',\n",
    "    'Negativo', 'Negativo', 'Positivo', 'Negativo', 'Positivo', 'Positivo'\n",
    "  ]\n",
    "}\n",
    "df = pd.DataFrame(data)\n",
    "\n",
    "t_v_r = crosstab(df.tiempo, df.resultado)\n",
    "t_v_r = crosstab(df.droga, df.resultado)\n",
    "\n",
    "association(t_v_r[1], method=\"cramer\")"
   ]
  },
  {
   "cell_type": "markdown",
   "metadata": {},
   "source": [
    "### Ambos tipos de variables\n"
   ]
  },
  {
   "cell_type": "markdown",
   "metadata": {},
   "source": [
    "#### Correlación de rankings de Spearman.\n",
    "\n",
    "\n",
    "- El coeficiente de correlación de Spearman\n",
    "  - es una medida de asociación entre dos variables\n",
    "  - se basa en los rankings de los datos en lugar de en los valores brutos.\n",
    "\n",
    "- Es adecuada para datos ordinales o cuando los datos no siguen una\n",
    "  distribución normal.\n",
    "\n",
    "- El coeficiente de correlación de Spearman varía entre -1 y 1.\n",
    "- Un valor cercano a 1 indica una relación monótona creciente entre las dos\n",
    "  variables,\n",
    "- mientras que un valor cercano a -1 indica una relación monótona\n",
    "  decreciente.\n",
    "- Un valor de 0 indica la ausencia de una relación monotónica\n",
    "  entre las variables.\n",
    "\n",
    "- La fórmula para calcular el coeficiente de correlación de Spearman es:\n",
    "\n",
    "$\\rho = 1 - \\frac{6 \\sum{d^2}}{n(n^2 - 1)} $\n",
    "\n",
    "Donde:\n",
    "- ( $\\rho$ ) es el coeficiente de correlación de Spearman.\n",
    "- ( d ) es la diferencia entre los ranking de las dos variables para cada observación.\n",
    "- ( n ) es el número total de observaciones.\n",
    "\n"
   ]
  },
  {
   "cell_type": "code",
   "execution_count": null,
   "metadata": {},
   "outputs": [],
   "source": [
    "from scipy.stats import spearmanr\n",
    "\n",
    "# Datos de ejemplo\n",
    "variable1 = [\n",
    "  \"A\", \"B\", \"A\", \"C\", \"B\", \"A\",\n",
    "  \"B\", \"B\", \"C\", \"C\", \"A\", \"A\"\n",
    "] # A > B > C\n",
    "variable2 = [\n",
    "  \"Z\", \"Y\", \"Y\", \"X\", \"Z\", \"Z\",\n",
    "  \"Y\", \"Y\", \"X\", \"X\", \"Z\", \"Y\"\n",
    "] # Z > Y > X\n",
    "\n",
    "# Asignar rangos a las categorías\n",
    "mapeo_variable1 = {categoria: i for i, categoria in enumerate([\"A\", \"B\", \"C\"])}\n",
    "mapeo_variable2 = {categoria: i for i, categoria in enumerate([\"Z\", \"Y\", \"X\"])}\n",
    "rank_variable1 = [mapeo_variable1[categoria] for categoria in variable1]\n",
    "rank_variable2 = [mapeo_variable2[categoria] for categoria in variable2]\n",
    "\n",
    "# Calcular la correlación de Spearman\n",
    "spearman_corr, p_value = spearmanr(rank_variable1, rank_variable2)\n",
    "\n",
    "print(\"Coeficiente de correlación de Spearman:\", spearman_corr)\n"
   ]
  },
  {
   "cell_type": "markdown",
   "metadata": {},
   "source": [
    "#### Coeficiente de correlación de Kendall\n",
    "\n",
    "- El coeficiente de correlación de Kendall\n",
    "  - es una medida de asociación no paramétrica\n",
    "  - evalúa la concordancia de los rankings entre dos variables.\n",
    "- Es útil cuando se trabaja con datos ordinales o de rankings.\n",
    "\n",
    "- El coeficiente de correlación de Kendall varía entre -1 y 1.\n",
    "\n",
    "- Un valor cercano a 1 indica una fuerte concordancia entre los rankings de las\n",
    "dos variables,\n",
    "\n",
    "- mientras que un valor cercano a -1 indica una fuerte discordancia.\n",
    "\n",
    "- Un valor de 0 indica ausencia de asociación.\n",
    "\n",
    "- La fórmula para calcular el coeficiente de correlación de Kendall es:\n",
    "\n",
    "$ \\tau = \\frac{P - Q}{\\sqrt{(P + Q + T) \\cdot (P + Q + U)}} $\n",
    "\n",
    "Donde:\n",
    "- ( $\\tau$ ) es el coeficiente de correlación de Kendall.\n",
    "- ( P ) es el número de pares concordantes.\n",
    "- ( Q ) es el número de pares discordantes.\n",
    "- ( T ) es el número de pares con empates solo en la primera variable.\n",
    "- ( U ) es el número de pares con empates solo en la segunda variable.\n"
   ]
  },
  {
   "cell_type": "code",
   "execution_count": null,
   "metadata": {},
   "outputs": [],
   "source": [
    "from scipy.stats import kendalltau\n",
    "\n",
    "# Datos de ejemplo\n",
    "variable1 = [\n",
    "  \"A\", \"B\", \"A\", \"C\", \"B\", \"A\",\n",
    "  \"B\", \"B\", \"C\", \"C\", \"A\", \"A\"\n",
    "] # A > B > C\n",
    "variable2 = [\n",
    "  \"Z\", \"Y\", \"Y\", \"X\", \"Z\", \"Z\",\n",
    "  \"Y\", \"Y\", \"X\", \"X\", \"Z\", \"Y\"\n",
    "] # Z > Y > X\n",
    "\n",
    "# Asignar rangos a las categorías\n",
    "mapeo_variable1 = {categoria: i for i, categoria in enumerate([\"A\", \"B\", \"C\"])}\n",
    "mapeo_variable2 = {categoria: i for i, categoria in enumerate([\"Z\", \"Y\", \"X\"])}\n",
    "rank_variable1 = [mapeo_variable1[categoria] for categoria in variable1]\n",
    "rank_variable2 = [mapeo_variable2[categoria] for categoria in variable2]\n",
    "\n",
    "# Calcular la correlación de Spearman\n",
    "kendall_coeff, p_value = kendalltau(rank_variable1, rank_variable2)\n",
    "\n",
    "print(\"Coeficiente de correlación de Kendall:\", kendall_coeff)\n"
   ]
  }
 ],
 "metadata": {
  "kernelspec": {
   "display_name": "Python 3.9.4 ('.venv': venv)",
   "language": "python",
   "name": "python3"
  },
  "language_info": {
   "codemirror_mode": {
    "name": "ipython",
    "version": 3
   },
   "file_extension": ".py",
   "mimetype": "text/x-python",
   "name": "python",
   "nbconvert_exporter": "python",
   "pygments_lexer": "ipython3",
   "version": "3.9.4"
  },
  "orig_nbformat": 4,
  "vscode": {
   "interpreter": {
    "hash": "2642d409aca2f3e50c4cc7e12f906abb96a179c2b76bcb58c2b6a9943c6a4da3"
   }
  }
 },
 "nbformat": 4,
 "nbformat_minor": 2
}
