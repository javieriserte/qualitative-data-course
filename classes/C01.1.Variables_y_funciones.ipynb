{
  "cells": [
    {
      "cell_type": "code",
      "execution_count": null,
      "metadata": {
        "id": "qkTMuibRHNHa"
      },
      "outputs": [],
      "source": [
        "%load_ext autoreload\n",
        "%autoreload 2"
      ]
    },
    {
      "cell_type": "code",
      "execution_count": null,
      "metadata": {
        "colab": {
          "base_uri": "https://localhost:8080/",
          "height": 795
        },
        "id": "Fvnr6vvqHNHc",
        "outputId": "815c9e30-8b4e-4d94-b603-e4b6750da448"
      },
      "outputs": [],
      "source": [
        "# To use only Google Colab\n",
        "! pip install matplotlib --upgrade\n",
        "! wget https://github.com/javieriserte/qualitative-data-course/raw/master/classes/C01.py"
      ]
    },
    {
      "cell_type": "markdown",
      "metadata": {
        "id": "t53ozDLVHNHe"
      },
      "source": [
        "# Unidad I: Variables, distribuciones y pruebas de hipótesis\n",
        "\n",
        "- Variables aleatorias y funciones de distribución.\n",
        "- Variables aleatorias discretas y continuas, niveles de medición.\n",
        "- Distribuciones importantes\n",
        "- Generación de distribuciones a partir de operaciones con variables aleatorias\n",
        "  conocidas.\n"
      ]
    },
    {
      "cell_type": "markdown",
      "metadata": {
        "id": "w6gBHcrHHNHf"
      },
      "source": [
        "## Variables aleatorias\n",
        "\n",
        "- Variable categórica o cualitativas: Variables que representan grupos o\n",
        "categorías.\n",
        "- Puede tener escala nominal u ordinal.\n",
        "  - Las variables nominales no tienen un orden definido\n",
        "  - mientras las ordinales o casi cuantitativas tienen un orden definido.\n",
        "- Variable cuantitativas: Pueden ser discretas o continuas.\n",
        "\n",
        "Es importante notar que los métodos desarrollados para variables\n",
        "ordinales no pueden ser utilizados con variables nominales.\n",
        "\n",
        "Los métodos para variables nominales pueden ser utilizados con variables\n",
        "ordinales, pero se pierde poder en el proceso, debido a que no se utiliza la\n",
        "información relativa al orden.\n",
        "\n",
        "La variables cualitativas con solo dos niveles suelen denominarse binarias,\n",
        "dicotómicas o booleanas.\n",
        "\n",
        "En los análisis estadísticos, las variables aleatorias pueden clasificarse\n",
        "como:\n",
        "\n",
        "- Variable explicativa: es aquella que se controla en el diseño experimental.\n",
        "- Variable de respuesta: es aquella que se observa o mide en el experimento."
      ]
    },
    {
      "cell_type": "code",
      "execution_count": null,
      "metadata": {
        "colab": {
          "base_uri": "https://localhost:8080/",
          "height": 279
        },
        "id": "daKZJB6nHNHg",
        "outputId": "2fe1531a-8c4a-41db-96ac-b7f900298786"
      },
      "outputs": [],
      "source": [
        "import C01\n",
        "C01.variables_plot()"
      ]
    },
    {
      "cell_type": "markdown",
      "metadata": {
        "id": "DLf_9Nf9HNHh"
      },
      "source": [
        "## Funciones de distribución"
      ]
    },
    {
      "cell_type": "markdown",
      "metadata": {
        "id": "r5KbaazfHNHi"
      },
      "source": [
        "### Función de masa/densidad de probabilidad\n",
        "\n",
        "- Describen la probabilidad relativa de una variable a tomar un cierto valor.\n",
        "\n",
        "- Se nombran diferente de acuerdo al tipo de variable aleatoria a la que están\n",
        "  aplicadas:\n",
        "\n",
        "  - Variables continuas: Función de densidad de probabilidad (**PDF** por\n",
        "    Probability Density Function)\n",
        "\n",
        "  - Variables discreta: Función de masa de probabilidad (**PMF** por Probability\n",
        "    Mass Function)\n",
        "\n",
        "- El área bajo la curva es la probabilidad.\n",
        "  - PMF:\n",
        "    - $PMF_X(a) = \\text{probabilidad de obtener X = a}$\n",
        "    - El valor de $PMF_X$ está en el rango $[0, 1]$ para todo el dominio.\n",
        "\n",
        "  - PDF:\n",
        "    - No tienen sentido evaluarlas en un punto del dominio.\n",
        "    - Para obtener un probabilidad debemos integrar la función en un intervalo:\n",
        "      - $\\int_a^b{PDF_X{(x)}dx} = P(a\\leq X \\leq b)$\n",
        "\n",
        "- El área total bajo la curva es siempre igual a uno.\n",
        "\n",
        "  - PMF: $\\sum_{x}PMF_X(x) = 1$\n",
        "  - PDF: $\\int{PDF_X(x)dx} = 1$\n"
      ]
    },
    {
      "cell_type": "code",
      "execution_count": null,
      "metadata": {
        "id": "JI3od7vLHNHj",
        "outputId": "c1ea799d-832f-4d06-dd93-8fa22c1af40d"
      },
      "outputs": [],
      "source": [
        "import C01\n",
        "\n",
        "C01.pmf_example()"
      ]
    },
    {
      "cell_type": "code",
      "execution_count": null,
      "metadata": {
        "id": "Cm4IB37XHNHj",
        "outputId": "f43adfac-4573-4f1f-e553-787b4b10b014"
      },
      "outputs": [],
      "source": [
        "C01.pdf_example()"
      ]
    },
    {
      "cell_type": "markdown",
      "metadata": {
        "id": "gydtDZ2eHNHl"
      },
      "source": [
        "### Funciones de distribución acumulada\n",
        "\n",
        "Es una función que retorna la probabilidad de que una variable aleatoria no\n",
        "nominal sea menor o igual a un determinado valor.\n",
        "\n",
        "- $F_X(x) = P(X\\leq x)$\n",
        "\n",
        "- Tienen diferentes nombres dependiendo del tipo de variable.\n",
        "  - Para variables continuas: CDF (Cummulative density function):\n",
        "    - $ CDF_X(x) = \\int_{-\\infty}^{x} PDF_X(u) du $\n",
        "  - Para variables categóricas: CMF (Cummulative mass function):\n",
        "    - $ CMF_X{x} = \\sum\\limits_{X \\leqslant x} PMF_X(x) $\n",
        "\n",
        "- La imagen es el intervalo $[0, 1]$.\n",
        "- Es monótona creciente.\n",
        "- Es fácil obtener la probabilidad de que un valor de $X$ caiga dentro de un\n",
        "  cierto intervalo $(a,b]$ usando su $CDF$:\n",
        "  - $P(a < X \\leqslant b) = CDF_X(b) - CDF_X(a)$\n",
        "\n",
        "- Para calcular la probabilidad de observar un valor mayor a otro dado:\n",
        "  - $CCDF(x) = P(X > x) = 1 - CDF(x)$\n",
        "  - (*Complementary Cumulative Distribution Function*, **CCDF**)\n"
      ]
    },
    {
      "cell_type": "code",
      "execution_count": null,
      "metadata": {
        "id": "-NxurjZ8HNHm",
        "outputId": "6b042dd4-5472-466c-cdff-bb206df9228c"
      },
      "outputs": [],
      "source": [
        "import C01\n",
        "C01.cmf_example()"
      ]
    },
    {
      "cell_type": "code",
      "execution_count": null,
      "metadata": {
        "id": "dpmNmHOcHNHm",
        "outputId": "8f0250cd-6f00-41ca-b93d-c4ab9e49d13b"
      },
      "outputs": [],
      "source": [
        "import C01\n",
        "C01.cdf_example()"
      ]
    },
    {
      "cell_type": "markdown",
      "metadata": {
        "id": "fI5RYxGuHNHn"
      },
      "source": [
        "\n",
        "## Niveles de medición\n",
        "\n",
        "- Una *variable aleatoria* es una función que puede tomar una serie de valores medibles u observables.\n",
        "- La frecuencia de aparición de los valores está asociada a una\n",
        "  distribución de probabilidad.\n",
        "- Estas variables resultan de *experimentos aleatorios*.\n",
        "  - Dada las mismas condiciones iniciales no se obtienen los mismos resultados en cada *experiencia* o *prueba*.\n",
        "\n",
        "- Los resultados de una *variable aleatoria* pueden medirse en diferentes *escalas de medida*:\n",
        "\n",
        "| Nivel | Variable | Precisión | Descripción  | Operaciones |\n",
        "|-------|----------|-----------|--------------|-------------|\n",
        "| Nominal | Cualitativas | Menor | No hay orden | `==` `!=` |\n",
        "| Ordinal | Cualitativas, Cuantitativas | Intermedia | Hay orden pero no hay distancias | ... `<` `>` `<=` `>=` |\n",
        "| Intervalar | Cuantitativas | Intermedia | El cero/la escala es arbitrario/a | ... `+` `-` |\n",
        "| Racional | Cuantitativas | Mayor | El cero/la escala no es arbitrario/a | ... `/` `//` ... *(todas)* |\n"
      ]
    },
    {
      "cell_type": "markdown",
      "metadata": {
        "id": "YCoKXZWtHNHn"
      },
      "source": [
        "## Distribuciones paramétricas y no paramétricas\n",
        "\n",
        "- Distribuciones paramétricas:\n",
        "  - La forma de la distribución está dada por un modelo matemático teórico que\n",
        "    describe el problema de origen.\n",
        "  - Suelen tener uno o más parámetros que definen la forma.\n",
        "  - Ejemplos:\n",
        "    - Normal, Exponential.\n",
        "\n",
        "- Distribuciones no paramétricas:\n",
        "  - Son construidas empíricamente a partir de los datos.\n",
        "  - Ejemplos:\n",
        "    - Histogramas\n",
        "    - Triangular\n",
        "\n"
      ]
    },
    {
      "cell_type": "markdown",
      "metadata": {
        "id": "HzLw7Gb0HNHo"
      },
      "source": [
        "\n",
        "## Distribuciones importantes\n",
        "\n",
        "La distribuciones más conocidas para datos continuos o discretos son:\n",
        "\n",
        "- la distribución Normal,\n",
        "- la distribución T,\n",
        "- la distribución de Poisson.\n",
        "\n",
        "Algunas de las distribuciones más importantes para datos categóricos:\n",
        "\n",
        "- la **Binomial**,\n",
        "- la **Multinomial**\n"
      ]
    },
    {
      "cell_type": "markdown",
      "metadata": {
        "id": "O9n2k7e5HNHo"
      },
      "source": [
        "\n",
        "### Distribución Normal\n",
        "\n",
        "- También llamada *Distribución de Gauss* o *Gaussiana*.\n",
        "- Su función de densidad de probabilidad es la *campana de Gauss*.\n",
        "- Tiene dos parámetros de forma:\n",
        "  - el promedio $μ$\n",
        "  - la desviación estándar $σ$\n",
        "- Una distribución normal con parametros $μ=0$ y $σ=1$ se conoce como **normal estándar**:\n",
        "  - $\\mathcal{N}(0,1)$\n",
        "- La ecuación de la distribución normal es:\n",
        "  - $f(x, μ, σ) = \\frac{1}{σ\\sqrt{2 π}}exp \\Bigg( {-\\frac{(x - μ)^2}{2σ^2}} \\Bigg)$"
      ]
    },
    {
      "cell_type": "code",
      "execution_count": null,
      "metadata": {
        "colab": {
          "base_uri": "https://localhost:8080/",
          "height": 265
        },
        "id": "9HVjD3DvHNHo",
        "outputId": "33a72379-49ea-49d6-ab2f-f6da8321c00a"
      },
      "outputs": [],
      "source": [
        "import C01\n",
        "C01.normal_dist_description()"
      ]
    },
    {
      "cell_type": "code",
      "execution_count": null,
      "metadata": {
        "colab": {
          "base_uri": "https://localhost:8080/",
          "height": 297
        },
        "id": "L8rdG74GHNHp",
        "outputId": "c11d097f-e383-4606-9c88-52055a763110"
      },
      "outputs": [],
      "source": [
        "import C01\n",
        "C01.normal_distribution_mu_plot()"
      ]
    },
    {
      "cell_type": "code",
      "execution_count": null,
      "metadata": {
        "colab": {
          "base_uri": "https://localhost:8080/",
          "height": 297
        },
        "id": "m_mIXm2OHNHp",
        "outputId": "d2f54d43-9ab4-4e53-95d6-44a687923891"
      },
      "outputs": [],
      "source": [
        "C01\n",
        "C01.normal_distribution_sigma_plot()"
      ]
    },
    {
      "cell_type": "markdown",
      "metadata": {
        "id": "wpVET0SHHNHp"
      },
      "source": [
        "- Esta distribución es importante debido al **Teorema Central del Límite**\n",
        "  - Si se tiene una muestra de una distribución:\n",
        "    - de valores *independientes e idénticamente distribuidos*\n",
        "    - tamaño $n$\n",
        "    - media poblacional $\\mu$\n",
        "    - desviación estándar $\\sigma$\n",
        "  - la distribución de la media muestral ($\\overline{x_{n}}$)\n",
        "    - converge a una distribución $\\overline{x_{n}} \\sim \\mathcal{N}(\\mu,\\frac{\\sigma}{\\sqrt{n}})$\n",
        "    - cuando $n \\rightarrow \\infty$\n"
      ]
    },
    {
      "cell_type": "code",
      "execution_count": null,
      "metadata": {
        "id": "s_CW7VrLHNHq",
        "outputId": "e09ca288-f234-4873-9aca-fb114b5bff78"
      },
      "outputs": [],
      "source": [
        "import C01\n",
        "C01.central_limit_plot()\n"
      ]
    },
    {
      "cell_type": "markdown",
      "metadata": {
        "id": "VWdUULRJZtRQ"
      },
      "source": [
        "Ejercicio:\n",
        "\n",
        "- ¿Cómo puedo generar de datos aleatorios de una función de densidad de probabilidad?\n",
        "  - Suponemos que sabemos obtener datos aleatorios de una     distrubición uniforme."
      ]
    },
    {
      "cell_type": "markdown",
      "metadata": {
        "id": "Vv_9QWlWHNHq"
      },
      "source": [
        "### Generación de datos aleatorios de una distribución normal"
      ]
    },
    {
      "cell_type": "code",
      "execution_count": null,
      "metadata": {
        "colab": {
          "base_uri": "https://localhost:8080/",
          "height": 295
        },
        "id": "_JSFIMkSHNHq",
        "outputId": "0ecc9c15-ec82-4abd-8b31-8caf0ac3df40"
      },
      "outputs": [],
      "source": [
        "from scipy.stats import norm\n",
        "import matplotlib.pyplot as plt\n",
        "import numpy as np\n",
        "\n",
        "normal_sample = norm.rvs(\n",
        "  loc = 0, # mu\n",
        "  scale = 1, # sigma / std. dev.\n",
        "  size = 1000 # tamaño de la muestra\n",
        ")\n",
        "\n",
        "plt.hist(\n",
        "  normal_sample,\n",
        "  bins = 20,\n",
        "  density = True\n",
        ")\n",
        "\n",
        "plt.title(\"Sample of normal distribution\")\n",
        "plt.xlabel(\"Domain\")\n",
        "plt.ylabel(\"Density\")\n",
        "\n",
        "x = np.linspace(-3, +3, 100)\n",
        "a = plt.plot(\n",
        "    x,\n",
        "    norm.pdf(x, loc = 0, scale = 1)\n",
        ")"
      ]
    },
    {
      "cell_type": "markdown",
      "metadata": {
        "id": "zcXD7B4iHNHr"
      },
      "source": [
        "\n",
        "### Distribución T\n",
        "\n",
        "La distribución T (de *Student*):\n",
        "  - surge de estimar la media de:\n",
        "    - una muestra pequeña de tamaño $n$\n",
        "    - con distribución normal\n",
        "    - y la desviación estándar de la población ($\\sigma$) es desconocida.\n",
        "  - La variable aleatoria que se obtiene de tener ...\n",
        "    - la media de muestra ($\\bar{X}$)\n",
        "    - restarle la media poblacional ($\\mu$)\n",
        "    - dividirla por el cociente de:\n",
        "      - la desviación estándar de la muestra ($S$)\n",
        "      - sobre $\\sqrt{n}$.\n",
        "    - tiene un distribución T,\n",
        "      - con $\\nu = n-1$ grados de libertad.\n",
        "  - La ecuación es $t = \\frac{\\overline{X_{n}}-\\mu}{\\frac{S_{n}}{\\sqrt{n}}}$\n",
        "  - La forma es:\n",
        "    - similar a la distribución normal estándar\n",
        "    - pero con colas más pesadas\n",
        "  - Converge hacia:\n",
        "    - una distribución normal $\\mathcal{N}(0,1)$\n",
        "    - cuando $\\nu \\rightarrow \\infty$.\n",
        "  - La función de densidad de probabilidad es:\n",
        "    - $PDF_{T}(x, \\nu) = \\frac{\\Gamma (\\frac{\\nu+1}{2})}{\\sqrt{\\nu\\pi}\\times \\Gamma(\\frac{\\nu}{2})}\\bigg(1+\\frac{x^2}{2}\\bigg)^{-\\frac{\\nu+1}{2}}$\n",
        "    - $\\Gamma$ es la función Gamma.\n",
        "\n",
        "\n",
        "\n"
      ]
    },
    {
      "cell_type": "code",
      "execution_count": null,
      "metadata": {
        "id": "IhArwATvHNHr",
        "outputId": "ff86dfad-62cf-4f3d-948d-2b77fd75803e"
      },
      "outputs": [],
      "source": [
        "import C01\n",
        "C01.distribution_t_plot()"
      ]
    },
    {
      "cell_type": "markdown",
      "metadata": {
        "id": "RkZfFaDLHNHr"
      },
      "source": [
        "### Poisson Distribution\n",
        "\n",
        "Es una función:\n",
        "- de probabilidad discreta\n",
        "- describe la cantidad de eventos independientes\n",
        "- que ocurren dentro de una unidad de tiempo (o espacio, area, volumen, etc).\n",
        "- $PMF(k, \\lambda) = \\frac{\\lambda^k}{k!}e^{-\\lambda}$\n",
        "  - $\\lambda$ es la frecuencia promedio de ocurrencia de un evento.\n",
        "  - $\\lambda = E(X) = Var(X)$\n"
      ]
    },
    {
      "cell_type": "markdown",
      "metadata": {
        "id": "gcozgQ5aHNHr"
      },
      "source": [
        "Un ejemplo:\n",
        "\n",
        "- Al año una persona recibe un promedio de 77 llamadas fraudulentas por\n",
        "  teléfono.\n",
        "- Cual es la distribución de probabilidades de obtener 0, 1, 2, etc llamadas en\n",
        "  30 días.\n"
      ]
    },
    {
      "cell_type": "code",
      "execution_count": null,
      "metadata": {
        "colab": {
          "base_uri": "https://localhost:8080/",
          "height": 297
        },
        "id": "XUe2qC3GHNHs",
        "outputId": "c0eba7be-f622-4d05-8b5c-7817ed078a17"
      },
      "outputs": [],
      "source": [
        "import numpy as np\n",
        "from scipy.stats import poisson\n",
        "import matplotlib.pyplot as plt\n",
        "\n",
        "# Calcular la probabilidad promedio\n",
        "p = (77 / 365) * 30\n",
        "\n",
        "x = np.arange(int(3*p))\n",
        "\n",
        "y = poisson.pmf(\n",
        "  k = x,\n",
        "  mu = p\n",
        ")\n",
        "\n",
        "bplot = plt.bar(\n",
        "  x = x,\n",
        "  height = y\n",
        ")\n",
        "\n",
        "bplot.patches[6].set_color(\"red\")\n",
        "plt.annotate(\n",
        "  xy = (6, poisson.pmf(6, p) * 0.9),\n",
        "  xytext = (9, poisson.pmf(6, p) * 0.95),\n",
        "  text = f\"$PMF_X(6) = {poisson.pmf(6, p):0.3f}...$\",\n",
        "  arrowprops = dict(\n",
        "    arrowstyle = \"->\"\n",
        "  ),\n",
        "  fontsize = 14,\n",
        "  bbox = dict(\n",
        "    boxstyle = 'round',\n",
        "    fc = 'lightgray'\n",
        "  )\n",
        ")\n",
        "plt.title(\"Poisson distribution example\")\n",
        "\n",
        "plt.xticks(\n",
        "  ticks = x,\n",
        "  labels = x\n",
        ")\n",
        "plt.tight_layout()"
      ]
    },
    {
      "cell_type": "markdown",
      "metadata": {
        "id": "6YavEv8rHNHs"
      },
      "source": [
        "\n",
        "\n",
        "### Distribución Binomial\n",
        "\n",
        "- Se utiliza con:\n",
        "  - variables categóricas\n",
        "  - que sólo pueden tomar dos valores (dicotómicas)\n",
        "    - *éxito* (`1`, `true`)\n",
        "    - *fracaso* (`0`, `false`).\n",
        "  - El número de éxitos:\n",
        "    - producios de $n$ ensayos (*ensayos de Bernoulli*)\n",
        "    - sigue una **distribución binomial** con parámetros $n$ y $p$\n",
        "      - $p$ es la probabilidad de éxito.\n",
        "  - Se asume que:\n",
        "    - $n$ es fijado de antemano.\n",
        "    - $p$ es idéntico en todos los ensayos.\n",
        "  - Se puede describir con la ecuación:\n",
        "  - $P(X=k) = {n\\choose k}p^k(1-p)^{n-k}, 0 \\leq k \\leq n$\n",
        "  - ${n \\choose k} = \\frac{n!}{(n-k)!k!} = \\text{Combinaciones de k sobre n}$"
      ]
    },
    {
      "cell_type": "code",
      "execution_count": null,
      "metadata": {
        "id": "ZrRPgfeLHNHt",
        "outputId": "9799f59e-d2ed-47cb-80f3-78846b1cbeb7"
      },
      "outputs": [],
      "source": [
        "import C01\n",
        "C01.binomial_plot()"
      ]
    },
    {
      "cell_type": "code",
      "execution_count": null,
      "metadata": {
        "id": "y8sjBk6_HNHt",
        "outputId": "ca4cbadc-eec0-45c4-ea0f-1317f91e5a96"
      },
      "outputs": [],
      "source": [
        "import C01\n",
        "C01.binomial_cmf_plot()"
      ]
    },
    {
      "cell_type": "markdown",
      "metadata": {
        "id": "gX5h-Fz4HNHt"
      },
      "source": [
        "\n",
        "### Distribución Multinomial\n",
        "\n",
        "Es una generalización de la **distribución binomial**\n",
        "  - más de dos categorías.\n",
        "  - Para $n$ ensayos\n",
        "  - en $k$ categorías\n",
        "  - cada categoría tiene una probabilidad de éxito fija $p_{k}$\n",
        "  - da la probabilidad de\n",
        "    - una combinación de números de éxitos particular\n",
        "    - para varias categorías.\n",
        "  - Se puede representar con la ecuación:\n",
        "    - $ \\frac{n!}{x_1! \\dotsm x_k!}p_1^{x_1} \\dotsm {p_k^{x_k}}$"
      ]
    },
    {
      "cell_type": "markdown",
      "metadata": {
        "id": "ntSpJFwaHNHt"
      },
      "source": [
        "¿Cuál es la probabilidad de obtener una tirada con seis dados en la que todos los\n",
        "valores sean diferentes?"
      ]
    },
    {
      "cell_type": "code",
      "execution_count": null,
      "metadata": {
        "colab": {
          "base_uri": "https://localhost:8080/"
        },
        "id": "1FWYSeKGHNHu",
        "outputId": "1dc08ab1-51c6-45bb-8953-43bd2e4f828c"
      },
      "outputs": [],
      "source": [
        "from scipy.stats import multinomial\n",
        "\n",
        "# Defino las probabilidades de exito de cada evento\n",
        "pk = [1/6] * 6\n",
        "print(\n",
        "  multinomial.pmf([1]*6, n=6, p=pk)\n",
        ")\n",
        "\n",
        "n_samples = 100000\n",
        "sample = multinomial.rvs(n=6, p=pk, size = n_samples)\n",
        "\n",
        "uniques = np.apply_along_axis(\n",
        "   np.max, 1, sample\n",
        ")\n",
        "uniques\n",
        "\n",
        "number_success = uniques[uniques == 1].sum()\n",
        "number_success / n_samples"
      ]
    },
    {
      "cell_type": "markdown",
      "metadata": {
        "id": "xRSYdZqBHNHu"
      },
      "source": [
        "¿Cuál es la probabilidad obtener al menos 5 dados iguales?\n"
      ]
    },
    {
      "cell_type": "code",
      "execution_count": null,
      "metadata": {
        "id": "NIFQyPnTHNHu",
        "outputId": "6a3764d6-6c27-4649-e775-e7b5de167290"
      },
      "outputs": [],
      "source": [
        "from scipy.stats import multinomial\n",
        "\n",
        "# Defino las probabilidades de exito de cada evento\n",
        "\n",
        "pk = [1/6] * 6\n",
        "prob_6_1 = multinomial.pmf([6, 0, 0, 0, 0, 0], n=6, p=pk)\n",
        "prob_6 = prob_6_1 * 6\n",
        "prob_5_1_and_1_2 = multinomial.pmf([5, 1, 0, 0, 0, 0], n=6, p=pk)\n",
        "prob_5_1 = prob_5_1_and_1_2 * 5\n",
        "prob_5 = prob_5_1 * 6\n",
        "print(f\"La probabilidad de obtener exactamente 5 iguales es: {prob_5}\")\n",
        "print(f\"La probabilidad de obtener exactamente 6 iguales es: {prob_6}\")\n",
        "print(f\"La probabilidad de obtener al menos 5 iguales es: {prob_5 + prob_6}\")"
      ]
    },
    {
      "cell_type": "markdown",
      "metadata": {
        "id": "DEGGIQw0HNHv"
      },
      "source": [
        "Otra forma de resolverlo, detallando explicitamente todas las combinaciones\n",
        "posibles."
      ]
    },
    {
      "cell_type": "code",
      "execution_count": null,
      "metadata": {
        "id": "d7LkbTHzHNHv",
        "outputId": "4401cb4f-bec5-4549-b18b-91d405cc72a3"
      },
      "outputs": [],
      "source": [
        "cases = np.row_stack(\n",
        "  [\n",
        "    np.identity(n=6) * 6\n",
        "  ] +\n",
        "  [\n",
        "    np.insert(\n",
        "    arr = np.identity(n=5),\n",
        "    obj = x,\n",
        "      values = 5,\n",
        "      axis = 1\n",
        "    )\n",
        "    for x in np.arange(6)\n",
        "  ]\n",
        ")\n",
        "\n",
        "prob_5_6 = multinomial.pmf(cases, n = 6, p=pk).sum()\n",
        "print(f\"La probabilidad de obtener al menos 5 iguales es: {prob_5_6}\")"
      ]
    },
    {
      "cell_type": "markdown",
      "metadata": {
        "id": "sSWrG2UbHNHv"
      },
      "source": [
        "\"Corroboramos\" el resultado con datos simulados."
      ]
    },
    {
      "cell_type": "code",
      "execution_count": null,
      "metadata": {
        "id": "DTnlmU9IHNHw",
        "outputId": "2d02d202-8d9d-4430-cdcc-fa2859c3b20f"
      },
      "outputs": [],
      "source": [
        "n_samples = 10000000\n",
        "sample = multinomial.rvs(\n",
        "  n=6,\n",
        "  p=pk,\n",
        "  size = n_samples\n",
        ")\n",
        "\n",
        "uniques = np.apply_along_axis(\n",
        "  lambda x: any(x>=5), 1, sample\n",
        ")\n",
        "\n",
        "number_success = uniques[uniques == 1].sum()\n",
        "print(\n",
        "  \"Número de éxitos hallados / esperados: \"\n",
        "  f\"[{number_success} / {n_samples*(prob_5+prob_6)}]\"\n",
        ")\n",
        "number_success / n_samples"
      ]
    }
  ],
  "metadata": {
    "colab": {
      "provenance": []
    },
    "kernelspec": {
      "display_name": "Python 3.9.9 ('.venv': venv)",
      "language": "python",
      "name": "python3"
    },
    "language_info": {
      "codemirror_mode": {
        "name": "ipython",
        "version": 3
      },
      "file_extension": ".py",
      "mimetype": "text/x-python",
      "name": "python",
      "nbconvert_exporter": "python",
      "pygments_lexer": "ipython3",
      "version": "3.9.4"
    },
    "orig_nbformat": 4,
    "vscode": {
      "interpreter": {
        "hash": "83b07c2f4bf3433171e71c2622c13225f444329e11349f4a7cc98dac3684b888"
      }
    }
  },
  "nbformat": 4,
  "nbformat_minor": 0
}
