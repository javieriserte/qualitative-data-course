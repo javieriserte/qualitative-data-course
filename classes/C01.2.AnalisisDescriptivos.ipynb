{
  "cells": [
    {
      "cell_type": "code",
      "execution_count": null,
      "metadata": {
        "id": "xlixRH6vXo6K"
      },
      "outputs": [],
      "source": [
        "%load_ext autoreload\n",
        "%autoreload 2"
      ]
    },
    {
      "cell_type": "code",
      "execution_count": null,
      "metadata": {
        "colab": {
          "base_uri": "https://localhost:8080/"
        },
        "id": "o-SUByCIXo6N",
        "outputId": "b26d3146-f812-49fa-df39-93430cc09d57"
      },
      "outputs": [],
      "source": [
        "# To use only Google Colab\n",
        "# ! pip install matplotlib --upgrade"
      ]
    },
    {
      "cell_type": "code",
      "execution_count": null,
      "metadata": {
        "colab": {
          "base_uri": "https://localhost:8080/"
        },
        "id": "Fvnr6vvqHNHc",
        "outputId": "b285120f-886a-4a48-c549-68d3b754e9e7"
      },
      "outputs": [],
      "source": [
        "# To use only Google Colab\n",
        "# ! pip install matplotlib --upgrade\n",
        "# ! wget https://github.com/javieriserte/qualitative-data-course/raw/master/classes/C01.py"
      ]
    },
    {
      "cell_type": "markdown",
      "metadata": {
        "id": "VPn0sKXgXo6N"
      },
      "source": [
        "\n",
        "# Unidad I. Variables, distribuciones y pruebas de hipótesis.\n",
        "\n",
        "- Características numéricas de las variables aleatorias\n",
        "- Concepto de muestra\n",
        "- Estimación estadística de los parámetros de una distribución a partir de los\n",
        "datos de una muestra\n"
      ]
    },
    {
      "cell_type": "markdown",
      "metadata": {
        "id": "ko6QPXkcXo6O"
      },
      "source": [
        "\n",
        "## Análisis descriptivo de datos\n",
        "\n",
        "La estadística descriptiva:\n",
        "  - quiere describir una muestra de manera\n",
        "    - cualitativa (gráfica) o\n",
        "    - cuantitativa (numérica)\n",
        "  - ligada al\n",
        "    - análisis exploratorio\n",
        "    - análisis inicial\n",
        "  - búsqueda de hipótesis\n",
        "    - nuevos muestreos\n",
        "    - experimentos\n",
        "\n",
        "La estadística inferencial:\n",
        "  - quiere inferir propiedades acerca de la población\n",
        "  - se focaliza en:\n",
        "    - asegurar la calidad de los datos\n",
        "    - chequear las suposiciones\n",
        "    - testear la hipótesis que tenemos en mente"
      ]
    },
    {
      "cell_type": "markdown",
      "metadata": {
        "id": "dhI3dMoUXo6P"
      },
      "source": [
        "\n",
        "## Muestra estadística\n",
        "\n",
        "Muestra:\n",
        "  - subconjunto de datos\n",
        "    - tomados de una población estadística\n",
        "    - mediante un proceso de muestreo determinado.\n",
        "\n",
        "Observación:\n",
        "  - Cada una de las unidades muestrales\n",
        "  - es posible medir variables aleatorias sobre una observación.\n",
        "\n",
        "Las **muestras** pueden ser:\n",
        "- **Completas**:\n",
        "  - Incluye a todos los casos, individuos u objetos de la población..\n",
        "    que cumplen con un criterio (de selección) determinado.\n",
        "  - Es difícil o imposible disponer de muestras completas.\n",
        "- **Representativas**:\n",
        "  - Conjunto de unidades muestrales seleccionadas de una muestra completa\n",
        "  - usando un proceso de selección/muestreo que no depende de las propiedades de\n",
        "    estas unidades.\n",
        "  - Una manera de obtener muestras no sesgadas es seleccionando una\n",
        "    **muestra aleatoria**\n"
      ]
    },
    {
      "cell_type": "markdown",
      "metadata": {
        "id": "r3JJL-LiXo6Q"
      },
      "source": [
        "## Técnicas de muestreo"
      ]
    },
    {
      "cell_type": "markdown",
      "metadata": {
        "id": "aAYu6AqmXo6Q"
      },
      "source": [
        "### Muestreo aleatorio simple\n",
        "\n",
        "- Se selecciona un número k de unidades\n",
        "- de manera aleatoria\n",
        "- cada unidad tiene la misma probabilidad de ser seleccionado.\n",
        "- El muestreo puede ser:\n",
        "  - con reposición:\n",
        "    - cada unidad puede ser seleccionada más de una vez.\n",
        "  - sin reposición:\n",
        "    - cada unidad puede ser seleccionada solo una vez.\n",
        "    - seleccionar un elemento altera las probabilidades de selección del\n",
        "      siguiente.\n",
        "    - sin embargo cualquir orden de extracciñon es equiprobable.\n",
        "  - Si el tamaño de la población es mucho mayor al tamaño de la muestra:\n",
        "    - el muestreo con reposición y sin reposción se aproximan."
      ]
    },
    {
      "cell_type": "markdown",
      "metadata": {
        "id": "5y8OmZn6Xo6R"
      },
      "source": [
        "### Generación de muestras aleatorias en python"
      ]
    },
    {
      "cell_type": "code",
      "execution_count": null,
      "metadata": {
        "colab": {
          "base_uri": "https://localhost:8080/"
        },
        "id": "Gy5nWNCeXo6R",
        "outputId": "90111f7c-9b56-40cb-9b5d-0c3eaaff6c80"
      },
      "outputs": [],
      "source": [
        "import numpy as np\n",
        "\n",
        "population = np.arange(100)\n",
        "\n",
        "sample_without_replacement = np.random.choice(\n",
        "  a = population,\n",
        "  size = 99,\n",
        "  replace = False\n",
        ")\n",
        "\n",
        "all_different = len(np.unique(sample_without_replacement)) == 99\n",
        "\n",
        "print(\n",
        "  \"Todos los elementos son diferentes en la muestra sin reemplazo? : \"\n",
        "  f\"{all_different}\"\n",
        ")\n",
        "\n",
        "sample_with_replacement = np.random.choice(\n",
        "  a = population,\n",
        "  size = 99,\n",
        "  replace = True\n",
        ")\n",
        "all_different = len(np.unique(sample_with_replacement)) == 99\n",
        "\n",
        "print(\n",
        "  \"Todos los elementos son diferentes en la muestra con reemplazo? : \"\n",
        "  f\"{all_different}\"\n",
        ")\n"
      ]
    },
    {
      "cell_type": "code",
      "execution_count": null,
      "metadata": {
        "colab": {
          "base_uri": "https://localhost:8080/"
        },
        "id": "jmMeqhXbXo6S",
        "outputId": "730ea162-c60c-4201-8195-10b23faeddb0"
      },
      "outputs": [],
      "source": [
        "# Se puede usar con elementos no numéricos también.\n",
        "population = [\n",
        "  \"lunes\",\n",
        "  \"martes\",\n",
        "  \"miercoles\",\n",
        "  \"jueves\",\n",
        "  \"viernes\",\n",
        "  \"sábado\",\n",
        "  \"domingo\"\n",
        "]\n",
        "np.random.choice(\n",
        "  a = population,\n",
        "  size = 5,\n",
        "  replace = True\n",
        ")"
      ]
    },
    {
      "cell_type": "markdown",
      "metadata": {
        "id": "ghCvKZ_JXo6T"
      },
      "source": [
        "### Muestreo sistemático\n",
        "\n",
        "- Consiste en:\n",
        "  - ordenar los elementos según alguna variable de interés\n",
        "  - luego tomar n unidades muestrales equiespaciadas.\n",
        "  - El primer elemento debe ser seleccionado al azar\n",
        "    - quedando los otros determinados en relación a este.\n",
        "- permite muestrear una variable de intereses en todo su rango.\n",
        "- debe tenerse cuidado:\n",
        "  - si la variable muestra alguna característica periódica\n",
        "  - no se verá la variación entre dos elementos contiguos\n",
        "    - nunca se seleccionan a la vez."
      ]
    },
    {
      "cell_type": "markdown",
      "metadata": {
        "id": "TArx7zOBXo6T"
      },
      "source": [
        "### Generación de muestras sistemáticas en python\n",
        "\n",
        "- En este ejemplo vamoas a usar el conjunto de datos de **iris**.\n",
        "  - Tamaño (ancho y largo) de pétalo y sépalo tres variantes de plantas.\n",
        "- Vamos a ordenar según el largo de sus pétalos:"
      ]
    },
    {
      "cell_type": "code",
      "execution_count": null,
      "metadata": {
        "colab": {
          "base_uri": "https://localhost:8080/",
          "height": 206
        },
        "id": "8po7tJ7zXo6U",
        "outputId": "3cbbd972-93a0-4e63-879a-5c5839517245"
      },
      "outputs": [],
      "source": [
        "from sklearn import datasets\n",
        "import pandas as pd\n",
        "import numpy as np\n",
        "\n",
        "iris = datasets.load_iris(as_frame=True)\n",
        "df = iris.frame\n",
        "df.head()"
      ]
    },
    {
      "cell_type": "code",
      "execution_count": null,
      "metadata": {
        "colab": {
          "base_uri": "https://localhost:8080/",
          "height": 652
        },
        "id": "MOkDMWdPXo6U",
        "outputId": "a9d58480-67c9-4c86-e077-b5612c85ed34"
      },
      "outputs": [],
      "source": [
        "df = df.sort_values(\n",
        "  by=\"petal length (cm)\",\n",
        ")\n",
        "\n",
        "sample_size = 17 # Aprox...\n",
        "print(f\"El tamaño de la muestra es {sample_size}\")\n",
        "spacing = int(round(len(df) / sample_size))\n",
        "print(f\"Los elementos estan espaciados cada {spacing} posiciones\")\n",
        "starting_position = np.random.randint(low=0, high=spacing-1)\n",
        "print(f\"Elijo una posición de inicio aleatoria: {starting_position}\")\n",
        "selected_positions = np.arange(len(df)) % spacing == starting_position\n",
        "sample = df.iloc[selected_positions, :]\n",
        "print(f\"El tamaño real de la muestra es {len(sample)}\")\n",
        "sample\n"
      ]
    },
    {
      "cell_type": "markdown",
      "metadata": {
        "id": "NEkbALbrXo6U"
      },
      "source": [
        "### Muestreo estratificado\n",
        "\n",
        "- Se estratifica la población antes de tomar las muestras.\n",
        "- Se divide la población en grupos homogéneos.\n",
        "  - Los grupos son mutuamente excluyentes\n",
        "  - Todos los miembros de la población deben pertenecer a un grupo\n",
        "  - No pueden quedar miembros sin clasificar.\n",
        "- Se realiza un muestreo de cada estrato\n",
        "  - aleatorio simple\n",
        "  - sistemático dentro\n"
      ]
    },
    {
      "cell_type": "markdown",
      "metadata": {
        "id": "gJ_MR639Xo6U"
      },
      "source": [
        "\n",
        "Existen tres posibles estrategias:\n",
        "- **Asignación proporcional**:\n",
        "  - El número de unidades de cada grupo:\n",
        "    - es proporcional al número de individuos de cada grupo en la población.\n",
        "  - Se respeta las proporciones de los grupos en la población.\n",
        "- **Asignación óptima**:\n",
        "  - El número de unidades de cada grupo:\n",
        "    - es proporcional a la desviación estándar de la variable de interés.\n",
        "- **Asignación uniforme**:\n",
        "  - Igual número de elementos para cada grupo.\n",
        "  - El dataset **iris** fue generado de esta forma.\n",
        "    - 50 flores de cada especie."
      ]
    },
    {
      "cell_type": "markdown",
      "metadata": {
        "id": "EjBgDa8RXo6V"
      },
      "source": [
        "\n",
        "La media del muestreo es:\n",
        " - $ \\mu_{s} = \\frac{1}{N} \\sum_{h=1}^{L} N_{h} \\mu_{h} $\n",
        " * $\\mu_{s}$ es la media\n",
        " * $N$ es el tamaño de toda la población\n",
        " * $N_{h}$ es el tamaño del estrato h\n",
        " * $\\mu_h$ es la media de la muestra del estrato h.\n"
      ]
    },
    {
      "cell_type": "markdown",
      "metadata": {
        "id": "Jh5w8ktFXo6V"
      },
      "source": [
        "Ejercicio:\n",
        "- Se quiere construir un set de datos similar a Iris, pero en lugar de 150\n",
        "  muestras con 1000.\n",
        "- Se quiere que la asignación sea óptima con respecto al largo del pétalo.\n",
        "- ¿Cuántos elementos de cada especie deberían recolectarse?"
      ]
    },
    {
      "cell_type": "markdown",
      "metadata": {
        "id": "8gG8baBkXo6V"
      },
      "source": [
        "## Estadísticos de resumen\n",
        "\n",
        "Los estadísticos de resumen:\n",
        "- describen de manera cuantitativa la distribución de una muestra.\n",
        "- se describe cada variable aleatoria/dimensión manera independiente.\n",
        "\n",
        "Existen estadísticos de:\n",
        "- tendencia central\n",
        "- dispersión\n",
        "- forma:\n",
        "  - asimetría (Skewness)\n",
        "  - apuntamiento (Kurtosis)\n",
        "\n",
        "Algunos estadísticos pueden ser robustos:\n",
        "  - están menos afectados por valores extremos atípicos.\n",
        "  - tienen buena performance con muchos tipos de distribuciones."
      ]
    },
    {
      "cell_type": "markdown",
      "metadata": {
        "id": "qffQBeKhXo6V"
      },
      "source": [
        "\n",
        "### Estadísticos de tendencia central\n",
        "\n",
        "Los estadísticos más comunes de este tipo:\n",
        "- la *media*\n",
        "  - Es el promedio aritmético de un conjunto de datos.\n",
        "  - $\\bar{X} = \\frac{1}{N}\\times{\\sum_{i=1}^N{x_i}}$\n",
        "  - No es robusto.\n",
        "- La *mediana*.\n",
        "  - Es el valor ubicado en el percentil 50 de una distribución.\n",
        "  - Es un estimador robusto\n",
        "- La *moda*\n",
        "  - Es el valor más frecuente\n",
        "    - es el único estadístico de tendencia central para datos nominales\n",
        "  - Difícil de estimar correctamente para variables continuas."
      ]
    },
    {
      "cell_type": "code",
      "execution_count": null,
      "metadata": {
        "colab": {
          "base_uri": "https://localhost:8080/"
        },
        "id": "Tsoinm1PXo6W",
        "outputId": "13e11614-a2c1-4ac4-a700-b4c8a185323b"
      },
      "outputs": [],
      "source": [
        "df.mean()"
      ]
    },
    {
      "cell_type": "code",
      "execution_count": null,
      "metadata": {
        "id": "_NOKVgHmXo6W",
        "outputId": "c3478e3f-5d88-47e0-be31-b0422a4829cc"
      },
      "outputs": [],
      "source": [
        "df.median()"
      ]
    },
    {
      "cell_type": "code",
      "execution_count": null,
      "metadata": {
        "id": "YvctDQK0Xo6X",
        "outputId": "d44e8154-c40b-4de3-b62b-7016ec6dafaf"
      },
      "outputs": [],
      "source": [
        "df.mode()"
      ]
    },
    {
      "cell_type": "code",
      "execution_count": null,
      "metadata": {
        "id": "fNZsU5uNXo6X",
        "outputId": "31d7cdb4-fd24-4f1a-82dc-419c1ce59d6a"
      },
      "outputs": [],
      "source": [
        "import C01\n",
        "C01.mean_mode_median()\n"
      ]
    },
    {
      "cell_type": "markdown",
      "metadata": {
        "id": "z4RJL6XxXo6Y"
      },
      "source": [
        "## Estadísticos de dispersión\n",
        "\n",
        "- La *desviación estándar*\n",
        "  - es el más popular\n",
        "  - No es un estimador robusto.\n",
        "  - $s=\\sqrt{\\frac{\\sum_{i=1}^N{(x_i-\\bar{x})^2}}{N-1}}$\n",
        "  - Varianza: $s^2$\n",
        "- El rango entre cuartiles:\n",
        "  - Es la diferencia entre el tercer cuartil y el primer cuartil.\n",
        "  - $Q_3 - Q_1$\n",
        "- La desviación mediana absoluta **Median Absolute Deviation** (MAD).\n",
        "  - Es análogo a la desviación estandard utilizando la mediana\n",
        "  - $median(|X_i-median(X)|)$\n",
        "- El rango:\n",
        "  - Es la diferencia entre el valor máximo y mínimo."
      ]
    },
    {
      "cell_type": "code",
      "execution_count": null,
      "metadata": {
        "colab": {
          "base_uri": "https://localhost:8080/"
        },
        "id": "Cykl9bGYXo6Y",
        "outputId": "f51e46e1-36f3-4230-f9eb-ba638bae42da"
      },
      "outputs": [],
      "source": [
        "df.std()"
      ]
    },
    {
      "cell_type": "code",
      "execution_count": null,
      "metadata": {
        "id": "iRlhiIAqXo6Y",
        "outputId": "379418f6-cf43-41dd-ce5c-d93b792266e4"
      },
      "outputs": [],
      "source": [
        "df.quantile(0.75) - df.quantile(0.25) "
      ]
    },
    {
      "cell_type": "code",
      "execution_count": null,
      "metadata": {
        "id": "RVpPyu9TXo6Y",
        "outputId": "776aa530-6dc0-4933-9d46-b84ed5ee0ef7"
      },
      "outputs": [],
      "source": [
        "(df - df.mean()).abs().median()"
      ]
    },
    {
      "cell_type": "code",
      "execution_count": null,
      "metadata": {
        "id": "l3fLx0zqXo6Y",
        "outputId": "29c56571-bcc9-43b9-b74d-602deb222899"
      },
      "outputs": [],
      "source": [
        "df.max() - df.min()"
      ]
    },
    {
      "cell_type": "code",
      "execution_count": null,
      "metadata": {
        "id": "kagG8LUUXo6Z",
        "outputId": "f8cfe2f8-17ac-49ac-94dd-6a44eb1a2190"
      },
      "outputs": [],
      "source": [
        "import C01\n",
        "C01.dispersion_measures()"
      ]
    },
    {
      "cell_type": "markdown",
      "metadata": {
        "id": "eNvtaOPDXo6Z"
      },
      "source": [
        "## Estadísticos de forma\n",
        "\n",
        "Las medidas de forma de la distribución principales son:\n",
        "  - el *Skewness* o *asimetría*\n",
        "    - mide que tan simétricos son los datos con respecto a la media.\n",
        "  - la *Kurtosis*\n",
        "    - mide la concentración de datos cerca de la media.\n",
        "  - El *exceso de kurtosis*\n",
        "    - Es la diferencia con la kurtosis de la distribución normal estándar.\n",
        "    - *Kurtosis - 3*\n",
        "      - Igual a cero: igual a la distribución normal estándar.\n",
        "      - Menor a cero: Más concentrado sobre la media.\n",
        "      - Mayor a cero: Colas más pesadas."
      ]
    },
    {
      "cell_type": "code",
      "execution_count": null,
      "metadata": {
        "id": "wRWzbIe-Xo6Z",
        "outputId": "2a45e879-8bfc-4dd8-e3a9-1312be7405eb"
      },
      "outputs": [],
      "source": [
        "df.skew()"
      ]
    },
    {
      "cell_type": "code",
      "execution_count": null,
      "metadata": {
        "id": "VmI7R9B1Xo6Z",
        "outputId": "fe66a6ae-2310-4cb6-eef7-3de3049050c9"
      },
      "outputs": [],
      "source": [
        "df.kurtosis()"
      ]
    },
    {
      "cell_type": "code",
      "execution_count": null,
      "metadata": {
        "id": "BydiYrd_Xo6Z",
        "outputId": "9a7a8b11-ddc8-46eb-a078-aaec1083d360"
      },
      "outputs": [],
      "source": [
        "import C01\n",
        "C01.skewness_plot()"
      ]
    },
    {
      "cell_type": "code",
      "execution_count": null,
      "metadata": {
        "id": "Ok_SEAv5Xo6a",
        "outputId": "00ea6dfd-35f8-4626-e9ac-669d3df391e8"
      },
      "outputs": [],
      "source": [
        "import C01\n",
        "C01.kurtosis_plot()"
      ]
    },
    {
      "cell_type": "markdown",
      "metadata": {
        "id": "4hVP5zSOXo6a"
      },
      "source": [
        "## Descripción gráfica\n",
        "\n",
        "Los *Histogramas* permiten:\n",
        "- tener una visión de la forma de una distribución de densidad\n",
        "  para una variable aleatoria continua.\n",
        "- Se construyen:\n",
        "  - Subdiviendo el dominio en grupos (*bins*)\n",
        "  - contando el número de observaciones para cada *bin*."
      ]
    },
    {
      "cell_type": "code",
      "execution_count": null,
      "metadata": {
        "colab": {
          "base_uri": "https://localhost:8080/",
          "height": 285
        },
        "id": "dDH0s_a_Xo6a",
        "outputId": "8d183ce2-b48b-4cb0-e5ac-16c1c18e2ee4"
      },
      "outputs": [],
      "source": [
        "import matplotlib.pyplot as plt\n",
        "\n",
        "var = \"petal length (cm)\"\n",
        "\n",
        "plt.hist(\n",
        "  df[var],\n",
        "  bins = 25,\n",
        "  label = var\n",
        ")\n",
        "plt.legend()"
      ]
    },
    {
      "cell_type": "markdown",
      "metadata": {
        "id": "DlKce4BBXo6a"
      },
      "source": [
        "\n",
        "Los estimadores de núcleo de densidad (*Kernel Density Estimator*):\n",
        "- generan curvas suaves que estiman la función de densidad de la muestra\n",
        "- Tiene dos parámetros importantes:\n",
        "  - Una función de probabilidad (kernel)\n",
        "    - Por defecto se usa la distribución normal.\n",
        "  - El ancho de banda a utilizar.\n",
        "  - $\\hat{f}(x) = \\frac{1}{nh}\\sum_{i=1}^{n}K(\\frac{x-x_i}{h})$\n",
        "    - $K$ en la función de kernel\n",
        "    - $h$ es el ancho de banda\n"
      ]
    },
    {
      "cell_type": "code",
      "execution_count": null,
      "metadata": {
        "id": "H_1niEaUXo6a",
        "outputId": "af6143ff-7339-4397-ba72-0afc35c7ac85"
      },
      "outputs": [],
      "source": [
        "import C01\n",
        "C01.kde_plot()"
      ]
    },
    {
      "cell_type": "markdown",
      "metadata": {
        "id": "POKyTb9vXo6b"
      },
      "source": [
        "Los Diagramas de Dispersión:\n",
        "- utilizan las coordenadas cartesianas\n",
        "- muestran la distribución de dos variables en un espacio bi dimensional.\n",
        "- Es posible representar más dimensiones utilizado diferentes formas, tamaños\n",
        "  y/o colores.\n"
      ]
    },
    {
      "cell_type": "code",
      "execution_count": null,
      "metadata": {
        "colab": {
          "base_uri": "https://localhost:8080/",
          "height": 296
        },
        "id": "136-StbPXo6b",
        "outputId": "79a7757d-3a37-41a2-fe85-7e1371cfa811"
      },
      "outputs": [],
      "source": [
        "import matplotlib.pyplot as plt\n",
        "\n",
        "var1 = \"petal length (cm)\"\n",
        "var2 = \"sepal length (cm)\"\n",
        "\n",
        "scatter = plt.scatter(\n",
        "  x = df[var1],\n",
        "  y = df[var2],\n",
        "  c = df[\"target\"]\n",
        ")\n",
        "a, b = scatter.legend_elements()\n",
        "plt.xlabel(var1)\n",
        "plt.ylabel(var2)\n",
        "plt.legend(a, iris[\"target_names\"])"
      ]
    },
    {
      "cell_type": "code",
      "execution_count": null,
      "metadata": {
        "colab": {
          "base_uri": "https://localhost:8080/",
          "height": 601
        },
        "id": "ciku4aFGXo6b",
        "outputId": "0c593bb0-ea52-4ddc-ab5e-b1fb82b6f825"
      },
      "outputs": [],
      "source": [
        "_ = pd.plotting.scatter_matrix(\n",
        "  df.iloc[:,0:4],\n",
        "  figsize=(10,10),\n",
        "  c = df[\"target\"]\n",
        ")"
      ]
    },
    {
      "cell_type": "markdown",
      "metadata": {
        "id": "dYJfDjrzXo6b"
      },
      "source": [
        "Histogramas bivariados\n",
        "\n",
        "- Los grupos (bins) se establecen para las dos variables\n",
        "- se definen rectángulos\n",
        "- Normalmente se utiliza un código de color para\n",
        "  indicar la cantidad de valores en cada grupo.\n"
      ]
    },
    {
      "cell_type": "code",
      "execution_count": null,
      "metadata": {
        "colab": {
          "base_uri": "https://localhost:8080/",
          "height": 312
        },
        "id": "QFnAmtsdXo6b",
        "outputId": "bb53c7e2-7aca-49ce-9d01-bfd5d5085257"
      },
      "outputs": [],
      "source": [
        "_ = plt.hist2d(\n",
        "  df[\"petal length (cm)\"],\n",
        "  df[\"petal width (cm)\"],\n",
        "  bins = 20,\n",
        ")\n",
        "plt.title(\"2D histogram\")\n",
        "plt.xlabel(\"Petal length (cm)\")\n",
        "plt.ylabel(\"Petal width (cm)\")"
      ]
    },
    {
      "cell_type": "markdown",
      "metadata": {
        "id": "CWQE469tXo6b"
      },
      "source": [
        "### Mapa de calor (HeatMap)\n",
        "\n",
        "- Similar a un histograma 2D\n",
        "- Tienen variables categóricas o discretas en sus ejes.\n"
      ]
    },
    {
      "cell_type": "code",
      "execution_count": null,
      "metadata": {
        "colab": {
          "base_uri": "https://localhost:8080/",
          "height": 206
        },
        "id": "zedRuXRNxSaB",
        "outputId": "12a64bb0-9e87-4b63-f8c8-6fba842f71fe"
      },
      "outputs": [],
      "source": [
        "df.head()"
      ]
    },
    {
      "cell_type": "code",
      "execution_count": null,
      "metadata": {
        "colab": {
          "base_uri": "https://localhost:8080/",
          "height": 306
        },
        "id": "g8eG5T1_Xo6b",
        "outputId": "910a32d8-83af-470f-c2bb-5812b078f6b1"
      },
      "outputs": [],
      "source": [
        "means_by_group = (\n",
        "  df\n",
        "    .groupby(\n",
        "      by=\"target\"\n",
        "    )\n",
        "    .aggregate(\n",
        "      func = np.mean\n",
        "    )\n",
        ")\n",
        "\n",
        "means_by_group.index = iris[\"target_names\"]\n",
        "\n",
        "im = plt.imshow(means_by_group)\n",
        "plt.xticks(\n",
        "  np.arange(len(means_by_group.columns)),\n",
        "  means_by_group.columns,\n",
        "  rotation = 45\n",
        ")\n",
        "plt.yticks(\n",
        "  np.arange(len(iris[\"target_names\"])),\n",
        "  iris[\"target_names\"]\n",
        ")\n",
        "cbar = plt.colorbar(im)\n",
        "plt.tight_layout()\n"
      ]
    },
    {
      "cell_type": "markdown",
      "metadata": {
        "id": "3vOqXMApXo6c"
      },
      "source": [
        "### Boxplots\n",
        "\n",
        "- permiten observar estadísticos de:\n",
        "  - tendencia central (mediana)\n",
        "  - de dispersión (rango entre cuartiles).\n",
        "  - valores extremos (outliers)"
      ]
    },
    {
      "cell_type": "code",
      "execution_count": null,
      "metadata": {
        "colab": {
          "base_uri": "https://localhost:8080/",
          "height": 363
        },
        "id": "JyqKh4jhXo6c",
        "outputId": "95c98f07-f90d-413e-e0db-3a1546e6fe96"
      },
      "outputs": [],
      "source": [
        "import C01\n",
        "C01.boxplot_example()"
      ]
    },
    {
      "cell_type": "code",
      "execution_count": null,
      "metadata": {
        "colab": {
          "base_uri": "https://localhost:8080/",
          "height": 324
        },
        "id": "0eaJx0lXXo6c",
        "outputId": "1b15dcfc-b188-48fa-f94a-707b124d3c05"
      },
      "outputs": [],
      "source": [
        "plt.boxplot(df.iloc[:, :4])\n",
        "_ = plt.xticks(\n",
        "  np.arange(len(df.columns[:4]))+1,\n",
        "  df.columns[:4],\n",
        "  rotation = 45\n",
        ")"
      ]
    },
    {
      "cell_type": "markdown",
      "metadata": {
        "id": "_SIvuIB3Xo6c"
      },
      "source": [
        "\n",
        "### Funciones Empíricas de Distribución Acumulada\n",
        "\n",
        "- Estima una función de probabilidad acumulada (CDF)\n",
        "- A partir de los datos\n"
      ]
    },
    {
      "cell_type": "code",
      "execution_count": null,
      "metadata": {
        "colab": {
          "base_uri": "https://localhost:8080/",
          "height": 282
        },
        "id": "OQGOlkjjXo6c",
        "outputId": "c35155c7-3e7f-4dd4-cec2-02dcf02e040c"
      },
      "outputs": [],
      "source": [
        "import scipy\n",
        "s = df.iloc[:, 1].value_counts().sort_index().cumsum()\n",
        "s = s / max(s)\n",
        "plt.plot(s)\n"
      ]
    },
    {
      "cell_type": "code",
      "execution_count": null,
      "metadata": {
        "colab": {
          "base_uri": "https://localhost:8080/",
          "height": 282
        },
        "id": "qxcA6sH1Xo6d",
        "outputId": "89627f2f-c0f3-48a7-c75b-9e86829cf5c8"
      },
      "outputs": [],
      "source": [
        "res = scipy.stats.cumfreq(\n",
        "    a = df.iloc[:, 1],\n",
        "    numbins = 20\n",
        ")\n",
        "plt.bar(\n",
        "    x = np.linspace(\n",
        "        res.lowerlimit,\n",
        "        res.binsize * res.cumcount.size + res.lowerlimit,\n",
        "        res.cumcount.size\n",
        "    ),\n",
        "    height = res.cumcount,\n",
        "    width = res.binsize\n",
        ")"
      ]
    },
    {
      "cell_type": "markdown",
      "metadata": {
        "id": "IuLqTz_dXo6d"
      },
      "source": [
        "\n",
        "### Ajuste de distribuciones estadísticas\n",
        "\n",
        "- Encontrar:\n",
        "  - la mejor función de distribución teórica\n",
        "    - Se presume una familia y se ajustan los parámetros\n",
        "  - de acuerdo a los datos que tenemos\n",
        "- Los estadisticos y gráficos evaludados en la exploración pueden guiar la\n",
        "  elección de la familiad de funciones."
      ]
    },
    {
      "cell_type": "code",
      "execution_count": null,
      "metadata": {
        "colab": {
          "base_uri": "https://localhost:8080/"
        },
        "id": "ZFnQAhRrXo6d",
        "outputId": "3dfdec2d-597a-4a4e-8aeb-216c065dcbda"
      },
      "outputs": [],
      "source": [
        "from scipy.stats import norm\n",
        "import scipy.stats as st\n",
        "normal_sample = norm.rvs(\n",
        "    loc=2,\n",
        "    scale = 3,\n",
        "    size = 1000\n",
        ")\n",
        "\n",
        "fitted_mu, fitted_sigma = norm.fit(normal_sample)\n",
        "print(f\"fitted_mu: {fitted_mu}\")\n",
        "print(f\"fitted_sigma: {fitted_sigma}\")\n",
        "\n",
        "x = np.linspace(\n",
        "    start = fitted_mu - 3*fitted_sigma,\n",
        "    stop = fitted_mu + 3*fitted_sigma,\n",
        "    num = 100\n",
        ")\n",
        "\n",
        "plt.hist(normal_sample, bins =  50, density=True)\n",
        "plt.plot(x, st.norm.pdf(x, loc=fitted_mu, scale=fitted_sigma))\n"
      ]
    },
    {
      "cell_type": "code",
      "execution_count": null,
      "metadata": {
        "id": "VFSDL8s3Xo6d",
        "outputId": "1be1c577-19bd-40f7-e3e8-e704b144398e"
      },
      "outputs": [],
      "source": [
        "data = (\n",
        "    df\n",
        "        .loc[df.iloc[:, 4] == 0, :]\n",
        "        .iloc[:, 1]\n",
        ")\n",
        "mu, dev = norm.fit(data)\n",
        "data = (data-mu)/dev\n",
        "res = scipy.stats.fit(\n",
        "    scipy.stats.norm,\n",
        "    data\n",
        ")\n",
        "res.plot()\n",
        "plt.hist(\n",
        "    data,\n",
        "    density=True,\n",
        "    color = \"red\",\n",
        "    bins = 20\n",
        ")"
      ]
    },
    {
      "cell_type": "code",
      "execution_count": null,
      "metadata": {
        "colab": {
          "base_uri": "https://localhost:8080/",
          "height": 282
        },
        "id": "2V5wMGpiXo6d",
        "outputId": "8bd640de-3104-411b-bd94-f5ded2965049"
      },
      "outputs": [],
      "source": [
        "xs = np.linspace(0, 20, 100)\n",
        "lognorm_sample = scipy.stats.lognorm.rvs(size=1000, s=0.7, loc=3, scale=1.6)\n",
        "s, loc, scale = scipy.stats.lognorm.fit(lognorm_sample)\n",
        "lognorm_data = scipy.stats.lognorm.pdf(xs, s=s, loc=loc, scale=scale)\n",
        "fig, axes = plt.subplots()\n",
        "axes.plot(xs, lognorm_data)\n",
        "_ = axes.hist(lognorm_sample, density = True, bins=100)\n",
        "print(s, loc, scale)"
      ]
    },
    {
      "cell_type": "markdown",
      "metadata": {
        "id": "8T4hjJ26Xo6e"
      },
      "source": [
        "\n",
        "## Tests de normalidad\n",
        "\n",
        "- Suele ser útil saber si nuestros datos se distribuyen normalmente\n",
        "  - Propiedades del origen de datos\n",
        "  - Requerimiento para tests estadísticos\n",
        "\n",
        "### Gráfico de probabilidad normal\n",
        "\n",
        "- Quantile / Quantile plots\n",
        "  - Se compara cuantil a cuantil una distribución dada vs la distribución normal.\n",
        "  - Si los datos provienen de una distribución normal,}\n",
        "    - el gráfico se acerca a una recta.\n"
      ]
    },
    {
      "cell_type": "code",
      "execution_count": null,
      "metadata": {
        "colab": {
          "base_uri": "https://localhost:8080/",
          "height": 334
        },
        "id": "J2ew2qsEXo6e",
        "outputId": "d5b43dfa-ea8f-4e1d-c9b1-f6be0050d1e1"
      },
      "outputs": [],
      "source": [
        "import statsmodels.api as sm\n",
        "import scipy\n",
        "\n",
        "data = (\n",
        "    df\n",
        "        .loc[df.iloc[:, 4] == 0, :]\n",
        "        .iloc[:, 1]\n",
        ")\n",
        "\n",
        "fig = sm.qqplot(\n",
        "    data = data,\n",
        "    dist = scipy.stats.norm,\n",
        "    fit = True,\n",
        "    line = \"45\"\n",
        ")"
      ]
    },
    {
      "cell_type": "code",
      "execution_count": null,
      "metadata": {
        "colab": {
          "base_uri": "https://localhost:8080/",
          "height": 527
        },
        "id": "8MRA2iL_Xo6e",
        "outputId": "592cb8c5-2660-4eca-f9d6-178f6eae8c81"
      },
      "outputs": [],
      "source": [
        "import statsmodels.api as sm\n",
        "import scipy\n",
        "\n",
        "data = (\n",
        "    df\n",
        "        .loc[df.iloc[:, 4] == 0, :]\n",
        "        .iloc[:, 1]\n",
        ")\n",
        "\n",
        "s, loc, scale = scipy.stats.lognorm.fit(data, f0 = 0.7)\n",
        "data = (data - loc) / scale\n",
        "plt.hist(data, density = True)\n",
        "plt.plot(\n",
        "    np.linspace(0,2, 100),\n",
        "    scipy.stats.lognorm.pdf(np.linspace(0,2,100), 0.7)\n",
        ")\n",
        "fig = sm.qqplot(\n",
        "    data = data,\n",
        "    dist = scipy.stats.lognorm,\n",
        "    line = \"45\",\n",
        "    distargs = (0.7,)\n",
        ")"
      ]
    },
    {
      "cell_type": "markdown",
      "metadata": {
        "id": "yfbihZ_xXo6e"
      },
      "source": [
        "### Test de hipótesis\n",
        "\n",
        "Existen diversos tests\n",
        "- Hipótesis nula:\n",
        "  - Los datos provienen de una distribución normal\n",
        "- En general:\n",
        "  - Se observa el p-valor devuelto\n",
        "  - Si es menor que el nivel de significancia elegido.\n",
        "    - Rechazo la hipótesis de normalidad.\n",
        "- Test Anderson-Darling\n",
        "- Test Shapiro-Wilk\n",
        "- Test Kolmogorov-Smirnov\n",
        "  - Compara la CDF de la función con la empírica de los datos\n",
        "- Test D'Agostino-Pearson"
      ]
    },
    {
      "cell_type": "code",
      "execution_count": null,
      "metadata": {
        "colab": {
          "base_uri": "https://localhost:8080/",
          "height": 441
        },
        "id": "oJ2PoPvEXo6e",
        "outputId": "35e75fd3-afae-4daa-8421-6fd102585cc4"
      },
      "outputs": [],
      "source": [
        "normal_sample = scipy.stats.norm.rvs(size=1000)\n",
        "uniform_sample = scipy.stats.uniform.rvs(size=1000)\n",
        "lognorm_sample = scipy.stats.lognorm.rvs(size=1000, s=0.7)\n",
        "fig, axes = plt.subplots(\n",
        "    nrows=3,\n",
        "    figsize=(7, 6)\n",
        ")\n",
        "axes[0].hist(normal_sample, bins=30)\n",
        "axes[1].hist(uniform_sample, bins=30)\n",
        "axes[2].hist(lognorm_sample, bins=30)\n",
        "fig.tight_layout()"
      ]
    },
    {
      "cell_type": "code",
      "execution_count": null,
      "metadata": {
        "colab": {
          "base_uri": "https://localhost:8080/"
        },
        "id": "boE02WxbXo6e",
        "outputId": "57619297-cf61-4db9-aa9f-ef3a421d122f"
      },
      "outputs": [],
      "source": [
        "normal_test = scipy.stats.anderson(normal_sample)\n",
        "normal_stat = scipy.stats.anderson(normal_sample).statistic\n",
        "uniform_stat = scipy.stats.anderson(uniform_sample).statistic\n",
        "lognorm_stat = scipy.stats.anderson(lognorm_sample).statistic\n",
        "print(f\"El valor de estadistico para la dist. normal es: {normal_stat}\")\n",
        "print(f\"El valor de estadistico para la dist. uniforme es: {uniform_stat}\")\n",
        "print(f\"El valor de estadistico para la dist. lognormal es: {lognorm_stat}\")\n",
        "print(f\"Los valores criticos son: {normal_test.critical_values}\")\n",
        "print(f\"Los niveles de significancia son: {normal_test.significance_level}\")"
      ]
    },
    {
      "cell_type": "code",
      "execution_count": null,
      "metadata": {
        "colab": {
          "base_uri": "https://localhost:8080/"
        },
        "id": "dXMhI6PQXo6f",
        "outputId": "5599c899-2fe4-4c9e-e979-bd966c959275"
      },
      "outputs": [],
      "source": [
        "normal_stat = scipy.stats.shapiro(normal_sample)[1]\n",
        "uniform_stat = scipy.stats.shapiro(uniform_sample)[1]\n",
        "lognorm_stat = scipy.stats.shapiro(lognorm_sample)[1]\n",
        "print(f\"El p-valor para la dist. normal es: {normal_stat}\")\n",
        "print(f\"El p-valor para la dist. uniforme es: {uniform_stat}\")\n",
        "print(f\"El p-valor para la dist. lognormal es: {lognorm_stat}\")"
      ]
    },
    {
      "cell_type": "code",
      "execution_count": null,
      "metadata": {
        "colab": {
          "base_uri": "https://localhost:8080/"
        },
        "id": "oyiJHXltXo6f",
        "outputId": "3822ae71-a683-49c4-c651-015702378d72"
      },
      "outputs": [],
      "source": [
        "cdf_norm = scipy.stats.norm.cdf\n",
        "normal_stat = scipy.stats.kstest(normal_sample, cdf_norm)[1]\n",
        "uniform_stat = scipy.stats.kstest(uniform_sample, cdf_norm)[1]\n",
        "lognorm_stat = scipy.stats.kstest(lognorm_sample, cdf_norm)[1]\n",
        "print(f\"El p-valor para la dist. normal es: {normal_stat}\")\n",
        "print(f\"El p-valor para la dist. uniforme es: {uniform_stat}\")\n",
        "print(f\"El p-valor para la dist. lognormal es: {lognorm_stat}\")\n"
      ]
    },
    {
      "cell_type": "code",
      "execution_count": null,
      "metadata": {
        "colab": {
          "base_uri": "https://localhost:8080/"
        },
        "id": "SGAB2XgOXo6f",
        "outputId": "baeecd6c-ae73-4c08-a220-78b7474e1718"
      },
      "outputs": [],
      "source": [
        "normal_stat = scipy.stats.normaltest(normal_sample)[1]\n",
        "uniform_stat = scipy.stats.normaltest(uniform_sample)[1]\n",
        "lognorm_stat = scipy.stats.normaltest(lognorm_sample)[1]\n",
        "print(f\"El p-valor para la dist. normal es: {normal_stat}\")\n",
        "print(f\"El p-valor para la dist. uniforme es: {uniform_stat}\")\n",
        "print(f\"El p-valor para la dist. lognormal es: {lognorm_stat}\")\n"
      ]
    },
    {
      "cell_type": "code",
      "execution_count": null,
      "metadata": {
        "colab": {
          "base_uri": "https://localhost:8080/",
          "height": 582
        },
        "id": "DH0y8plYXo6f",
        "outputId": "eb453688-61bf-4bf2-f19a-c2d04545c5e2"
      },
      "outputs": [],
      "source": [
        "result = (\n",
        "    df\n",
        "        .groupby(\"target\")\n",
        "        .aggregate(\n",
        "            [\n",
        "                lambda x: scipy.stats.anderson(x).statistic,\n",
        "                lambda x: scipy.stats.normaltest(x)[1],\n",
        "                lambda x: scipy.stats.kstest(x, scipy.stats.norm.cdf)[1],\n",
        "                lambda x: scipy.stats.shapiro(x)[1]\n",
        "            ]\n",
        "        )\n",
        ")\n",
        "result = result.T\n",
        "\n",
        "test_name = [\n",
        "    \"Anderson\", \"DAgostino\", \"KS\", \"Shapiro\"\n",
        "] * 4\n",
        "\n",
        "index = result.index.to_frame()\n",
        "index.iloc[:, 1] = test_name\n",
        "index = result.index.from_frame(index)\n",
        "result = result.set_index(index)\n",
        "\n",
        "result.columns = iris[\"target_names\"]\n",
        "result"
      ]
    },
    {
      "cell_type": "markdown",
      "metadata": {
        "id": "ERTVQktqXo6f"
      },
      "source": [
        "### Teorización *Post Hoc*\n",
        "\n",
        "- Generación de hipótesis sugeridas por el conjunto de datos observado, sin\n",
        "  testear esta hipótesis en nuevos datos.\n",
        "  - puede resultar en aceptar hipótesis incorrectas\n",
        "  - que sólo son válidas en el presente conjunto de datos\n",
        "\n",
        "- Es necesario testear estas nuevas hipotesis en una nueva muestra de la\n",
        "  población.\n",
        "  - Sin embargo,\n",
        "    - en muchas casos eso puede ser imposible:\n",
        "      - analizar un fenómeno natural finito.\n",
        "      - difícil o imposible la recolección de nuevos datos\n",
        "  - puede surgir en la bioinformática\n",
        "    - cuando se toman todos los elementos de una base de datos\n",
        "    - sin dejar datos suficientes para testear las hipótesis\n",
        "\n",
        "### Data *fishing*:\n",
        "  - testear muchas hipótesis sobre un conjunto de datos\n",
        "    - hasta encontrar un caso significativo\n",
        "\n",
        "#### Alternativas para no caer en este problema:\n",
        "  - Recolectar nuevos datos (out-of-sample data)\n",
        "    realizar un nuevo experimento,\n",
        "    para testear la nueva hipótesis.\n",
        "  - Separar el conjunto de datos de manera aleatoria en dos grupos.\n",
        "     - Uno para plantear nuevas hipótesis\n",
        "     - El otro para evaluarlas.\n",
        "  - Utilizar métodos de validación cruzada (cross validation)\n",
        "    - evitar un sobreajuste (overfitting)\n",
        "  - Aplicar correcciones por testeo múltiple."
      ]
    }
  ],
  "metadata": {
    "colab": {
      "provenance": []
    },
    "kernelspec": {
      "display_name": "Python 3.9.7 ('.venv': venv)",
      "language": "python",
      "name": "python3"
    },
    "language_info": {
      "codemirror_mode": {
        "name": "ipython",
        "version": 3
      },
      "file_extension": ".py",
      "mimetype": "text/x-python",
      "name": "python",
      "nbconvert_exporter": "python",
      "pygments_lexer": "ipython3",
      "version": "3.9.7"
    },
    "orig_nbformat": 4,
    "vscode": {
      "interpreter": {
        "hash": "12dfb8769f5cdb8e6ae58aaabfc28b9d0a9827a6998ad0bbb6f597e53386ef86"
      }
    }
  },
  "nbformat": 4,
  "nbformat_minor": 0
}
