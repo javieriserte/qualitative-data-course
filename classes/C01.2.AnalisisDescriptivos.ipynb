{
  "cells": [
    {
      "cell_type": "code",
      "execution_count": null,
      "metadata": {
        "id": "xlixRH6vXo6K"
      },
      "outputs": [],
      "source": [
        "%load_ext autoreload\n",
        "%autoreload 2"
      ]
    },
    {
      "cell_type": "code",
      "execution_count": null,
      "metadata": {
        "colab": {
          "base_uri": "https://localhost:8080/"
        },
        "id": "o-SUByCIXo6N",
        "outputId": "b26d3146-f812-49fa-df39-93430cc09d57"
      },
      "outputs": [],
      "source": [
        "# To use only Google Colab\n",
        "# ! pip install matplotlib --upgrade"
      ]
    },
    {
      "cell_type": "code",
      "execution_count": null,
      "metadata": {
        "colab": {
          "base_uri": "https://localhost:8080/"
        },
        "id": "Fvnr6vvqHNHc",
        "outputId": "b285120f-886a-4a48-c549-68d3b754e9e7"
      },
      "outputs": [],
      "source": [
        "# To use only Google Colab\n",
        "# ! pip install matplotlib --upgrade\n",
        "# ! wget https://github.com/javieriserte/qualitative-data-course/raw/master/classes/C01.py"
      ]
    },
    {
      "cell_type": "markdown",
      "metadata": {
        "id": "VPn0sKXgXo6N"
      },
      "source": [
        "\n",
        "# Unidad I. Variables, distribuciones y pruebas de hipótesis.\n",
        "\n",
        "- Características numéricas de las variables aleatorias\n",
        "- Concepto de muestra\n",
        "- Estimación estadística de los parámetros de una distribución a partir de los\n",
        "datos de una muestra\n"
      ]
    },
    {
      "cell_type": "markdown",
      "metadata": {
        "id": "ko6QPXkcXo6O"
      },
      "source": [
        "\n",
        "## Análisis descriptivo de datos\n",
        "\n",
        "La estadística descriptiva:\n",
        "  - quiere describir una muestra de manera\n",
        "    - cualitativa (gráfica) o\n",
        "    - cuantitativa (numérica)\n",
        "  - ligada al\n",
        "    - análisis exploratorio\n",
        "    - análisis inicial\n",
        "  - búsqueda de hipótesis\n",
        "    - nuevos muestreos\n",
        "    - experimentos\n",
        "\n",
        "La estadística inferencial:\n",
        "  - quiere inferir propiedades acerca de la población\n",
        "  - se focaliza en:\n",
        "    - asegurar la calidad de los datos\n",
        "    - chequear las suposiciones\n",
        "    - testear la hipótesis que tenemos en mente"
      ]
    },
    {
      "cell_type": "markdown",
      "metadata": {
        "id": "dhI3dMoUXo6P"
      },
      "source": [
        "\n",
        "## Muestra estadística\n",
        "\n",
        "Muestra:\n",
        "  - subconjunto de datos\n",
        "    - tomados de una población estadística\n",
        "    - mediante un proceso de muestreo determinado.\n",
        "\n",
        "Observación:\n",
        "  - Cada una de las unidades muestrales\n",
        "  - es posible medir variables aleatorias sobre una observación.\n",
        "\n",
        "Las **muestras** pueden ser:\n",
        "- **Completas**:\n",
        "  - Incluye a todos los casos, individuos u objetos de la población..\n",
        "    que cumplen con un criterio (de selección) determinado.\n",
        "  - Es difícil o imposible disponer de muestras completas.\n",
        "- **Representativas**:\n",
        "  - Conjunto de unidades muestrales seleccionadas de una muestra completa\n",
        "  - usando un proceso de selección/muestreo que no depende de las propiedades de\n",
        "    estas unidades.\n",
        "  - Una manera de obtener muestras no sesgadas es seleccionando una\n",
        "    **muestra aleatoria**\n"
      ]
     },
     "metadata": {},
     "output_type": "display_data"
    }
   ],
   "source": [
    "_ = plt.hist2d(\n",
    "  df[\"petal length (cm)\"],\n",
    "  df[\"petal width (cm)\"],\n",
    "  bins = 20,\n",
    ")\n",
    "plt.title(\"2D histogram\")\n",
    "plt.xlabel(\"Petal length (cm)\")\n",
    "plt.ylabel(\"Petal width (cm)\")"
   ]
  },
  {
   "cell_type": "markdown",
   "metadata": {},
   "source": [
    "### Mapa de calor (HeatMap)\n",
    "\n",
    "- Similar a un histograma 2D\n",
    "- Tienen variables categóricas o discretas en sus ejes.\n"
   ]
  },
  {
   "cell_type": "code",
   "execution_count": 11,
   "metadata": {},
   "outputs": [
    {
     "data": {
      "image/png": "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",
      "text/plain": [
       "<Figure size 640x480 with 2 Axes>"
      ]
     },
     "metadata": {},
     "output_type": "display_data"
    }
   ],
   "source": [
    "means_by_group = (\n",
    "  df\n",
    "    .groupby(\n",
    "      by=\"target\"\n",
    "    )\n",
    "    .aggregate(\n",
    "      func = np.mean\n",
    "    )\n",
    ")\n",
    "means_by_group.index = iris[\"target_names\"]\n",
    "\n",
    "im = plt.imshow(means_by_group)\n",
    "plt.xticks(\n",
    "  np.arange(len(means_by_group.columns)),\n",
    "  means_by_group.columns,\n",
    "  rotation = 45\n",
    ")\n",
    "plt.yticks(\n",
    "  np.arange(len(iris[\"target_names\"])),\n",
    "  iris[\"target_names\"]\n",
    ")\n",
    "cbar = plt.colorbar(im)\n",
    "plt.tight_layout()\n"
   ]
  },
  {
   "cell_type": "markdown",
   "metadata": {},
   "source": [
    "### Boxplots\n",
    "\n",
    "- permiten observar estadísticos de:\n",
    "  - tendencia central (mediana)\n",
    "  - de dispersión (rango entre cuartiles).\n",
    "  - valores extremos (outliers)"
   ]
  },
  {
   "cell_type": "code",
   "execution_count": 4,
   "metadata": {},
   "outputs": [
    {
     "data": {
      "image/png": "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",
      "text/plain": [
       "<Figure size 800x600 with 2 Axes>"
      ]
     },
     "metadata": {},
     "output_type": "display_data"
    }
   ],
   "source": [
    "import C01\n",
    "C01.boxplot_example()"
   ]
  },
  {
   "cell_type": "code",
   "execution_count": 91,
   "metadata": {},
   "outputs": [
    {
     "data": {
      "image/png": "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",
      "text/plain": [
       "<Figure size 640x480 with 1 Axes>"
      ]
     },
     "metadata": {},
     "output_type": "display_data"
    }
   ],
   "source": [
    "plt.boxplot(df.iloc[:,:4])\n",
    "_ = plt.xticks(\n",
    "  np.arange(len(df.columns[:4]))+1,\n",
    "  df.columns[:4],\n",
    "  rotation = 45\n",
    ")"
   ]
  },
  {
   "cell_type": "markdown",
   "metadata": {},
   "source": [
    "\n",
    "### Funciones Empíricas de Distribución Acumulada\n",
    "\n",
    "- Estima una función de probabilidad acumulada (CDF)\n",
    "- A partir de los datos\n"
   ]
  },
  {
   "cell_type": "code",
   "execution_count": 104,
   "metadata": {},
   "outputs": [
    {
     "data": {
      "text/plain": [
       "[<matplotlib.lines.Line2D at 0x15ea5e6aca0>]"
      ]
     },
     "execution_count": 104,
     "metadata": {},
     "output_type": "execute_result"
    },
    {
      "cell_type": "markdown",
      "metadata": {
        "id": "r3JJL-LiXo6Q"
      },
      "source": [
        "## Técnicas de muestreo"
      ]
    },
    {
      "cell_type": "markdown",
      "metadata": {
        "id": "aAYu6AqmXo6Q"
      },
      "source": [
        "### Muestreo aleatorio simple\n",
        "\n",
        "- Se selecciona un número k de unidades\n",
        "- de manera aleatoria\n",
        "- cada unidad tiene la misma probabilidad de ser seleccionado.\n",
        "- El muestreo puede ser:\n",
        "  - con reposición:\n",
        "    - cada unidad puede ser seleccionada más de una vez.\n",
        "  - sin reposición:\n",
        "    - cada unidad puede ser seleccionada solo una vez.\n",
        "    - seleccionar un elemento altera las probabilidades de selección del\n",
        "      siguiente.\n",
        "    - sin embargo cualquir orden de extracciñon es equiprobable.\n",
        "  - Si el tamaño de la población es mucho mayor al tamaño de la muestra:\n",
        "    - el muestreo con reposición y sin reposción se aproximan."
      ]
    },
    {
      "cell_type": "markdown",
      "metadata": {
        "id": "5y8OmZn6Xo6R"
      },
      "source": [
        "### Generación de muestras aleatorias en python"
      ]
    },
    {
      "cell_type": "code",
      "execution_count": null,
      "metadata": {
        "colab": {
          "base_uri": "https://localhost:8080/"
        },
        "id": "Gy5nWNCeXo6R",
        "outputId": "90111f7c-9b56-40cb-9b5d-0c3eaaff6c80"
      },
      "outputs": [],
      "source": [
        "import numpy as np\n",
        "\n",
        "population = np.arange(100)\n",
        "\n",
        "sample_without_replacement = np.random.choice(\n",
        "  a = population,\n",
        "  size = 99,\n",
        "  replace = False\n",
        ")\n",
        "\n",
        "all_different = len(np.unique(sample_without_replacement)) == 99\n",
        "\n",
        "print(\n",
        "  \"Todos los elementos son diferentes en la muestra sin reemplazo? : \"\n",
        "  f\"{all_different}\"\n",
        ")\n",
        "\n",
        "sample_with_replacement = np.random.choice(\n",
        "  a = population,\n",
        "  size = 99,\n",
        "  replace = True\n",
        ")\n",
        "all_different = len(np.unique(sample_with_replacement)) == 99\n",
        "\n",
        "print(\n",
        "  \"Todos los elementos son diferentes en la muestra con reemplazo? : \"\n",
        "  f\"{all_different}\"\n",
        ")\n"
      ]
    },
    {
      "cell_type": "code",
      "execution_count": null,
      "metadata": {
        "colab": {
          "base_uri": "https://localhost:8080/"
        },
        "id": "jmMeqhXbXo6S",
        "outputId": "730ea162-c60c-4201-8195-10b23faeddb0"
      },
      "outputs": [],
      "source": [
        "# Se puede usar con elementos no numéricos también.\n",
        "population = [\n",
        "  \"lunes\",\n",
        "  \"martes\",\n",
        "  \"miercoles\",\n",
        "  \"jueves\",\n",
        "  \"viernes\",\n",
        "  \"sábado\",\n",
        "  \"domingo\"\n",
        "]\n",
        "np.random.choice(\n",
        "  a = population,\n",
        "  size = 5,\n",
        "  replace = True\n",
        ")"
      ]
    },
    {
      "cell_type": "markdown",
      "metadata": {
        "id": "ghCvKZ_JXo6T"
      },
      "source": [
        "### Muestreo sistemático\n",
        "\n",
        "- Consiste en:\n",
        "  - ordenar los elementos según alguna variable de interés\n",
        "  - luego tomar n unidades muestrales equiespaciadas.\n",
        "  - El primer elemento debe ser seleccionado al azar\n",
        "    - quedando los otros determinados en relación a este.\n",
        "- permite muestrear una variable de intereses en todo su rango.\n",
        "- debe tenerse cuidado:\n",
        "  - si la variable muestra alguna característica periódica\n",
        "  - no se verá la variación entre dos elementos contiguos\n",
        "    - nunca se seleccionan a la vez."
      ]
    },
    {
      "cell_type": "markdown",
      "metadata": {
        "id": "TArx7zOBXo6T"
      },
      "source": [
        "### Generación de muestras sistemáticas en python\n",
        "\n",
        "- En este ejemplo vamoas a usar el conjunto de datos de **iris**.\n",
        "  - Tamaño (ancho y largo) de pétalo y sépalo tres variantes de plantas.\n",
        "- Vamos a ordenar según el largo de sus pétalos:"
      ]
    },
    {
      "cell_type": "code",
      "execution_count": null,
      "metadata": {
        "colab": {
          "base_uri": "https://localhost:8080/",
          "height": 206
        },
        "id": "8po7tJ7zXo6U",
        "outputId": "3cbbd972-93a0-4e63-879a-5c5839517245"
      },
      "outputs": [],
      "source": [
        "from sklearn import datasets\n",
        "import pandas as pd\n",
        "import numpy as np\n",
        "\n",
        "iris = datasets.load_iris(as_frame=True)\n",
        "df = iris.frame\n",
        "df.head()"
      ]
    },
    {
      "cell_type": "code",
      "execution_count": null,
      "metadata": {
        "colab": {
          "base_uri": "https://localhost:8080/",
          "height": 652
        },
        "id": "MOkDMWdPXo6U",
        "outputId": "a9d58480-67c9-4c86-e077-b5612c85ed34"
      },
      "outputs": [],
      "source": [
        "df = df.sort_values(\n",
        "  by=\"petal length (cm)\",\n",
        ")\n",
        "\n",
        "sample_size = 17 # Aprox...\n",
        "print(f\"El tamaño de la muestra es {sample_size}\")\n",
        "spacing = int(round(len(df) / sample_size))\n",
        "print(f\"Los elementos estan espaciados cada {spacing} posiciones\")\n",
        "starting_position = np.random.randint(low=0, high=spacing-1)\n",
        "print(f\"Elijo una posición de inicio aleatoria: {starting_position}\")\n",
        "selected_positions = np.arange(len(df)) % spacing == starting_position\n",
        "sample = df.iloc[selected_positions, :]\n",
        "print(f\"El tamaño real de la muestra es {len(sample)}\")\n",
        "sample\n"
      ]
    },
    {
      "cell_type": "markdown",
      "metadata": {
        "id": "NEkbALbrXo6U"
      },
      "source": [
        "### Muestreo estratificado\n",
        "\n",
        "- Se estratifica la población antes de tomar las muestras.\n",
        "- Se divide la población en grupos homogéneos.\n",
        "  - Los grupos son mutuamente excluyentes\n",
        "  - Todos los miembros de la población deben pertenecer a un grupo\n",
        "  - No pueden quedar miembros sin clasificar.\n",
        "- Se realiza un muestreo de cada estrato\n",
        "  - aleatorio simple\n",
        "  - sistemático dentro\n"
      ]
    },
    {
      "cell_type": "markdown",
      "metadata": {
        "id": "gJ_MR639Xo6U"
      },
      "source": [
        "\n",
        "Existen tres posibles estrategias:\n",
        "- **Asignación proporcional**:\n",
        "  - El número de unidades de cada grupo:\n",
        "    - es proporcional al número de individuos de cada grupo en la población.\n",
        "  - Se respeta las proporciones de los grupos en la población.\n",
        "- **Asignación óptima**:\n",
        "  - El número de unidades de cada grupo:\n",
        "    - es proporcional a la desviación estándar de la variable de interés.\n",
        "- **Asignación uniforme**:\n",
        "  - Igual número de elementos para cada grupo.\n",
        "  - El dataset **iris** fue generado de esta forma.\n",
        "    - 50 flores de cada especie."
      ]
    },
    {
      "cell_type": "markdown",
      "metadata": {
        "id": "EjBgDa8RXo6V"
      },
      "source": [
        "\n",
        "La media del muestreo es:\n",
        " - $ \\mu_{s} = \\frac{1}{N} \\sum_{h=1}^{L} N_{h} \\mu_{h} $\n",
        " * $\\mu_{s}$ es la media\n",
        " * $N$ es el tamaño de toda la población\n",
        " * $N_{h}$ es el tamaño del estrato h\n",
        " * $\\mu_h$ es la media de la muestra del estrato h.\n"
      ]
    },
    {
      "cell_type": "markdown",
      "metadata": {
        "id": "Jh5w8ktFXo6V"
      },
      "source": [
        "Ejercicio:\n",
        "- Se quiere construir un set de datos similar a Iris, pero en lugar de 150\n",
        "  muestras con 1000.\n",
        "- Se quiere que la asignación sea óptima con respecto al largo del pétalo.\n",
        "- ¿Cuántos elementos de cada especie deberían recolectarse?"
      ]
    },
    {
      "cell_type": "markdown",
      "metadata": {
        "id": "8gG8baBkXo6V"
      },
      "source": [
        "## Estadísticos de resumen\n",
        "\n",
        "Los estadísticos de resumen:\n",
        "- describen de manera cuantitativa la distribución de una muestra.\n",
        "- se describe cada variable aleatoria/dimensión manera independiente.\n",
        "\n",
        "Existen estadísticos de:\n",
        "- tendencia central\n",
        "- dispersión\n",
        "- forma:\n",
        "  - asimetría (Skewness)\n",
        "  - apuntamiento (Kurtosis)\n",
        "\n",
        "Algunos estadísticos pueden ser robustos:\n",
        "  - están menos afectados por valores extremos atípicos.\n",
        "  - tienen buena performance con muchos tipos de distribuciones."
      ]
    },
    {
      "cell_type": "markdown",
      "metadata": {
        "id": "qffQBeKhXo6V"
      },
      "source": [
        "\n",
        "### Estadísticos de tendencia central\n",
        "\n",
        "Los estadísticos más comunes de este tipo:\n",
        "- la *media*\n",
        "  - Es el promedio aritmético de un conjunto de datos.\n",
        "  - $\\bar{X} = \\frac{1}{N}\\times{\\sum_{i=1}^N{x_i}}$\n",
        "  - No es robusto.\n",
        "- La *mediana*.\n",
        "  - Es el valor ubicado en el percentil 50 de una distribución.\n",
        "  - Es un estimador robusto\n",
        "- La *moda*\n",
        "  - Es el valor más frecuente\n",
        "    - es el único estadístico de tendencia central para datos nominales\n",
        "  - Difícil de estimar correctamente para variables continuas."
      ]
    },
    {
      "cell_type": "code",
      "execution_count": null,
      "metadata": {
        "colab": {
          "base_uri": "https://localhost:8080/"
        },
        "id": "Tsoinm1PXo6W",
        "outputId": "13e11614-a2c1-4ac4-a700-b4c8a185323b"
      },
      "outputs": [],
      "source": [
        "df.mean()"
      ]
    },
    {
      "cell_type": "code",
      "execution_count": null,
      "metadata": {
        "id": "_NOKVgHmXo6W",
        "outputId": "c3478e3f-5d88-47e0-be31-b0422a4829cc"
      },
      "outputs": [],
      "source": [
        "df.median()"
      ]
    },
    {
      "cell_type": "code",
      "execution_count": null,
      "metadata": {
        "id": "YvctDQK0Xo6X",
        "outputId": "d44e8154-c40b-4de3-b62b-7016ec6dafaf"
      },
      "outputs": [],
      "source": [
        "df.mode()"
      ]
    },
    {
      "cell_type": "code",
      "execution_count": null,
      "metadata": {
        "id": "fNZsU5uNXo6X",
        "outputId": "31d7cdb4-fd24-4f1a-82dc-419c1ce59d6a"
      },
      "outputs": [],
      "source": [
        "import C01\n",
        "C01.mean_mode_median()\n"
      ]
    },
    {
      "cell_type": "markdown",
      "metadata": {
        "id": "z4RJL6XxXo6Y"
      },
      "source": [
        "## Estadísticos de dispersión\n",
        "\n",
        "- La *desviación estándar*\n",
        "  - es el más popular\n",
        "  - No es un estimador robusto.\n",
        "  - $s=\\sqrt{\\frac{\\sum_{i=1}^N{(x_i-\\bar{x})^2}}{N-1}}$\n",
        "  - Varianza: $s^2$\n",
        "- El rango entre cuartiles:\n",
        "  - Es la diferencia entre el tercer cuartil y el primer cuartil.\n",
        "  - $Q_3 - Q_1$\n",
        "- La desviación mediana absoluta **Median Absolute Deviation** (MAD).\n",
        "  - Es análogo a la desviación estandard utilizando la mediana\n",
        "  - $median(|X_i-median(X)|)$\n",
        "- El rango:\n",
        "  - Es la diferencia entre el valor máximo y mínimo."
      ]
    },
    {
      "cell_type": "code",
      "execution_count": null,
      "metadata": {
        "colab": {
          "base_uri": "https://localhost:8080/"
        },
        "id": "Cykl9bGYXo6Y",
        "outputId": "f51e46e1-36f3-4230-f9eb-ba638bae42da"
      },
      "outputs": [],
      "source": [
        "df.std()"
      ]
    },
    {
      "cell_type": "code",
      "execution_count": null,
      "metadata": {
        "id": "iRlhiIAqXo6Y",
        "outputId": "379418f6-cf43-41dd-ce5c-d93b792266e4"
      },
      "outputs": [],
      "source": [
        "df.quantile(0.75) - df.quantile(0.25) "
      ]
    },
    {
      "cell_type": "code",
      "execution_count": null,
      "metadata": {
        "id": "RVpPyu9TXo6Y",
        "outputId": "776aa530-6dc0-4933-9d46-b84ed5ee0ef7"
      },
      "outputs": [],
      "source": [
        "(df - df.mean()).abs().median()"
      ]
    },
    {
      "cell_type": "code",
      "execution_count": null,
      "metadata": {
        "id": "l3fLx0zqXo6Y",
        "outputId": "29c56571-bcc9-43b9-b74d-602deb222899"
      },
      "outputs": [],
      "source": [
        "df.max() - df.min()"
      ]
    },
    {
      "cell_type": "code",
      "execution_count": null,
      "metadata": {
        "id": "kagG8LUUXo6Z",
        "outputId": "f8cfe2f8-17ac-49ac-94dd-6a44eb1a2190"
      },
      "outputs": [],
      "source": [
        "import C01\n",
        "C01.dispersion_measures()"
      ]
    },
    {
      "cell_type": "markdown",
      "metadata": {
        "id": "eNvtaOPDXo6Z"
      },
      "source": [
        "## Estadísticos de forma\n",
        "\n",
        "Las medidas de forma de la distribución principales son:\n",
        "  - el *Skewness* o *asimetría*\n",
        "    - mide que tan simétricos son los datos con respecto a la media.\n",
        "  - la *Kurtosis*\n",
        "    - mide la concentración de datos cerca de la media.\n",
        "  - El *exceso de kurtosis*\n",
        "    - Es la diferencia con la kurtosis de la distribución normal estándar.\n",
        "    - *Kurtosis - 3*\n",
        "      - Igual a cero: igual a la distribución normal estándar.\n",
        "      - Menor a cero: Más concentrado sobre la media.\n",
        "      - Mayor a cero: Colas más pesadas."
      ]
    },
    {
      "cell_type": "code",
      "execution_count": null,
      "metadata": {
        "id": "wRWzbIe-Xo6Z",
        "outputId": "2a45e879-8bfc-4dd8-e3a9-1312be7405eb"
      },
      "outputs": [],
      "source": [
        "df.skew()"
      ]
    },
    {
      "cell_type": "code",
      "execution_count": null,
      "metadata": {
        "id": "VmI7R9B1Xo6Z",
        "outputId": "fe66a6ae-2310-4cb6-eef7-3de3049050c9"
      },
      "outputs": [],
      "source": [
        "df.kurtosis()"
      ]
    },
    {
      "cell_type": "code",
      "execution_count": null,
      "metadata": {
        "id": "BydiYrd_Xo6Z",
        "outputId": "9a7a8b11-ddc8-46eb-a078-aaec1083d360"
      },
      "outputs": [],
      "source": [
        "import C01\n",
        "C01.skewness_plot()"
      ]
    },
    {
      "cell_type": "code",
      "execution_count": null,
      "metadata": {
        "id": "Ok_SEAv5Xo6a",
        "outputId": "00ea6dfd-35f8-4626-e9ac-669d3df391e8"
      },
      "outputs": [],
      "source": [
        "import C01\n",
        "C01.kurtosis_plot()"
      ]
    },
    {
      "cell_type": "markdown",
      "metadata": {
        "id": "4hVP5zSOXo6a"
      },
      "source": [
        "## Descripción gráfica\n",
        "\n",
        "Los *Histogramas* permiten:\n",
        "- tener una visión de la forma de una distribución de densidad\n",
        "  para una variable aleatoria continua.\n",
        "- Se construyen:\n",
        "  - Subdiviendo el dominio en grupos (*bins*)\n",
        "  - contando el número de observaciones para cada *bin*."
      ]
    },
    {
      "cell_type": "code",
      "execution_count": null,
      "metadata": {
        "colab": {
          "base_uri": "https://localhost:8080/",
          "height": 285
        },
        "id": "dDH0s_a_Xo6a",
        "outputId": "8d183ce2-b48b-4cb0-e5ac-16c1c18e2ee4"
      },
      "outputs": [],
      "source": [
        "import matplotlib.pyplot as plt\n",
        "\n",
        "var = \"petal length (cm)\"\n",
        "\n",
        "plt.hist(\n",
        "  df[var],\n",
        "  bins = 25,\n",
        "  label = var\n",
        ")\n",
        "plt.legend()"
      ]
    },
    {
      "cell_type": "markdown",
      "metadata": {
        "id": "DlKce4BBXo6a"
      },
      "source": [
        "\n",
        "Los estimadores de núcleo de densidad (*Kernel Density Estimator*):\n",
        "- generan curvas suaves que estiman la función de densidad de la muestra\n",
        "- Tiene dos parámetros importantes:\n",
        "  - Una función de probabilidad (kernel)\n",
        "    - Por defecto se usa la distribución normal.\n",
        "  - El ancho de banda a utilizar.\n",
        "  - $\\hat{f}(x) = \\frac{1}{nh}\\sum_{i=1}^{n}K(\\frac{x-x_i}{h})$\n",
        "    - $K$ en la función de kernel\n",
        "    - $h$ es el ancho de banda\n"
      ]
    },
    {
      "cell_type": "code",
      "execution_count": null,
      "metadata": {
        "id": "H_1niEaUXo6a",
        "outputId": "af6143ff-7339-4397-ba72-0afc35c7ac85"
      },
      "outputs": [],
      "source": [
        "import C01\n",
        "C01.kde_plot()"
      ]
    },
    {
      "cell_type": "markdown",
      "metadata": {
        "id": "POKyTb9vXo6b"
      },
      "source": [
        "Los Diagramas de Dispersión:\n",
        "- utilizan las coordenadas cartesianas\n",
        "- muestran la distribución de dos variables en un espacio bi dimensional.\n",
        "- Es posible representar más dimensiones utilizado diferentes formas, tamaños\n",
        "  y/o colores.\n"
      ]
    },
    {
      "cell_type": "code",
      "execution_count": null,
      "metadata": {
        "colab": {
          "base_uri": "https://localhost:8080/",
          "height": 296
        },
        "id": "136-StbPXo6b",
        "outputId": "79a7757d-3a37-41a2-fe85-7e1371cfa811"
      },
      "outputs": [],
      "source": [
        "import matplotlib.pyplot as plt\n",
        "\n",
        "var1 = \"petal length (cm)\"\n",
        "var2 = \"sepal length (cm)\"\n",
        "\n",
        "scatter = plt.scatter(\n",
        "  x = df[var1],\n",
        "  y = df[var2],\n",
        "  c = df[\"target\"]\n",
        ")\n",
        "a, b = scatter.legend_elements()\n",
        "plt.xlabel(var1)\n",
        "plt.ylabel(var2)\n",
        "plt.legend(a, iris[\"target_names\"])"
      ]
    },
    {
      "cell_type": "code",
      "execution_count": null,
      "metadata": {
        "colab": {
          "base_uri": "https://localhost:8080/",
          "height": 601
        },
        "id": "ciku4aFGXo6b",
        "outputId": "0c593bb0-ea52-4ddc-ab5e-b1fb82b6f825"
      },
      "outputs": [],
      "source": [
        "_ = pd.plotting.scatter_matrix(\n",
        "  df.iloc[:,0:4],\n",
        "  figsize=(10,10),\n",
        "  c = df[\"target\"]\n",
        ")"
      ]
    },
    {
      "cell_type": "markdown",
      "metadata": {
        "id": "dYJfDjrzXo6b"
      },
      "source": [
        "Histogramas bivariados\n",
        "\n",
        "- Los grupos (bins) se establecen para las dos variables\n",
        "- se definen rectángulos\n",
        "- Normalmente se utiliza un código de color para\n",
        "  indicar la cantidad de valores en cada grupo.\n"
      ]
    },
    {
      "cell_type": "code",
      "execution_count": null,
      "metadata": {
        "colab": {
          "base_uri": "https://localhost:8080/",
          "height": 312
        },
        "id": "QFnAmtsdXo6b",
        "outputId": "bb53c7e2-7aca-49ce-9d01-bfd5d5085257"
      },
      "outputs": [],
      "source": [
        "_ = plt.hist2d(\n",
        "  df[\"petal length (cm)\"],\n",
        "  df[\"petal width (cm)\"],\n",
        "  bins = 20,\n",
        ")\n",
        "plt.title(\"2D histogram\")\n",
        "plt.xlabel(\"Petal length (cm)\")\n",
        "plt.ylabel(\"Petal width (cm)\")"
      ]
    },
    {
      "cell_type": "markdown",
      "metadata": {
        "id": "CWQE469tXo6b"
      },
      "source": [
        "### Mapa de calor (HeatMap)\n",
        "\n",
        "- Similar a un histograma 2D\n",
        "- Tienen variables categóricas o discretas en sus ejes.\n"
      ]
    },
    {
      "cell_type": "code",
      "execution_count": null,
      "metadata": {
        "colab": {
          "base_uri": "https://localhost:8080/",
          "height": 206
        },
        "id": "zedRuXRNxSaB",
        "outputId": "12a64bb0-9e87-4b63-f8c8-6fba842f71fe"
      },
      "outputs": [],
      "source": [
        "df.head()"
      ]
    },
    {
      "cell_type": "code",
      "execution_count": null,
      "metadata": {
        "colab": {
          "base_uri": "https://localhost:8080/",
          "height": 306
        },
        "id": "g8eG5T1_Xo6b",
        "outputId": "910a32d8-83af-470f-c2bb-5812b078f6b1"
      },
      "outputs": [],
      "source": [
        "means_by_group = (\n",
        "  df\n",
        "    .groupby(\n",
        "      by=\"target\"\n",
        "    )\n",
        "    .aggregate(\n",
        "      func = np.mean\n",
        "    )\n",
        ")\n",
        "\n",
        "means_by_group.index = iris[\"target_names\"]\n",
        "\n",
        "im = plt.imshow(means_by_group)\n",
        "plt.xticks(\n",
        "  np.arange(len(means_by_group.columns)),\n",
        "  means_by_group.columns,\n",
        "  rotation = 45\n",
        ")\n",
        "plt.yticks(\n",
        "  np.arange(len(iris[\"target_names\"])),\n",
        "  iris[\"target_names\"]\n",
        ")\n",
        "cbar = plt.colorbar(im)\n",
        "plt.tight_layout()\n"
      ]
    },
    {
      "cell_type": "markdown",
      "metadata": {
        "id": "3vOqXMApXo6c"
      },
      "source": [
        "### Boxplots\n",
        "\n",
        "- permiten observar estadísticos de:\n",
        "  - tendencia central (mediana)\n",
        "  - de dispersión (rango entre cuartiles).\n",
        "  - valores extremos (outliers)"
      ]
    },
    {
      "cell_type": "code",
      "execution_count": null,
      "metadata": {
        "colab": {
          "base_uri": "https://localhost:8080/",
          "height": 363
        },
        "id": "JyqKh4jhXo6c",
        "outputId": "95c98f07-f90d-413e-e0db-3a1546e6fe96"
      },
      "outputs": [],
      "source": [
        "import C01\n",
        "C01.boxplot_example()"
      ]
    },
    {
      "cell_type": "code",
      "execution_count": null,
      "metadata": {
        "colab": {
          "base_uri": "https://localhost:8080/",
          "height": 324
        },
        "id": "0eaJx0lXXo6c",
        "outputId": "1b15dcfc-b188-48fa-f94a-707b124d3c05"
      },
      "outputs": [],
      "source": [
        "plt.boxplot(df.iloc[:, :4])\n",
        "_ = plt.xticks(\n",
        "  np.arange(len(df.columns[:4]))+1,\n",
        "  df.columns[:4],\n",
        "  rotation = 45\n",
        ")"
      ]
    },
    {
      "cell_type": "markdown",
      "metadata": {
        "id": "_SIvuIB3Xo6c"
      },
      "source": [
        "\n",
        "### Funciones Empíricas de Distribución Acumulada\n",
        "\n",
        "- Estima una función de probabilidad acumulada (CDF)\n",
        "- A partir de los datos\n"
      ]
    },
    {
      "cell_type": "code",
      "execution_count": null,
      "metadata": {
        "colab": {
          "base_uri": "https://localhost:8080/",
          "height": 282
        },
        "id": "OQGOlkjjXo6c",
        "outputId": "c35155c7-3e7f-4dd4-cec2-02dcf02e040c"
      },
      "outputs": [],
      "source": [
        "import scipy\n",
        "s = df.iloc[:, 1].value_counts().sort_index().cumsum()\n",
        "s = s / max(s)\n",
        "plt.plot(s)\n"
      ]
    },
    {
      "cell_type": "code",
      "execution_count": null,
      "metadata": {
        "colab": {
          "base_uri": "https://localhost:8080/",
          "height": 282
        },
        "id": "qxcA6sH1Xo6d",
        "outputId": "89627f2f-c0f3-48a7-c75b-9e86829cf5c8"
      },
      "outputs": [],
      "source": [
        "res = scipy.stats.cumfreq(\n",
        "    a = df.iloc[:, 1],\n",
        "    numbins = 20\n",
        ")\n",
        "plt.bar(\n",
        "    x = np.linspace(\n",
        "        res.lowerlimit,\n",
        "        res.binsize * res.cumcount.size + res.lowerlimit,\n",
        "        res.cumcount.size\n",
        "    ),\n",
        "    height = res.cumcount,\n",
        "    width = res.binsize\n",
        ")"
      ]
    },
    {
      "cell_type": "markdown",
      "metadata": {
        "id": "IuLqTz_dXo6d"
      },
      "source": [
        "\n",
        "### Ajuste de distribuciones estadísticas\n",
        "\n",
        "- Encontrar:\n",
        "  - la mejor función de distribución teórica\n",
        "    - Se presume una familia y se ajustan los parámetros\n",
        "  - de acuerdo a los datos que tenemos\n",
        "- Los estadisticos y gráficos evaludados en la exploración pueden guiar la\n",
        "  elección de la familiad de funciones."
      ]
    },
    {
      "cell_type": "code",
      "execution_count": null,
      "metadata": {
        "colab": {
          "base_uri": "https://localhost:8080/"
        },
        "id": "ZFnQAhRrXo6d",
        "outputId": "3dfdec2d-597a-4a4e-8aeb-216c065dcbda"
      },
      "outputs": [],
      "source": [
        "from scipy.stats import norm\n",
        "import scipy.stats as st\n",
        "normal_sample = norm.rvs(\n",
        "    loc=2,\n",
        "    scale = 3,\n",
        "    size = 1000\n",
        ")\n",
        "\n",
        "fitted_mu, fitted_sigma = norm.fit(normal_sample)\n",
        "print(f\"fitted_mu: {fitted_mu}\")\n",
        "print(f\"fitted_sigma: {fitted_sigma}\")\n",
        "\n",
        "x = np.linspace(\n",
        "    start = fitted_mu - 3*fitted_sigma,\n",
        "    stop = fitted_mu + 3*fitted_sigma,\n",
        "    num = 100\n",
        ")\n",
        "\n",
        "plt.hist(normal_sample, bins =  50, density=True)\n",
        "plt.plot(x, st.norm.pdf(x, loc=fitted_mu, scale=fitted_sigma))\n"
      ]
    },
    {
      "cell_type": "code",
      "execution_count": null,
      "metadata": {
        "id": "VFSDL8s3Xo6d",
        "outputId": "1be1c577-19bd-40f7-e3e8-e704b144398e"
      },
      "outputs": [],
      "source": [
        "data = (\n",
        "    df\n",
        "        .loc[df.iloc[:, 4] == 0, :]\n",
        "        .iloc[:, 1]\n",
        ")\n",
        "mu, dev = norm.fit(data)\n",
        "data = (data-mu)/dev\n",
        "res = scipy.stats.fit(\n",
        "    scipy.stats.norm,\n",
        "    data\n",
        ")\n",
        "res.plot()\n",
        "plt.hist(\n",
        "    data,\n",
        "    density=True,\n",
        "    color = \"red\",\n",
        "    bins = 20\n",
        ")"
      ]
    },
    {
      "cell_type": "code",
      "execution_count": null,
      "metadata": {
        "colab": {
          "base_uri": "https://localhost:8080/",
          "height": 282
        },
        "id": "2V5wMGpiXo6d",
        "outputId": "8bd640de-3104-411b-bd94-f5ded2965049"
      },
      "outputs": [],
      "source": [
        "xs = np.linspace(0, 20, 100)\n",
        "lognorm_sample = scipy.stats.lognorm.rvs(size=1000, s=0.7, loc=3, scale=1.6)\n",
        "s, loc, scale = scipy.stats.lognorm.fit(lognorm_sample)\n",
        "lognorm_data = scipy.stats.lognorm.pdf(xs, s=s, loc=loc, scale=scale)\n",
        "fig, axes = plt.subplots()\n",
        "axes.plot(xs, lognorm_data)\n",
        "_ = axes.hist(lognorm_sample, density = True, bins=100)\n",
        "print(s, loc, scale)"
      ]
    },
    {
      "cell_type": "markdown",
      "metadata": {
        "id": "8T4hjJ26Xo6e"
      },
      "source": [
        "\n",
        "## Tests de normalidad\n",
        "\n",
        "- Suele ser útil saber si nuestros datos se distribuyen normalmente\n",
        "  - Propiedades del origen de datos\n",
        "  - Requerimiento para tests estadísticos\n",
        "\n",
        "### Gráfico de probabilidad normal\n",
        "\n",
        "- Quantile / Quantile plots\n",
        "  - Se compara cuantil a cuantil una distribución dada vs la distribución normal.\n",
        "  - Si los datos provienen de una distribución normal,}\n",
        "    - el gráfico se acerca a una recta.\n"
      ]
    },
    {
      "cell_type": "code",
      "execution_count": null,
      "metadata": {
        "colab": {
          "base_uri": "https://localhost:8080/",
          "height": 334
        },
        "id": "J2ew2qsEXo6e",
        "outputId": "d5b43dfa-ea8f-4e1d-c9b1-f6be0050d1e1"
      },
      "outputs": [],
      "source": [
        "import statsmodels.api as sm\n",
        "import scipy\n",
        "\n",
        "data = (\n",
        "    df\n",
        "        .loc[df.iloc[:, 4] == 0, :]\n",
        "        .iloc[:, 1]\n",
        ")\n",
        "\n",
        "fig = sm.qqplot(\n",
        "    data = data,\n",
        "    dist = scipy.stats.norm,\n",
        "    fit = True,\n",
        "    line = \"45\"\n",
        ")"
      ]
    },
    {
      "cell_type": "code",
      "execution_count": null,
      "metadata": {
        "colab": {
          "base_uri": "https://localhost:8080/",
          "height": 527
        },
        "id": "8MRA2iL_Xo6e",
        "outputId": "592cb8c5-2660-4eca-f9d6-178f6eae8c81"
      },
      "outputs": [],
      "source": [
        "import statsmodels.api as sm\n",
        "import scipy\n",
        "\n",
        "data = (\n",
        "    df\n",
        "        .loc[df.iloc[:, 4] == 0, :]\n",
        "        .iloc[:, 1]\n",
        ")\n",
        "\n",
        "s, loc, scale = scipy.stats.lognorm.fit(data, f0 = 0.7)\n",
        "data = (data - loc) / scale\n",
        "plt.hist(data, density = True)\n",
        "plt.plot(\n",
        "    np.linspace(0,2, 100),\n",
        "    scipy.stats.lognorm.pdf(np.linspace(0,2,100), 0.7)\n",
        ")\n",
        "fig = sm.qqplot(\n",
        "    data = data,\n",
        "    dist = scipy.stats.lognorm,\n",
        "    line = \"45\",\n",
        "    distargs = (0.7,)\n",
        ")"
      ]
    },
    {
      "cell_type": "markdown",
      "metadata": {
        "id": "yfbihZ_xXo6e"
      },
      "source": [
        "### Test de hipótesis\n",
        "\n",
        "Existen diversos tests\n",
        "- Hipótesis nula:\n",
        "  - Los datos provienen de una distribución normal\n",
        "- En general:\n",
        "  - Se observa el p-valor devuelto\n",
        "  - Si es menor que el nivel de significancia elegido.\n",
        "    - Rechazo la hipótesis de normalidad.\n",
        "- Test Anderson-Darling\n",
        "- Test Shapiro-Wilk\n",
        "- Test Kolmogorov-Smirnov\n",
        "  - Compara la CDF de la función con la empírica de los datos\n",
        "- Test D'Agostino-Pearson"
      ]
    },
    {
      "cell_type": "code",
      "execution_count": null,
      "metadata": {
        "colab": {
          "base_uri": "https://localhost:8080/",
          "height": 441
        },
        "id": "oJ2PoPvEXo6e",
        "outputId": "35e75fd3-afae-4daa-8421-6fd102585cc4"
      },
      "outputs": [],
      "source": [
        "normal_sample = scipy.stats.norm.rvs(size=1000)\n",
        "uniform_sample = scipy.stats.uniform.rvs(size=1000)\n",
        "lognorm_sample = scipy.stats.lognorm.rvs(size=1000, s=0.7)\n",
        "fig, axes = plt.subplots(\n",
        "    nrows=3,\n",
        "    figsize=(7, 6)\n",
        ")\n",
        "axes[0].hist(normal_sample, bins=30)\n",
        "axes[1].hist(uniform_sample, bins=30)\n",
        "axes[2].hist(lognorm_sample, bins=30)\n",
        "fig.tight_layout()"
      ]
    },
    {
      "cell_type": "code",
      "execution_count": null,
      "metadata": {
        "colab": {
          "base_uri": "https://localhost:8080/"
        },
        "id": "boE02WxbXo6e",
        "outputId": "57619297-cf61-4db9-aa9f-ef3a421d122f"
      },
      "outputs": [],
      "source": [
        "normal_test = scipy.stats.anderson(normal_sample)\n",
        "normal_stat = scipy.stats.anderson(normal_sample).statistic\n",
        "uniform_stat = scipy.stats.anderson(uniform_sample).statistic\n",
        "lognorm_stat = scipy.stats.anderson(lognorm_sample).statistic\n",
        "print(f\"El valor de estadistico para la dist. normal es: {normal_stat}\")\n",
        "print(f\"El valor de estadistico para la dist. uniforme es: {uniform_stat}\")\n",
        "print(f\"El valor de estadistico para la dist. lognormal es: {lognorm_stat}\")\n",
        "print(f\"Los valores criticos son: {normal_test.critical_values}\")\n",
        "print(f\"Los niveles de significancia son: {normal_test.significance_level}\")"
      ]
    },
    {
      "cell_type": "code",
      "execution_count": null,
      "metadata": {
        "colab": {
          "base_uri": "https://localhost:8080/"
        },
        "id": "dXMhI6PQXo6f",
        "outputId": "5599c899-2fe4-4c9e-e979-bd966c959275"
      },
      "outputs": [],
      "source": [
        "normal_stat = scipy.stats.shapiro(normal_sample)[1]\n",
        "uniform_stat = scipy.stats.shapiro(uniform_sample)[1]\n",
        "lognorm_stat = scipy.stats.shapiro(lognorm_sample)[1]\n",
        "print(f\"El p-valor para la dist. normal es: {normal_stat}\")\n",
        "print(f\"El p-valor para la dist. uniforme es: {uniform_stat}\")\n",
        "print(f\"El p-valor para la dist. lognormal es: {lognorm_stat}\")"
      ]
    },
    {
      "cell_type": "code",
      "execution_count": null,
      "metadata": {
        "colab": {
          "base_uri": "https://localhost:8080/"
        },
        "id": "oyiJHXltXo6f",
        "outputId": "3822ae71-a683-49c4-c651-015702378d72"
      },
      "outputs": [],
      "source": [
        "cdf_norm = scipy.stats.norm.cdf\n",
        "normal_stat = scipy.stats.kstest(normal_sample, cdf_norm)[1]\n",
        "uniform_stat = scipy.stats.kstest(uniform_sample, cdf_norm)[1]\n",
        "lognorm_stat = scipy.stats.kstest(lognorm_sample, cdf_norm)[1]\n",
        "print(f\"El p-valor para la dist. normal es: {normal_stat}\")\n",
        "print(f\"El p-valor para la dist. uniforme es: {uniform_stat}\")\n",
        "print(f\"El p-valor para la dist. lognormal es: {lognorm_stat}\")\n"
      ]
    },
    {
      "cell_type": "code",
      "execution_count": null,
      "metadata": {
        "colab": {
          "base_uri": "https://localhost:8080/"
        },
        "id": "SGAB2XgOXo6f",
        "outputId": "baeecd6c-ae73-4c08-a220-78b7474e1718"
      },
      "outputs": [],
      "source": [
        "normal_stat = scipy.stats.normaltest(normal_sample)[1]\n",
        "uniform_stat = scipy.stats.normaltest(uniform_sample)[1]\n",
        "lognorm_stat = scipy.stats.normaltest(lognorm_sample)[1]\n",
        "print(f\"El p-valor para la dist. normal es: {normal_stat}\")\n",
        "print(f\"El p-valor para la dist. uniforme es: {uniform_stat}\")\n",
        "print(f\"El p-valor para la dist. lognormal es: {lognorm_stat}\")\n"
      ]
    },
    {
      "cell_type": "code",
      "execution_count": null,
      "metadata": {
        "colab": {
          "base_uri": "https://localhost:8080/",
          "height": 582
        },
        "id": "DH0y8plYXo6f",
        "outputId": "eb453688-61bf-4bf2-f19a-c2d04545c5e2"
      },
      "outputs": [],
      "source": [
        "result = (\n",
        "    df\n",
        "        .groupby(\"target\")\n",
        "        .aggregate(\n",
        "            [\n",
        "                lambda x: scipy.stats.anderson(x).statistic,\n",
        "                lambda x: scipy.stats.normaltest(x)[1],\n",
        "                lambda x: scipy.stats.kstest(x, scipy.stats.norm.cdf)[1],\n",
        "                lambda x: scipy.stats.shapiro(x)[1]\n",
        "            ]\n",
        "        )\n",
        ")\n",
        "result = result.T\n",
        "\n",
        "test_name = [\n",
        "    \"Anderson\", \"DAgostino\", \"KS\", \"Shapiro\"\n",
        "] * 4\n",
        "\n",
        "index = result.index.to_frame()\n",
        "index.iloc[:, 1] = test_name\n",
        "index = result.index.from_frame(index)\n",
        "result = result.set_index(index)\n",
        "\n",
        "result.columns = iris[\"target_names\"]\n",
        "result"
      ]
    },
    {
      "cell_type": "markdown",
      "metadata": {
        "id": "ERTVQktqXo6f"
      },
      "source": [
        "### Teorización *Post Hoc*\n",
        "\n",
        "- Generación de hipótesis sugeridas por el conjunto de datos observado, sin\n",
        "  testear esta hipótesis en nuevos datos.\n",
        "  - puede resultar en aceptar hipótesis incorrectas\n",
        "  - que sólo son válidas en el presente conjunto de datos\n",
        "\n",
        "- Es necesario testear estas nuevas hipotesis en una nueva muestra de la\n",
        "  población.\n",
        "  - Sin embargo,\n",
        "    - en muchas casos eso puede ser imposible:\n",
        "      - analizar un fenómeno natural finito.\n",
        "      - difícil o imposible la recolección de nuevos datos\n",
        "  - puede surgir en la bioinformática\n",
        "    - cuando se toman todos los elementos de una base de datos\n",
        "    - sin dejar datos suficientes para testear las hipótesis\n",
        "\n",
        "### Data *fishing*:\n",
        "  - testear muchas hipótesis sobre un conjunto de datos\n",
        "    - hasta encontrar un caso significativo\n",
        "\n",
        "#### Alternativas para no caer en este problema:\n",
        "  - Recolectar nuevos datos (out-of-sample data)\n",
        "    realizar un nuevo experimento,\n",
        "    para testear la nueva hipótesis.\n",
        "  - Separar el conjunto de datos de manera aleatoria en dos grupos.\n",
        "     - Uno para plantear nuevas hipótesis\n",
        "     - El otro para evaluarlas.\n",
        "  - Utilizar métodos de validación cruzada (cross validation)\n",
        "    - evitar un sobreajuste (overfitting)\n",
        "  - Aplicar correcciones por testeo múltiple."
      ]
    }
  ],
  "metadata": {
    "colab": {
      "provenance": []
    },
    "kernelspec": {
      "display_name": "Python 3.9.7 ('.venv': venv)",
      "language": "python",
      "name": "python3"
    },
    "language_info": {
      "codemirror_mode": {
        "name": "ipython",
        "version": 3
      },
      "file_extension": ".py",
      "mimetype": "text/x-python",
      "name": "python",
      "nbconvert_exporter": "python",
      "pygments_lexer": "ipython3",
      "version": "3.9.7"
    },
    "orig_nbformat": 4,
    "vscode": {
      "interpreter": {
        "hash": "12dfb8769f5cdb8e6ae58aaabfc28b9d0a9827a6998ad0bbb6f597e53386ef86"
      }
    }
  },
  "nbformat": 4,
  "nbformat_minor": 0
}
