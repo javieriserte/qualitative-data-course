{
  "cells": [
    {
      "cell_type": "code",
      "execution_count": 1,
      "metadata": {
        "id": "xlixRH6vXo6K"
      },
      "outputs": [],
      "source": [
        "%load_ext autoreload\n",
        "%autoreload 2"
      ]
    },
    {
      "cell_type": "code",
      "source": [
        "! pip freeze\n"
      ],
      "metadata": {
        "id": "Yfm3TRLU-IY1",
        "outputId": "fcc8f9af-4e36-4369-f8dc-fe774e824fa2",
        "colab": {
          "base_uri": "https://localhost:8080/"
        }
      },
      "execution_count": 44,
      "outputs": [
        {
          "output_type": "stream",
          "name": "stdout",
          "text": [
            "absl-py==1.3.0\n",
            "aeppl==0.0.33\n",
            "aesara==2.7.9\n",
            "aiohttp==3.8.3\n",
            "aiosignal==1.3.1\n",
            "alabaster==0.7.12\n",
            "albumentations==1.2.1\n",
            "altair==4.2.0\n",
            "appdirs==1.4.4\n",
            "arviz==0.12.1\n",
            "astor==0.8.1\n",
            "astropy==4.3.1\n",
            "astunparse==1.6.3\n",
            "async-timeout==4.0.2\n",
            "asynctest==0.13.0\n",
            "atari-py==0.2.9\n",
            "atomicwrites==1.4.1\n",
            "attrs==22.1.0\n",
            "audioread==3.0.0\n",
            "autograd==1.5\n",
            "Babel==2.11.0\n",
            "backcall==0.2.0\n",
            "beautifulsoup4==4.6.3\n",
            "bleach==5.0.1\n",
            "blis==0.7.9\n",
            "bokeh==2.3.3\n",
            "branca==0.6.0\n",
            "bs4==0.0.1\n",
            "CacheControl==0.12.11\n",
            "cached-property==1.5.2\n",
            "cachetools==5.2.0\n",
            "catalogue==2.0.8\n",
            "certifi==2022.9.24\n",
            "cffi==1.15.1\n",
            "cftime==1.6.2\n",
            "chardet==3.0.4\n",
            "charset-normalizer==2.1.1\n",
            "click==7.1.2\n",
            "clikit==0.6.2\n",
            "cloudpickle==1.5.0\n",
            "cmake==3.22.6\n",
            "cmdstanpy==1.0.8\n",
            "colorcet==3.0.1\n",
            "colorlover==0.3.0\n",
            "community==1.0.0b1\n",
            "confection==0.0.3\n",
            "cons==0.4.5\n",
            "contextlib2==0.5.5\n",
            "convertdate==2.4.0\n",
            "crashtest==0.3.1\n",
            "crcmod==1.7\n",
            "cufflinks==0.17.3\n",
            "cvxopt==1.3.0\n",
            "cvxpy==1.2.2\n",
            "cycler==0.11.0\n",
            "cymem==2.0.7\n",
            "Cython==0.29.32\n",
            "daft==0.0.4\n",
            "dask==2022.2.0\n",
            "datascience==0.17.5\n",
            "db-dtypes==1.0.4\n",
            "debugpy==1.0.0\n",
            "decorator==4.4.2\n",
            "defusedxml==0.7.1\n",
            "descartes==1.1.0\n",
            "dill==0.3.6\n",
            "distributed==2022.2.0\n",
            "dlib==19.24.0\n",
            "dm-tree==0.1.7\n",
            "dnspython==2.2.1\n",
            "docutils==0.17.1\n",
            "dopamine-rl==1.0.5\n",
            "earthengine-api==0.1.332\n",
            "easydict==1.10\n",
            "ecos==2.0.10\n",
            "editdistance==0.5.3\n",
            "en-core-web-sm @ https://github.com/explosion/spacy-models/releases/download/en_core_web_sm-3.4.1/en_core_web_sm-3.4.1-py3-none-any.whl\n",
            "entrypoints==0.4\n",
            "ephem==4.1.3\n",
            "et-xmlfile==1.1.0\n",
            "etils==0.9.0\n",
            "etuples==0.3.8\n",
            "fa2==0.3.5\n",
            "fastai==2.7.10\n",
            "fastcore==1.5.27\n",
            "fastdownload==0.0.7\n",
            "fastdtw==0.3.4\n",
            "fastjsonschema==2.16.2\n",
            "fastprogress==1.0.3\n",
            "fastrlock==0.8.1\n",
            "feather-format==0.4.1\n",
            "filelock==3.8.0\n",
            "firebase-admin==5.3.0\n",
            "fix-yahoo-finance==0.0.22\n",
            "Flask==1.1.4\n",
            "flatbuffers==1.12\n",
            "folium==0.12.1.post1\n",
            "fonttools==4.38.0\n",
            "frozenlist==1.3.3\n",
            "fsspec==2022.11.0\n",
            "future==0.16.0\n",
            "gast==0.4.0\n",
            "GDAL==2.2.2\n",
            "gdown==4.4.0\n",
            "gensim==3.6.0\n",
            "geographiclib==1.52\n",
            "geopy==1.17.0\n",
            "gin-config==0.5.0\n",
            "glob2==0.7\n",
            "google==2.0.3\n",
            "google-api-core==2.8.2\n",
            "google-api-python-client==1.12.11\n",
            "google-auth==2.14.1\n",
            "google-auth-httplib2==0.0.4\n",
            "google-auth-oauthlib==0.4.6\n",
            "google-cloud-bigquery==3.3.6\n",
            "google-cloud-bigquery-storage==2.16.2\n",
            "google-cloud-core==2.3.2\n",
            "google-cloud-datastore==2.9.0\n",
            "google-cloud-firestore==2.7.2\n",
            "google-cloud-language==2.6.1\n",
            "google-cloud-storage==2.5.0\n",
            "google-cloud-translate==3.8.4\n",
            "google-colab @ file:///colabtools/dist/google-colab-1.0.0.tar.gz\n",
            "google-crc32c==1.5.0\n",
            "google-pasta==0.2.0\n",
            "google-resumable-media==2.4.0\n",
            "googleapis-common-protos==1.57.0\n",
            "googledrivedownloader==0.4\n",
            "graphviz==0.10.1\n",
            "greenlet==2.0.1\n",
            "grpcio==1.50.0\n",
            "grpcio-status==1.48.2\n",
            "gspread==3.4.2\n",
            "gspread-dataframe==3.0.8\n",
            "gym==0.25.2\n",
            "gym-notices==0.0.8\n",
            "h5py==3.1.0\n",
            "HeapDict==1.0.1\n",
            "hijri-converter==2.2.4\n",
            "holidays==0.17\n",
            "holoviews==1.14.9\n",
            "html5lib==1.0.1\n",
            "httpimport==0.5.18\n",
            "httplib2==0.17.4\n",
            "httpstan==4.6.1\n",
            "humanize==0.5.1\n",
            "hyperopt==0.1.2\n",
            "idna==2.10\n",
            "imageio==2.9.0\n",
            "imagesize==1.4.1\n",
            "imbalanced-learn==0.8.1\n",
            "imblearn==0.0\n",
            "imgaug==0.4.0\n",
            "importlib-metadata==4.13.0\n",
            "importlib-resources==5.10.0\n",
            "imutils==0.5.4\n",
            "inflect==2.1.0\n",
            "intel-openmp==2022.2.1\n",
            "intervaltree==2.1.0\n",
            "ipykernel==5.3.4\n",
            "ipython==7.9.0\n",
            "ipython-genutils==0.2.0\n",
            "ipython-sql==0.3.9\n",
            "ipywidgets==7.7.1\n",
            "itsdangerous==1.1.0\n",
            "jax==0.3.25\n",
            "jaxlib @ https://storage.googleapis.com/jax-releases/cuda11/jaxlib-0.3.25+cuda11.cudnn805-cp37-cp37m-manylinux2014_x86_64.whl\n",
            "jieba==0.42.1\n",
            "Jinja2==2.11.3\n",
            "joblib==1.2.0\n",
            "jpeg4py==0.1.4\n",
            "jsonschema==4.3.3\n",
            "jupyter-client==6.1.12\n",
            "jupyter-console==6.1.0\n",
            "jupyter-core==4.11.2\n",
            "jupyterlab-widgets==3.0.3\n",
            "kaggle==1.5.12\n",
            "kapre==0.3.7\n",
            "keras==2.9.0\n",
            "Keras-Preprocessing==1.1.2\n",
            "keras-vis==0.4.1\n",
            "kiwisolver==1.4.4\n",
            "korean-lunar-calendar==0.3.1\n",
            "langcodes==3.3.0\n",
            "libclang==14.0.6\n",
            "librosa==0.8.1\n",
            "lightgbm==2.2.3\n",
            "llvmlite==0.39.1\n",
            "lmdb==0.99\n",
            "locket==1.0.0\n",
            "logical-unification==0.4.5\n",
            "LunarCalendar==0.0.9\n",
            "lxml==4.9.1\n",
            "Markdown==3.4.1\n",
            "MarkupSafe==2.0.1\n",
            "marshmallow==3.19.0\n",
            "matplotlib==3.5.3\n",
            "matplotlib-venn==0.11.7\n",
            "miniKanren==1.0.3\n",
            "missingno==0.5.1\n",
            "mistune==0.8.4\n",
            "mizani==0.7.3\n",
            "mkl==2019.0\n",
            "mlxtend==0.14.0\n",
            "more-itertools==9.0.0\n",
            "moviepy==0.2.3.5\n",
            "mpmath==1.2.1\n",
            "msgpack==1.0.4\n",
            "multidict==6.0.2\n",
            "multipledispatch==0.6.0\n",
            "multitasking==0.0.11\n",
            "murmurhash==1.0.9\n",
            "music21==5.5.0\n",
            "natsort==5.5.0\n",
            "nbconvert==5.6.1\n",
            "nbformat==5.7.0\n",
            "netCDF4==1.6.2\n",
            "networkx==2.6.3\n",
            "nibabel==3.0.2\n",
            "nltk==3.7\n",
            "notebook==5.7.16\n",
            "numba==0.56.4\n",
            "numexpr==2.8.4\n",
            "numpy==1.21.6\n",
            "oauth2client==4.1.3\n",
            "oauthlib==3.2.2\n",
            "okgrade==0.4.3\n",
            "opencv-contrib-python==4.6.0.66\n",
            "opencv-python==4.6.0.66\n",
            "opencv-python-headless==4.6.0.66\n",
            "openpyxl==3.0.10\n",
            "opt-einsum==3.3.0\n",
            "osqp==0.6.2.post0\n",
            "packaging==21.3\n",
            "palettable==3.3.0\n",
            "pandas==1.3.5\n",
            "pandas-datareader==0.9.0\n",
            "pandas-gbq==0.17.9\n",
            "pandas-profiling==1.4.1\n",
            "pandocfilters==1.5.0\n",
            "panel==0.12.1\n",
            "param==1.12.2\n",
            "parso==0.8.3\n",
            "partd==1.3.0\n",
            "pastel==0.2.1\n",
            "pathlib==1.0.1\n",
            "pathy==0.8.1\n",
            "patsy==0.5.3\n",
            "pep517==0.13.0\n",
            "pexpect==4.8.0\n",
            "pickleshare==0.7.5\n",
            "Pillow==7.1.2\n",
            "pip-tools==6.2.0\n",
            "plotly==5.5.0\n",
            "plotnine==0.8.0\n",
            "pluggy==0.7.1\n",
            "pooch==1.6.0\n",
            "portpicker==1.3.9\n",
            "prefetch-generator==1.0.1\n",
            "preshed==3.0.8\n",
            "prettytable==3.5.0\n",
            "progressbar2==3.38.0\n",
            "prometheus-client==0.15.0\n",
            "promise==2.3\n",
            "prompt-toolkit==2.0.10\n",
            "prophet==1.1.1\n",
            "proto-plus==1.22.1\n",
            "protobuf==3.19.6\n",
            "psutil==5.4.8\n",
            "psycopg2==2.9.5\n",
            "ptyprocess==0.7.0\n",
            "py==1.11.0\n",
            "pyarrow==9.0.0\n",
            "pyasn1==0.4.8\n",
            "pyasn1-modules==0.2.8\n",
            "pycocotools==2.0.6\n",
            "pycparser==2.21\n",
            "pyct==0.4.8\n",
            "pydantic==1.10.2\n",
            "pydata-google-auth==1.4.0\n",
            "pydot==1.3.0\n",
            "pydot-ng==2.0.0\n",
            "pydotplus==2.0.2\n",
            "PyDrive==1.3.1\n",
            "pyemd==0.5.1\n",
            "pyerfa==2.0.0.1\n",
            "Pygments==2.6.1\n",
            "pygobject==3.26.1\n",
            "pylev==1.4.0\n",
            "pymc==4.1.4\n",
            "PyMeeus==0.5.11\n",
            "pymongo==4.3.3\n",
            "pymystem3==0.2.0\n",
            "PyOpenGL==3.1.6\n",
            "pyparsing==3.0.9\n",
            "pyrsistent==0.19.2\n",
            "pysimdjson==3.2.0\n",
            "pysndfile==1.3.8\n",
            "PySocks==1.7.1\n",
            "pystan==3.3.0\n",
            "pytest==3.6.4\n",
            "python-apt==0.0.0\n",
            "python-dateutil==2.8.2\n",
            "python-louvain==0.16\n",
            "python-slugify==6.1.2\n",
            "python-utils==3.4.5\n",
            "pytz==2022.6\n",
            "pyviz-comms==2.2.1\n",
            "PyWavelets==1.3.0\n",
            "PyYAML==6.0\n",
            "pyzmq==23.2.1\n",
            "qdldl==0.1.5.post2\n",
            "qudida==0.0.4\n",
            "regex==2022.6.2\n",
            "requests==2.23.0\n",
            "requests-oauthlib==1.3.1\n",
            "resampy==0.4.2\n",
            "rpy2==3.5.5\n",
            "rsa==4.9\n",
            "scikit-image==0.18.3\n",
            "scikit-learn==1.0.2\n",
            "scipy==1.7.3\n",
            "screen-resolution-extra==0.0.0\n",
            "scs==3.2.2\n",
            "seaborn==0.11.2\n",
            "Send2Trash==1.8.0\n",
            "setuptools-git==1.2\n",
            "Shapely==1.8.5.post1\n",
            "six==1.15.0\n",
            "sklearn-pandas==1.8.0\n",
            "smart-open==5.2.1\n",
            "snowballstemmer==2.2.0\n",
            "sortedcontainers==2.4.0\n",
            "soundfile==0.11.0\n",
            "spacy==3.4.3\n",
            "spacy-legacy==3.0.10\n",
            "spacy-loggers==1.0.3\n",
            "Sphinx==1.8.6\n",
            "sphinxcontrib-serializinghtml==1.1.5\n",
            "sphinxcontrib-websupport==1.2.4\n",
            "SQLAlchemy==1.4.44\n",
            "sqlparse==0.4.3\n",
            "srsly==2.4.5\n",
            "statsmodels==0.12.2\n",
            "sympy==1.7.1\n",
            "tables==3.7.0\n",
            "tabulate==0.8.10\n",
            "tblib==1.7.0\n",
            "tenacity==8.1.0\n",
            "tensorboard==2.9.1\n",
            "tensorboard-data-server==0.6.1\n",
            "tensorboard-plugin-wit==1.8.1\n",
            "tensorflow==2.9.2\n",
            "tensorflow-datasets==4.6.0\n",
            "tensorflow-estimator==2.9.0\n",
            "tensorflow-gcs-config==2.9.1\n",
            "tensorflow-hub==0.12.0\n",
            "tensorflow-io-gcs-filesystem==0.27.0\n",
            "tensorflow-metadata==1.11.0\n",
            "tensorflow-probability==0.17.0\n",
            "termcolor==2.1.0\n",
            "terminado==0.13.3\n",
            "testpath==0.6.0\n",
            "text-unidecode==1.3\n",
            "textblob==0.15.3\n",
            "thinc==8.1.5\n",
            "threadpoolctl==3.1.0\n",
            "tifffile==2021.11.2\n",
            "toml==0.10.2\n",
            "tomli==2.0.1\n",
            "toolz==0.12.0\n",
            "torch @ https://download.pytorch.org/whl/cu113/torch-1.12.1%2Bcu113-cp37-cp37m-linux_x86_64.whl\n",
            "torchaudio @ https://download.pytorch.org/whl/cu113/torchaudio-0.12.1%2Bcu113-cp37-cp37m-linux_x86_64.whl\n",
            "torchsummary==1.5.1\n",
            "torchtext==0.13.1\n",
            "torchvision @ https://download.pytorch.org/whl/cu113/torchvision-0.13.1%2Bcu113-cp37-cp37m-linux_x86_64.whl\n",
            "tornado==6.0.4\n",
            "tqdm==4.64.1\n",
            "traitlets==5.1.1\n",
            "tweepy==3.10.0\n",
            "typeguard==2.7.1\n",
            "typer==0.7.0\n",
            "typing-extensions==4.1.1\n",
            "tzlocal==1.5.1\n",
            "uritemplate==3.0.1\n",
            "urllib3==1.24.3\n",
            "vega-datasets==0.9.0\n",
            "wasabi==0.10.1\n",
            "wcwidth==0.2.5\n",
            "webargs==8.2.0\n",
            "webencodings==0.5.1\n",
            "Werkzeug==1.0.1\n",
            "widgetsnbextension==3.6.1\n",
            "wordcloud==1.8.2.2\n",
            "wrapt==1.14.1\n",
            "xarray==0.20.2\n",
            "xarray-einstats==0.2.2\n",
            "xgboost==0.90\n",
            "xkit==0.0.0\n",
            "xlrd==1.1.0\n",
            "xlwt==1.3.0\n",
            "yarl==1.8.1\n",
            "yellowbrick==1.5\n",
            "zict==2.2.0\n",
            "zipp==3.10.0\n"
          ]
        }
      ]
    },
    {
      "cell_type": "code",
      "execution_count": 45,
      "metadata": {
        "id": "o-SUByCIXo6N",
        "outputId": "b26d3146-f812-49fa-df39-93430cc09d57",
        "colab": {
          "base_uri": "https://localhost:8080/"
        }
      },
      "outputs": [
        {
          "output_type": "stream",
          "name": "stdout",
          "text": [
            "Looking in indexes: https://pypi.org/simple, https://us-python.pkg.dev/colab-wheels/public/simple/\n",
            "Requirement already satisfied: matplotlib in /usr/local/lib/python3.7/dist-packages (3.5.3)\n",
            "Requirement already satisfied: cycler>=0.10 in /usr/local/lib/python3.7/dist-packages (from matplotlib) (0.11.0)\n",
            "Requirement already satisfied: fonttools>=4.22.0 in /usr/local/lib/python3.7/dist-packages (from matplotlib) (4.38.0)\n",
            "Requirement already satisfied: packaging>=20.0 in /usr/local/lib/python3.7/dist-packages (from matplotlib) (21.3)\n",
            "Requirement already satisfied: kiwisolver>=1.0.1 in /usr/local/lib/python3.7/dist-packages (from matplotlib) (1.4.4)\n",
            "Requirement already satisfied: pillow>=6.2.0 in /usr/local/lib/python3.7/dist-packages (from matplotlib) (7.1.2)\n",
            "Requirement already satisfied: numpy>=1.17 in /usr/local/lib/python3.7/dist-packages (from matplotlib) (1.21.6)\n",
            "Requirement already satisfied: pyparsing>=2.2.1 in /usr/local/lib/python3.7/dist-packages (from matplotlib) (3.0.9)\n",
            "Requirement already satisfied: python-dateutil>=2.7 in /usr/local/lib/python3.7/dist-packages (from matplotlib) (2.8.2)\n",
            "Requirement already satisfied: typing-extensions in /usr/local/lib/python3.7/dist-packages (from kiwisolver>=1.0.1->matplotlib) (4.1.1)\n",
            "Requirement already satisfied: six>=1.5 in /usr/local/lib/python3.7/dist-packages (from python-dateutil>=2.7->matplotlib) (1.15.0)\n",
            "Looking in indexes: https://pypi.org/simple, https://us-python.pkg.dev/colab-wheels/public/simple/\n",
            "\u001b[31mERROR: Could not find a version that satisfies the requirement scipy==1.9.3 (from versions: 0.8.0, 0.9.0, 0.10.0, 0.10.1, 0.11.0, 0.12.0, 0.12.1, 0.13.0, 0.13.1, 0.13.2, 0.13.3, 0.14.0, 0.14.1, 0.15.0, 0.15.1, 0.16.0, 0.16.1, 0.17.0, 0.17.1, 0.18.0, 0.18.1, 0.19.0, 0.19.1, 1.0.0, 1.0.1, 1.1.0, 1.2.0, 1.2.1, 1.2.2, 1.2.3, 1.3.0rc1, 1.3.0rc2, 1.3.0, 1.3.1, 1.3.2, 1.3.3, 1.4.0rc1, 1.4.0rc2, 1.4.0, 1.4.1, 1.5.0rc1, 1.5.0rc2, 1.5.0, 1.5.1, 1.5.2, 1.5.3, 1.5.4, 1.6.0rc1, 1.6.0rc2, 1.6.0, 1.6.1, 1.6.2, 1.6.3, 1.7.0rc1, 1.7.0rc2, 1.7.0, 1.7.1, 1.7.2, 1.7.3)\u001b[0m\n",
            "\u001b[31mERROR: No matching distribution found for scipy==1.9.3\u001b[0m\n"
          ]
        }
      ],
      "source": [
        "# To use only Google Colab\n",
        "! pip install matplotlib --upgrade\n",
        "! pip install scipy==1.9.3"
      ]
    },
    {
      "cell_type": "code",
      "execution_count": 8,
      "metadata": {
        "id": "Fvnr6vvqHNHc",
        "outputId": "b285120f-886a-4a48-c549-68d3b754e9e7",
        "colab": {
          "base_uri": "https://localhost:8080/"
        }
      },
      "outputs": [
        {
          "output_type": "stream",
          "name": "stdout",
          "text": [
            "--2022-11-25 21:22:25--  https://github.com/javieriserte/qualitative-data-course/raw/master/classes/C01.py\n",
            "Resolving github.com (github.com)... 140.82.112.4\n",
            "Connecting to github.com (github.com)|140.82.112.4|:443... connected.\n",
            "HTTP request sent, awaiting response... 302 Found\n",
            "Location: https://raw.githubusercontent.com/javieriserte/qualitative-data-course/master/classes/C01.py [following]\n",
            "--2022-11-25 21:22:25--  https://raw.githubusercontent.com/javieriserte/qualitative-data-course/master/classes/C01.py\n",
            "Resolving raw.githubusercontent.com (raw.githubusercontent.com)... 185.199.108.133, 185.199.109.133, 185.199.111.133, ...\n",
            "Connecting to raw.githubusercontent.com (raw.githubusercontent.com)|185.199.108.133|:443... connected.\n",
            "HTTP request sent, awaiting response... 200 OK\n",
            "Length: 18158 (18K) [text/plain]\n",
            "Saving to: ‘C01.py’\n",
            "\n",
            "C01.py              100%[===================>]  17.73K  --.-KB/s    in 0s      \n",
            "\n",
            "2022-11-25 21:22:26 (79.8 MB/s) - ‘C01.py’ saved [18158/18158]\n",
            "\n"
          ]
        }
      ],
      "source": [
        "# To use only Google Colab\n",
        "# ! pip install matplotlib --upgrade\n",
        "! wget https://github.com/javieriserte/qualitative-data-course/raw/master/classes/C01.py"
      ]
    },
    {
      "cell_type": "markdown",
      "metadata": {
        "id": "VPn0sKXgXo6N"
      },
      "source": [
        "\n",
        "# Unidad I. Variables, distribuciones y pruebas de hipótesis.\n",
        "\n",
        "- Características numéricas de las variables aleatorias\n",
        "- Concepto de muestra\n",
        "- Estimación estadística de los parámetros de una distribución a partir de los\n",
        "datos de una muestra\n"
      ]
    },
    {
      "cell_type": "markdown",
      "metadata": {
        "id": "ko6QPXkcXo6O"
      },
      "source": [
        "\n",
        "## Análisis descriptivo de datos\n",
        "\n",
        "La estadística descriptiva:\n",
        "  - quiere describir una muestra de manera\n",
        "    - cualitativa (gráfica) o\n",
        "    - cuantitativa (numérica)\n",
        "  - ligada al\n",
        "    - análisis exploratorio\n",
        "    - análisis inicial\n",
        "  - búsqueda de hipótesis\n",
        "    - nuevos muestreos\n",
        "    - experimentos\n",
        "\n",
        "La estadística inferencial:\n",
        "  - quiere inferir propiedades acerca de la población\n",
        "  - se focaliza en:\n",
        "    - asegurar la calidad de los datos\n",
        "    - chequear las suposiciones\n",
        "    - testear la hipótesis que tenemos en mente"
      ]
    },
    {
      "cell_type": "markdown",
      "metadata": {
        "id": "dhI3dMoUXo6P"
      },
      "source": [
        "\n",
        "## Muestra estadística\n",
        "\n",
        "Muestra:\n",
        "  - subconjunto de datos\n",
        "    - tomados de una población estadística\n",
        "    - mediante un proceso de muestreo determinado.\n",
        "\n",
        "Observación:\n",
        "  - Cada una de las unidades muestrales\n",
        "  - es posible medir variables aleatorias sobre una observación.\n",
        "\n",
        "Las **muestras** pueden ser:\n",
        "- **Completas**:\n",
        "  - Incluye a todos los casos, individuos u objetos de la población..\n",
        "    que cumplen con un criterio (de selección) determinado.\n",
        "  - Es difícil o imposible disponer de muestras completas.\n",
        "- **Representativas**:\n",
        "  - Conjunto de unidades muestrales seleccionadas de una muestra completa\n",
        "  - usando un proceso de selección/muestreo que no depende de las propiedades de\n",
        "    estas unidades.\n",
        "  - Una manera de obtener muestras no sesgadas es seleccionando una\n",
        "    **muestra aleatoria**\n"
      ]
    },
    {
      "cell_type": "markdown",
      "metadata": {
        "id": "r3JJL-LiXo6Q"
      },
      "source": [
        "## Técnicas de muestreo"
      ]
    },
    {
      "cell_type": "markdown",
      "metadata": {
        "id": "aAYu6AqmXo6Q"
      },
      "source": [
        "### Muestreo aleatorio simple\n",
        "\n",
        "- Se selecciona un número k de unidades\n",
        "- de manera aleatoria\n",
        "- cada unidad tiene la misma probabilidad de ser seleccionado.\n",
        "- El muestreo puede ser:\n",
        "  - con reposición:\n",
        "    - cada unidad puede ser seleccionada más de una vez.\n",
        "  - sin reposición:\n",
        "    - cada unidad puede ser seleccionada solo una vez.\n",
        "    - seleccionar un elemento altera las probabilidades de selección del\n",
        "      siguiente.\n",
        "    - sin embargo cualquir orden de extracciñon es equiprobable.\n",
        "  - Si el tamaño de la población es mucho mayor al tamaño de la muestra:\n",
        "    - el muestreo con reposición y sin reposción se aproximan."
      ]
    },
    {
      "cell_type": "markdown",
      "metadata": {
        "id": "5y8OmZn6Xo6R"
      },
      "source": [
        "### Generación de muestras aleatorias en python"
      ]
    },
    {
      "cell_type": "code",
      "execution_count": 1,
      "metadata": {
        "id": "Gy5nWNCeXo6R",
        "outputId": "90111f7c-9b56-40cb-9b5d-0c3eaaff6c80",
        "colab": {
          "base_uri": "https://localhost:8080/"
        }
      },
      "outputs": [
        {
          "output_type": "stream",
          "name": "stdout",
          "text": [
            "Todos los elementos son diferentes en la muestra sin reemplazo? : True\n",
            "Todos los elementos son diferentes en la muestra con reemplazo? : False\n"
          ]
        }
      ],
      "source": [
        "import numpy as np\n",
        "\n",
        "population = np.arange(100)\n",
        "\n",
        "sample_without_replacement = np.random.choice(\n",
        "  a = population,\n",
        "  size = 99,\n",
        "  replace = False\n",
        ")\n",
        "\n",
        "all_different = len(np.unique(sample_without_replacement)) == 99\n",
        "\n",
        "print(\n",
        "  \"Todos los elementos son diferentes en la muestra sin reemplazo? : \"\n",
        "  f\"{all_different}\"\n",
        ")\n",
        "\n",
        "sample_with_replacement = np.random.choice(\n",
        "  a = population,\n",
        "  size = 99,\n",
        "  replace = True\n",
        ")\n",
        "all_different = len(np.unique(sample_with_replacement)) == 99\n",
        "\n",
        "print(\n",
        "  \"Todos los elementos son diferentes en la muestra con reemplazo? : \"\n",
        "  f\"{all_different}\"\n",
        ")\n"
      ]
    },
    {
      "cell_type": "code",
      "execution_count": 6,
      "metadata": {
        "id": "jmMeqhXbXo6S",
        "outputId": "730ea162-c60c-4201-8195-10b23faeddb0",
        "colab": {
          "base_uri": "https://localhost:8080/"
        }
      },
      "outputs": [
        {
          "output_type": "execute_result",
          "data": {
            "text/plain": [
              "array(['lunes', 'lunes', 'lunes', 'sábado', 'martes'], dtype='<U9')"
            ]
          },
          "metadata": {},
          "execution_count": 6
        }
      ],
      "source": [
        "# Se puede usar con elementos no numéricos también.\n",
        "population = [\n",
        "  \"lunes\",\n",
        "  \"martes\",\n",
        "  \"miercoles\",\n",
        "  \"jueves\",\n",
        "  \"viernes\",\n",
        "  \"sábado\",\n",
        "  \"domingo\"\n",
        "]\n",
        "np.random.choice(\n",
        "  a = population,\n",
        "  size = 5,\n",
        "  replace = True\n",
        ")"
      ]
    },
    {
      "cell_type": "markdown",
      "metadata": {
        "id": "ghCvKZ_JXo6T"
      },
      "source": [
        "### Muestreo sistemático\n",
        "\n",
        "- Consiste en:\n",
        "  - ordenar los elementos según alguna variable de interés\n",
        "  - luego tomar n unidades muestrales equiespaciadas.\n",
        "  - El primer elemento debe ser seleccionado al azar\n",
        "    - quedando los otros determinados en relación a este.\n",
        "- permite muestrear una variable de intereses en todo su rango.\n",
        "- debe tenerse cuidado:\n",
        "  - si la variable muestra alguna característica periódica\n",
        "  - no se verá la variación entre dos elementos contiguos\n",
        "    - nunca se seleccionan a la vez."
      ]
    },
    {
      "cell_type": "markdown",
      "metadata": {
        "id": "TArx7zOBXo6T"
      },
      "source": [
        "### Generación de muestras sistemáticas en python\n",
        "\n",
        "- En este ejemplo vamoas a usar el conjunto de datos de **iris**.\n",
        "  - Tamaño (ancho y largo) de pétalo y sépalo tres variantes de plantas.\n",
        "- Vamos a ordenar según el largo de sus pétalos:"
      ]
    },
    {
      "cell_type": "code",
      "execution_count": 2,
      "metadata": {
        "id": "8po7tJ7zXo6U",
        "outputId": "3cbbd972-93a0-4e63-879a-5c5839517245",
        "colab": {
          "base_uri": "https://localhost:8080/",
          "height": 206
        }
      },
      "outputs": [
        {
          "output_type": "execute_result",
          "data": {
            "text/plain": [
              "   sepal length (cm)  sepal width (cm)  petal length (cm)  petal width (cm)  \\\n",
              "0                5.1               3.5                1.4               0.2   \n",
              "1                4.9               3.0                1.4               0.2   \n",
              "2                4.7               3.2                1.3               0.2   \n",
              "3                4.6               3.1                1.5               0.2   \n",
              "4                5.0               3.6                1.4               0.2   \n",
              "\n",
              "   target  \n",
              "0       0  \n",
              "1       0  \n",
              "2       0  \n",
              "3       0  \n",
              "4       0  "
            ],
            "text/html": [
              "\n",
              "  <div id=\"df-4d4b012e-c361-4927-ba72-3efa611fd65d\">\n",
              "    <div class=\"colab-df-container\">\n",
              "      <div>\n",
              "<style scoped>\n",
              "    .dataframe tbody tr th:only-of-type {\n",
              "        vertical-align: middle;\n",
              "    }\n",
              "\n",
              "    .dataframe tbody tr th {\n",
              "        vertical-align: top;\n",
              "    }\n",
              "\n",
              "    .dataframe thead th {\n",
              "        text-align: right;\n",
              "    }\n",
              "</style>\n",
              "<table border=\"1\" class=\"dataframe\">\n",
              "  <thead>\n",
              "    <tr style=\"text-align: right;\">\n",
              "      <th></th>\n",
              "      <th>sepal length (cm)</th>\n",
              "      <th>sepal width (cm)</th>\n",
              "      <th>petal length (cm)</th>\n",
              "      <th>petal width (cm)</th>\n",
              "      <th>target</th>\n",
              "    </tr>\n",
              "  </thead>\n",
              "  <tbody>\n",
              "    <tr>\n",
              "      <th>0</th>\n",
              "      <td>5.1</td>\n",
              "      <td>3.5</td>\n",
              "      <td>1.4</td>\n",
              "      <td>0.2</td>\n",
              "      <td>0</td>\n",
              "    </tr>\n",
              "    <tr>\n",
              "      <th>1</th>\n",
              "      <td>4.9</td>\n",
              "      <td>3.0</td>\n",
              "      <td>1.4</td>\n",
              "      <td>0.2</td>\n",
              "      <td>0</td>\n",
              "    </tr>\n",
              "    <tr>\n",
              "      <th>2</th>\n",
              "      <td>4.7</td>\n",
              "      <td>3.2</td>\n",
              "      <td>1.3</td>\n",
              "      <td>0.2</td>\n",
              "      <td>0</td>\n",
              "    </tr>\n",
              "    <tr>\n",
              "      <th>3</th>\n",
              "      <td>4.6</td>\n",
              "      <td>3.1</td>\n",
              "      <td>1.5</td>\n",
              "      <td>0.2</td>\n",
              "      <td>0</td>\n",
              "    </tr>\n",
              "    <tr>\n",
              "      <th>4</th>\n",
              "      <td>5.0</td>\n",
              "      <td>3.6</td>\n",
              "      <td>1.4</td>\n",
              "      <td>0.2</td>\n",
              "      <td>0</td>\n",
              "    </tr>\n",
              "  </tbody>\n",
              "</table>\n",
              "</div>\n",
              "      <button class=\"colab-df-convert\" onclick=\"convertToInteractive('df-4d4b012e-c361-4927-ba72-3efa611fd65d')\"\n",
              "              title=\"Convert this dataframe to an interactive table.\"\n",
              "              style=\"display:none;\">\n",
              "        \n",
              "  <svg xmlns=\"http://www.w3.org/2000/svg\" height=\"24px\"viewBox=\"0 0 24 24\"\n",
              "       width=\"24px\">\n",
              "    <path d=\"M0 0h24v24H0V0z\" fill=\"none\"/>\n",
              "    <path d=\"M18.56 5.44l.94 2.06.94-2.06 2.06-.94-2.06-.94-.94-2.06-.94 2.06-2.06.94zm-11 1L8.5 8.5l.94-2.06 2.06-.94-2.06-.94L8.5 2.5l-.94 2.06-2.06.94zm10 10l.94 2.06.94-2.06 2.06-.94-2.06-.94-.94-2.06-.94 2.06-2.06.94z\"/><path d=\"M17.41 7.96l-1.37-1.37c-.4-.4-.92-.59-1.43-.59-.52 0-1.04.2-1.43.59L10.3 9.45l-7.72 7.72c-.78.78-.78 2.05 0 2.83L4 21.41c.39.39.9.59 1.41.59.51 0 1.02-.2 1.41-.59l7.78-7.78 2.81-2.81c.8-.78.8-2.07 0-2.86zM5.41 20L4 18.59l7.72-7.72 1.47 1.35L5.41 20z\"/>\n",
              "  </svg>\n",
              "      </button>\n",
              "      \n",
              "  <style>\n",
              "    .colab-df-container {\n",
              "      display:flex;\n",
              "      flex-wrap:wrap;\n",
              "      gap: 12px;\n",
              "    }\n",
              "\n",
              "    .colab-df-convert {\n",
              "      background-color: #E8F0FE;\n",
              "      border: none;\n",
              "      border-radius: 50%;\n",
              "      cursor: pointer;\n",
              "      display: none;\n",
              "      fill: #1967D2;\n",
              "      height: 32px;\n",
              "      padding: 0 0 0 0;\n",
              "      width: 32px;\n",
              "    }\n",
              "\n",
              "    .colab-df-convert:hover {\n",
              "      background-color: #E2EBFA;\n",
              "      box-shadow: 0px 1px 2px rgba(60, 64, 67, 0.3), 0px 1px 3px 1px rgba(60, 64, 67, 0.15);\n",
              "      fill: #174EA6;\n",
              "    }\n",
              "\n",
              "    [theme=dark] .colab-df-convert {\n",
              "      background-color: #3B4455;\n",
              "      fill: #D2E3FC;\n",
              "    }\n",
              "\n",
              "    [theme=dark] .colab-df-convert:hover {\n",
              "      background-color: #434B5C;\n",
              "      box-shadow: 0px 1px 3px 1px rgba(0, 0, 0, 0.15);\n",
              "      filter: drop-shadow(0px 1px 2px rgba(0, 0, 0, 0.3));\n",
              "      fill: #FFFFFF;\n",
              "    }\n",
              "  </style>\n",
              "\n",
              "      <script>\n",
              "        const buttonEl =\n",
              "          document.querySelector('#df-4d4b012e-c361-4927-ba72-3efa611fd65d button.colab-df-convert');\n",
              "        buttonEl.style.display =\n",
              "          google.colab.kernel.accessAllowed ? 'block' : 'none';\n",
              "\n",
              "        async function convertToInteractive(key) {\n",
              "          const element = document.querySelector('#df-4d4b012e-c361-4927-ba72-3efa611fd65d');\n",
              "          const dataTable =\n",
              "            await google.colab.kernel.invokeFunction('convertToInteractive',\n",
              "                                                     [key], {});\n",
              "          if (!dataTable) return;\n",
              "\n",
              "          const docLinkHtml = 'Like what you see? Visit the ' +\n",
              "            '<a target=\"_blank\" href=https://colab.research.google.com/notebooks/data_table.ipynb>data table notebook</a>'\n",
              "            + ' to learn more about interactive tables.';\n",
              "          element.innerHTML = '';\n",
              "          dataTable['output_type'] = 'display_data';\n",
              "          await google.colab.output.renderOutput(dataTable, element);\n",
              "          const docLink = document.createElement('div');\n",
              "          docLink.innerHTML = docLinkHtml;\n",
              "          element.appendChild(docLink);\n",
              "        }\n",
              "      </script>\n",
              "    </div>\n",
              "  </div>\n",
              "  "
            ]
          },
          "metadata": {},
          "execution_count": 2
        }
      ],
      "source": [
        "from sklearn import datasets\n",
        "import pandas as pd\n",
        "import numpy as np\n",
        "\n",
        "iris = datasets.load_iris(as_frame=True)\n",
        "df = iris.frame\n",
        "df.head()"
      ]
    },
    {
      "cell_type": "code",
      "execution_count": 12,
      "metadata": {
        "id": "MOkDMWdPXo6U",
        "outputId": "a9d58480-67c9-4c86-e077-b5612c85ed34",
        "colab": {
          "base_uri": "https://localhost:8080/",
          "height": 652
        }
      },
      "outputs": [
        {
          "output_type": "stream",
          "name": "stdout",
          "text": [
            "El tamaño de la muestra es 17\n",
            "Los elementos estan espaciados cada 9 posiciones\n",
            "Elijo una posición de inicio aleatoria: 0\n",
            "El tamaño real de la muestra es 17\n"
          ]
        },
        {
          "output_type": "execute_result",
          "data": {
            "text/plain": [
              "     sepal length (cm)  sepal width (cm)  petal length (cm)  petal width (cm)  \\\n",
              "22                 4.6               3.6                1.0               0.2   \n",
              "42                 4.4               3.2                1.3               0.2   \n",
              "4                  5.0               3.6                1.4               0.2   \n",
              "39                 5.1               3.4                1.5               0.2   \n",
              "3                  4.6               3.1                1.5               0.2   \n",
              "5                  5.4               3.9                1.7               0.4   \n",
              "79                 5.7               2.6                3.5               1.0   \n",
              "71                 6.1               2.8                4.0               1.3   \n",
              "95                 5.7               3.0                4.2               1.2   \n",
              "78                 6.0               2.9                4.5               1.5   \n",
              "63                 6.1               2.9                4.7               1.4   \n",
              "123                6.3               2.7                4.9               1.8   \n",
              "149                5.9               3.0                5.1               1.8   \n",
              "145                6.7               3.0                5.2               2.3   \n",
              "140                6.7               3.1                5.6               2.4   \n",
              "108                6.7               2.5                5.8               1.8   \n",
              "107                7.3               2.9                6.3               1.8   \n",
              "\n",
              "     target  \n",
              "22        0  \n",
              "42        0  \n",
              "4         0  \n",
              "39        0  \n",
              "3         0  \n",
              "5         0  \n",
              "79        1  \n",
              "71        1  \n",
              "95        1  \n",
              "78        1  \n",
              "63        1  \n",
              "123       2  \n",
              "149       2  \n",
              "145       2  \n",
              "140       2  \n",
              "108       2  \n",
              "107       2  "
            ],
            "text/html": [
              "\n",
              "  <div id=\"df-d1dd05ab-e21f-4fa9-8890-18f69118147e\">\n",
              "    <div class=\"colab-df-container\">\n",
              "      <div>\n",
              "<style scoped>\n",
              "    .dataframe tbody tr th:only-of-type {\n",
              "        vertical-align: middle;\n",
              "    }\n",
              "\n",
              "    .dataframe tbody tr th {\n",
              "        vertical-align: top;\n",
              "    }\n",
              "\n",
              "    .dataframe thead th {\n",
              "        text-align: right;\n",
              "    }\n",
              "</style>\n",
              "<table border=\"1\" class=\"dataframe\">\n",
              "  <thead>\n",
              "    <tr style=\"text-align: right;\">\n",
              "      <th></th>\n",
              "      <th>sepal length (cm)</th>\n",
              "      <th>sepal width (cm)</th>\n",
              "      <th>petal length (cm)</th>\n",
              "      <th>petal width (cm)</th>\n",
              "      <th>target</th>\n",
              "    </tr>\n",
              "  </thead>\n",
              "  <tbody>\n",
              "    <tr>\n",
              "      <th>22</th>\n",
              "      <td>4.6</td>\n",
              "      <td>3.6</td>\n",
              "      <td>1.0</td>\n",
              "      <td>0.2</td>\n",
              "      <td>0</td>\n",
              "    </tr>\n",
              "    <tr>\n",
              "      <th>42</th>\n",
              "      <td>4.4</td>\n",
              "      <td>3.2</td>\n",
              "      <td>1.3</td>\n",
              "      <td>0.2</td>\n",
              "      <td>0</td>\n",
              "    </tr>\n",
              "    <tr>\n",
              "      <th>4</th>\n",
              "      <td>5.0</td>\n",
              "      <td>3.6</td>\n",
              "      <td>1.4</td>\n",
              "      <td>0.2</td>\n",
              "      <td>0</td>\n",
              "    </tr>\n",
              "    <tr>\n",
              "      <th>39</th>\n",
              "      <td>5.1</td>\n",
              "      <td>3.4</td>\n",
              "      <td>1.5</td>\n",
              "      <td>0.2</td>\n",
              "      <td>0</td>\n",
              "    </tr>\n",
              "    <tr>\n",
              "      <th>3</th>\n",
              "      <td>4.6</td>\n",
              "      <td>3.1</td>\n",
              "      <td>1.5</td>\n",
              "      <td>0.2</td>\n",
              "      <td>0</td>\n",
              "    </tr>\n",
              "    <tr>\n",
              "      <th>5</th>\n",
              "      <td>5.4</td>\n",
              "      <td>3.9</td>\n",
              "      <td>1.7</td>\n",
              "      <td>0.4</td>\n",
              "      <td>0</td>\n",
              "    </tr>\n",
              "    <tr>\n",
              "      <th>79</th>\n",
              "      <td>5.7</td>\n",
              "      <td>2.6</td>\n",
              "      <td>3.5</td>\n",
              "      <td>1.0</td>\n",
              "      <td>1</td>\n",
              "    </tr>\n",
              "    <tr>\n",
              "      <th>71</th>\n",
              "      <td>6.1</td>\n",
              "      <td>2.8</td>\n",
              "      <td>4.0</td>\n",
              "      <td>1.3</td>\n",
              "      <td>1</td>\n",
              "    </tr>\n",
              "    <tr>\n",
              "      <th>95</th>\n",
              "      <td>5.7</td>\n",
              "      <td>3.0</td>\n",
              "      <td>4.2</td>\n",
              "      <td>1.2</td>\n",
              "      <td>1</td>\n",
              "    </tr>\n",
              "    <tr>\n",
              "      <th>78</th>\n",
              "      <td>6.0</td>\n",
              "      <td>2.9</td>\n",
              "      <td>4.5</td>\n",
              "      <td>1.5</td>\n",
              "      <td>1</td>\n",
              "    </tr>\n",
              "    <tr>\n",
              "      <th>63</th>\n",
              "      <td>6.1</td>\n",
              "      <td>2.9</td>\n",
              "      <td>4.7</td>\n",
              "      <td>1.4</td>\n",
              "      <td>1</td>\n",
              "    </tr>\n",
              "    <tr>\n",
              "      <th>123</th>\n",
              "      <td>6.3</td>\n",
              "      <td>2.7</td>\n",
              "      <td>4.9</td>\n",
              "      <td>1.8</td>\n",
              "      <td>2</td>\n",
              "    </tr>\n",
              "    <tr>\n",
              "      <th>149</th>\n",
              "      <td>5.9</td>\n",
              "      <td>3.0</td>\n",
              "      <td>5.1</td>\n",
              "      <td>1.8</td>\n",
              "      <td>2</td>\n",
              "    </tr>\n",
              "    <tr>\n",
              "      <th>145</th>\n",
              "      <td>6.7</td>\n",
              "      <td>3.0</td>\n",
              "      <td>5.2</td>\n",
              "      <td>2.3</td>\n",
              "      <td>2</td>\n",
              "    </tr>\n",
              "    <tr>\n",
              "      <th>140</th>\n",
              "      <td>6.7</td>\n",
              "      <td>3.1</td>\n",
              "      <td>5.6</td>\n",
              "      <td>2.4</td>\n",
              "      <td>2</td>\n",
              "    </tr>\n",
              "    <tr>\n",
              "      <th>108</th>\n",
              "      <td>6.7</td>\n",
              "      <td>2.5</td>\n",
              "      <td>5.8</td>\n",
              "      <td>1.8</td>\n",
              "      <td>2</td>\n",
              "    </tr>\n",
              "    <tr>\n",
              "      <th>107</th>\n",
              "      <td>7.3</td>\n",
              "      <td>2.9</td>\n",
              "      <td>6.3</td>\n",
              "      <td>1.8</td>\n",
              "      <td>2</td>\n",
              "    </tr>\n",
              "  </tbody>\n",
              "</table>\n",
              "</div>\n",
              "      <button class=\"colab-df-convert\" onclick=\"convertToInteractive('df-d1dd05ab-e21f-4fa9-8890-18f69118147e')\"\n",
              "              title=\"Convert this dataframe to an interactive table.\"\n",
              "              style=\"display:none;\">\n",
              "        \n",
              "  <svg xmlns=\"http://www.w3.org/2000/svg\" height=\"24px\"viewBox=\"0 0 24 24\"\n",
              "       width=\"24px\">\n",
              "    <path d=\"M0 0h24v24H0V0z\" fill=\"none\"/>\n",
              "    <path d=\"M18.56 5.44l.94 2.06.94-2.06 2.06-.94-2.06-.94-.94-2.06-.94 2.06-2.06.94zm-11 1L8.5 8.5l.94-2.06 2.06-.94-2.06-.94L8.5 2.5l-.94 2.06-2.06.94zm10 10l.94 2.06.94-2.06 2.06-.94-2.06-.94-.94-2.06-.94 2.06-2.06.94z\"/><path d=\"M17.41 7.96l-1.37-1.37c-.4-.4-.92-.59-1.43-.59-.52 0-1.04.2-1.43.59L10.3 9.45l-7.72 7.72c-.78.78-.78 2.05 0 2.83L4 21.41c.39.39.9.59 1.41.59.51 0 1.02-.2 1.41-.59l7.78-7.78 2.81-2.81c.8-.78.8-2.07 0-2.86zM5.41 20L4 18.59l7.72-7.72 1.47 1.35L5.41 20z\"/>\n",
              "  </svg>\n",
              "      </button>\n",
              "      \n",
              "  <style>\n",
              "    .colab-df-container {\n",
              "      display:flex;\n",
              "      flex-wrap:wrap;\n",
              "      gap: 12px;\n",
              "    }\n",
              "\n",
              "    .colab-df-convert {\n",
              "      background-color: #E8F0FE;\n",
              "      border: none;\n",
              "      border-radius: 50%;\n",
              "      cursor: pointer;\n",
              "      display: none;\n",
              "      fill: #1967D2;\n",
              "      height: 32px;\n",
              "      padding: 0 0 0 0;\n",
              "      width: 32px;\n",
              "    }\n",
              "\n",
              "    .colab-df-convert:hover {\n",
              "      background-color: #E2EBFA;\n",
              "      box-shadow: 0px 1px 2px rgba(60, 64, 67, 0.3), 0px 1px 3px 1px rgba(60, 64, 67, 0.15);\n",
              "      fill: #174EA6;\n",
              "    }\n",
              "\n",
              "    [theme=dark] .colab-df-convert {\n",
              "      background-color: #3B4455;\n",
              "      fill: #D2E3FC;\n",
              "    }\n",
              "\n",
              "    [theme=dark] .colab-df-convert:hover {\n",
              "      background-color: #434B5C;\n",
              "      box-shadow: 0px 1px 3px 1px rgba(0, 0, 0, 0.15);\n",
              "      filter: drop-shadow(0px 1px 2px rgba(0, 0, 0, 0.3));\n",
              "      fill: #FFFFFF;\n",
              "    }\n",
              "  </style>\n",
              "\n",
              "      <script>\n",
              "        const buttonEl =\n",
              "          document.querySelector('#df-d1dd05ab-e21f-4fa9-8890-18f69118147e button.colab-df-convert');\n",
              "        buttonEl.style.display =\n",
              "          google.colab.kernel.accessAllowed ? 'block' : 'none';\n",
              "\n",
              "        async function convertToInteractive(key) {\n",
              "          const element = document.querySelector('#df-d1dd05ab-e21f-4fa9-8890-18f69118147e');\n",
              "          const dataTable =\n",
              "            await google.colab.kernel.invokeFunction('convertToInteractive',\n",
              "                                                     [key], {});\n",
              "          if (!dataTable) return;\n",
              "\n",
              "          const docLinkHtml = 'Like what you see? Visit the ' +\n",
              "            '<a target=\"_blank\" href=https://colab.research.google.com/notebooks/data_table.ipynb>data table notebook</a>'\n",
              "            + ' to learn more about interactive tables.';\n",
              "          element.innerHTML = '';\n",
              "          dataTable['output_type'] = 'display_data';\n",
              "          await google.colab.output.renderOutput(dataTable, element);\n",
              "          const docLink = document.createElement('div');\n",
              "          docLink.innerHTML = docLinkHtml;\n",
              "          element.appendChild(docLink);\n",
              "        }\n",
              "      </script>\n",
              "    </div>\n",
              "  </div>\n",
              "  "
            ]
          },
          "metadata": {},
          "execution_count": 12
        }
      ],
      "source": [
        "df = df.sort_values(\n",
        "  by=\"petal length (cm)\",\n",
        ")\n",
        "\n",
        "sample_size = 17 # Aprox...\n",
        "print(f\"El tamaño de la muestra es {sample_size}\")\n",
        "spacing = int(round(len(df) / sample_size))\n",
        "print(f\"Los elementos estan espaciados cada {spacing} posiciones\")\n",
        "starting_position = np.random.randint(low=0, high=spacing-1)\n",
        "print(f\"Elijo una posición de inicio aleatoria: {starting_position}\")\n",
        "selected_positions = np.arange(len(df)) % spacing == starting_position\n",
        "sample = df.iloc[selected_positions, :]\n",
        "print(f\"El tamaño real de la muestra es {len(sample)}\")\n",
        "sample\n"
      ]
    },
    {
      "cell_type": "markdown",
      "metadata": {
        "id": "NEkbALbrXo6U"
      },
      "source": [
        "### Muestreo estratificado\n",
        "\n",
        "- Se estratifica la población antes de tomar las muestras.\n",
        "- Se divide la población en grupos homogéneos.\n",
        "  - Los grupos son mutuamente excluyentes\n",
        "  - Todos los miembros de la población deben pertenecer a un grupo\n",
        "  - No pueden quedar miembros sin clasificar.\n",
        "- Se realiza un muestreo de cada estrato\n",
        "  - aleatorio simple\n",
        "  - sistemático dentro\n"
      ]
    },
    {
      "cell_type": "markdown",
      "metadata": {
        "id": "gJ_MR639Xo6U"
      },
      "source": [
        "\n",
        "Existen tres posibles estrategias:\n",
        "- **Asignación proporcional**:\n",
        "  - El número de unidades de cada grupo:\n",
        "    - es proporcional al número de individuos de cada grupo en la población.\n",
        "  - Se respeta las proporciones de los grupos en la población.\n",
        "- **Asignación óptima**:\n",
        "  - El número de unidades de cada grupo:\n",
        "    - es proporcional a la desviación estándar de la variable de interés.\n",
        "- **Asignación uniforme**:\n",
        "  - Igual número de elementos para cada grupo.\n",
        "  - El dataset **iris** fue generado de esta forma.\n",
        "    - 50 flores de cada especie."
      ]
    },
    {
      "cell_type": "markdown",
      "metadata": {
        "id": "EjBgDa8RXo6V"
      },
      "source": [
        "\n",
        "La media del muestreo es:\n",
        " - $ \\mu_{s} = \\frac{1}{N} \\sum_{h=1}^{L} N_{h} \\mu_{h} $\n",
        " * $\\mu_{s}$ es la media\n",
        " * $N$ es el tamaño de toda la población\n",
        " * $N_{h}$ es el tamaño del estrato h\n",
        " * $\\mu_h$ es la media de la muestra del estrato h.\n"
      ]
    },
    {
      "cell_type": "markdown",
      "metadata": {
        "id": "Jh5w8ktFXo6V"
      },
      "source": [
        "Ejercicio:\n",
        "- Se quiere construir un set de datos similar a Iris, pero en lugar de 150\n",
        "  muestras con 1000.\n",
        "- Se quiere que la asignación sea óptima con respecto al largo del pétalo.\n",
        "- ¿Cuántos elementos de cada especie deberían recolectarse?"
      ]
    },
    {
      "cell_type": "markdown",
      "metadata": {
        "id": "8gG8baBkXo6V"
      },
      "source": [
        "## Estadísticos de resumen\n",
        "\n",
        "Los estadísticos de resumen:\n",
        "- describen de manera cuantitativa la distribución de una muestra.\n",
        "- se describe cada variable aleatoria/dimensión manera independiente.\n",
        "\n",
        "Existen estadísticos de:\n",
        "- tendencia central\n",
        "- dispersión\n",
        "- forma:\n",
        "  - asimetría (Skewness)\n",
        "  - apuntamiento (Kurtosis)\n",
        "\n",
        "Algunos estadísticos pueden ser robustos:\n",
        "  - están menos afectados por valores extremos atípicos.\n",
        "  - tienen buena performance con muchos tipos de distribuciones."
      ]
    },
    {
      "cell_type": "markdown",
      "metadata": {
        "id": "qffQBeKhXo6V"
      },
      "source": [
        "\n",
        "### Estadísticos de tendencia central\n",
        "\n",
        "Los estadísticos más comunes de este tipo:\n",
        "- la *media*\n",
        "  - Es el promedio aritmético de un conjunto de datos.\n",
        "  - $\\bar{X} = \\frac{1}{N}\\times{\\sum_{i=1}^N{x_i}}$\n",
        "  - No es robusto.\n",
        "- La *mediana*.\n",
        "  - Es el valor ubicado en el percentil 50 de una distribución.\n",
        "  - Es un estimador robusto\n",
        "- La *moda*\n",
        "  - Es el valor más frecuente\n",
        "    - es el único estadístico de tendencia central para datos nominales\n",
        "  - Difícil de estimar correctamente para variables continuas."
      ]
    },
    {
      "cell_type": "code",
      "execution_count": 6,
      "metadata": {
        "id": "Tsoinm1PXo6W",
        "outputId": "13e11614-a2c1-4ac4-a700-b4c8a185323b",
        "colab": {
          "base_uri": "https://localhost:8080/"
        }
      },
      "outputs": [
        {
          "output_type": "execute_result",
          "data": {
            "text/plain": [
              "sepal length (cm)    5.843333\n",
              "sepal width (cm)     3.057333\n",
              "petal length (cm)    3.758000\n",
              "petal width (cm)     1.199333\n",
              "target               1.000000\n",
              "dtype: float64"
            ]
          },
          "metadata": {},
          "execution_count": 6
        }
      ],
      "source": [
        "df.mean()"
      ]
    },
    {
      "cell_type": "code",
      "execution_count": null,
      "metadata": {
        "id": "_NOKVgHmXo6W",
        "outputId": "c3478e3f-5d88-47e0-be31-b0422a4829cc"
      },
      "outputs": [
        {
          "data": {
            "text/plain": [
              "sepal length (cm)    5.80\n",
              "sepal width (cm)     3.00\n",
              "petal length (cm)    4.35\n",
              "petal width (cm)     1.30\n",
              "target               1.00\n",
              "dtype: float64"
            ]
          },
          "execution_count": 9,
          "metadata": {},
          "output_type": "execute_result"
        }
      ],
      "source": [
        "df.median()"
      ]
    },
    {
      "cell_type": "code",
      "execution_count": null,
      "metadata": {
        "id": "YvctDQK0Xo6X",
        "outputId": "d44e8154-c40b-4de3-b62b-7016ec6dafaf"
      },
      "outputs": [
        {
          "data": {
            "text/html": [
              "<div>\n",
              "<style scoped>\n",
              "    .dataframe tbody tr th:only-of-type {\n",
              "        vertical-align: middle;\n",
              "    }\n",
              "\n",
              "    .dataframe tbody tr th {\n",
              "        vertical-align: top;\n",
              "    }\n",
              "\n",
              "    .dataframe thead th {\n",
              "        text-align: right;\n",
              "    }\n",
              "</style>\n",
              "<table border=\"1\" class=\"dataframe\">\n",
              "  <thead>\n",
              "    <tr style=\"text-align: right;\">\n",
              "      <th></th>\n",
              "      <th>sepal length (cm)</th>\n",
              "      <th>sepal width (cm)</th>\n",
              "      <th>petal length (cm)</th>\n",
              "      <th>petal width (cm)</th>\n",
              "      <th>target</th>\n",
              "    </tr>\n",
              "  </thead>\n",
              "  <tbody>\n",
              "    <tr>\n",
              "      <th>0</th>\n",
              "      <td>5.0</td>\n",
              "      <td>3.0</td>\n",
              "      <td>1.4</td>\n",
              "      <td>0.2</td>\n",
              "      <td>0</td>\n",
              "    </tr>\n",
              "    <tr>\n",
              "      <th>1</th>\n",
              "      <td>NaN</td>\n",
              "      <td>NaN</td>\n",
              "      <td>1.5</td>\n",
              "      <td>NaN</td>\n",
              "      <td>1</td>\n",
              "    </tr>\n",
              "    <tr>\n",
              "      <th>2</th>\n",
              "      <td>NaN</td>\n",
              "      <td>NaN</td>\n",
              "      <td>NaN</td>\n",
              "      <td>NaN</td>\n",
              "      <td>2</td>\n",
              "    </tr>\n",
              "  </tbody>\n",
              "</table>\n",
              "</div>"
            ],
            "text/plain": [
              "   sepal length (cm)  sepal width (cm)  petal length (cm)  petal width (cm)  \\\n",
              "0                5.0               3.0                1.4               0.2   \n",
              "1                NaN               NaN                1.5               NaN   \n",
              "2                NaN               NaN                NaN               NaN   \n",
              "\n",
              "   target  \n",
              "0       0  \n",
              "1       1  \n",
              "2       2  "
            ]
          },
          "execution_count": 10,
          "metadata": {},
          "output_type": "execute_result"
        }
      ],
      "source": [
        "df.mode()"
      ]
    },
    {
      "cell_type": "code",
      "execution_count": null,
      "metadata": {
        "id": "fNZsU5uNXo6X",
        "outputId": "31d7cdb4-fd24-4f1a-82dc-419c1ce59d6a"
      },
      "outputs": [
        {
          "data": {
            "image/png": "[encoded data removed]",
            "text/plain": [
              "<Figure size 900x900 with 2 Axes>"
            ]
          },
          "metadata": {},
          "output_type": "display_data"
        }
      ],
      "source": [
        "import C01\n",
        "C01.mean_mode_median()\n"
      ]
    },
    {
      "cell_type": "markdown",
      "metadata": {
        "id": "z4RJL6XxXo6Y"
      },
      "source": [
        "## Estadísticos de dispersión\n",
        "\n",
        "- La *desviación estándar*\n",
        "  - es el más popular\n",
        "  - No es un estimador robusto.\n",
        "  - $s=\\sqrt{\\frac{\\sum_{i=1}^N{(x_i-\\bar{x})^2}}{N-1}}$\n",
        "  - Varianza: $s^2$\n",
        "- El rango entre cuartiles:\n",
        "  - Es la diferencia entre el tercer cuartil y el primer cuartil.\n",
        "  - $Q_3 - Q_1$\n",
        "- La desviación mediana absoluta **Median Absolute Deviation** (MAD).\n",
        "  - Es análogo a la desviación estandard utilizando la mediana\n",
        "  - $median(|X_i-median(X)|)$\n",
        "- El rango:\n",
        "  - Es la diferencia entre el valor máximo y mínimo."
      ]
    },
    {
      "cell_type": "code",
      "execution_count": 7,
      "metadata": {
        "id": "Cykl9bGYXo6Y",
        "outputId": "f51e46e1-36f3-4230-f9eb-ba638bae42da",
        "colab": {
          "base_uri": "https://localhost:8080/"
        }
      },
      "outputs": [
        {
          "output_type": "execute_result",
          "data": {
            "text/plain": [
              "sepal length (cm)    0.828066\n",
              "sepal width (cm)     0.435866\n",
              "petal length (cm)    1.765298\n",
              "petal width (cm)     0.762238\n",
              "target               0.819232\n",
              "dtype: float64"
            ]
          },
          "metadata": {},
          "execution_count": 7
        }
      ],
      "source": [
        "df.std()"
      ]
    },
    {
      "cell_type": "code",
      "execution_count": null,
      "metadata": {
        "id": "iRlhiIAqXo6Y",
        "outputId": "379418f6-cf43-41dd-ce5c-d93b792266e4"
      },
      "outputs": [
        {
          "data": {
            "text/plain": [
              "sepal length (cm)    1.3\n",
              "sepal width (cm)     0.5\n",
              "petal length (cm)    3.5\n",
              "petal width (cm)     1.5\n",
              "target               2.0\n",
              "dtype: float64"
            ]
          },
          "execution_count": 13,
          "metadata": {},
          "output_type": "execute_result"
        }
      ],
      "source": [
        "df.quantile(0.75) - df.quantile(0.25) "
      ]
    },
    {
      "cell_type": "code",
      "execution_count": null,
      "metadata": {
        "id": "RVpPyu9TXo6Y",
        "outputId": "776aa530-6dc0-4933-9d46-b84ed5ee0ef7"
      },
      "outputs": [
        {
          "data": {
            "text/plain": [
              "sepal length (cm)    0.656667\n",
              "sepal width (cm)     0.257333\n",
              "petal length (cm)    1.792000\n",
              "petal width (cm)     0.799333\n",
              "target               1.000000\n",
              "dtype: float64"
            ]
          },
          "execution_count": 14,
          "metadata": {},
          "output_type": "execute_result"
        }
      ],
      "source": [
        "(df - df.mean()).abs().median()"
      ]
    },
    {
      "cell_type": "code",
      "execution_count": null,
      "metadata": {
        "id": "l3fLx0zqXo6Y",
        "outputId": "29c56571-bcc9-43b9-b74d-602deb222899"
      },
      "outputs": [
        {
          "data": {
            "text/plain": [
              "sepal length (cm)    3.6\n",
              "sepal width (cm)     2.4\n",
              "petal length (cm)    5.9\n",
              "petal width (cm)     2.4\n",
              "target               2.0\n",
              "dtype: float64"
            ]
          },
          "execution_count": 15,
          "metadata": {},
          "output_type": "execute_result"
        }
      ],
      "source": [
        "df.max() - df.min()"
      ]
    },
    {
      "cell_type": "code",
      "execution_count": null,
      "metadata": {
        "id": "kagG8LUUXo6Z",
        "outputId": "f8cfe2f8-17ac-49ac-94dd-6a44eb1a2190"
      },
      "outputs": [
        {
          "name": "stdout",
          "output_type": "stream",
          "text": [
            "((12.5, 82), (15.5, 82))\n"
          ]
        },
        {
          "data": {
            "image/png": "[encoded data removed]",
            "text/plain": [
              "<Figure size 900x600 with 1 Axes>"
            ]
          },
          "metadata": {},
          "output_type": "display_data"
        }
      ],
      "source": [
        "import C01\n",
        "C01.dispersion_measures()"
      ]
    },
    {
      "cell_type": "markdown",
      "metadata": {
        "id": "eNvtaOPDXo6Z"
      },
      "source": [
        "## Estadísticos de forma\n",
        "\n",
        "Las medidas de forma de la distribución principales son:\n",
        "  - el *Skewness* o *asimetría*\n",
        "    - mide que tan simétricos son los datos con respecto a la media.\n",
        "  - la *Kurtosis*\n",
        "    - mide la concentración de datos cerca de la media.\n",
        "  - El *exceso de kurtosis*\n",
        "    - Es la diferencia con la kurtosis de la distribución normal estándar.\n",
        "    - *Kurtosis - 3*\n",
        "      - Igual a cero: igual a la distribución normal estándar.\n",
        "      - Menor a cero: Más concentrado sobre la media.\n",
        "      - Mayor a cero: Colas más pesadas."
      ]
    },
    {
      "cell_type": "code",
      "execution_count": null,
      "metadata": {
        "id": "wRWzbIe-Xo6Z",
        "outputId": "2a45e879-8bfc-4dd8-e3a9-1312be7405eb"
      },
      "outputs": [
        {
          "data": {
            "text/plain": [
              "sepal length (cm)    0.314911\n",
              "sepal width (cm)     0.318966\n",
              "petal length (cm)   -0.274884\n",
              "petal width (cm)    -0.102967\n",
              "target               0.000000\n",
              "dtype: float64"
            ]
          },
          "execution_count": 17,
          "metadata": {},
          "output_type": "execute_result"
        }
      ],
      "source": [
        "df.skew()"
      ]
    },
    {
      "cell_type": "code",
      "execution_count": null,
      "metadata": {
        "id": "VmI7R9B1Xo6Z",
        "outputId": "fe66a6ae-2310-4cb6-eef7-3de3049050c9"
      },
      "outputs": [
        {
          "data": {
            "text/plain": [
              "sepal length (cm)   -0.552064\n",
              "sepal width (cm)     0.228249\n",
              "petal length (cm)   -1.402103\n",
              "petal width (cm)    -1.340604\n",
              "target              -1.510135\n",
              "dtype: float64"
            ]
          },
          "execution_count": 18,
          "metadata": {},
          "output_type": "execute_result"
        }
      ],
      "source": [
        "df.kurtosis()"
      ]
    },
    {
      "cell_type": "code",
      "execution_count": null,
      "metadata": {
        "id": "BydiYrd_Xo6Z",
        "outputId": "9a7a8b11-ddc8-46eb-a078-aaec1083d360"
      },
      "outputs": [
        {
          "data": {
            "image/png": "[encoded data removed]",
            "text/plain": [
              "<Figure size 600x900 with 3 Axes>"
            ]
          },
          "metadata": {},
          "output_type": "display_data"
        }
      ],
      "source": [
        "import C01\n",
        "C01.skewness_plot()"
      ]
    },
    {
      "cell_type": "code",
      "execution_count": null,
      "metadata": {
        "id": "Ok_SEAv5Xo6a",
        "outputId": "00ea6dfd-35f8-4626-e9ac-669d3df391e8"
      },
      "outputs": [
        {
          "data": {
            "image/png": "[encoded data removed]",
            "text/plain": [
              "<Figure size 600x900 with 3 Axes>"
            ]
          },
          "metadata": {},
          "output_type": "display_data"
        }
      ],
      "source": [
        "import C01\n",
        "C01.kurtosis_plot()"
      ]
    },
    {
      "cell_type": "markdown",
      "metadata": {
        "id": "4hVP5zSOXo6a"
      },
      "source": [
        "## Descripción gráfica\n",
        "\n",
        "Los *Histogramas* permiten:\n",
        "- tener una visión de la forma de una distribución de densidad\n",
        "  para una variable aleatoria continua.\n",
        "- Se construyen:\n",
        "  - Subdiviendo el dominio en grupos (*bins*)\n",
        "  - contando el número de observaciones para cada *bin*."
      ]
    },
    {
      "cell_type": "code",
      "execution_count": 9,
      "metadata": {
        "id": "dDH0s_a_Xo6a",
        "outputId": "8d183ce2-b48b-4cb0-e5ac-16c1c18e2ee4",
        "colab": {
          "base_uri": "https://localhost:8080/",
          "height": 285
        }
      },
      "outputs": [
        {
          "output_type": "execute_result",
          "data": {
            "text/plain": [
              "<matplotlib.legend.Legend at 0x7f5ffb990910>"
            ]
          },
          "metadata": {},
          "execution_count": 9
        },
        {
          "output_type": "display_data",
          "data": {
            "text/plain": [
              "<Figure size 432x288 with 1 Axes>"
            ],
            "image/png": "[encoded data removed]"
          },
          "metadata": {
            "needs_background": "light"
          }
        }
      ],
      "source": [
        "import matplotlib.pyplot as plt\n",
        "\n",
        "var = \"petal length (cm)\"\n",
        "\n",
        "plt.hist(\n",
        "  df[var],\n",
        "  bins = 25,\n",
        "  label = var\n",
        ")\n",
        "plt.legend()"
      ]
    },
    {
      "cell_type": "markdown",
      "metadata": {
        "id": "DlKce4BBXo6a"
      },
      "source": [
        "\n",
        "Los estimadores de núcleo de densidad (*Kernel Density Estimator*):\n",
        "- generan curvas suaves que estiman la función de densidad de la muestra\n",
        "- Tiene dos parámetros importantes:\n",
        "  - Una función de probabilidad (kernel)\n",
        "    - Por defecto se usa la distribución normal.\n",
        "  - El ancho de banda a utilizar.\n",
        "  - $\\hat{f}(x) = \\frac{1}{nh}\\sum_{i=1}^{n}K(\\frac{x-x_i}{h})$\n",
        "    - $K$ en la función de kernel\n",
        "    - $h$ es el ancho de banda\n"
      ]
    },
    {
      "cell_type": "code",
      "execution_count": null,
      "metadata": {
        "id": "H_1niEaUXo6a",
        "outputId": "af6143ff-7339-4397-ba72-0afc35c7ac85"
      },
      "outputs": [
        {
          "data": {
            "image/png": "[encoded data removed]",
            "text/plain": [
              "<Figure size 600x900 with 3 Axes>"
            ]
          },
          "metadata": {},
          "output_type": "display_data"
        }
      ],
      "source": [
        "import C01\n",
        "C01.kde_plot()"
      ]
    },
    {
      "cell_type": "markdown",
      "metadata": {
        "id": "POKyTb9vXo6b"
      },
      "source": [
        "Los Diagramas de Dispersión:\n",
        "- utilizan las coordenadas cartesianas\n",
        "- muestran la distribución de dos variables en un espacio bi dimensional.\n",
        "- Es posible representar más dimensiones utilizado diferentes formas, tamaños\n",
        "  y/o colores.\n"
      ]
    },
    {
      "cell_type": "code",
      "execution_count": 11,
      "metadata": {
        "id": "136-StbPXo6b",
        "outputId": "79a7757d-3a37-41a2-fe85-7e1371cfa811",
        "colab": {
          "base_uri": "https://localhost:8080/",
          "height": 296
        }
      },
      "outputs": [
        {
          "output_type": "execute_result",
          "data": {
            "text/plain": [
              "<matplotlib.legend.Legend at 0x7f5ff8209b50>"
            ]
          },
          "metadata": {},
          "execution_count": 11
        },
        {
          "output_type": "display_data",
          "data": {
            "text/plain": [
              "<Figure size 432x288 with 1 Axes>"
            ],
            "image/png": "[encoded data removed]"
          },
          "metadata": {
            "needs_background": "light"
          }
        }
      ],
      "source": [
        "import matplotlib.pyplot as plt\n",
        "\n",
        "var1 = \"petal length (cm)\"\n",
        "var2 = \"sepal length (cm)\"\n",
        "\n",
        "scatter = plt.scatter(\n",
        "  x = df[var1],\n",
        "  y = df[var2],\n",
        "  c = df[\"target\"]\n",
        ")\n",
        "a, b = scatter.legend_elements()\n",
        "plt.xlabel(var1)\n",
        "plt.ylabel(var2)\n",
        "plt.legend(a, iris[\"target_names\"])"
      ]
    },
    {
      "cell_type": "code",
      "execution_count": 12,
      "metadata": {
        "id": "ciku4aFGXo6b",
        "outputId": "0c593bb0-ea52-4ddc-ab5e-b1fb82b6f825",
        "colab": {
          "base_uri": "https://localhost:8080/",
          "height": 601
        }
      },
      "outputs": [
        {
          "output_type": "display_data",
          "data": {
            "text/plain": [
              "<Figure size 720x720 with 16 Axes>"
            ],
            "image/png": "[encoded data removed]"
          },
          "metadata": {
            "needs_background": "light"
          }
        }
      ],
      "source": [
        "_ = pd.plotting.scatter_matrix(\n",
        "  df.iloc[:,0:4],\n",
        "  figsize=(10,10),\n",
        "  c = df[\"target\"]\n",
        ")"
      ]
    },
    {
      "cell_type": "markdown",
      "metadata": {
        "id": "dYJfDjrzXo6b"
      },
      "source": [
        "Histogramas bivariados\n",
        "\n",
        "- Los grupos (bins) se establecen para las dos variables\n",
        "- se definen rectángulos\n",
        "- Normalmente se utiliza un código de color para\n",
        "  indicar la cantidad de valores en cada grupo.\n"
      ]
    },
    {
      "cell_type": "code",
      "execution_count": 13,
      "metadata": {
        "id": "QFnAmtsdXo6b",
        "outputId": "bb53c7e2-7aca-49ce-9d01-bfd5d5085257",
        "colab": {
          "base_uri": "https://localhost:8080/",
          "height": 312
        }
      },
      "outputs": [
        {
          "output_type": "execute_result",
          "data": {
            "text/plain": [
              "Text(0, 0.5, 'Petal width (cm)')"
            ]
          },
          "metadata": {},
          "execution_count": 13
        },
        {
          "output_type": "display_data",
          "data": {
            "text/plain": [
              "<Figure size 432x288 with 1 Axes>"
            ],
            "image/png": "[encoded data removed]"
          },
          "metadata": {
            "needs_background": "light"
          }
        }
      ],
      "source": [
        "_ = plt.hist2d(\n",
        "  df[\"petal length (cm)\"],\n",
        "  df[\"petal width (cm)\"],\n",
        "  bins = 20,\n",
        ")\n",
        "plt.title(\"2D histogram\")\n",
        "plt.xlabel(\"Petal length (cm)\")\n",
        "plt.ylabel(\"Petal width (cm)\")"
      ]
    },
    {
      "cell_type": "markdown",
      "metadata": {
        "id": "CWQE469tXo6b"
      },
      "source": [
        "### Mapa de calor (HeatMap)\n",
        "\n",
        "- Similar a un histograma 2D\n",
        "- Tienen variables categóricas o discretas en sus ejes.\n"
      ]
    },
    {
      "cell_type": "code",
      "source": [
        "df.head()"
      ],
      "metadata": {
        "id": "zedRuXRNxSaB",
        "outputId": "12a64bb0-9e87-4b63-f8c8-6fba842f71fe",
        "colab": {
          "base_uri": "https://localhost:8080/",
          "height": 206
        }
      },
      "execution_count": 14,
      "outputs": [
        {
          "output_type": "execute_result",
          "data": {
            "text/plain": [
              "   sepal length (cm)  sepal width (cm)  petal length (cm)  petal width (cm)  \\\n",
              "0                5.1               3.5                1.4               0.2   \n",
              "1                4.9               3.0                1.4               0.2   \n",
              "2                4.7               3.2                1.3               0.2   \n",
              "3                4.6               3.1                1.5               0.2   \n",
              "4                5.0               3.6                1.4               0.2   \n",
              "\n",
              "   target  \n",
              "0       0  \n",
              "1       0  \n",
              "2       0  \n",
              "3       0  \n",
              "4       0  "
            ],
            "text/html": [
              "\n",
              "  <div id=\"df-c5cf03a5-c7af-4e5f-a529-ea98c59a390f\">\n",
              "    <div class=\"colab-df-container\">\n",
              "      <div>\n",
              "<style scoped>\n",
              "    .dataframe tbody tr th:only-of-type {\n",
              "        vertical-align: middle;\n",
              "    }\n",
              "\n",
              "    .dataframe tbody tr th {\n",
              "        vertical-align: top;\n",
              "    }\n",
              "\n",
              "    .dataframe thead th {\n",
              "        text-align: right;\n",
              "    }\n",
              "</style>\n",
              "<table border=\"1\" class=\"dataframe\">\n",
              "  <thead>\n",
              "    <tr style=\"text-align: right;\">\n",
              "      <th></th>\n",
              "      <th>sepal length (cm)</th>\n",
              "      <th>sepal width (cm)</th>\n",
              "      <th>petal length (cm)</th>\n",
              "      <th>petal width (cm)</th>\n",
              "      <th>target</th>\n",
              "    </tr>\n",
              "  </thead>\n",
              "  <tbody>\n",
              "    <tr>\n",
              "      <th>0</th>\n",
              "      <td>5.1</td>\n",
              "      <td>3.5</td>\n",
              "      <td>1.4</td>\n",
              "      <td>0.2</td>\n",
              "      <td>0</td>\n",
              "    </tr>\n",
              "    <tr>\n",
              "      <th>1</th>\n",
              "      <td>4.9</td>\n",
              "      <td>3.0</td>\n",
              "      <td>1.4</td>\n",
              "      <td>0.2</td>\n",
              "      <td>0</td>\n",
              "    </tr>\n",
              "    <tr>\n",
              "      <th>2</th>\n",
              "      <td>4.7</td>\n",
              "      <td>3.2</td>\n",
              "      <td>1.3</td>\n",
              "      <td>0.2</td>\n",
              "      <td>0</td>\n",
              "    </tr>\n",
              "    <tr>\n",
              "      <th>3</th>\n",
              "      <td>4.6</td>\n",
              "      <td>3.1</td>\n",
              "      <td>1.5</td>\n",
              "      <td>0.2</td>\n",
              "      <td>0</td>\n",
              "    </tr>\n",
              "    <tr>\n",
              "      <th>4</th>\n",
              "      <td>5.0</td>\n",
              "      <td>3.6</td>\n",
              "      <td>1.4</td>\n",
              "      <td>0.2</td>\n",
              "      <td>0</td>\n",
              "    </tr>\n",
              "  </tbody>\n",
              "</table>\n",
              "</div>\n",
              "      <button class=\"colab-df-convert\" onclick=\"convertToInteractive('df-c5cf03a5-c7af-4e5f-a529-ea98c59a390f')\"\n",
              "              title=\"Convert this dataframe to an interactive table.\"\n",
              "              style=\"display:none;\">\n",
              "        \n",
              "  <svg xmlns=\"http://www.w3.org/2000/svg\" height=\"24px\"viewBox=\"0 0 24 24\"\n",
              "       width=\"24px\">\n",
              "    <path d=\"M0 0h24v24H0V0z\" fill=\"none\"/>\n",
              "    <path d=\"M18.56 5.44l.94 2.06.94-2.06 2.06-.94-2.06-.94-.94-2.06-.94 2.06-2.06.94zm-11 1L8.5 8.5l.94-2.06 2.06-.94-2.06-.94L8.5 2.5l-.94 2.06-2.06.94zm10 10l.94 2.06.94-2.06 2.06-.94-2.06-.94-.94-2.06-.94 2.06-2.06.94z\"/><path d=\"M17.41 7.96l-1.37-1.37c-.4-.4-.92-.59-1.43-.59-.52 0-1.04.2-1.43.59L10.3 9.45l-7.72 7.72c-.78.78-.78 2.05 0 2.83L4 21.41c.39.39.9.59 1.41.59.51 0 1.02-.2 1.41-.59l7.78-7.78 2.81-2.81c.8-.78.8-2.07 0-2.86zM5.41 20L4 18.59l7.72-7.72 1.47 1.35L5.41 20z\"/>\n",
              "  </svg>\n",
              "      </button>\n",
              "      \n",
              "  <style>\n",
              "    .colab-df-container {\n",
              "      display:flex;\n",
              "      flex-wrap:wrap;\n",
              "      gap: 12px;\n",
              "    }\n",
              "\n",
              "    .colab-df-convert {\n",
              "      background-color: #E8F0FE;\n",
              "      border: none;\n",
              "      border-radius: 50%;\n",
              "      cursor: pointer;\n",
              "      display: none;\n",
              "      fill: #1967D2;\n",
              "      height: 32px;\n",
              "      padding: 0 0 0 0;\n",
              "      width: 32px;\n",
              "    }\n",
              "\n",
              "    .colab-df-convert:hover {\n",
              "      background-color: #E2EBFA;\n",
              "      box-shadow: 0px 1px 2px rgba(60, 64, 67, 0.3), 0px 1px 3px 1px rgba(60, 64, 67, 0.15);\n",
              "      fill: #174EA6;\n",
              "    }\n",
              "\n",
              "    [theme=dark] .colab-df-convert {\n",
              "      background-color: #3B4455;\n",
              "      fill: #D2E3FC;\n",
              "    }\n",
              "\n",
              "    [theme=dark] .colab-df-convert:hover {\n",
              "      background-color: #434B5C;\n",
              "      box-shadow: 0px 1px 3px 1px rgba(0, 0, 0, 0.15);\n",
              "      filter: drop-shadow(0px 1px 2px rgba(0, 0, 0, 0.3));\n",
              "      fill: #FFFFFF;\n",
              "    }\n",
              "  </style>\n",
              "\n",
              "      <script>\n",
              "        const buttonEl =\n",
              "          document.querySelector('#df-c5cf03a5-c7af-4e5f-a529-ea98c59a390f button.colab-df-convert');\n",
              "        buttonEl.style.display =\n",
              "          google.colab.kernel.accessAllowed ? 'block' : 'none';\n",
              "\n",
              "        async function convertToInteractive(key) {\n",
              "          const element = document.querySelector('#df-c5cf03a5-c7af-4e5f-a529-ea98c59a390f');\n",
              "          const dataTable =\n",
              "            await google.colab.kernel.invokeFunction('convertToInteractive',\n",
              "                                                     [key], {});\n",
              "          if (!dataTable) return;\n",
              "\n",
              "          const docLinkHtml = 'Like what you see? Visit the ' +\n",
              "            '<a target=\"_blank\" href=https://colab.research.google.com/notebooks/data_table.ipynb>data table notebook</a>'\n",
              "            + ' to learn more about interactive tables.';\n",
              "          element.innerHTML = '';\n",
              "          dataTable['output_type'] = 'display_data';\n",
              "          await google.colab.output.renderOutput(dataTable, element);\n",
              "          const docLink = document.createElement('div');\n",
              "          docLink.innerHTML = docLinkHtml;\n",
              "          element.appendChild(docLink);\n",
              "        }\n",
              "      </script>\n",
              "    </div>\n",
              "  </div>\n",
              "  "
            ]
          },
          "metadata": {},
          "execution_count": 14
        }
      ]
    },
    {
      "cell_type": "code",
      "execution_count": 21,
      "metadata": {
        "id": "g8eG5T1_Xo6b",
        "outputId": "910a32d8-83af-470f-c2bb-5812b078f6b1",
        "colab": {
          "base_uri": "https://localhost:8080/",
          "height": 306
        }
      },
      "outputs": [
        {
          "output_type": "display_data",
          "data": {
            "text/plain": [
              "<Figure size 432x288 with 2 Axes>"
            ],
            "image/png": "[encoded data removed]"
          },
          "metadata": {
            "needs_background": "light"
          }
        }
      ],
      "source": [
        "means_by_group = (\n",
        "  df\n",
        "    .groupby(\n",
        "      by=\"target\"\n",
        "    )\n",
        "    .aggregate(\n",
        "      func = np.mean\n",
        "    )\n",
        ")\n",
        "\n",
        "means_by_group.index = iris[\"target_names\"]\n",
        "\n",
        "im = plt.imshow(means_by_group)\n",
        "plt.xticks(\n",
        "  np.arange(len(means_by_group.columns)),\n",
        "  means_by_group.columns,\n",
        "  rotation = 45\n",
        ")\n",
        "plt.yticks(\n",
        "  np.arange(len(iris[\"target_names\"])),\n",
        "  iris[\"target_names\"]\n",
        ")\n",
        "cbar = plt.colorbar(im)\n",
        "plt.tight_layout()\n"
      ]
    },
    {
      "cell_type": "markdown",
      "metadata": {
        "id": "3vOqXMApXo6c"
      },
      "source": [
        "### Boxplots\n",
        "\n",
        "- permiten observar estadísticos de:\n",
        "  - tendencia central (mediana)\n",
        "  - de dispersión (rango entre cuartiles).\n",
        "  - valores extremos (outliers)"
      ]
    },
    {
      "cell_type": "code",
      "execution_count": 27,
      "metadata": {
        "id": "JyqKh4jhXo6c",
        "outputId": "95c98f07-f90d-413e-e0db-3a1546e6fe96",
        "colab": {
          "base_uri": "https://localhost:8080/",
          "height": 363
        }
      },
      "outputs": [
        {
          "output_type": "error",
          "ename": "AttributeError",
          "evalue": "ignored",
          "traceback": [
            "\u001b[0;31m---------------------------------------------------------------------------\u001b[0m",
            "\u001b[0;31mAttributeError\u001b[0m                            Traceback (most recent call last)",
            "\u001b[0;32m<ipython-input-27-1a1402485b03>\u001b[0m in \u001b[0;36m<module>\u001b[0;34m\u001b[0m\n\u001b[1;32m      4\u001b[0m plt.subplots(\n\u001b[1;32m      5\u001b[0m     \u001b[0mncols\u001b[0m \u001b[0;34m=\u001b[0m \u001b[0;36m2\u001b[0m\u001b[0;34m,\u001b[0m\u001b[0;34m\u001b[0m\u001b[0;34m\u001b[0m\u001b[0m\n\u001b[0;32m----> 6\u001b[0;31m     \u001b[0mwidth_ratios\u001b[0m \u001b[0;34m=\u001b[0m \u001b[0;34m[\u001b[0m\u001b[0;36m1\u001b[0m\u001b[0;34m,\u001b[0m \u001b[0;36m3\u001b[0m\u001b[0;34m]\u001b[0m\u001b[0;34m\u001b[0m\u001b[0;34m\u001b[0m\u001b[0m\n\u001b[0m\u001b[1;32m      7\u001b[0m )\n",
            "\u001b[0;32m/usr/local/lib/python3.7/dist-packages/matplotlib/pyplot.py\u001b[0m in \u001b[0;36msubplots\u001b[0;34m(nrows, ncols, sharex, sharey, squeeze, subplot_kw, gridspec_kw, **fig_kw)\u001b[0m\n\u001b[1;32m   1451\u001b[0m \u001b[0;34m\u001b[0m\u001b[0m\n\u001b[1;32m   1452\u001b[0m     \"\"\"\n\u001b[0;32m-> 1453\u001b[0;31m     \u001b[0mfig\u001b[0m \u001b[0;34m=\u001b[0m \u001b[0mfigure\u001b[0m\u001b[0;34m(\u001b[0m\u001b[0;34m**\u001b[0m\u001b[0mfig_kw\u001b[0m\u001b[0;34m)\u001b[0m\u001b[0;34m\u001b[0m\u001b[0;34m\u001b[0m\u001b[0m\n\u001b[0m\u001b[1;32m   1454\u001b[0m     axs = fig.subplots(nrows=nrows, ncols=ncols, sharex=sharex, sharey=sharey,\n\u001b[1;32m   1455\u001b[0m                        \u001b[0msqueeze\u001b[0m\u001b[0;34m=\u001b[0m\u001b[0msqueeze\u001b[0m\u001b[0;34m,\u001b[0m \u001b[0msubplot_kw\u001b[0m\u001b[0;34m=\u001b[0m\u001b[0msubplot_kw\u001b[0m\u001b[0;34m,\u001b[0m\u001b[0;34m\u001b[0m\u001b[0;34m\u001b[0m\u001b[0m\n",
            "\u001b[0;32m/usr/local/lib/python3.7/dist-packages/matplotlib/pyplot.py\u001b[0m in \u001b[0;36mfigure\u001b[0;34m(num, figsize, dpi, facecolor, edgecolor, frameon, FigureClass, clear, **kwargs)\u001b[0m\n\u001b[1;32m    807\u001b[0m             \u001b[0mnum\u001b[0m\u001b[0;34m,\u001b[0m \u001b[0mfigsize\u001b[0m\u001b[0;34m=\u001b[0m\u001b[0mfigsize\u001b[0m\u001b[0;34m,\u001b[0m \u001b[0mdpi\u001b[0m\u001b[0;34m=\u001b[0m\u001b[0mdpi\u001b[0m\u001b[0;34m,\u001b[0m\u001b[0;34m\u001b[0m\u001b[0;34m\u001b[0m\u001b[0m\n\u001b[1;32m    808\u001b[0m             \u001b[0mfacecolor\u001b[0m\u001b[0;34m=\u001b[0m\u001b[0mfacecolor\u001b[0m\u001b[0;34m,\u001b[0m \u001b[0medgecolor\u001b[0m\u001b[0;34m=\u001b[0m\u001b[0medgecolor\u001b[0m\u001b[0;34m,\u001b[0m \u001b[0mframeon\u001b[0m\u001b[0;34m=\u001b[0m\u001b[0mframeon\u001b[0m\u001b[0;34m,\u001b[0m\u001b[0;34m\u001b[0m\u001b[0;34m\u001b[0m\u001b[0m\n\u001b[0;32m--> 809\u001b[0;31m             FigureClass=FigureClass, **kwargs)\n\u001b[0m\u001b[1;32m    810\u001b[0m         \u001b[0mfig\u001b[0m \u001b[0;34m=\u001b[0m \u001b[0mmanager\u001b[0m\u001b[0;34m.\u001b[0m\u001b[0mcanvas\u001b[0m\u001b[0;34m.\u001b[0m\u001b[0mfigure\u001b[0m\u001b[0;34m\u001b[0m\u001b[0;34m\u001b[0m\u001b[0m\n\u001b[1;32m    811\u001b[0m         \u001b[0;32mif\u001b[0m \u001b[0mfig_label\u001b[0m\u001b[0;34m:\u001b[0m\u001b[0;34m\u001b[0m\u001b[0;34m\u001b[0m\u001b[0m\n",
            "\u001b[0;32m/usr/local/lib/python3.7/dist-packages/matplotlib/pyplot.py\u001b[0m in \u001b[0;36mnew_figure_manager\u001b[0;34m(*args, **kwargs)\u001b[0m\n\u001b[1;32m    323\u001b[0m     \u001b[0;34m\"\"\"Create a new figure manager instance.\"\"\"\u001b[0m\u001b[0;34m\u001b[0m\u001b[0;34m\u001b[0m\u001b[0m\n\u001b[1;32m    324\u001b[0m     \u001b[0m_warn_if_gui_out_of_main_thread\u001b[0m\u001b[0;34m(\u001b[0m\u001b[0;34m)\u001b[0m\u001b[0;34m\u001b[0m\u001b[0;34m\u001b[0m\u001b[0m\n\u001b[0;32m--> 325\u001b[0;31m     \u001b[0;32mreturn\u001b[0m \u001b[0m_get_backend_mod\u001b[0m\u001b[0;34m(\u001b[0m\u001b[0;34m)\u001b[0m\u001b[0;34m.\u001b[0m\u001b[0mnew_figure_manager\u001b[0m\u001b[0;34m(\u001b[0m\u001b[0;34m*\u001b[0m\u001b[0margs\u001b[0m\u001b[0;34m,\u001b[0m \u001b[0;34m**\u001b[0m\u001b[0mkwargs\u001b[0m\u001b[0;34m)\u001b[0m\u001b[0;34m\u001b[0m\u001b[0;34m\u001b[0m\u001b[0m\n\u001b[0m\u001b[1;32m    326\u001b[0m \u001b[0;34m\u001b[0m\u001b[0m\n\u001b[1;32m    327\u001b[0m \u001b[0;34m\u001b[0m\u001b[0m\n",
            "\u001b[0;32m/usr/local/lib/python3.7/dist-packages/matplotlib/backend_bases.py\u001b[0m in \u001b[0;36mnew_figure_manager\u001b[0;34m(cls, num, *args, **kwargs)\u001b[0m\n\u001b[1;32m   3491\u001b[0m         \u001b[0;32mfrom\u001b[0m \u001b[0mmatplotlib\u001b[0m\u001b[0;34m.\u001b[0m\u001b[0mfigure\u001b[0m \u001b[0;32mimport\u001b[0m \u001b[0mFigure\u001b[0m\u001b[0;34m\u001b[0m\u001b[0;34m\u001b[0m\u001b[0m\n\u001b[1;32m   3492\u001b[0m         \u001b[0mfig_cls\u001b[0m \u001b[0;34m=\u001b[0m \u001b[0mkwargs\u001b[0m\u001b[0;34m.\u001b[0m\u001b[0mpop\u001b[0m\u001b[0;34m(\u001b[0m\u001b[0;34m'FigureClass'\u001b[0m\u001b[0;34m,\u001b[0m \u001b[0mFigure\u001b[0m\u001b[0;34m)\u001b[0m\u001b[0;34m\u001b[0m\u001b[0;34m\u001b[0m\u001b[0m\n\u001b[0;32m-> 3493\u001b[0;31m         \u001b[0mfig\u001b[0m \u001b[0;34m=\u001b[0m \u001b[0mfig_cls\u001b[0m\u001b[0;34m(\u001b[0m\u001b[0;34m*\u001b[0m\u001b[0margs\u001b[0m\u001b[0;34m,\u001b[0m \u001b[0;34m**\u001b[0m\u001b[0mkwargs\u001b[0m\u001b[0;34m)\u001b[0m\u001b[0;34m\u001b[0m\u001b[0;34m\u001b[0m\u001b[0m\n\u001b[0m\u001b[1;32m   3494\u001b[0m         \u001b[0;32mreturn\u001b[0m \u001b[0mcls\u001b[0m\u001b[0;34m.\u001b[0m\u001b[0mnew_figure_manager_given_figure\u001b[0m\u001b[0;34m(\u001b[0m\u001b[0mnum\u001b[0m\u001b[0;34m,\u001b[0m \u001b[0mfig\u001b[0m\u001b[0;34m)\u001b[0m\u001b[0;34m\u001b[0m\u001b[0;34m\u001b[0m\u001b[0m\n\u001b[1;32m   3495\u001b[0m \u001b[0;34m\u001b[0m\u001b[0m\n",
            "\u001b[0;32m/usr/local/lib/python3.7/dist-packages/matplotlib/figure.py\u001b[0m in \u001b[0;36m__init__\u001b[0;34m(self, figsize, dpi, facecolor, edgecolor, linewidth, frameon, subplotpars, tight_layout, constrained_layout, layout, **kwargs)\u001b[0m\n\u001b[1;32m   2298\u001b[0m             \u001b[0;34m%\u001b[0m\u001b[0;34m(\u001b[0m\u001b[0mFigure\u001b[0m\u001b[0;34m:\u001b[0m\u001b[0mkwdoc\u001b[0m\u001b[0;34m)\u001b[0m\u001b[0ms\u001b[0m\u001b[0;34m\u001b[0m\u001b[0;34m\u001b[0m\u001b[0m\n\u001b[1;32m   2299\u001b[0m         \"\"\"\n\u001b[0;32m-> 2300\u001b[0;31m         \u001b[0msuper\u001b[0m\u001b[0;34m(\u001b[0m\u001b[0;34m)\u001b[0m\u001b[0;34m.\u001b[0m\u001b[0m__init__\u001b[0m\u001b[0;34m(\u001b[0m\u001b[0;34m**\u001b[0m\u001b[0mkwargs\u001b[0m\u001b[0;34m)\u001b[0m\u001b[0;34m\u001b[0m\u001b[0;34m\u001b[0m\u001b[0m\n\u001b[0m\u001b[1;32m   2301\u001b[0m \u001b[0;34m\u001b[0m\u001b[0m\n\u001b[1;32m   2302\u001b[0m         \u001b[0;32mif\u001b[0m \u001b[0mlayout\u001b[0m \u001b[0;32mis\u001b[0m \u001b[0;32mnot\u001b[0m \u001b[0;32mNone\u001b[0m\u001b[0;34m:\u001b[0m\u001b[0;34m\u001b[0m\u001b[0;34m\u001b[0m\u001b[0m\n",
            "\u001b[0;32m/usr/local/lib/python3.7/dist-packages/matplotlib/figure.py\u001b[0m in \u001b[0;36m__init__\u001b[0;34m(self, **kwargs)\u001b[0m\n\u001b[1;32m    214\u001b[0m         \u001b[0mself\u001b[0m\u001b[0;34m.\u001b[0m\u001b[0mstale\u001b[0m \u001b[0;34m=\u001b[0m \u001b[0;32mTrue\u001b[0m\u001b[0;34m\u001b[0m\u001b[0;34m\u001b[0m\u001b[0m\n\u001b[1;32m    215\u001b[0m         \u001b[0mself\u001b[0m\u001b[0;34m.\u001b[0m\u001b[0msuppressComposite\u001b[0m \u001b[0;34m=\u001b[0m \u001b[0;32mNone\u001b[0m\u001b[0;34m\u001b[0m\u001b[0;34m\u001b[0m\u001b[0m\n\u001b[0;32m--> 216\u001b[0;31m         \u001b[0mself\u001b[0m\u001b[0;34m.\u001b[0m\u001b[0mset\u001b[0m\u001b[0;34m(\u001b[0m\u001b[0;34m**\u001b[0m\u001b[0mkwargs\u001b[0m\u001b[0;34m)\u001b[0m\u001b[0;34m\u001b[0m\u001b[0;34m\u001b[0m\u001b[0m\n\u001b[0m\u001b[1;32m    217\u001b[0m \u001b[0;34m\u001b[0m\u001b[0m\n\u001b[1;32m    218\u001b[0m     \u001b[0;32mdef\u001b[0m \u001b[0m_get_draw_artists\u001b[0m\u001b[0;34m(\u001b[0m\u001b[0mself\u001b[0m\u001b[0;34m,\u001b[0m \u001b[0mrenderer\u001b[0m\u001b[0;34m)\u001b[0m\u001b[0;34m:\u001b[0m\u001b[0;34m\u001b[0m\u001b[0;34m\u001b[0m\u001b[0m\n",
            "\u001b[0;32m/usr/local/lib/python3.7/dist-packages/matplotlib/artist.py\u001b[0m in \u001b[0;36m<lambda>\u001b[0;34m(self, **kwargs)\u001b[0m\n\u001b[1;32m    115\u001b[0m             \u001b[0;32mreturn\u001b[0m\u001b[0;34m\u001b[0m\u001b[0;34m\u001b[0m\u001b[0m\n\u001b[1;32m    116\u001b[0m \u001b[0;34m\u001b[0m\u001b[0m\n\u001b[0;32m--> 117\u001b[0;31m         \u001b[0mcls\u001b[0m\u001b[0;34m.\u001b[0m\u001b[0mset\u001b[0m \u001b[0;34m=\u001b[0m \u001b[0;32mlambda\u001b[0m \u001b[0mself\u001b[0m\u001b[0;34m,\u001b[0m \u001b[0;34m**\u001b[0m\u001b[0mkwargs\u001b[0m\u001b[0;34m:\u001b[0m \u001b[0mArtist\u001b[0m\u001b[0;34m.\u001b[0m\u001b[0mset\u001b[0m\u001b[0;34m(\u001b[0m\u001b[0mself\u001b[0m\u001b[0;34m,\u001b[0m \u001b[0;34m**\u001b[0m\u001b[0mkwargs\u001b[0m\u001b[0;34m)\u001b[0m\u001b[0;34m\u001b[0m\u001b[0;34m\u001b[0m\u001b[0m\n\u001b[0m\u001b[1;32m    118\u001b[0m         \u001b[0mcls\u001b[0m\u001b[0;34m.\u001b[0m\u001b[0mset\u001b[0m\u001b[0;34m.\u001b[0m\u001b[0m__name__\u001b[0m \u001b[0;34m=\u001b[0m \u001b[0;34m\"set\"\u001b[0m\u001b[0;34m\u001b[0m\u001b[0;34m\u001b[0m\u001b[0m\n\u001b[1;32m    119\u001b[0m         \u001b[0mcls\u001b[0m\u001b[0;34m.\u001b[0m\u001b[0mset\u001b[0m\u001b[0;34m.\u001b[0m\u001b[0m__qualname__\u001b[0m \u001b[0;34m=\u001b[0m \u001b[0;34mf\"{cls.__qualname__}.set\"\u001b[0m\u001b[0;34m\u001b[0m\u001b[0;34m\u001b[0m\u001b[0m\n",
            "\u001b[0;32m/usr/local/lib/python3.7/dist-packages/matplotlib/artist.py\u001b[0m in \u001b[0;36mset\u001b[0;34m(self, **kwargs)\u001b[0m\n\u001b[1;32m   1165\u001b[0m         \u001b[0;31m# module.\u001b[0m\u001b[0;34m\u001b[0m\u001b[0;34m\u001b[0m\u001b[0;34m\u001b[0m\u001b[0m\n\u001b[1;32m   1166\u001b[0m         \u001b[0mkwargs\u001b[0m \u001b[0;34m=\u001b[0m \u001b[0mcbook\u001b[0m\u001b[0;34m.\u001b[0m\u001b[0mnormalize_kwargs\u001b[0m\u001b[0;34m(\u001b[0m\u001b[0mkwargs\u001b[0m\u001b[0;34m,\u001b[0m \u001b[0mself\u001b[0m\u001b[0;34m)\u001b[0m\u001b[0;34m\u001b[0m\u001b[0;34m\u001b[0m\u001b[0m\n\u001b[0;32m-> 1167\u001b[0;31m         \u001b[0;32mreturn\u001b[0m \u001b[0mself\u001b[0m\u001b[0;34m.\u001b[0m\u001b[0mupdate\u001b[0m\u001b[0;34m(\u001b[0m\u001b[0mkwargs\u001b[0m\u001b[0;34m)\u001b[0m\u001b[0;34m\u001b[0m\u001b[0;34m\u001b[0m\u001b[0m\n\u001b[0m\u001b[1;32m   1168\u001b[0m \u001b[0;34m\u001b[0m\u001b[0m\n\u001b[1;32m   1169\u001b[0m     \u001b[0;34m@\u001b[0m\u001b[0mcontextlib\u001b[0m\u001b[0;34m.\u001b[0m\u001b[0mcontextmanager\u001b[0m\u001b[0;34m\u001b[0m\u001b[0;34m\u001b[0m\u001b[0m\n",
            "\u001b[0;32m/usr/local/lib/python3.7/dist-packages/matplotlib/artist.py\u001b[0m in \u001b[0;36mupdate\u001b[0;34m(self, props)\u001b[0m\n\u001b[1;32m   1065\u001b[0m                     \u001b[0mfunc\u001b[0m \u001b[0;34m=\u001b[0m \u001b[0mgetattr\u001b[0m\u001b[0;34m(\u001b[0m\u001b[0mself\u001b[0m\u001b[0;34m,\u001b[0m \u001b[0;34mf\"set_{k}\"\u001b[0m\u001b[0;34m,\u001b[0m \u001b[0;32mNone\u001b[0m\u001b[0;34m)\u001b[0m\u001b[0;34m\u001b[0m\u001b[0;34m\u001b[0m\u001b[0m\n\u001b[1;32m   1066\u001b[0m                     \u001b[0;32mif\u001b[0m \u001b[0;32mnot\u001b[0m \u001b[0mcallable\u001b[0m\u001b[0;34m(\u001b[0m\u001b[0mfunc\u001b[0m\u001b[0;34m)\u001b[0m\u001b[0;34m:\u001b[0m\u001b[0;34m\u001b[0m\u001b[0;34m\u001b[0m\u001b[0m\n\u001b[0;32m-> 1067\u001b[0;31m                         raise AttributeError(f\"{type(self).__name__!r} object \"\n\u001b[0m\u001b[1;32m   1068\u001b[0m                                              f\"has no property {k!r}\")\n\u001b[1;32m   1069\u001b[0m                     \u001b[0mret\u001b[0m\u001b[0;34m.\u001b[0m\u001b[0mappend\u001b[0m\u001b[0;34m(\u001b[0m\u001b[0mfunc\u001b[0m\u001b[0;34m(\u001b[0m\u001b[0mv\u001b[0m\u001b[0;34m)\u001b[0m\u001b[0;34m)\u001b[0m\u001b[0;34m\u001b[0m\u001b[0;34m\u001b[0m\u001b[0m\n",
            "\u001b[0;31mAttributeError\u001b[0m: 'Figure' object has no property 'width_ratios'"
          ]
        }
      ],
      "source": [
        "import C01\n",
        "C01.boxplot_example()"
      ]
    },
    {
      "cell_type": "code",
      "execution_count": 24,
      "metadata": {
        "id": "0eaJx0lXXo6c",
        "outputId": "1b15dcfc-b188-48fa-f94a-707b124d3c05",
        "colab": {
          "base_uri": "https://localhost:8080/",
          "height": 324
        }
      },
      "outputs": [
        {
          "output_type": "display_data",
          "data": {
            "text/plain": [
              "<Figure size 432x288 with 1 Axes>"
            ],
            "image/png": "[encoded data removed]"
          },
          "metadata": {
            "needs_background": "light"
          }
        }
      ],
      "source": [
        "plt.boxplot(df.iloc[:, :4])\n",
        "_ = plt.xticks(\n",
        "  np.arange(len(df.columns[:4]))+1,\n",
        "  df.columns[:4],\n",
        "  rotation = 45\n",
        ")"
      ]
    },
    {
      "cell_type": "markdown",
      "metadata": {
        "id": "_SIvuIB3Xo6c"
      },
      "source": [
        "\n",
        "### Funciones Empíricas de Distribución Acumulada\n",
        "\n",
        "- Estima una función de probabilidad acumulada (CDF)\n",
        "- A partir de los datos\n"
      ]
    },
    {
      "cell_type": "code",
      "execution_count": 35,
      "metadata": {
        "id": "OQGOlkjjXo6c",
        "outputId": "c35155c7-3e7f-4dd4-cec2-02dcf02e040c",
        "colab": {
          "base_uri": "https://localhost:8080/",
          "height": 282
        }
      },
      "outputs": [
        {
          "output_type": "execute_result",
          "data": {
            "text/plain": [
              "[<matplotlib.lines.Line2D at 0x7f5ff58141d0>]"
            ]
          },
          "metadata": {},
          "execution_count": 35
        },
        {
          "output_type": "display_data",
          "data": {
            "text/plain": [
              "<Figure size 432x288 with 1 Axes>"
            ],
            "image/png": "[encoded data removed]"
          },
          "metadata": {
            "needs_background": "light"
          }
        }
      ],
      "source": [
        "import scipy\n",
        "s = df.iloc[:, 1].value_counts().sort_index().cumsum()\n",
        "s = s / max(s)\n",
        "plt.plot(s)\n"
      ]
    },
    {
      "cell_type": "code",
      "execution_count": 36,
      "metadata": {
        "id": "qxcA6sH1Xo6d",
        "outputId": "89627f2f-c0f3-48a7-c75b-9e86829cf5c8",
        "colab": {
          "base_uri": "https://localhost:8080/",
          "height": 282
        }
      },
      "outputs": [
        {
          "output_type": "execute_result",
          "data": {
            "text/plain": [
              "<BarContainer object of 20 artists>"
            ]
          },
          "metadata": {},
          "execution_count": 36
        },
        {
          "output_type": "display_data",
          "data": {
            "text/plain": [
              "<Figure size 432x288 with 1 Axes>"
            ],
            "image/png": "[encoded data removed]"
          },
          "metadata": {
            "needs_background": "light"
          }
        }
      ],
      "source": [
        "res = scipy.stats.cumfreq(\n",
        "    a = df.iloc[:, 1],\n",
        "    numbins = 20\n",
        ")\n",
        "plt.bar(\n",
        "    x = np.linspace(\n",
        "        res.lowerlimit,\n",
        "        res.binsize * res.cumcount.size + res.lowerlimit,\n",
        "        res.cumcount.size\n",
        "    ),\n",
        "    height = res.cumcount,\n",
        "    width = res.binsize\n",
        ")"
      ]
    },
    {
      "cell_type": "markdown",
      "metadata": {
        "id": "IuLqTz_dXo6d"
      },
      "source": [
        "\n",
        "### Ajuste de distribuciones estadísticas\n",
        "\n",
        "- Encontrar:\n",
        "  - la mejor función de distribución teórica\n",
        "    - Se presume una familia y se ajustan los parámetros\n",
        "  - de acuerdo a los datos que tenemos\n",
        "- Los estadisticos y gráficos evaludados en la exploración pueden guiar la\n",
        "  elección de la familiad de funciones."
      ]
    },
    {
      "cell_type": "code",
      "execution_count": 43,
      "metadata": {
        "id": "ZFnQAhRrXo6d",
        "outputId": "3dfdec2d-597a-4a4e-8aeb-216c065dcbda",
        "colab": {
          "base_uri": "https://localhost:8080/"
        }
      },
      "outputs": [
        {
          "output_type": "stream",
          "name": "stdout",
          "text": [
            "fitted_mu: 2.1014878935456927\n",
            "fitted_sigma: 3.0664504469037275\n"
          ]
        }
      ],
      "source": [
        "from scipy.stats import norm\n",
        "import scipy.stats as st\n",
        "normal_sample = norm.rvs(\n",
        "    loc=2,\n",
        "    scale = 3,\n",
        "    size = 1000\n",
        ")\n",
        "\n",
        "fitted_mu, fitted_sigma = norm.fit(normal_sample)\n",
        "print(f\"fitted_mu: {fitted_mu}\")\n",
        "print(f\"fitted_sigma: {fitted_sigma}\")\n",
        "\n",
        "normal_sample_std = (normal_sample - fitted_mu) / fitted_sigma\n",
        "fit_result = fit(\n",
        "    dist = norm,\n",
        "    data = normal_sample_std,\n",
        ")\n",
        "# fit_result.plot()\n",
        "print(f\"El juste fue exitoso?: {fit_result.success}\")\n",
        "print(f\"Los parametros ajustados son: {fit_result.params}\")\n",
        "print(f\"Mensaje: {fit_result.message}\")\n",
        "# Negative log-likelihood function\n",
        "# for given params and data\n",
        "print(f\"Negative log likelihood: {fit_result.nllf((0,1))}\")\n",
        "\n"
      ]
    },
    {
      "cell_type": "code",
      "execution_count": null,
      "metadata": {
        "id": "VFSDL8s3Xo6d",
        "outputId": "1be1c577-19bd-40f7-e3e8-e704b144398e"
      },
      "outputs": [
        {
          "data": {
            "text/plain": [
              "(array([0.07147706, 0.        , 0.        , 0.        , 0.        ,\n",
              "        0.07147706, 0.42886238, 0.28590825, 0.35738531, 0.14295413,\n",
              "        0.64329357, 0.42886238, 0.21443119, 0.21443119, 0.28590825,\n",
              "        0.14295413, 0.07147706, 0.07147706, 0.07147706, 0.07147706]),\n",
              " array([-3.00595931, -2.72614927, -2.44633923, -2.16652919, -1.88671914,\n",
              "        -1.6069091 , -1.32709906, -1.04728902, -0.76747897, -0.48766893,\n",
              "        -0.20785889,  0.07195115,  0.3517612 ,  0.63157124,  0.91138128,\n",
              "         1.19119132,  1.47100137,  1.75081141,  2.03062145,  2.31043149,\n",
              "         2.59024154]),\n",
              " <BarContainer object of 20 artists>)"
            ]
          },
          "execution_count": 207,
          "metadata": {},
          "output_type": "execute_result"
        },
        {
          "data": {
            "image/png": "[encoded data removed]",
            "text/plain": [
              "<Figure size 640x480 with 1 Axes>"
            ]
          },
          "metadata": {},
          "output_type": "display_data"
        }
      ],
      "source": [
        "data = (\n",
        "    df\n",
        "        .loc[df.iloc[:, 4] == 0, :]\n",
        "        .iloc[:, 1]\n",
        ")\n",
        "mu, dev = norm.fit(data)\n",
        "data = (data-mu)/dev\n",
        "res = scipy.stats.fit(\n",
        "    scipy.stats.norm,\n",
        "    data\n",
        ")\n",
        "res.plot()\n",
        "plt.hist(\n",
        "    data,\n",
        "    density=True,\n",
        "    color = \"red\",\n",
        "    bins = 20\n",
        ")"
      ]
    },
    {
      "cell_type": "code",
      "execution_count": 49,
      "metadata": {
        "id": "2V5wMGpiXo6d",
        "outputId": "8bd640de-3104-411b-bd94-f5ded2965049",
        "colab": {
          "base_uri": "https://localhost:8080/",
          "height": 282
        }
      },
      "outputs": [
        {
          "output_type": "stream",
          "name": "stdout",
          "text": [
            "0.6819810214827668 2.9817605246792764 1.6259392323332167\n"
          ]
        },
        {
          "output_type": "display_data",
          "data": {
            "text/plain": [
              "<Figure size 432x288 with 1 Axes>"
            ],
            "image/png": "[encoded data removed]"
          },
          "metadata": {
            "needs_background": "light"
          }
        }
      ],
      "source": [
        "xs = np.linspace(0, 20, 100)\n",
        "lognorm_sample = scipy.stats.lognorm.rvs(size=1000, s=0.7, loc=3, scale=1.6)\n",
        "s, loc, scale = scipy.stats.lognorm.fit(lognorm_sample)\n",
        "lognorm_data = scipy.stats.lognorm.pdf(xs, s=s, loc=loc, scale=scale)\n",
        "fig, axes = plt.subplots()\n",
        "axes.plot(xs, lognorm_data)\n",
        "_ = axes.hist(lognorm_sample, density = True, bins=100)\n",
        "print(s, loc, scale)"
      ]
    },
    {
      "cell_type": "markdown",
      "metadata": {
        "id": "8T4hjJ26Xo6e"
      },
      "source": [
        "\n",
        "## Tests de normalidad\n",
        "\n",
        "- Suele ser útil saber si nuestros datos se distribuyen normalmente\n",
        "  - Propiedades del origen de datos\n",
        "  - Requerimiento para tests estadísticos\n",
        "\n",
        "### Gráfico de probabilidad normal\n",
        "\n",
        "- Quantile / Quantile plots\n",
        "  - Se compara cuantil a cuantil una distribución dada vs la distribución normal.\n",
        "  - Si los datos provienen de una distribución normal,}\n",
        "    - el gráfico se acerca a una recta.\n"
      ]
    },
    {
      "cell_type": "code",
      "execution_count": 50,
      "metadata": {
        "id": "J2ew2qsEXo6e",
        "outputId": "d5b43dfa-ea8f-4e1d-c9b1-f6be0050d1e1",
        "colab": {
          "base_uri": "https://localhost:8080/",
          "height": 334
        }
      },
      "outputs": [
        {
          "output_type": "stream",
          "name": "stderr",
          "text": [
            "/usr/local/lib/python3.7/dist-packages/statsmodels/graphics/gofplots.py:993: UserWarning: marker is redundantly defined by the 'marker' keyword argument and the fmt string \"bo\" (-> marker='o'). The keyword argument will take precedence.\n",
            "  ax.plot(x, y, fmt, **plot_style)\n"
          ]
        },
        {
          "output_type": "display_data",
          "data": {
            "text/plain": [
              "<Figure size 432x288 with 1 Axes>"
            ],
            "image/png": "[encoded data removed]"
          },
          "metadata": {
            "needs_background": "light"
          }
        }
      ],
      "source": [
        "import statsmodels.api as sm\n",
        "import scipy\n",
        "\n",
        "data = (\n",
        "    df\n",
        "        .loc[df.iloc[:, 4] == 0, :]\n",
        "        .iloc[:, 1]\n",
        ")\n",
        "\n",
        "fig = sm.qqplot(\n",
        "    data = data,\n",
        "    dist = scipy.stats.norm,\n",
        "    fit = True,\n",
        "    line = \"45\"\n",
        ")"
      ]
    },
    {
      "cell_type": "code",
      "execution_count": 54,
      "metadata": {
        "id": "8MRA2iL_Xo6e",
        "outputId": "592cb8c5-2660-4eca-f9d6-178f6eae8c81",
        "colab": {
          "base_uri": "https://localhost:8080/",
          "height": 527
        }
      },
      "outputs": [
        {
          "output_type": "display_data",
          "data": {
            "text/plain": [
              "<Figure size 432x288 with 1 Axes>"
            ],
            "image/png": "[encoded data removed]"
          },
          "metadata": {
            "needs_background": "light"
          }
        },
        {
          "output_type": "display_data",
          "data": {
            "text/plain": [
              "<Figure size 432x288 with 1 Axes>"
            ],
            "image/png": "[encoded data removed]"
          },
          "metadata": {
            "needs_background": "light"
          }
        }
      ],
      "source": [
        "import statsmodels.api as sm\n",
        "import scipy\n",
        "\n",
        "data = (\n",
        "    df\n",
        "        .loc[df.iloc[:, 4] == 0, :]\n",
        "        .iloc[:, 1]\n",
        ")\n",
        "\n",
        "s, loc, scale = scipy.stats.lognorm.fit(data, f0 = 0.7)\n",
        "data = (data - loc) / scale\n",
        "plt.hist(data, density = True)\n",
        "plt.plot(\n",
        "    np.linspace(0,2, 100),\n",
        "    scipy.stats.lognorm.pdf(np.linspace(0,2,100), 0.7)\n",
        ")\n",
        "fig = sm.qqplot(\n",
        "    data = data,\n",
        "    dist = scipy.stats.lognorm,\n",
        "    line = \"45\",\n",
        "    distargs = (0.7,)\n",
        ")"
      ]
    },
    {
      "cell_type": "markdown",
      "metadata": {
        "id": "yfbihZ_xXo6e"
      },
      "source": [
        "### Test de hipótesis\n",
        "\n",
        "Existen diversos tests\n",
        "- Hipótesis nula:\n",
        "  - Los datos provienen de una distribución normal\n",
        "- En general:\n",
        "  - Se observa el p-valor devuelto\n",
        "  - Si es menor que el nivel de significancia elegido.\n",
        "    - Rechazo la hipótesis de normalidad.\n",
        "- Test Anderson-Darling\n",
        "- Test Shapiro-Wilk\n",
        "- Test Kolmogorov-Smirnov\n",
        "  - Compara la CDF de la función con la empírica de los datos\n",
        "- Test D'Agostino-Pearson"
      ]
    },
    {
      "cell_type": "code",
      "execution_count": 55,
      "metadata": {
        "id": "oJ2PoPvEXo6e",
        "outputId": "35e75fd3-afae-4daa-8421-6fd102585cc4",
        "colab": {
          "base_uri": "https://localhost:8080/",
          "height": 441
        }
      },
      "outputs": [
        {
          "output_type": "display_data",
          "data": {
            "text/plain": [
              "<Figure size 504x432 with 3 Axes>"
            ],
            "image/png": "[encoded data removed]"
          },
          "metadata": {
            "needs_background": "light"
          }
        }
      ],
      "source": [
        "normal_sample = scipy.stats.norm.rvs(size=1000)\n",
        "uniform_sample = scipy.stats.uniform.rvs(size=1000)\n",
        "lognorm_sample = scipy.stats.lognorm.rvs(size=1000, s=0.7)\n",
        "fig, axes = plt.subplots(\n",
        "    nrows=3,\n",
        "    figsize=(7, 6)\n",
        ")\n",
        "axes[0].hist(normal_sample, bins=30)\n",
        "axes[1].hist(uniform_sample, bins=30)\n",
        "axes[2].hist(lognorm_sample, bins=30)\n",
        "fig.tight_layout()"
      ]
    },
    {
      "cell_type": "code",
      "execution_count": 60,
      "metadata": {
        "id": "boE02WxbXo6e",
        "outputId": "57619297-cf61-4db9-aa9f-ef3a421d122f",
        "colab": {
          "base_uri": "https://localhost:8080/"
        }
      },
      "outputs": [
        {
          "output_type": "stream",
          "name": "stdout",
          "text": [
            "El valor de estadistico para la dist. normal es: 0.1900396673014484\n",
            "El valor de estadistico para la dist. uniforme es: 13.62898857485709\n",
            "El valor de estadistico para la dist. lognormal es: 49.98353796181323\n",
            "Los valores criticos son: [0.574 0.653 0.784 0.914 1.088]\n",
            "Los niveles de significancia son: [15.  10.   5.   2.5  1. ]\n"
          ]
        }
      ],
      "source": [
        "normal_test = scipy.stats.anderson(normal_sample)\n",
        "normal_stat = scipy.stats.anderson(normal_sample).statistic\n",
        "uniform_stat = scipy.stats.anderson(uniform_sample).statistic\n",
        "lognorm_stat = scipy.stats.anderson(lognorm_sample).statistic\n",
        "print(f\"El valor de estadistico para la dist. normal es: {normal_stat}\")\n",
        "print(f\"El valor de estadistico para la dist. uniforme es: {uniform_stat}\")\n",
        "print(f\"El valor de estadistico para la dist. lognormal es: {lognorm_stat}\")\n",
        "print(f\"Los valores criticos son: {normal_test.critical_values}\")\n",
        "print(f\"Los niveles de significancia son: {normal_test.significance_level}\")"
      ]
    },
    {
      "cell_type": "code",
      "execution_count": 61,
      "metadata": {
        "id": "dXMhI6PQXo6f",
        "outputId": "5599c899-2fe4-4c9e-e979-bd966c959275",
        "colab": {
          "base_uri": "https://localhost:8080/"
        }
      },
      "outputs": [
        {
          "output_type": "stream",
          "name": "stdout",
          "text": [
            "El p-valor para la dist. normal es: 0.9023559093475342\n",
            "El p-valor para la dist. uniforme es: 1.798246811117817e-18\n",
            "El p-valor para la dist. lognormal es: 5.873016814192813e-34\n"
          ]
        }
      ],
      "source": [
        "normal_stat = scipy.stats.shapiro(normal_sample)[1]\n",
        "uniform_stat = scipy.stats.shapiro(uniform_sample)[1]\n",
        "lognorm_stat = scipy.stats.shapiro(lognorm_sample)[1]\n",
        "print(f\"El p-valor para la dist. normal es: {normal_stat}\")\n",
        "print(f\"El p-valor para la dist. uniforme es: {uniform_stat}\")\n",
        "print(f\"El p-valor para la dist. lognormal es: {lognorm_stat}\")"
      ]
    },
    {
      "cell_type": "code",
      "execution_count": 62,
      "metadata": {
        "id": "oyiJHXltXo6f",
        "outputId": "3822ae71-a683-49c4-c651-015702378d72",
        "colab": {
          "base_uri": "https://localhost:8080/"
        }
      },
      "outputs": [
        {
          "output_type": "stream",
          "name": "stdout",
          "text": [
            "El p-valor para la dist. normal es: 0.800641734271846\n",
            "El p-valor para la dist. uniforme es: 9.056407008532864e-232\n",
            "El p-valor para la dist. lognormal es: 2.34e-321\n"
          ]
        }
      ],
      "source": [
        "cdf_norm = scipy.stats.norm.cdf\n",
        "normal_stat = scipy.stats.kstest(normal_sample, cdf_norm)[1]\n",
        "uniform_stat = scipy.stats.kstest(uniform_sample, cdf_norm)[1]\n",
        "lognorm_stat = scipy.stats.kstest(lognorm_sample, cdf_norm)[1]\n",
        "print(f\"El p-valor para la dist. normal es: {normal_stat}\")\n",
        "print(f\"El p-valor para la dist. uniforme es: {uniform_stat}\")\n",
        "print(f\"El p-valor para la dist. lognormal es: {lognorm_stat}\")\n"
      ]
    },
    {
      "cell_type": "code",
      "execution_count": 63,
      "metadata": {
        "id": "SGAB2XgOXo6f",
        "outputId": "baeecd6c-ae73-4c08-a220-78b7474e1718",
        "colab": {
          "base_uri": "https://localhost:8080/"
        }
      },
      "outputs": [
        {
          "output_type": "stream",
          "name": "stdout",
          "text": [
            "El p-valor para la dist. normal es: 0.6177553740325705\n",
            "El p-valor para la dist. uniforme es: 1.2775082105834925e-274\n",
            "El p-valor para la dist. lognormal es: 1.4790999596678457e-112\n"
          ]
        }
      ],
      "source": [
        "normal_stat = scipy.stats.normaltest(normal_sample)[1]\n",
        "uniform_stat = scipy.stats.normaltest(uniform_sample)[1]\n",
        "lognorm_stat = scipy.stats.normaltest(lognorm_sample)[1]\n",
        "print(f\"El p-valor para la dist. normal es: {normal_stat}\")\n",
        "print(f\"El p-valor para la dist. uniforme es: {uniform_stat}\")\n",
        "print(f\"El p-valor para la dist. lognormal es: {lognorm_stat}\")\n"
      ]
    },
    {
      "cell_type": "code",
      "execution_count": 64,
      "metadata": {
        "id": "DH0y8plYXo6f",
        "outputId": "eb453688-61bf-4bf2-f19a-c2d04545c5e2",
        "colab": {
          "base_uri": "https://localhost:8080/",
          "height": 582
        }
      },
      "outputs": [
        {
          "output_type": "execute_result",
          "data": {
            "text/plain": [
              "                                    setosa     versicolor      virginica\n",
              "0                 1                                                     \n",
              "sepal length (cm) Anderson    4.079860e-01   3.608412e-01   5.516407e-01\n",
              "                  DAgostino   9.074818e-01   6.565722e-01   9.008202e-01\n",
              "                  KS         7.476239e-254  2.118911e-316  2.118911e-316\n",
              "                  Shapiro     4.595281e-01   4.647326e-01   2.583248e-01\n",
              "sepal width (cm)  Anderson    4.909560e-01   5.597552e-01   6.182051e-01\n",
              "                  DAgostino   3.742419e-01   4.840907e-01   2.770870e-01\n",
              "                  KS          6.593151e-99   1.413273e-82   2.865201e-93\n",
              "                  Shapiro     2.715265e-01   3.379888e-01   1.809043e-01\n",
              "petal length (cm) Anderson    1.007324e+00   5.550560e-01   6.089561e-01\n",
              "                  DAgostino   3.267739e-01   1.903020e-01   2.593466e-01\n",
              "                  KS          8.986498e-41  6.547541e-144  7.246190e-274\n",
              "                  Shapiro     5.481044e-02   1.584833e-01   1.097737e-01\n",
              "petal width (cm)  Anderson    4.714831e+00   9.568508e-01   7.387858e-01\n",
              "                  DAgostino   5.702921e-04   8.489899e-01   5.383811e-01\n",
              "                  KS          3.639705e-14   2.934018e-40   4.572615e-55\n",
              "                  Shapiro     8.658421e-07   2.727822e-02   8.695745e-02"
            ],
            "text/html": [
              "\n",
              "  <div id=\"df-e6bdd389-5177-4e88-985b-4b3d027a2044\">\n",
              "    <div class=\"colab-df-container\">\n",
              "      <div>\n",
              "<style scoped>\n",
              "    .dataframe tbody tr th:only-of-type {\n",
              "        vertical-align: middle;\n",
              "    }\n",
              "\n",
              "    .dataframe tbody tr th {\n",
              "        vertical-align: top;\n",
              "    }\n",
              "\n",
              "    .dataframe thead th {\n",
              "        text-align: right;\n",
              "    }\n",
              "</style>\n",
              "<table border=\"1\" class=\"dataframe\">\n",
              "  <thead>\n",
              "    <tr style=\"text-align: right;\">\n",
              "      <th></th>\n",
              "      <th></th>\n",
              "      <th>setosa</th>\n",
              "      <th>versicolor</th>\n",
              "      <th>virginica</th>\n",
              "    </tr>\n",
              "    <tr>\n",
              "      <th>0</th>\n",
              "      <th>1</th>\n",
              "      <th></th>\n",
              "      <th></th>\n",
              "      <th></th>\n",
              "    </tr>\n",
              "  </thead>\n",
              "  <tbody>\n",
              "    <tr>\n",
              "      <th rowspan=\"4\" valign=\"top\">sepal length (cm)</th>\n",
              "      <th>Anderson</th>\n",
              "      <td>4.079860e-01</td>\n",
              "      <td>3.608412e-01</td>\n",
              "      <td>5.516407e-01</td>\n",
              "    </tr>\n",
              "    <tr>\n",
              "      <th>DAgostino</th>\n",
              "      <td>9.074818e-01</td>\n",
              "      <td>6.565722e-01</td>\n",
              "      <td>9.008202e-01</td>\n",
              "    </tr>\n",
              "    <tr>\n",
              "      <th>KS</th>\n",
              "      <td>7.476239e-254</td>\n",
              "      <td>2.118911e-316</td>\n",
              "      <td>2.118911e-316</td>\n",
              "    </tr>\n",
              "    <tr>\n",
              "      <th>Shapiro</th>\n",
              "      <td>4.595281e-01</td>\n",
              "      <td>4.647326e-01</td>\n",
              "      <td>2.583248e-01</td>\n",
              "    </tr>\n",
              "    <tr>\n",
              "      <th rowspan=\"4\" valign=\"top\">sepal width (cm)</th>\n",
              "      <th>Anderson</th>\n",
              "      <td>4.909560e-01</td>\n",
              "      <td>5.597552e-01</td>\n",
              "      <td>6.182051e-01</td>\n",
              "    </tr>\n",
              "    <tr>\n",
              "      <th>DAgostino</th>\n",
              "      <td>3.742419e-01</td>\n",
              "      <td>4.840907e-01</td>\n",
              "      <td>2.770870e-01</td>\n",
              "    </tr>\n",
              "    <tr>\n",
              "      <th>KS</th>\n",
              "      <td>6.593151e-99</td>\n",
              "      <td>1.413273e-82</td>\n",
              "      <td>2.865201e-93</td>\n",
              "    </tr>\n",
              "    <tr>\n",
              "      <th>Shapiro</th>\n",
              "      <td>2.715265e-01</td>\n",
              "      <td>3.379888e-01</td>\n",
              "      <td>1.809043e-01</td>\n",
              "    </tr>\n",
              "    <tr>\n",
              "      <th rowspan=\"4\" valign=\"top\">petal length (cm)</th>\n",
              "      <th>Anderson</th>\n",
              "      <td>1.007324e+00</td>\n",
              "      <td>5.550560e-01</td>\n",
              "      <td>6.089561e-01</td>\n",
              "    </tr>\n",
              "    <tr>\n",
              "      <th>DAgostino</th>\n",
              "      <td>3.267739e-01</td>\n",
              "      <td>1.903020e-01</td>\n",
              "      <td>2.593466e-01</td>\n",
              "    </tr>\n",
              "    <tr>\n",
              "      <th>KS</th>\n",
              "      <td>8.986498e-41</td>\n",
              "      <td>6.547541e-144</td>\n",
              "      <td>7.246190e-274</td>\n",
              "    </tr>\n",
              "    <tr>\n",
              "      <th>Shapiro</th>\n",
              "      <td>5.481044e-02</td>\n",
              "      <td>1.584833e-01</td>\n",
              "      <td>1.097737e-01</td>\n",
              "    </tr>\n",
              "    <tr>\n",
              "      <th rowspan=\"4\" valign=\"top\">petal width (cm)</th>\n",
              "      <th>Anderson</th>\n",
              "      <td>4.714831e+00</td>\n",
              "      <td>9.568508e-01</td>\n",
              "      <td>7.387858e-01</td>\n",
              "    </tr>\n",
              "    <tr>\n",
              "      <th>DAgostino</th>\n",
              "      <td>5.702921e-04</td>\n",
              "      <td>8.489899e-01</td>\n",
              "      <td>5.383811e-01</td>\n",
              "    </tr>\n",
              "    <tr>\n",
              "      <th>KS</th>\n",
              "      <td>3.639705e-14</td>\n",
              "      <td>2.934018e-40</td>\n",
              "      <td>4.572615e-55</td>\n",
              "    </tr>\n",
              "    <tr>\n",
              "      <th>Shapiro</th>\n",
              "      <td>8.658421e-07</td>\n",
              "      <td>2.727822e-02</td>\n",
              "      <td>8.695745e-02</td>\n",
              "    </tr>\n",
              "  </tbody>\n",
              "</table>\n",
              "</div>\n",
              "      <button class=\"colab-df-convert\" onclick=\"convertToInteractive('df-e6bdd389-5177-4e88-985b-4b3d027a2044')\"\n",
              "              title=\"Convert this dataframe to an interactive table.\"\n",
              "              style=\"display:none;\">\n",
              "        \n",
              "  <svg xmlns=\"http://www.w3.org/2000/svg\" height=\"24px\"viewBox=\"0 0 24 24\"\n",
              "       width=\"24px\">\n",
              "    <path d=\"M0 0h24v24H0V0z\" fill=\"none\"/>\n",
              "    <path d=\"M18.56 5.44l.94 2.06.94-2.06 2.06-.94-2.06-.94-.94-2.06-.94 2.06-2.06.94zm-11 1L8.5 8.5l.94-2.06 2.06-.94-2.06-.94L8.5 2.5l-.94 2.06-2.06.94zm10 10l.94 2.06.94-2.06 2.06-.94-2.06-.94-.94-2.06-.94 2.06-2.06.94z\"/><path d=\"M17.41 7.96l-1.37-1.37c-.4-.4-.92-.59-1.43-.59-.52 0-1.04.2-1.43.59L10.3 9.45l-7.72 7.72c-.78.78-.78 2.05 0 2.83L4 21.41c.39.39.9.59 1.41.59.51 0 1.02-.2 1.41-.59l7.78-7.78 2.81-2.81c.8-.78.8-2.07 0-2.86zM5.41 20L4 18.59l7.72-7.72 1.47 1.35L5.41 20z\"/>\n",
              "  </svg>\n",
              "      </button>\n",
              "      \n",
              "  <style>\n",
              "    .colab-df-container {\n",
              "      display:flex;\n",
              "      flex-wrap:wrap;\n",
              "      gap: 12px;\n",
              "    }\n",
              "\n",
              "    .colab-df-convert {\n",
              "      background-color: #E8F0FE;\n",
              "      border: none;\n",
              "      border-radius: 50%;\n",
              "      cursor: pointer;\n",
              "      display: none;\n",
              "      fill: #1967D2;\n",
              "      height: 32px;\n",
              "      padding: 0 0 0 0;\n",
              "      width: 32px;\n",
              "    }\n",
              "\n",
              "    .colab-df-convert:hover {\n",
              "      background-color: #E2EBFA;\n",
              "      box-shadow: 0px 1px 2px rgba(60, 64, 67, 0.3), 0px 1px 3px 1px rgba(60, 64, 67, 0.15);\n",
              "      fill: #174EA6;\n",
              "    }\n",
              "\n",
              "    [theme=dark] .colab-df-convert {\n",
              "      background-color: #3B4455;\n",
              "      fill: #D2E3FC;\n",
              "    }\n",
              "\n",
              "    [theme=dark] .colab-df-convert:hover {\n",
              "      background-color: #434B5C;\n",
              "      box-shadow: 0px 1px 3px 1px rgba(0, 0, 0, 0.15);\n",
              "      filter: drop-shadow(0px 1px 2px rgba(0, 0, 0, 0.3));\n",
              "      fill: #FFFFFF;\n",
              "    }\n",
              "  </style>\n",
              "\n",
              "      <script>\n",
              "        const buttonEl =\n",
              "          document.querySelector('#df-e6bdd389-5177-4e88-985b-4b3d027a2044 button.colab-df-convert');\n",
              "        buttonEl.style.display =\n",
              "          google.colab.kernel.accessAllowed ? 'block' : 'none';\n",
              "\n",
              "        async function convertToInteractive(key) {\n",
              "          const element = document.querySelector('#df-e6bdd389-5177-4e88-985b-4b3d027a2044');\n",
              "          const dataTable =\n",
              "            await google.colab.kernel.invokeFunction('convertToInteractive',\n",
              "                                                     [key], {});\n",
              "          if (!dataTable) return;\n",
              "\n",
              "          const docLinkHtml = 'Like what you see? Visit the ' +\n",
              "            '<a target=\"_blank\" href=https://colab.research.google.com/notebooks/data_table.ipynb>data table notebook</a>'\n",
              "            + ' to learn more about interactive tables.';\n",
              "          element.innerHTML = '';\n",
              "          dataTable['output_type'] = 'display_data';\n",
              "          await google.colab.output.renderOutput(dataTable, element);\n",
              "          const docLink = document.createElement('div');\n",
              "          docLink.innerHTML = docLinkHtml;\n",
              "          element.appendChild(docLink);\n",
              "        }\n",
              "      </script>\n",
              "    </div>\n",
              "  </div>\n",
              "  "
            ]
          },
          "metadata": {},
          "execution_count": 64
        }
      ],
      "source": [
        "result = (\n",
        "    df\n",
        "        .groupby(\"target\")\n",
        "        .aggregate(\n",
        "            [\n",
        "                lambda x: scipy.stats.anderson(x).statistic,\n",
        "                lambda x: scipy.stats.normaltest(x)[1],\n",
        "                lambda x: scipy.stats.kstest(x, scipy.stats.norm.cdf)[1],\n",
        "                lambda x: scipy.stats.shapiro(x)[1]\n",
        "            ]\n",
        "        )\n",
        ")\n",
        "result = result.T\n",
        "\n",
        "test_name = [\n",
        "    \"Anderson\", \"DAgostino\", \"KS\", \"Shapiro\"\n",
        "] * 4\n",
        "\n",
        "index = result.index.to_frame()\n",
        "index.iloc[:, 1] = test_name\n",
        "index = result.index.from_frame(index)\n",
        "result = result.set_index(index)\n",
        "\n",
        "result.columns = iris[\"target_names\"]\n",
        "result"
      ]
    },
    {
      "cell_type": "markdown",
      "metadata": {
        "id": "ERTVQktqXo6f"
      },
      "source": [
        "### Teorización *Post Hoc*\n",
        "\n",
        "- Generación de hipótesis sugeridas por el conjunto de datos observado, sin\n",
        "  testear esta hipótesis en nuevos datos.\n",
        "  - puede resultar en aceptar hipótesis incorrectas\n",
        "  - que sólo son válidas en el presente conjunto de datos\n",
        "\n",
        "- Es necesario testear estas nuevas hipotesis en una nueva muestra de la\n",
        "  población.\n",
        "  - Sin embargo,\n",
        "    - en muchas casos eso puede ser imposible:\n",
        "      - analizar un fenómeno natural finito.\n",
        "      - difícil o imposible la recolección de nuevos datos\n",
        "  - puede surgir en la bioinformática\n",
        "    - cuando se toman todos los elementos de una base de datos\n",
        "    - sin dejar datos suficientes para testear las hipótesis\n",
        "\n",
        "### Data *fishing*:\n",
        "  - testear muchas hipótesis sobre un conjunto de datos\n",
        "    - hasta encontrar un caso significativo\n",
        "\n",
        "#### Alternativas para no caer en este problema:\n",
        "  - Recolectar nuevos datos (out-of-sample data)\n",
        "    realizar un nuevo experimento,\n",
        "    para testear la nueva hipótesis.\n",
        "  - Separar el conjunto de datos de manera aleatoria en dos grupos.\n",
        "     - Uno para plantear nuevas hipótesis\n",
        "     - El otro para evaluarlas.\n",
        "  - Utilizar métodos de validación cruzada (cross validation)\n",
        "    - evitar un sobreajuste (overfitting)\n",
        "  - Aplicar correcciones por testeo múltiple."
      ]
    }
  ],
  "metadata": {
    "kernelspec": {
      "display_name": "Python 3.9.4 ('.venv': venv)",
      "language": "python",
      "name": "python3"
    },
    "language_info": {
      "codemirror_mode": {
        "name": "ipython",
        "version": 3
      },
      "file_extension": ".py",
      "mimetype": "text/x-python",
      "name": "python",
      "nbconvert_exporter": "python",
      "pygments_lexer": "ipython3",
      "version": "3.9.4"
    },
    "orig_nbformat": 4,
    "vscode": {
      "interpreter": {
        "hash": "2642d409aca2f3e50c4cc7e12f906abb96a179c2b76bcb58c2b6a9943c6a4da3"
      }
    },
    "colab": {
      "provenance": []
    }
  },
  "nbformat": 4,
  "nbformat_minor": 0
}