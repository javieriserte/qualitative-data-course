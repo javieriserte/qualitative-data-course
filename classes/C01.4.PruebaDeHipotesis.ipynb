{
  "cells": [
    {
      "cell_type": "code",
      "execution_count": null,
      "metadata": {
        "id": "1MOD3WbBv-Wl"
      },
      "outputs": [],
      "source": [
        "%load_ext autoreload\n",
        "%autoreload 2"
      ]
    },
    {
      "cell_type": "code",
      "execution_count": null,
      "metadata": {
        "colab": {
          "base_uri": "https://localhost:8080/",
          "height": 503
        },
        "id": "LuPoG0Dlv-Wn",
        "outputId": "d08956b8-fc80-43d0-9fdf-ced1dd71f998"
      },
      "outputs": [],
      "source": [
        "# To use only Google Colab\n",
        "! pip install matplotlib --upgrade"
      ]
    },
    {
      "cell_type": "markdown",
      "metadata": {
        "id": "QfFZNCX5v-Wo"
      },
      "source": [
        "# Unidad I. Variables, distribuciones y pruebas de hipótesis. \n"
      ]
    },
    {
      "cell_type": "markdown",
      "metadata": {
        "id": "TYQVyUs-v-Wp"
      },
      "source": [
        "- Estadística inferencial\n",
        "  - test de hipótesis\n",
        "  - Tipos de errores\n",
        "  - Valor P\n",
        "  - Test T de Student para una muestra.\n",
        "  - Intervalo de confianza\n",
        "  - Nivel de confianza\n",
        "  - Bootstrap\n",
        "- Prueba de bondad de ajuste a una distribución.\n",
        "  - chi cuadrado\n",
        "  - Kolmogorov-Smirnov\n",
        "- Comparación de dos poblaciones\n",
        "  - Tests de forma:\n",
        "    - chi cuadrado\n",
        "    - Kolmogorov-Smirnov\n",
        "  - Tests de igualdad de varianza\n",
        "    - Test F\n",
        "    - Test de Bartlett\n",
        "    - Test de Levenne\n",
        "  - Test de igualdad de medias:\n",
        "    - T test para dos muestras.\n",
        "    - Test de Student para variables apareadas.\n",
        "  - Alternativas no paramétricas.\n",
        "    - test de Mann Whitney\n",
        "    - test de Wicolxon.\n",
        "    - test de la Mediana.\n",
        "  - Test para variables cualitativas\n",
        "    - test de fisher.\n",
        "    - test de McNemar.\n"
      ]
    },
    {
      "cell_type": "markdown",
      "metadata": {
        "id": "1qvwfsDxv-Wq"
      },
      "source": [
        "## Estadística inferencial\n",
        "\n",
        "- Trata de inferir información acerca de la distribución de probabilidad de una\n",
        "  población\n",
        "    - Parte de la información de una muestra.\n",
        "- Tipos de intervalo de inferencias:\n",
        "    - Estimación puntual:\n",
        "      - Estimación de un parámetro poblacional haciendo uso del valor que mejor\n",
        "        lo aproxime.\n",
        "    - Estimación por intervalos:\n",
        "      - Estimación de un intervalo de valores para un parámetro poblacional\n",
        "        desconocido.\n",
        "      - Por ejemplo, la estimación de un intervalo de confianza.\n"
      ]
    },
    {
      "cell_type": "markdown",
      "metadata": {
        "id": "xOHSjajCv-Wq"
      },
      "source": [
        "\n",
        "### Test de hipótesis\n",
        "\n",
        "- Es la evaluación estadítica de una suposición.\n",
        "  - Se parte de considerar declaración que puede o no ser válida\n",
        "  - A partir de esta declaración se definen dos hipótesis:\n",
        "    - la hipótesis nula ($H_0$)\n",
        "      - Típicamente implica que no hay una relación entre los datos o variables.\n",
        "    - la hipótesis alternativa ($H_1$)\n",
        "      - Esta es la hipótesis que queremos apoyar.\n",
        "  - Se obtienen una muestra de datos para evaluar la hipótesis.\n",
        "  - Si los datos apoyan $H_1$ con cierto nivel de confianza:\n",
        "    - rechazo $H_0$ y acepto con $H_1$\n",
        "    - No quiere decir que se haya demostrado $H_1$\n",
        "  - Si los datos no apoyan $H_1$\n",
        "    - no puedo rechazar $H_1$, ni aceptar $H_0$"
      ]
    },
    {
      "cell_type": "markdown",
      "metadata": {
        "id": "m3iOPRUSv-Wr"
      },
      "source": [
        "### Tipos de errores\n",
        "\n",
        "|                      | **$H_0$ es cierta**    | **$H_1$ es cierta**     |\n",
        "|-------------------   |-------------------     |--------------------     |\n",
        "| **Se escogió $H_1$** | *Error de tipo I* (FP) | Decisión correcta       |\n",
        "| **Se escogió $H_0$** | Decisión correcta      | *Error de tipo II* (FN) |\n",
        "\n",
        "\n",
        "La probabilidad del error de tipo I\n",
        "  - se conoce como nivel de significación estadistica\n",
        "  - indicado con la letra griega $\\alpha$.\n",
        "  - $P(escoger H_1 | H_0 cierta) = \\alpha$\n",
        "\n",
        "La probabilidad de caer en un error del tipo II\n",
        "  - se anota con la letra griega $\\beta$.\n",
        "  - Siendo $1-\\beta$ la potencia o poder del test.\n",
        "  - $P(escoger H_0 | H_1 cierta) = \\beta$\n",
        "  - $P(escoger H_1 | H_1 cierta) = 1 - \\beta$\n"
      ]
    },
    {
      "cell_type": "markdown",
      "metadata": {
        "id": "BAZzfCjSv-Ws"
      },
      "source": [
        "### Valor P\n",
        "\n",
        "- El valor P (*p value*)\n",
        "  - Es la probabilidad de observar:\n",
        "    - un determinado valor (o uno más extremo)\n",
        "    - dado que H₀ es correcta.\n",
        "  - No es la probabilidad de la hipótesis nula.\n",
        "  - Un valor P bajo indica:\n",
        "    - que los datos son inconsistentes con la hipótesis nula\n",
        "    - permitiéndonos rechazarla\n",
        "    - Para decidir que es un valor bajo\n",
        "      - se recurre al valor de significación α.\n",
        "      - debo elegir cuanto error puedo tolerar"
      ]
    },
    {
      "cell_type": "markdown",
      "metadata": {
        "id": "peLkCCfdv-Wt"
      },
      "source": [
        "### Test de T de Student para una muestra\n",
        "\n",
        "- Permite evaluar si\n",
        "  - la media de una muestra es diferente de una media $\\mu_0$.\n",
        "- El uso del test supone:\n",
        "  - Distribución normal de la variable (continua) en la población\n",
        "  - Muestreo al azar (cada observación es independiente)\n",
        "- El estadístico $t$ sigue una distribución *T de Student* con $n - 1$ grados de libertad.\n",
        "  - $ t = \\frac{ \\bar{x} - \\mu }{ \\frac{s}{\\sqrt{n}} }$\n"
      ]
    },
    {
      "cell_type": "markdown",
      "metadata": {
        "id": "xigDhwj_v-Wt"
      },
      "source": [
        "\n",
        "Supongamos una variable aleatoria $X$ que en la población se distribuye con una\n",
        "distribución $N(0, 1)$.\n",
        "\n",
        "- Estamos interesados en apoyar la hipótesis de que la media de esa variable $X$\n",
        "  en la población es mayor a 0.\n",
        "  - $H_0 : \\mu = 0$\n",
        "  - $H_1 : \\mu > 0$\n",
        "- el *p value* para un valor observado $T$ será:\n",
        "  - $P(t \\ge T|H_0)$"
      ]
    },
    {
      "cell_type": "code",
      "execution_count": null,
      "metadata": {
        "colab": {
          "base_uri": "https://localhost:8080/"
        },
        "id": "pDQ5VZuQv-Wt",
        "outputId": "a99d9d59-98ed-4034-b73a-209984dd9839"
      },
      "outputs": [],
      "source": [
        "import scipy.stats as st\n",
        "import math\n",
        "\n",
        "normal_sample = st.norm.rvs(size = 10, loc=1.0)\n",
        "df = len(normal_sample) - 1 # 9\n",
        "\n",
        "# Calculando a mano\n",
        "t_value = (normal_sample.mean() - 0) / (normal_sample.std()/math.sqrt(df))\n",
        "# t_value\n",
        "pvalue = 1 - st.t.cdf(t_value, df)\n",
        "print(f\"El valor del estadístico T es {t_value}\")\n",
        "print(f\"El p-valor es {pvalue}\")"
      ]
    },
    {
      "cell_type": "code",
      "execution_count": null,
      "metadata": {
        "colab": {
          "base_uri": "https://localhost:8080/",
          "height": 297
        },
        "id": "PIY8-E2xv-Wu",
        "outputId": "2666db42-f60b-40be-95e7-a8884ded36a7"
      },
      "outputs": [],
      "source": [
        "import matplotlib.pyplot as plt\n",
        "import numpy as np\n",
        "\n",
        "x = np.linspace(-4, 4, 100)\n",
        "\n",
        "plt.plot(x, st.t.pdf(x, df))\n",
        "\n",
        "x_fill = np.linspace(t_value, 4, 100)\n",
        "plt.fill_between(\n",
        "    x_fill,\n",
        "    st.t.pdf(x_fill, df),\n",
        "    color=\"lightblue\"\n",
        ")\n",
        "\n",
        "plt.annotate(\n",
        "    xy = ((4+t_value)/2, st.t.pdf((4+t_value)/2, df)/2),\n",
        "    xytext = (1, 0.38),\n",
        "    text = f\"p-valor = 1 - $CDF_T(t) = {1-st.t.cdf(t_value, df):0.3f}$\",\n",
        "    arrowprops = {\n",
        "        \"arrowstyle\":\"->\"\n",
        "    }\n",
        ")\n",
        "plt.tight_layout()"
      ]
    },
    {
      "cell_type": "code",
      "execution_count": null,
      "metadata": {
        "colab": {
          "base_uri": "https://localhost:8080/"
        },
        "id": "620KoosXv-Wv",
        "outputId": "74c10e8f-ab0c-4f66-fa79-d353980d7517"
      },
      "outputs": [],
      "source": [
        "# Usando scipy\n",
        "test_result = st.ttest_1samp(\n",
        "    normal_sample,\n",
        "    popmean=0,\n",
        "    alternative=\"greater\",\n",
        ")\n",
        "test_result"
      ]
    },
    {
      "cell_type": "markdown",
      "metadata": {
        "id": "Z_0CzWd6v-Wv"
      },
      "source": [
        "- Podemos definir diferentes hipótesis alternativas:\n",
        "- Es necesario cambiar la definición del *valor P* para estos casos:\n",
        "  - $H_1 > 0$ (Una cola, mayor)\n",
        "    - $p_{value} = 1 - CDF_T(t)$\n",
        "    - El ejemplo anterior\n",
        "  - $H_1 < 0$ (Una cola, menor)\n",
        "    - $p_{value} = CDF_T(t)$\n",
        "  - $H_a \\ne 0$ (dos colas)\n",
        "    - $p_{value} = 2 \\times min(CDF_T(t), 1-CDF_T(t))$\n"
      ]
    },
    {
      "cell_type": "markdown",
      "metadata": {
        "id": "PmSPh2fN9VeW"
      },
      "source": []
    },
    {
      "cell_type": "code",
      "execution_count": null,
      "metadata": {
        "colab": {
          "base_uri": "https://localhost:8080/"
        },
        "id": "p10zhr9nv-Wv",
        "outputId": "27955c3e-2ddf-4697-aacc-61d79f59cc70"
      },
      "outputs": [],
      "source": [
        "one_tail_greater = 1 - st.t.cdf(t_value, df)\n",
        "one_tail_lower = st.t.cdf(t_value, df)\n",
        "\n",
        "two_tails = 2 * min(one_tail_greater, one_tail_lower)\n",
        "print(f\"El pvalue de una cola, mayor es {one_tail_greater}\")\n",
        "print(f\"El pvalue de una cola, menor es {one_tail_lower}\")\n",
        "print(f\"El pvalue de dis colas es {two_tails}\")"
      ]
    },
    {
      "cell_type": "code",
      "execution_count": null,
      "metadata": {
        "colab": {
          "base_uri": "https://localhost:8080/"
        },
        "id": "4VNNyVoUv-Wv",
        "outputId": "83ba41bd-d93a-40f2-dd0a-e519cecdee78"
      },
      "outputs": [],
      "source": [
        "one_tail_greater = st.ttest_1samp(normal_sample, popmean = 0, alternative = \"greater\")\n",
        "one_tail_lower = st.ttest_1samp(normal_sample, popmean = 0, alternative = \"less\")\n",
        "two_tails = st.ttest_1samp(normal_sample, popmean = 0, alternative = \"two-sided\")\n",
        "print(f\"El pvalue de una cola, mayor es {one_tail_greater.pvalue}\")\n",
        "print(f\"El pvalue de una cola, menor es {one_tail_lower.pvalue}\")\n",
        "print(f\"El pvalue de dis colas es {two_tails.pvalue}\")"
      ]
    },
    {
      "cell_type": "code",
      "execution_count": null,
      "metadata": {
        "id": "ONub1W7Lv-Ww",
        "outputId": "d5971332-592f-46bc-ff6c-dd3cdfdb65f1"
      },
      "outputs": [],
      "source": [
        "import matplotlib.pyplot as plt\n",
        "import numpy as np\n",
        "\n",
        "x = np.linspace(-5, 5, 100)\n",
        "x1 = np.linspace(2, 5, 100)\n",
        "x2 = np.linspace(-5, 2, 100)\n",
        "x3 = np.linspace(-5, -2, 100)\n",
        "\n",
        "fig, axes = plt.subplots(figsize = (6, 9), nrows = 3)\n",
        "\n",
        "axes[0].plot(x, st.t.pdf(x, 9))\n",
        "axes[0].fill_between(x1, st.t.pdf(x1, 9), color=\"lightblue\")\n",
        "axes[0].set_title(\"Una cola (mayor)\")\n",
        "\n",
        "axes[1].plot(x, st.t.pdf(x, 9))\n",
        "axes[1].fill_between(x2, st.t.pdf(x2, 9), color=\"lightblue\")\n",
        "axes[1].set_title(\"Una cola (menor)\")\n",
        "\n",
        "axes[2].plot(x, st.t.pdf(x, 9))\n",
        "axes[2].fill_between(x3, st.t.pdf(x3, 9), color=\"lightblue\")\n",
        "axes[2].fill_between(x1, st.t.pdf(x1, 9), color=\"lightblue\")\n",
        "axes[2].set_title(\"Dos colas\")"
      ]
    },
    {
      "cell_type": "markdown",
      "metadata": {
        "id": "FZc-ObCsv-Ww"
      },
      "source": [
        "En el caso del test de dos colas:\n",
        "- Parece evidente:\n",
        "  - multiplicar por dos al de menor de los p-valores las colas.\n",
        "- Esto es por la simetría de la distribución.\n",
        "- En distribuciones asimétricas, no es evidente que hacer:\n",
        "  - En general se toma la idea de doblar el p-valor menor.\n",
        "\n",
        "En particular, para una variable aleatoria $X$, que sigue una determinada\n",
        "distribución si $H_0$ es cierta, dado un estimador $x_0$, el *p value* es:"
      ]
    },
    {
      "cell_type": "markdown",
      "metadata": {
        "id": "TUY0AiXov-Ww"
      },
      "source": [
        "### Intervalo de confianza\n",
        "\n",
        "Es un tipo de estimador por intervalo\n",
        "- para un parámetro de la población.\n",
        "- Se calcula a partir de una o más muestras\n",
        "- posee un **nivel de confianza**\n",
        "  - qué tan frecuentemente una serie de intervalos estimados de la misma manera\n",
        "  - contiene al parámetro poblacional.\n",
        "- Un intervalo de confianza del 95%\n",
        "  - No significa que hay un probabilidad del 95% de contener el parámetro.\n",
        "- Para una muestra dada\n",
        "  - Puede darse que el parámetro estimado quede afuera del intervalo.\n",
        "- Intervalo = $(\\bar{x}-t\\frac{s}{\\sqrt{n}} , \\bar{x}+t\\frac{s}{\\sqrt{n}})$\n",
        "  - El valor t se elige dependiendo de la confidencia que queremos.\n",
        "  - $t = Cuantil_T(\\alpha / 2)$\n",
        "  - $\\alpha$ es 1 - la confidencia del rango\n",
        "    - al 95%, $\\alpha$ es 0.05"
      ]
    },
    {
      "cell_type": "code",
      "execution_count": null,
      "metadata": {
        "colab": {
          "base_uri": "https://localhost:8080/",
          "height": 332
        },
        "id": "d1iNUDGDv-Wx",
        "outputId": "06ba7158-1c27-4d6d-bd3a-581b22d877a0"
      },
      "outputs": [],
      "source": [
        "from matplotlib.patches import FancyArrowPatch\n",
        "\n",
        "interval = st.t.interval(\n",
        "    alpha = 0.95,\n",
        "    df = len(normal_sample) - 1,\n",
        "    loc = normal_sample.mean(),\n",
        "    scale = normal_sample.std() / math.sqrt(df)\n",
        ")\n",
        "print(f\"El intervalo es: {interval}\")\n",
        "\n",
        "interval2 = (\n",
        "    normal_sample.mean() + st.t.ppf(0.025, 9) * (normal_sample.std()/math.sqrt(9)),\n",
        "    normal_sample.mean() - st.t.ppf(0.025, 9) * (normal_sample.std()/math.sqrt(9))\n",
        ")\n",
        "print(f\"El intervalo es: {interval2}\")\n",
        "\n",
        "fig, axes = plt.subplots()\n",
        "axes.hist(normal_sample, 5)\n",
        "\n",
        "patch = FancyArrowPatch(\n",
        "    (interval[0], 1),\n",
        "    (interval[1], 1),\n",
        "    arrowstyle = \"|-|\",\n",
        "    mutation_scale = 10\n",
        ")\n",
        "axes.add_patch(patch)\n",
        "fig.tight_layout()\n"
      ]
    },
    {
      "cell_type": "markdown",
      "metadata": {
        "id": "emgP3uaFv-Wx"
      },
      "source": [
        "### Nivel de confianza\n"
      ]
    },
    {
      "cell_type": "code",
      "execution_count": null,
      "metadata": {
        "colab": {
          "base_uri": "https://localhost:8080/"
        },
        "id": "T6C3Pk3Iv-Wx",
        "outputId": "4f0dc1b3-47b7-417e-e1e0-5ceb1a094316"
      },
      "outputs": [],
      "source": [
        "import pandas as pd\n",
        "samples_1000 = pd.Series(np.zeros(1000)).apply(\n",
        "    st.norm.rvs,\n",
        "    size = 10\n",
        ")\n",
        "\n",
        "intervals = samples_1000.map(\n",
        "    lambda x: st.t.interval(\n",
        "        alpha = 0.95,\n",
        "        df = 9,\n",
        "        loc = x.mean(),\n",
        "        scale = st.sem(x)\n",
        "    )\n",
        ").explode().to_numpy().reshape((1000,2))\n",
        "\n",
        "success_ratio = (\n",
        "    (intervals.T[0] <= 0) & (intervals.T[1] >= 0)\n",
        ").sum() / 1000\n",
        "print(\n",
        "    f\"El {success_ratio*100:0.2f}% de las muestras tienen un \"\n",
        "    \"intervalo de confianza que contiene la media poblacional\"\n",
        ")"
      ]
    },
    {
      "cell_type": "markdown",
      "metadata": {
        "id": "4pAVu1r1v-Wy"
      },
      "source": [
        "\n",
        "### Bootstrap\n",
        "\n",
        "- Se usa para obtener:\n",
        "  - estimaciones puntuales o por intervalos\n",
        "    - en particular, intervalos de confianza\n",
        "  - para parámetros poblacionales\n",
        "  - sin necesidad de conocer la distribución subyacente.\n",
        "- se basa en hacer un muestreo aleatorio con reemplazo de nuestra muestra,\n",
        "  - calculando el parámetro de interés en cada sub-muestra.\n",
        "- La muestra inicial debe:\n",
        "  - tener valores independientes\n",
        "  - idénticamente distribuidos.\n",
        "- puede presentar problemas con distribuciones discretas y poco densas.\n"
      ]
    },
    {
      "cell_type": "code",
      "execution_count": null,
      "metadata": {
        "colab": {
          "base_uri": "https://localhost:8080/",
          "height": 282
        },
        "id": "UXt3Egzzv-Wy",
        "outputId": "65ddcd30-786c-413d-9216-8ea395c5fc9b"
      },
      "outputs": [],
      "source": [
        "main_sample = st.norm.rvs(size=100)\n",
        "\n",
        "replicate = pd.Series(\n",
        "    [\n",
        "        np.random.choice(\n",
        "            main_sample,\n",
        "            size = 25\n",
        "        )\n",
        "        for _ in range(10000)\n",
        "    ]\n",
        ")\n",
        "means = replicate.apply(np.mean)\n",
        "plt.hist(means, bins = 20)\n",
        "interval = [\n",
        "    means.quantile(0.025),\n",
        "    means.quantile(0.975)\n",
        "]\n",
        "print(interval)\n"
      ]
    },
    {
      "cell_type": "markdown",
      "metadata": {
        "id": "fwF0RChMv-Ws"
      },
      "source": [
        "## Pruebas de ajuste de una muestra a una distribución.\n",
        "\n",
        "- Permite medir que tan verosimil es que una muestra haya sido obtenida\n",
        "  aleatoriamente de una distribución teórica dada.\n"
      ]
    },
    {
      "cell_type": "markdown",
      "metadata": {
        "id": "bBxiOQVSv-Wy"
      },
      "source": [
        "\n",
        "### Prueba χ²\n",
        "\n",
        "Se puede utilizar para testear la bondad de ajuste de:\n",
        "- cualquier distribución univariada\n",
        "  - para la cual se pueda calcular la *CDF*.\n",
        "- Requiere datos en grupos\n",
        "  - Para poder utilizar el test en una distribución continua\n",
        "    debemos discretizar los datos (como en un histograma)\n",
        "- Es sensible a la elección de los bins.\n",
        "- El tamaño muestral debe ser relativamente grande.\n",
        "- $ χ^{2} = \\sum_{i=1}^{k}{\\frac{(O_i - E_i)^{2}}{E_i}} $\n",
        "- Es necesario indicar los grados de libertad.\n",
        "  - número de categorías que pueden variar libremente en un análisis."
      ]
    },
    {
      "cell_type": "code",
      "execution_count": null,
      "metadata": {
        "colab": {
          "base_uri": "https://localhost:8080/",
          "height": 265
        },
        "id": "Mt5sYdqvv-Wy",
        "outputId": "a550a49a-c47b-40d2-e1fc-414cbb8fd745"
      },
      "outputs": [],
      "source": [
        "import scipy.stats as st\n",
        "import matplotlib.pyplot as plt\n",
        "import numpy as np\n",
        "\n",
        "observed = st.binom.rvs(n=10, p=0.2, size = 100)\n",
        "\n",
        "values = np.unique(observed)\n",
        "values.sort()\n",
        "mval = max(values)\n",
        "\n",
        "_ = plt.hist(\n",
        "  observed,\n",
        "  bins = range(mval+1),\n",
        "  width = 1,\n",
        "  align = \"left\"\n",
        ")\n"
      ]
    },
    {
      "cell_type": "code",
      "execution_count": null,
      "metadata": {
        "colab": {
          "base_uri": "https://localhost:8080/"
        },
        "id": "RyA6kIIzv-Wz",
        "outputId": "82a2b7a5-fb72-40a5-f741-eeedfba337fd"
      },
      "outputs": [],
      "source": [
        "obs_cdf = st.cumfreq(\n",
        "  observed,\n",
        "  numbins=mval+1,\n",
        "  defaultreallimits = (0, mval)\n",
        ").cumcount\n",
        "\n",
        "teoretical_cdf = st.binom.cdf(\n",
        "  np.arange(mval+1),\n",
        "  n=10,\n",
        "  p=0.2\n",
        ")\n",
        "\n",
        "teoretical_cdf = teoretical_cdf * sum(obs_cdf) / sum (teoretical_cdf)"
      ]
    },
    {
      "cell_type": "code",
      "execution_count": null,
      "metadata": {},
      "outputs": [],
      "source": [
        "fig, axes = plt.subplots()\n",
        "\n",
        "axes.bar(np.arange(mval+1)-0.2, obs_cdf, width = 0.3, label = \"observed\")\n",
        "axes.bar(np.arange(mval+1)+0.2, teoretical_cdf, width = 0.3, label = \"theoretical\")\n",
        "\n",
        "for x, y in zip(np.arange(mval+1)-0.2, obs_cdf):\n",
        "  axes.text(x, y+1, f\"{y:0.0f}\", ha=\"center\")\n",
        "for x, y in zip(np.arange(mval+1)+0.2, teoretical_cdf):\n",
        "  axes.text(x, y+1, f\"{y:0.1f}\", ha=\"center\")\n",
        "\n",
        "_ = axes.legend()"
      ]
    },
    {
      "cell_type": "code",
      "execution_count": null,
      "metadata": {
        "colab": {
          "base_uri": "https://localhost:8080/"
        },
        "id": "tpjdc3s2v-Wz",
        "outputId": "91cdc896-be34-46f1-8da0-b80bd03994ff"
      },
      "outputs": [],
      "source": [
        "resultado = st.chisquare(\n",
        "  f_obs=obs_cdf,\n",
        "  f_exp=teoretical_cdf\n",
        ")\n",
        "\n",
        "axes.set_title(f\"El p-value del test es: {resultado.pvalue:0.3f}\")\n",
        "fig"
      ]
    },
    {
      "cell_type": "markdown",
      "metadata": {
        "id": "g-MKke7ov-Wz"
      },
      "source": [
        "### Prueba de Kolmogórov-Smirnov\n",
        "\n",
        "- Usa la función de densidad acumulada (*CDF*).\n",
        "- Hipótesis Nula y Alternativa:\n",
        "  - Hipótesis Nula (H0): La muestra sigue la distribución teórica propuesta.\n",
        "  - Hipótesis Alternativa (H1): La muestra no sigue la distribución teórica propuesta.\n",
        "- Su estadístico, $D$:\n",
        "  - mide la distancia entre:\n",
        "    - la *CDF* de la distribución de la hipótesis nula,\n",
        "    - y la *CDF* de la muestra.\n",
        "  - Es el valor máximo de las diferencias.\n",
        "  - $D=0$ si ambas distribuciones acumuladas son idénticas.\n",
        "- La distribución nula debe ser **continua**.\n",
        "- No tiene gran poder\n",
        "  - puede requerir un tamaño muestral grande para rechazar la hipótesis nula."
      ]
    },
    {
      "cell_type": "code",
      "execution_count": null,
      "metadata": {
        "colab": {
          "base_uri": "https://localhost:8080/"
        },
        "id": "0on3QJgmv-Wz",
        "outputId": "a8ecb31c-693a-47d3-8785-5a5ec39626d1"
      },
      "outputs": [],
      "source": [
        "import scipy.stats as st\n",
        "\n",
        "sample_size = 100\n",
        "sample_one = st.norm.rvs(size=sample_size)"
      ]
    },
    {
      "cell_type": "code",
      "execution_count": null,
      "metadata": {},
      "outputs": [],
      "source": [
        "sample_one_ecdf_x = sample_one.copy()\n",
        "sample_one_ecdf_x.sort()\n",
        "sample_one_ecdf_y = np.arange(sample_size)/sample_size"
      ]
    },
    {
      "cell_type": "code",
      "execution_count": null,
      "metadata": {},
      "outputs": [],
      "source": [
        "normal_cdf_y = st.norm.cdf(sample_one_ecdf_x)"
      ]
    },
    {
      "cell_type": "code",
      "execution_count": null,
      "metadata": {},
      "outputs": [],
      "source": [
        "import matplotlib.pyplot as plt\n",
        "\n",
        "fig, axes = plt.subplots()\n",
        "\n",
        "max_diff_index = np.argmax(np.abs(sample_one_ecdf_y - normal_cdf_y))\n",
        "\n",
        "for i, (x, y1, y2) in enumerate(zip(sample_one_ecdf_x, sample_one_ecdf_y, normal_cdf_y)):\n",
        "  color = \"gray\" if i != max_diff_index else \"red\"\n",
        "  lwd = 1  if i != max_diff_index else 2\n",
        "  axes.plot([x, x], [y1, y2], color=color, linewidth = lwd)\n",
        "\n",
        "axes.plot(\n",
        "  sample_one_ecdf_x,\n",
        "  sample_one_ecdf_y,\n",
        "  label = \"Empirical sample CDF\"\n",
        ")\n",
        "axes.plot(\n",
        "  sample_one_ecdf_x,\n",
        "  normal_cdf_y,\n",
        "  label = \"Normal Distribution CDF\"\n",
        "  )\n",
        "\n",
        "_ = axes.legend()"
      ]
    },
    {
      "cell_type": "code",
      "execution_count": null,
      "metadata": {},
      "outputs": [],
      "source": [
        "st.kstest(sample_one, st.norm.cdf)"
      ]
    },
    {
      "cell_type": "markdown",
      "metadata": {
        "id": "RG4wvDC0v-Wz"
      },
      "source": [
        "## Comparación de dos muestras\n"
      ]
    },
    {
      "cell_type": "markdown",
      "metadata": {
        "id": "UaxsoF1Yv-W0"
      },
      "source": [
        "### Tests de forma"
      ]
    },
    {
      "cell_type": "markdown",
      "metadata": {
        "id": "ccPv7ZRMv-W0"
      },
      "source": [
        "#### Test de Kolmogorov-Smirnov\n",
        "\n",
        "- Una variante del test del mismo nombre ya visto.\n",
        "  - Permite comparar dos muestras\n",
        "  - La hipótesis nula es que ambas provienen de la misma población."
      ]
    },
    {
      "cell_type": "code",
      "execution_count": null,
      "metadata": {
        "colab": {
          "base_uri": "https://localhost:8080/"
        },
        "id": "_uMbmZvnv-W0",
        "outputId": "85a08ac0-1bcf-4efe-b3e0-60887d514b71"
      },
      "outputs": [],
      "source": [
        "import scipy.stats as st\n",
        "\n",
        "sample_one = st.norm.rvs(size=250)\n",
        "sample_two = st.norm.rvs(size=250)\n",
        "sample_three = st.t.rvs(1, size=250)\n",
        "\n",
        "same_dist_res = st.kstest(sample_one, sample_two)\n",
        "print(f\"El pvalue para dos muestras de la misma población es:\", same_dist_res)\n",
        "diff_dist_res = st.kstest(sample_one, sample_three)\n",
        "print(\n",
        "    f\"El pvalue para dos muestras de diferentes poblaciones es:\",\n",
        "    diff_dist_res\n",
        ")\n"
      ]
    },
    {
      "cell_type": "markdown",
      "metadata": {
        "id": "gy7LEJMsv-W0"
      },
      "source": [
        "#### Test de $\\chi2$ para dos muestras\n",
        "\n",
        "- Requiere agrupar los datos en *bins*\n",
        "- Es sensible a:\n",
        "  - valores extremos.\n",
        "  - Cantidad de *bins*\n"
      ]
    },
    {
      "cell_type": "code",
      "execution_count": null,
      "metadata": {
        "colab": {
          "base_uri": "https://localhost:8080/"
        },
        "id": "ZJbnORa1v-W0",
        "outputId": "49fcf5a4-a4c6-4cbf-973e-2d0fdd655779"
      },
      "outputs": [],
      "source": [
        "# Genero las muestras\n",
        "sample_one = st.norm.rvs(size=100)\n",
        "sample_two = st.norm.rvs(size=100)\n",
        "# Agrupo los datos en categorias\n",
        "maxval = np.concatenate((sample_one, sample_two)).max()\n",
        "minval = np.concatenate((sample_one, sample_two)).min()\n",
        "s1hist = np.histogram(sample_one, bins=5, range=(minval, maxval))\n",
        "s2hist = np.histogram(sample_two, bins=5, range=(minval, maxval))\n",
        "print(\n",
        "    f\"El primer grupo es: {s1hist[0]}\\n\",\n",
        "    f\"El segundo grupo es: {s2hist[0]}\"\n",
        ")"
      ]
    },
    {
      "cell_type": "code",
      "execution_count": null,
      "metadata": {
        "colab": {
          "base_uri": "https://localhost:8080/"
        },
        "id": "ERM3vLaHv-W0",
        "outputId": "372a2da8-006e-45cc-ae9e-5cee9b83aeea"
      },
      "outputs": [],
      "source": [
        "# Calculo las frecuencias esperadas:\n",
        "fexp = (s1hist[0] + s2hist[0])/2\n",
        "fexp = np.array([fexp, fexp])\n",
        "\n",
        "# Genero un array 2D con los datos observados\n",
        "fobs = np.array([s1hist[0], s2hist[0]])\n",
        "\n",
        "print(f\"Las frecuencias esperadas son:\\n{fexp}\\n\")\n",
        "print(f\"Los datos observados son:\\n{fobs}\\n\")\n",
        "dof = len(fobs[0])-1\n",
        "print(f\"Los grados de libertad son: {dof}\")\n"
      ]
    },
    {
      "cell_type": "code",
      "execution_count": null,
      "metadata": {
        "colab": {
          "base_uri": "https://localhost:8080/"
        },
        "id": "pl_LNgaIv-W1",
        "outputId": "cb787644-4863-4897-98e9-6e41de04bb45"
      },
      "outputs": [],
      "source": [
        "st.chisquare(\n",
        "    f_obs = fobs.ravel(),\n",
        "    f_exp = fexp.ravel(),\n",
        "    ddof = fobs.size - 1 - dof\n",
        ")\n",
        "\n",
        "# DOFcomputed = size - 1 - ddof = size - 1 - (size - 1 - dof) =>\n",
        "# DOFcomputed = dof"
      ]
    },
    {
      "cell_type": "markdown",
      "metadata": {
        "id": "oans_-b_v-W1"
      },
      "source": [
        "Otra opción es usar tablas de contigencia"
      ]
    },
    {
      "cell_type": "code",
      "execution_count": null,
      "metadata": {
        "colab": {
          "base_uri": "https://localhost:8080/"
        },
        "id": "fCA589mTv-W1",
        "outputId": "d01105ce-29d5-4a50-cc35-982855cc7c93"
      },
      "outputs": [],
      "source": [
        "chi2, p, dof, ex = st.chi2_contingency(fobs)\n",
        "print(chi2, p, dof, ex)"
      ]
    },
    {
      "cell_type": "markdown",
      "metadata": {
        "id": "_VGqFkyOv-W1"
      },
      "source": [
        "Usando tablas de contingencia podemos comparar distribuciones de variables\n",
        "categóricas.\n"
      ]
    },
    {
      "cell_type": "code",
      "execution_count": null,
      "metadata": {
        "colab": {
          "base_uri": "https://localhost:8080/",
          "height": 143
        },
        "id": "cxQZtd7Gv-W1",
        "outputId": "4aa7f7cb-f3a8-4f2b-e42a-6a1c5d87e489"
      },
      "outputs": [],
      "source": [
        "import pandas as pd\n",
        "from time import time_ns, sleep\n",
        "marcas = [\"MarcaA\", \"MarcaB\", \"MarcaC\", \"MarcaD\", \"MarcaE\"]\n",
        "\n",
        "grupos = [\n",
        "    \"Niños\",\n",
        "    \"Jovenes\",\n",
        "    \"Adultos\"\n",
        "]\n",
        "\n",
        "sample_size = 50\n",
        "data = []\n",
        "for g in grupos:\n",
        "    # np.random.seed(3)\n",
        "    freqs = np.random.uniform(size=len(marcas))\n",
        "    freqs = freqs/freqs.sum()\n",
        "    sample_summary = st.multinomial.rvs(\n",
        "        sample_size,\n",
        "        freqs,\n",
        "        1,\n",
        "        random_state = time_ns() % 323\n",
        "    ).squeeze()\n",
        "    data.append(sample_summary)\n",
        "data = np.array(data)\n",
        "data.T\n",
        "data = pd.DataFrame(\n",
        "    data = data,\n",
        "    index = grupos,\n",
        "    columns = marcas\n",
        ")\n",
        "data"
      ]
    },
    {
      "cell_type": "code",
      "execution_count": null,
      "metadata": {
        "colab": {
          "base_uri": "https://localhost:8080/"
        },
        "id": "M9T58Rnjv-W2",
        "outputId": "0c708e5d-e838-40ed-d51f-0a32e59580e0"
      },
      "outputs": [],
      "source": [
        "chi2, pval, dof, ex = st.contingency.chi2_contingency(data)\n",
        "print(f\"El pvalue es {pval}\")"
      ]
    },
    {
      "cell_type": "markdown",
      "metadata": {
        "id": "XmsT5tZ-v-W2"
      },
      "source": [
        "### Tests de igualdad de varianza"
      ]
    },
    {
      "cell_type": "code",
      "execution_count": null,
      "metadata": {
        "colab": {
          "base_uri": "https://localhost:8080/",
          "height": 175
        },
        "id": "p4EGx27Nv-W2",
        "outputId": "35d912cf-5acb-47f3-d6ba-974550ed3151"
      },
      "outputs": [],
      "source": [
        "import sklearn.datasets as datasets\n",
        "\n",
        "iris = datasets.load_iris(as_frame=True)\n",
        "\n",
        "iris[\"frame\"].groupby(\"target\").var()"
      ]
    },
    {
      "cell_type": "markdown",
      "metadata": {
        "id": "x6XVGLrMv-W2"
      },
      "source": [
        "#### F test de igualdad de varianzas\n",
        "\n",
        "- Asume que las dos distribuciones son normales\n",
        "- La hipótesis nula es que las varianzas son iguales.\n",
        "- Se calcula un estadístico F.\n",
        "- Luego se calcula un p-value de acuerdo a la distribución F teórica."
      ]
    },
    {
      "cell_type": "code",
      "execution_count": null,
      "metadata": {
        "colab": {
          "base_uri": "https://localhost:8080/",
          "height": 297
        },
        "id": "ByyMQMaqv-W2",
        "outputId": "45eeb861-6725-49be-8202-3f928a85638e"
      },
      "outputs": [],
      "source": [
        "g1 = iris[\"frame\"].loc[iris[\"frame\"][\"target\"]==0, \"sepal width (cm)\"]\n",
        "g2 = iris[\"frame\"].loc[iris[\"frame\"][\"target\"]==1, \"sepal width (cm)\"]\n",
        "\n",
        "fig, axes = plt.subplots()\n",
        "for i, d in enumerate((g1, g2)):\n",
        "  x = np.linspace(-0.3, 0.3, len(d))\n",
        "  axes.scatter(x+i, d-d.mean(), label = f\"G{i+1}\")\n",
        "axes.set_ylim(-2, 2)\n",
        "axes.legend(loc=\"lower left\")\n",
        "axes.set_ylabel(\"data - mean(data)\")\n",
        "axes.set_xlabel(\"Grupos\")\n",
        "axes.set_xticks([])\n",
        "plt.legend()\n",
        "fig.tight_layout()\n"
      ]
    },
    {
      "cell_type": "markdown",
      "metadata": {
        "id": "uH-K2DlRv-W2"
      },
      "source": [
        "Comprobemos que las distribuciones \"son\" normales."
      ]
    },
    {
      "cell_type": "code",
      "execution_count": null,
      "metadata": {
        "colab": {
          "base_uri": "https://localhost:8080/"
        },
        "id": "4Y55luD7v-W2",
        "outputId": "3e6559c4-e2bb-4b0d-85b6-d8699da31432"
      },
      "outputs": [],
      "source": [
        "r1 = st.shapiro(g1)\n",
        "r2 = st.shapiro(g2)\n",
        "for x in (r1, r2):\n",
        "  print(x.pvalue)"
      ]
    },
    {
      "cell_type": "markdown",
      "metadata": {
        "id": "7gN9XuS8v-W3"
      },
      "source": [
        "Calculamos el estadístico F y el pvalue."
      ]
    },
    {
      "cell_type": "code",
      "execution_count": null,
      "metadata": {
        "colab": {
          "base_uri": "https://localhost:8080/",
          "height": 332
        },
        "id": "8teuVECnv-W3",
        "outputId": "16ebed5f-0de3-47da-b430-358b44e2d87b"
      },
      "outputs": [],
      "source": [
        "import matplotlib.pyplot as plt\n",
        "\n",
        "f_statistic = g2.var() / g1.var()\n",
        "pvalue = 1 - st.f.cdf(\n",
        "  f_statistic,\n",
        "  g1.size-1,\n",
        "  g2.size-1\n",
        ")\n",
        "\n",
        "pvalue2 = st.f.cdf(\n",
        "  f_statistic,\n",
        "  g1.size-1,\n",
        "  g2.size-1\n",
        ")\n",
        "\n",
        "x = np.linspace(0, 2.5, 100)\n",
        "xf = np.linspace(0, f_statistic, 100)\n",
        "\n",
        "plt.plot(x, st.f.pdf(x, g1.size-1, g2.size-1))\n",
        "plt.fill_between(xf, st.f.pdf(xf, g1.size-1, g2.size-1), color=\"lightblue\")\n",
        "plt.annotate(\n",
        "  xy = (1.6, 0.15),\n",
        "  xytext = (1.35, 0.75),\n",
        "  text = f\"$P_{{val}}$ = $1-CDF_F(f)$ = {pvalue:0.3f}\",\n",
        "  arrowprops = {\"arrowstyle\": \"->\"},\n",
        "  fontsize = 14\n",
        ")\n",
        "plt.scatter([f_statistic], [0], color = \"green\")\n",
        "plt.annotate(\n",
        "  xy = (f_statistic, 0),\n",
        "  xytext = (0.6, 0.35),\n",
        "  text = f\"F = $\\\\frac{{S_{{g1}}^2}}{{S_{{g2}}^2}}$ = {f_statistic:0.2f}\",\n",
        "  arrowprops = {\"arrowstyle\": \"->\"},\n",
        "  fontsize = 14\n",
        ")\n",
        "plt.tight_layout()\n",
        "\n",
        "print(f\"F es: {f_statistic}\")\n",
        "print(f\"El pvalue es: {pvalue}\")\n"
      ]
    },
    {
      "cell_type": "markdown",
      "metadata": {
        "id": "Q134lHXkv-W3"
      },
      "source": [
        "#### Test de igualdad de varianzas de Bartlett\n",
        "\n",
        "- Asume que las distribuciones son normales.\n",
        "- Es sensible a alejamientos de la normalidad.\n",
        "- Se puede utilizar con varias muestras simultáneamente.\n"
      ]
    },
    {
      "cell_type": "code",
      "execution_count": null,
      "metadata": {
        "colab": {
          "base_uri": "https://localhost:8080/"
        },
        "id": "3TAmATssv-W3",
        "outputId": "8f94e35a-00a1-4fca-9ca2-c7fa866f8681"
      },
      "outputs": [],
      "source": [
        "a = st.bartlett(g1, g2)\n",
        "b = 1 - st.chi2.cdf(a.statistic, 1)\n",
        "print(a, b)\n"
      ]
    },
    {
      "cell_type": "code",
      "execution_count": null,
      "metadata": {
        "id": "MZ1F8KB0v-W3",
        "outputId": "4b7de431-73f6-4c52-c71f-155057f21dd3"
      },
      "outputs": [],
      "source": [
        "import matplotlib.pyplot as plt\n",
        "\n",
        "A = [85, 86, 88, 75, 78, 94, 98, 79, 71, 80]\n",
        "B = [91, 92, 93, 85, 87, 84, 82, 88, 95, 96]\n",
        "C = [79, 78, 88, 94, 92, 85, 83, 85, 82, 81]\n",
        "D = [59, 68, 99, 93, 72, 65, 73, 82, 72, 89]\n",
        "\n",
        "a = st.bartlett(A, B, C, D)\n",
        "b = 1 - st.chi2.cdf(a.statistic, 3)\n",
        "fig, axes = plt.subplots()\n",
        "for i, d in enumerate((A, B, C ,D)):\n",
        "    x = np.linspace(-0.3, 0.3, len(d))\n",
        "    axes.scatter(x+i, d, label = f\"G{i}\")\n",
        "axes.set_ylim(20, 110)\n",
        "axes.legend(loc=\"lower left\")\n",
        "axes.text(\n",
        "    x = 1.5,\n",
        "    y = 30,\n",
        "    s = (\n",
        "        f\"Bartlett Statistic ($B_S$) = {a.statistic:0.3f}\\n\"\n",
        "        f\"Bartlett P-Value = {a.pvalue:0.5f}\\n\"\n",
        "        f\"$1 - CDF_T(B_S)$ = {b:0.5f}\"\n",
        "    )\n",
        ")\n",
        "fig.tight_layout()"
      ]
    },
    {
      "cell_type": "markdown",
      "metadata": {
        "id": "Mc--RmXYv-W4"
      },
      "source": [
        "#### Test de igualdad de varianzas de Levene\n",
        "\n",
        "- Es más robusto ante distribuciones no normales.\n",
        "- Se calcula un estadístico W\n",
        "  - $A = {\\sum_{i=1}^{N}N_i(\\bar{Z}_{i.}-\\bar{Z}_{..})^2}$\n",
        "  - $B = {\\sum_{i=1}^k\\sum_{j=1}^{N_i}(Z_{ij}-\\bar{Z}_{i.})^2}$\n",
        "  - $Z = |Y_{ij} - \\bar{Y}_{i.}|$\n",
        "  - $W = \\frac{N-k}{k-1}\\frac{A}{B}$\n",
        "- Luego se calcula el p-value sobre la función $F_{k-1,N-k}$"
      ]
    },
    {
      "cell_type": "code",
      "execution_count": null,
      "metadata": {
        "colab": {
          "base_uri": "https://localhost:8080/"
        },
        "id": "trFCSj5ov-W4",
        "outputId": "785b3059-cfd9-4b18-952a-583ec46ed6f2"
      },
      "outputs": [],
      "source": [
        "levene_result = st.levene(g1, g2)\n",
        "levene_stat = levene_result.statistic\n",
        "levene_pval = levene_result.pvalue\n",
        "print(1 - st.f.cdf(levene_stat, 1, 98))\n",
        "print(levene_pval)"
      ]
    },
    {
      "cell_type": "markdown",
      "metadata": {
        "id": "kl7afuDEv-W4"
      },
      "source": [
        "### Test de igualdad de medias"
      ]
    },
    {
      "cell_type": "markdown",
      "metadata": {
        "id": "aCU5nqHIv-W4"
      },
      "source": [
        "### Test de Student para dos muestras\n",
        "\n",
        "- Asume que las varianzas son iguales\n",
        "  - existe una alternativa a este test:\n",
        "    - test de Welch\n",
        "    - no requiere asumir esta condición"
      ]
    },
    {
      "cell_type": "code",
      "execution_count": null,
      "metadata": {
        "colab": {
          "base_uri": "https://localhost:8080/",
          "height": 282
        },
        "id": "E3R2xQeiv-W4",
        "outputId": "9ba68658-4ea7-4a80-cff7-b5ccb9794771"
      },
      "outputs": [],
      "source": [
        "sample_one = st.lognorm.rvs(\n",
        "    s=1,\n",
        "    size = 30\n",
        ")\n",
        "sample_two = st.norm.rvs(\n",
        "    scale = st.lognorm.std(s=1),\n",
        "    size = 30,\n",
        "    loc = st.lognorm.mean(s=1)\n",
        ")\n",
        "plt.hist(\n",
        "    [\n",
        "        sample_one,\n",
        "        sample_two\n",
        "    ],\n",
        "    bins = 10\n",
        ")\n",
        "plt.xlim(-3, 7)\n",
        "\n",
        "m1 = sample_one.mean()\n",
        "m2 = sample_two.mean()\n",
        "plt.plot([m1, m1],[0, 5], color = \"red\")\n",
        "plt.annotate(\n",
        "    xy = [m1, 5],\n",
        "    xytext = [0.95, 0.95],\n",
        "    ha = \"right\",\n",
        "    text = \"Mean LogNormal\",\n",
        "    textcoords = \"axes fraction\",\n",
        "    arrowprops = {\"arrowstyle\":\"->\"}\n",
        ")\n",
        "plt.plot([m2, m2],[0, 5], color = \"green\")\n",
        "plt.annotate(\n",
        "    xy = [m2, 5],\n",
        "    xytext = [0.95, 0.85],\n",
        "    textcoords = \"axes fraction\",\n",
        "    ha = \"right\",\n",
        "    text = \"Mean Normal\",\n",
        "    arrowprops = {\"arrowstyle\":\"->\"}\n",
        ")\n",
        "\n",
        "st.ttest_ind(sample_one, sample_two)"
      ]
    },
    {
      "cell_type": "markdown",
      "metadata": {
        "id": "P3rjxPFpv-W4"
      },
      "source": [
        "#### Test de Student para muestras apareadas\n",
        "\n",
        "- Las mediciones de ambas muestras\n",
        "  - corresponden a los mismos individuos\n",
        "  - en dos condiciones diferentes.\n",
        "  - Por ejemplo, antes y después de un tratamiento."
      ]
    },
    {
      "cell_type": "code",
      "execution_count": null,
      "metadata": {
        "colab": {
          "base_uri": "https://localhost:8080/"
        },
        "id": "kIoBIOpHv-W5",
        "outputId": "048ee4b6-07af-4fba-a520-9b5378ddb6e8"
      },
      "outputs": [],
      "source": [
        "sample_one = st.uniform.rvs(size=20)\n",
        "effect = st.uniform.rvs(scale=0.01, size = 20)\n",
        "sample_two = sample_one + effect\n",
        "sample_three = st.uniform.rvs(size=20, loc=0.15)\n",
        "\n",
        "with_effect = st.ttest_rel(sample_one, sample_two)\n",
        "without_effect = st.ttest_rel(sample_one, sample_three)\n",
        "print(f\"El pvalue con efecto es {with_effect.pvalue}\")\n",
        "print(f\"El pvalue sin efecto es {without_effect.pvalue}\")"
      ]
    },
    {
      "cell_type": "markdown",
      "metadata": {},
      "source": [
        "### Alternativas no paramétricas"
      ]
    },
    {
      "cell_type": "markdown",
      "metadata": {
        "id": "9NMPkZOfv-W5"
      },
      "source": [
        "#### Mann Whitney U Test\n",
        "\n",
        "- Es un test no paramétrico.\n",
        "- Asume que:\n",
        "  - Las observaciones son independientes en ambos grupos.\n",
        "- La hipótesis nula asume que las distribuciones de las dos poblaciones son\n",
        "  iguales.\n",
        "- Es semejante a un test de medias:\n",
        "  - Dados x, y\n",
        "    - Tomados de las muestras X e Y\n",
        "  - La probabilidad de x > y es la misma que la de y > x\n"
      ]
    },
    {
      "cell_type": "code",
      "execution_count": null,
      "metadata": {
        "colab": {
          "base_uri": "https://localhost:8080/"
        },
        "id": "TyCr6UhBv-W5",
        "outputId": "f51b0e57-dcad-4684-d775-9616e365c0ce"
      },
      "outputs": [],
      "source": [
        "sample_one = st.binom.rvs(n=10, p=0.3, size=20)\n",
        "sample_two = st.binom.rvs(n=10, p=0.45, size=80)\n",
        "\n",
        "st.mannwhitneyu(sample_one, sample_two)"
      ]
    },
    {
      "cell_type": "markdown",
      "metadata": {
        "id": "dkq1AN8Dv-W5"
      },
      "source": [
        "\n",
        "#### Wilcoxon signed rank text\n",
        "\n",
        "- Test para muestras pareadas\n",
        "- La hipótesis nula es que no hay un efecto:\n",
        "  - Se comprueba analizando el signo de las diferencias de ambas muestras.\n",
        "  - Se verifica si tiene una distribución binomial con p=0.5"
      ]
    },
    {
      "cell_type": "code",
      "execution_count": null,
      "metadata": {
        "colab": {
          "base_uri": "https://localhost:8080/"
        },
        "id": "va1t1k4Mv-W5",
        "outputId": "74ed4ea0-ba50-44ec-c5ac-fc522d78c995"
      },
      "outputs": [],
      "source": [
        "sample_one = st.expon.rvs(size= 25)\n",
        "effect = st.uniform.rvs(size=25, scale=0.01)\n",
        "errors = st.norm.rvs(size=25, scale=0.01)\n",
        "sample_two = sample_one + effect + errors\n",
        "\n",
        "st.wilcoxon(sample_one, sample_two)"
      ]
    },
    {
      "cell_type": "markdown",
      "metadata": {
        "id": "K7O1h29nv-W6"
      },
      "source": [
        "Ejercicio: Calcular el pvalue usando la CDF de la distribución binomial."
      ]
    },
    {
      "cell_type": "markdown",
      "metadata": {
        "id": "FVwdlpuPv-W6"
      },
      "source": [
        "\n",
        "### Test de la mediana\n",
        "\n",
        "- Es un caso especial de la prueba de **chi-cuadrado**.\n",
        "- Se genera una tabla de contingencia:\n",
        "    - Se calcula la mediana para todos los datos ($x$ e $y$)\n",
        "    - Se arman grupos:\n",
        "      - por encima o por debajo de la mediana.\n",
        "      - las variables $x$ y $y$.\n",
        "- Esta prueba posee poco poder."
      ]
    },
    {
      "cell_type": "code",
      "execution_count": null,
      "metadata": {
        "colab": {
          "base_uri": "https://localhost:8080/"
        },
        "id": "QmEKaQpqv-W6",
        "outputId": "4f3d444b-2d09-4f79-ed2d-214676e8ea4d"
      },
      "outputs": [],
      "source": [
        "sample_one = st.uniform.rvs(size = 25)\n",
        "sample_two = st.uniform.rvs(size = 45, loc=0.5)\n",
        "global_median = np.median(np.concatenate([sample_one, sample_two]))\n",
        "global_median\n",
        "data = [\n",
        "    [\n",
        "        (sample_one<=global_median).sum(),\n",
        "        (sample_one>global_median).sum()\n",
        "    ],\n",
        "    [\n",
        "        (sample_two<=global_median).sum(),\n",
        "        (sample_two>global_median).sum()\n",
        "    ],\n",
        "]\n",
        "data = np.array(data)\n",
        "data\n",
        "stat, pval, df, ex = st.contingency.chi2_contingency(data)\n",
        "print(f\"El p-value es {pval}\")"
      ]
    },
    {
      "cell_type": "markdown",
      "metadata": {
        "id": "9BSd0Y6Bv-W6"
      },
      "source": [
        "#### Test de Fischer\n",
        "\n",
        "- Se usa para determinar si existe\n",
        "  - una asoociación significante entre dos variables nominales.\n",
        "- Es una variante al test $\\chi^2$ cuando hay pocas cuentas.\n",
        "- Se comparan:\n",
        "  - dos grupos\n",
        "  - dos variables\n",
        "  - Tabla de contingencia $2\\times2$\n",
        "\n"
      ]
    },
    {
      "cell_type": "code",
      "execution_count": null,
      "metadata": {
        "colab": {
          "base_uri": "https://localhost:8080/",
          "height": 833
        },
        "id": "nvD993aRv-W6",
        "outputId": "7450b060-7195-4b63-ac4b-42e94d1f23c5"
      },
      "outputs": [],
      "source": [
        "import pandas as pd\n",
        "data = [\n",
        "    [\"old\", \"female\", \"advanced\"], [\"young\", \"female\", \"advanced\"],\n",
        "    [\"old\", \"male\", \"advanced\"], [\"old\", \"female\", \"stable\"],\n",
        "    [\"young\", \"male\", \"advanced\"], [\"old\", \"female\", \"advanced\"],\n",
        "    [\"old\", \"female\", \"advanced\"], [\"young\", \"male\", \"advanced\"],\n",
        "    [\"young\", \"male\", \"stable\"], [\"old\", \"male\", \"stable\"],\n",
        "    [\"young\", \"male\", \"stable\"], [\"young\", \"male\", \"stable\"],\n",
        "    [\"old\", \"male\", \"stable\"], [\"old\", \"male\", \"stable\"],\n",
        "    [\"old\", \"female\", \"advanced\"], [\"young\", \"male\", \"stable\"],\n",
        "    [\"old\", \"female\", \"stable\"], [\"old\", \"male\", \"advanced\"],\n",
        "    [\"young\", \"female\", \"advanced\"], [\"old\", \"female\", \"advanced\"],\n",
        "    [\"old\", \"male\", \"stable\"], [\"old\", \"male\", \"stable\"],\n",
        "    [\"young\", \"male\", \"stable\"], [\"old\", \"male\", \"advanced\"],\n",
        "    [\"old\", \"female\", \"advanced\"]\n",
        "]\n",
        "df = pd.DataFrame(\n",
        "    data,\n",
        "    columns = [\"age\", \"sex\", \"disease\"]\n",
        ")\n",
        "df"
      ]
    },
    {
      "cell_type": "code",
      "execution_count": null,
      "metadata": {
        "colab": {
          "base_uri": "https://localhost:8080/"
        },
        "id": "AR5lq4BTv-W6",
        "outputId": "00d15e1f-e842-4a90-959c-d237052b33c4"
      },
      "outputs": [],
      "source": [
        "import scipy.stats as st\n",
        "\n",
        "elements, counts = st.contingency.crosstab(df[\"sex\"], df[\"disease\"])\n",
        "df_counts = pd.DataFrame(counts)\n",
        "df_counts.index = elements[0]\n",
        "df_counts.columns = elements[1]\n",
        "print(df_counts)\n",
        "\n",
        "odds_ratio, pvalue = st.fisher_exact(counts)\n",
        "print(odds_ratio, pvalue)\n",
        "\n",
        "# ¿Qué pasa con el sexo?"
      ]
    },
    {
      "cell_type": "markdown",
      "metadata": {
        "id": "sbujIV3Av-W7"
      },
      "source": [
        "### McNemar test\n",
        "\n",
        "- Se usa para buscar diferencias en tablas de contingencia (2x2)\n",
        "  - cuando se tienen muestra aparedas.\n",
        "- El uso típico es buscar cambios es individuos\n",
        "  - Antes vs. después de un tratamiento\n",
        "  - El tipo de variable que se mide es la misma"
      ]
    },
    {
      "cell_type": "code",
      "execution_count": null,
      "metadata": {
        "colab": {
          "base_uri": "https://localhost:8080/"
        },
        "id": "CEiB8bFBv-W7",
        "outputId": "1a7e4897-570a-4367-a629-bd6d7f0c3bac"
      },
      "outputs": [],
      "source": [
        "from statsmodels.stats.contingency_tables import mcnemar\n",
        "\n",
        "data =[\n",
        "    ['stage_2', 'stage_1'], ['stage_1', 'stage_2'],\n",
        "    ['stage_2', 'stage_1'], ['stage_1', 'stage_1'],\n",
        "    ['stage_1', 'stage_1'], ['stage_2', 'stage_1'],\n",
        "    ['stage_2', 'stage_1'], ['stage_1', 'stage_1'],\n",
        "    ['stage_1', 'stage_1'], ['stage_1', 'stage_1'],\n",
        "    ['stage_1', 'stage_1'], ['stage_1', 'stage_2'],\n",
        "    ['stage_2', 'stage_1'], ['stage_2', 'stage_1'],\n",
        "    ['stage_1', 'stage_1'], ['stage_2', 'stage_1'],\n",
        "    ['stage_1', 'stage_1'], ['stage_2', 'stage_1'],\n",
        "    ['stage_1', 'stage_1'], ['stage_1', 'stage_1'],\n",
        "    ['stage_1', 'stage_1'], ['stage_2', 'stage_1'],\n",
        "    ['stage_1', 'stage_1'], ['stage_2', 'stage_2'],\n",
        "    ['stage_1', 'stage_1']\n",
        "]\n",
        "df = pd.DataFrame(\n",
        "    data,\n",
        "    columns = [\"before\", \"after_1y\"]\n",
        ")\n",
        "df\n",
        "\n",
        "elements, counts = st.contingency.crosstab(df[\"before\"], df[\"after_1y\"])\n",
        "\n",
        "df_counts = pd.DataFrame(counts)\n",
        "df_counts.index = [(\"before\", x) for x in elements[0]]\n",
        "df_counts.columns = [(\"after\", x) for x in elements[1]]\n",
        "print(df_counts)\n",
        "\n",
        "result = mcnemar(counts)\n",
        "\n",
        "result.pvalue\n",
        "\n",
        "# Y si las variables tienen más de dos valoresposibles.\n"
      ]
    },
    {
      "cell_type": "markdown",
      "metadata": {},
      "source": [
        "#### Test de Mantel-Haenszel\n",
        "\n",
        "- Es una prueba estadística utilizada para evaluar si existe una asociación\n",
        "  entre dos variables categóricas,\n",
        "- Controlando o estratificando por una tercera variable categórica.\n",
        "- Es particularmente útil cuando se desea examinar la asociación entre dos\n",
        "  variables categóricas en presencia de un posible efecto de confusión de una\n",
        "  tercera variable."
      ]
    },
    {
      "cell_type": "markdown",
      "metadata": {},
      "source": [
        "Tenemos datos de:\n",
        "\n",
        "- un tratamiento de una droga contra un cierta enfermedad\n",
        "- en niños y en adultos\n",
        "- A la mitad de las personas se le administra la droga\n",
        "- a la otra mitad se le administra un placebo\n",
        "- El tratamiento dura seis meses\n",
        "  - luego se observa si hay una respuesta positiva o negativa en los síntomas."
      ]
    },
    {
      "cell_type": "code",
      "execution_count": null,
      "metadata": {},
      "outputs": [],
      "source": [
        "import pandas as pd\n",
        "import scipy.stats as st\n",
        "# ! wget https://github.com/javieriserte/qualitative-data-course/raw/master/classes/cmh.data.csv\n",
        "df = pd.read_csv(\n",
        "  \"cmh.data.csv\",\n",
        "  header = [0],\n",
        "  sep = \",\"\n",
        ")\n",
        "df"
      ]
    },
    {
      "cell_type": "markdown",
      "metadata": {},
      "source": [
        "Veamos con un test $\\chi^2$ si hay un efecto o no..."
      ]
    },
    {
      "cell_type": "code",
      "execution_count": null,
      "metadata": {},
      "outputs": [],
      "source": [
        "table = pd.crosstab(df[\"tratamiento\"], df[\"respuesta\"])\n",
        "print(\"Tabla de contingencia:\\n\")\n",
        "print(table)\n",
        "stat, pvalue, dof, expected = st.contingency.chi2_contingency(table)\n",
        "print(\"\\np-value:\")\n",
        "print(pvalue)"
      ]
    },
    {
      "cell_type": "markdown",
      "metadata": {},
      "source": [
        "Veamos como son las tablas de contingencia estratificando por edad."
      ]
    },
    {
      "cell_type": "code",
      "execution_count": null,
      "metadata": {},
      "outputs": [],
      "source": [
        "table = pd.crosstab(df[\"respuesta\"], [df[\"edad\"], df[\"tratamiento\"]])\n",
        "table"
      ]
    },
    {
      "cell_type": "markdown",
      "metadata": {},
      "source": [
        "¿Hay algún efecto en cada estrato?"
      ]
    },
    {
      "cell_type": "code",
      "execution_count": null,
      "metadata": {},
      "outputs": [],
      "source": [
        "statistic, pvalue, dof, expected = st.contingency.chi2_contingency(table[(\"adulto\", )])\n",
        "print(f\"p-value:{pvalue}\")"
      ]
    },
    {
      "cell_type": "code",
      "execution_count": null,
      "metadata": {},
      "outputs": [],
      "source": [
        "statistic, pvalue, dof, expected = st.contingency.chi2_contingency(table[(\"menor\", )])\n",
        "print(f\"p-value:{pvalue}\")"
      ]
    },
    {
      "cell_type": "markdown",
      "metadata": {},
      "source": [
        "Test de Mantel-Haenszel"
      ]
    },
    {
      "cell_type": "code",
      "execution_count": null,
      "metadata": {},
      "outputs": [],
      "source": [
        "import statsmodels.api as sm\n",
        "cmh_result = sm.stats.StratifiedTable(\n",
        "  [\n",
        "    table[(\"menor\",)],\n",
        "    table[(\"adulto\", )]\n",
        "  ]\n",
        ").test_null_odds()\n",
        "print(cmh_result)"
      ]
    },
    {
      "cell_type": "markdown",
      "metadata": {},
      "source": [
        "### Teorización *Post Hoc*\n",
        "\n",
        "- Generación de hipótesis sugeridas por el conjunto de datos observado, sin\n",
        "  testear esta hipótesis en nuevos datos.\n",
        "  - puede resultar en aceptar hipótesis incorrectas\n",
        "  - que sólo son válidas en el presente conjunto de datos\n",
        "\n",
        "- Es necesario testear estas nuevas hipotesis en una nueva muestra de la\n",
        "  población.\n",
        "  - Sin embargo,\n",
        "    - en muchas casos eso puede ser imposible:\n",
        "      - analizar un fenómeno natural finito.\n",
        "      - difícil o imposible la recolección de nuevos datos\n",
        "  - puede surgir en la bioinformática\n",
        "    - cuando se toman todos los elementos de una base de datos\n",
        "    - sin dejar datos suficientes para testear las hipótesis\n",
        "\n",
        "### Data *fishing*:\n",
        "  - testear muchas hipótesis sobre un conjunto de datos\n",
        "    - hasta encontrar un caso significativo\n",
        "\n",
        "#### Alternativas para no caer en este problema:\n",
        "  - Recolectar nuevos datos (out-of-sample data)\n",
        "    realizar un nuevo experimento,\n",
        "    para testear la nueva hipótesis.\n",
        "  - Separar el conjunto de datos de manera aleatoria en dos grupos.\n",
        "     - Uno para plantear nuevas hipótesis\n",
        "     - El otro para evaluarlas.\n",
        "  - Utilizar métodos de validación cruzada (cross validation)\n",
        "    - evitar un sobreajuste (overfitting)\n",
        "  - Aplicar correcciones por testeo múltiple."
      ]
    }
  ],
  "metadata": {
    "colab": {
      "provenance": []
    },
    "kernelspec": {
      "display_name": "Python 3.9.4 ('.venv': venv)",
      "language": "python",
      "name": "python3"
    },
    "language_info": {
      "codemirror_mode": {
        "name": "ipython",
        "version": 3
      },
      "file_extension": ".py",
      "mimetype": "text/x-python",
      "name": "python",
      "nbconvert_exporter": "python",
      "pygments_lexer": "ipython3",
      "version": "3.9.4"
    },
    "orig_nbformat": 4,
    "vscode": {
      "interpreter": {
        "hash": "2642d409aca2f3e50c4cc7e12f906abb96a179c2b76bcb58c2b6a9943c6a4da3"
      }
    }
  },
  "nbformat": 4,
  "nbformat_minor": 0
}
