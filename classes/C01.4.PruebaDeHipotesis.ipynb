{
  "cells": [
    {
      "cell_type": "code",
      "execution_count": 1,
      "metadata": {
        "id": "1MOD3WbBv-Wl"
      },
      "outputs": [],
      "source": [
        "%load_ext autoreload\n",
        "%autoreload 2"
      ]
    },
    {
      "cell_type": "code",
      "execution_count": 2,
      "metadata": {
        "id": "LuPoG0Dlv-Wn",
        "outputId": "d08956b8-fc80-43d0-9fdf-ced1dd71f998",
        "colab": {
          "base_uri": "https://localhost:8080/",
          "height": 503
        }
      },
      "outputs": [
        {
          "output_type": "stream",
          "name": "stdout",
          "text": [
            "Looking in indexes: https://pypi.org/simple, https://us-python.pkg.dev/colab-wheels/public/simple/\n",
            "Requirement already satisfied: matplotlib in /usr/local/lib/python3.7/dist-packages (3.2.2)\n",
            "Collecting matplotlib\n",
            "  Downloading matplotlib-3.5.3-cp37-cp37m-manylinux_2_5_x86_64.manylinux1_x86_64.whl (11.2 MB)\n",
            "\u001b[K     |████████████████████████████████| 11.2 MB 13.7 MB/s \n",
            "\u001b[?25hRequirement already satisfied: numpy>=1.17 in /usr/local/lib/python3.7/dist-packages (from matplotlib) (1.21.6)\n",
            "Collecting fonttools>=4.22.0\n",
            "  Downloading fonttools-4.38.0-py3-none-any.whl (965 kB)\n",
            "\u001b[K     |████████████████████████████████| 965 kB 54.6 MB/s \n",
            "\u001b[?25hRequirement already satisfied: packaging>=20.0 in /usr/local/lib/python3.7/dist-packages (from matplotlib) (21.3)\n",
            "Requirement already satisfied: python-dateutil>=2.7 in /usr/local/lib/python3.7/dist-packages (from matplotlib) (2.8.2)\n",
            "Requirement already satisfied: kiwisolver>=1.0.1 in /usr/local/lib/python3.7/dist-packages (from matplotlib) (1.4.4)\n",
            "Requirement already satisfied: cycler>=0.10 in /usr/local/lib/python3.7/dist-packages (from matplotlib) (0.11.0)\n",
            "Requirement already satisfied: pillow>=6.2.0 in /usr/local/lib/python3.7/dist-packages (from matplotlib) (7.1.2)\n",
            "Requirement already satisfied: pyparsing>=2.2.1 in /usr/local/lib/python3.7/dist-packages (from matplotlib) (3.0.9)\n",
            "Requirement already satisfied: typing-extensions in /usr/local/lib/python3.7/dist-packages (from kiwisolver>=1.0.1->matplotlib) (4.1.1)\n",
            "Requirement already satisfied: six>=1.5 in /usr/local/lib/python3.7/dist-packages (from python-dateutil>=2.7->matplotlib) (1.15.0)\n",
            "Installing collected packages: fonttools, matplotlib\n",
            "  Attempting uninstall: matplotlib\n",
            "    Found existing installation: matplotlib 3.2.2\n",
            "    Uninstalling matplotlib-3.2.2:\n",
            "      Successfully uninstalled matplotlib-3.2.2\n",
            "Successfully installed fonttools-4.38.0 matplotlib-3.5.3\n"
          ]
        },
        {
          "output_type": "display_data",
          "data": {
            "application/vnd.colab-display-data+json": {
              "pip_warning": {
                "packages": [
                  "matplotlib",
                  "mpl_toolkits"
                ]
              }
            }
          },
          "metadata": {}
        }
      ],
      "source": [
        "# To use only Google Colab\n",
        "! pip install matplotlib --upgrade"
      ]
    },
    {
      "cell_type": "markdown",
      "metadata": {
        "id": "QfFZNCX5v-Wo"
      },
      "source": [
        "# Unidad I. Variables, distribuciones y pruebas de hipótesis. \n"
      ]
    },
    {
      "cell_type": "markdown",
      "metadata": {
        "id": "TYQVyUs-v-Wp"
      },
      "source": [
        "## Prueba de Hipótesis.\n",
        "\n",
        "- Prueba de bondad de ajuste a una distribución.\n",
        "  - Procedimientos no paramétricos:\n",
        "    - chi cuadrado\n",
        "    - Kolmogorov–Smirnov\n",
        "- Comparación de dos poblaciones.\n",
        " - Test de Student y Fischer:\n",
        "   - para comparar variables independientes con distribución normal.\n",
        " - Test de Student para comparar variables apareadas.\n",
        " - Alternativas no paramétricas.\n",
        "   - test de Mann Whitney\n",
        "   - test de Wicolxon.\n",
        " - Otras pruebas de comparación no paramétricas:\n",
        "   - test de Kolmogorov-Smirnov\n",
        "   - test de la Mediana.\n",
        "   - test de los signos\n",
        "   - test de McNemar.\n"
      ]
    },
    {
      "cell_type": "markdown",
      "metadata": {
        "id": "1qvwfsDxv-Wq"
      },
      "source": [
        "## Estadística inferencial\n",
        "\n",
        "- Trata de inferir información acerca de la distribución de probabilidad de una\n",
        "  población\n",
        "    - Parte de la información de una muestra.\n",
        "- Tipos de intervalonferencias:\n",
        "    - Estimación puntual:\n",
        "      - Estimación de un parámetro poblacional haciendo uso del valor que mejor\n",
        "        lo aproxime.\n",
        "    - Estimación por intervalos:\n",
        "      - Estimación de un intervalo de valores para un parámetro poblacional\n",
        "        desconocido.\n",
        "      - Por ejemplo, la estimación de un intervalo de confianza.\n",
        "    - Test de hipótesis.\n"
      ]
    },
    {
      "cell_type": "markdown",
      "metadata": {
        "id": "xOHSjajCv-Wq"
      },
      "source": [
        "\n",
        "## Test de hipótesis\n",
        "\n",
        "- Es la evaluación estadítica de una suposición.\n",
        "  - Se parte de considerar declaración que puede o no ser válida\n",
        "  - A partir de esta declaración se definen dos hipótesis:\n",
        "    - la hipótesis nula ($H_0$)\n",
        "      - Típicamente implica que no hay una relación entre los datos o variables.\n",
        "    - la hipótesis alternativa ($H_1$)\n",
        "      - Esta es la hipótesis que queremos apoyar.\n",
        "  - Se obtienen una muestra de datos para evaluar la hipótesis.\n",
        "  - Si los datos apoyan $H_1$ con cierto nivel de confianza:\n",
        "    - rechazo $H_0$ y acepto con $H_1$\n",
        "    - No quiere decir que se haya demostrado $H_1$\n",
        "  - Si los datos no apoyan $H_1$\n",
        "    - no puedo rechazar $H_1$, ni aceptar $H_0$"
      ]
    },
    {
      "cell_type": "markdown",
      "metadata": {
        "id": "m3iOPRUSv-Wr"
      },
      "source": [
        "## Tipos de errores\n",
        "\n",
        "|                      | **$H_0$ es cierta**  | **$H_1$ es cierta**   |\n",
        "|-------------------   |-------------------   |--------------------   |\n",
        "| **Se escogió $H_1$** | *Error de tipo I*    | Decisión correcta     |\n",
        "| **Se escogió $H_0$** | Decisión correcta    | *Error de tipo II*    |\n",
        "\n",
        "\n",
        "La probabilidad del error de tipo I\n",
        "  - se conoce como nivel de significación estadistica\n",
        "  - indicado con la letra griega $\\alpha$.\n",
        "  - $P(escoger H_1 | H_0 cierta) = \\alpha$\n",
        "\n",
        "La probabilidad de caer en un error del tipo II\n",
        "  - se anota con la letra griega $\\beta$.\n",
        "  - Siendo $1-\\beta$ la potencia o poder del test.\n",
        "  - $P(escoger H_0 | H_1 cierta) = \\beta$\n",
        "  - $P(escoger H_1 | H_1 cierta) = 1 - \\beta$\n"
      ]
    },
    {
      "cell_type": "markdown",
      "metadata": {
        "id": "BAZzfCjSv-Ws"
      },
      "source": [
        "### Valor P\n",
        "\n",
        "- El valor P (*p value*)\n",
        "  - Es la probabilidad de observar:\n",
        "    - un determinado valor (o uno más extremo)\n",
        "    - dado que H₀ es correcta.\n",
        "  - No es la probabilidad de la hipótesis nula.\n",
        "  - Un valor P bajo indica:\n",
        "    - que los datos son inconsistentes con la hipótesis nula\n",
        "    - permitiéndonos rechazarla\n",
        "    - Para decidir que es un valor bajo\n",
        "      - se recurre al valor de significación α.\n",
        "      - debo elegir cuanto error puedo tolerar"
      ]
    },
    {
      "cell_type": "markdown",
      "metadata": {
        "id": "fwF0RChMv-Ws"
      },
      "source": [
        "\n",
        "## Pruebas de bondad de ajuste a una distribución.\n",
        "\n",
        "- Permite saber si la muestra se ajusta determinada distribución.\n"
      ]
    },
    {
      "cell_type": "markdown",
      "metadata": {
        "id": "peLkCCfdv-Wt"
      },
      "source": [
        "### Test de T de Student para una muestra\n",
        "\n",
        "- Permite evaluar si\n",
        "  - la media de una muestra es diferente de una media $\\mu_0$.\n",
        "- El uso del test supone:\n",
        "  - Distribución normal de la variable (continua) en la población\n",
        "  - Muestreo al azar (cada observación es independiente)\n",
        "- El estadístico $t$ sigue una distribución *T de Student* con $n - 1$ grados de libertad.\n",
        "  - $ t = \\frac{ \\bar{x} - \\mu }{ \\frac{s}{\\sqrt{n}} }$\n"
      ]
    },
    {
      "cell_type": "markdown",
      "metadata": {
        "id": "xigDhwj_v-Wt"
      },
      "source": [
        "\n",
        "Supongamos una variable aleatoria $X$ que en la población se distribuye con una\n",
        "distribución $N(0, 1)$.\n",
        "\n",
        "- Estamos interesados en apoyar que la media de esa variable $X$ en la\n",
        "población es mayor a 0.\n",
        "  - $H_0 : \\mu = 0$\n",
        "  - $H_1 : \\mu > 0$\n",
        "- el *p value* para un valor observado $T$ será:\n",
        "  - $P(t \\ge T|H_0)$"
      ]
    },
    {
      "cell_type": "code",
      "execution_count": 20,
      "metadata": {
        "id": "pDQ5VZuQv-Wt",
        "outputId": "a99d9d59-98ed-4034-b73a-209984dd9839",
        "colab": {
          "base_uri": "https://localhost:8080/"
        }
      },
      "outputs": [
        {
          "output_type": "stream",
          "name": "stdout",
          "text": [
            "El valor del estadístico T es 2.5392916561481336\n",
            "El p-valor es 0.015873829010253138\n"
          ]
        }
      ],
      "source": [
        "import scipy.stats as st\n",
        "import math\n",
        "\n",
        "normal_sample = st.norm.rvs(size = 10, loc=1.0)\n",
        "df = len(normal_sample) - 1 # 9\n",
        "\n",
        "# Calculando a mano\n",
        "t_value = (normal_sample.mean() - 0) / (normal_sample.std()/math.sqrt(df))\n",
        "# t_value\n",
        "pvalue = 1 - st.t.cdf(t_value, df)\n",
        "print(f\"El valor del estadístico T es {t_value}\")\n",
        "print(f\"El p-valor es {pvalue}\")"
      ]
    },
    {
      "cell_type": "code",
      "execution_count": 10,
      "metadata": {
        "id": "PIY8-E2xv-Wu",
        "outputId": "2666db42-f60b-40be-95e7-a8884ded36a7",
        "colab": {
          "base_uri": "https://localhost:8080/",
          "height": 297
        }
      },
      "outputs": [
        {
          "output_type": "display_data",
          "data": {
            "text/plain": [
              "<Figure size 432x288 with 1 Axes>"
            ],
            "image/png": "[encoded data removed]"
          },
          "metadata": {
            "needs_background": "light"
          }
        }
      ],
      "source": [
        "import matplotlib.pyplot as plt\n",
        "import numpy as np\n",
        "\n",
        "x = np.linspace(-4, 4, 100)\n",
        "\n",
        "plt.plot(x, st.t.pdf(x, df))\n",
        "\n",
        "x_fill = np.linspace(t_value, 4, 100)\n",
        "plt.fill_between(\n",
        "    x_fill,\n",
        "    st.t.pdf(x_fill, df),\n",
        "    color=\"lightblue\"\n",
        ")\n",
        "\n",
        "plt.annotate(\n",
        "    xy = ((4+t_value)/2, st.t.pdf((4+t_value)/2, df)/2),\n",
        "    xytext = (1, 0.38),\n",
        "    text = f\"p-valor = 1 - $CDF_T(t) = {1-st.t.cdf(t_value, df):0.3f}$\",\n",
        "    arrowprops = {\n",
        "        \"arrowstyle\":\"->\"\n",
        "    }\n",
        ")\n",
        "plt.tight_layout()"
      ]
    },
    {
      "cell_type": "code",
      "execution_count": 12,
      "metadata": {
        "id": "620KoosXv-Wv",
        "outputId": "74c10e8f-ab0c-4f66-fa79-d353980d7517",
        "colab": {
          "base_uri": "https://localhost:8080/"
        }
      },
      "outputs": [
        {
          "output_type": "execute_result",
          "data": {
            "text/plain": [
              "Ttest_1sampResult(statistic=5.059129897634587, pvalue=0.00034092220616735675)"
            ]
          },
          "metadata": {},
          "execution_count": 12
        }
      ],
      "source": [
        "# Usando scipy\n",
        "test_result = st.ttest_1samp(\n",
        "    normal_sample,\n",
        "    popmean=0,\n",
        "    alternative=\"greater\",\n",
        ")\n",
        "test_result"
      ]
    },
    {
      "cell_type": "markdown",
      "metadata": {
        "id": "Z_0CzWd6v-Wv"
      },
      "source": [
        "- Podemos definir diferentes hipótesis alternativas:\n",
        "- Es necesario cambiar la definición del *valor P* para estos casos:\n",
        "  - $H_1 > 0$ (Una cola, mayor)\n",
        "    - $p_{value} = 1 - CDF_T(t)$\n",
        "    - El ejemplo anterior\n",
        "  - $H_1 < 0$ (Una cola, menor)\n",
        "    - $p_{value} = CDF_T(t)$\n",
        "  - $H_a \\ne 0$ (dos colas)\n",
        "    - $p_{value} = 2 \\times min(CDF_T(t), 1-CDF_T(t))$\n"
      ]
    },
    {
      "cell_type": "markdown",
      "source": [],
      "metadata": {
        "id": "PmSPh2fN9VeW"
      }
    },
    {
      "cell_type": "code",
      "execution_count": 14,
      "metadata": {
        "id": "p10zhr9nv-Wv",
        "outputId": "27955c3e-2ddf-4697-aacc-61d79f59cc70",
        "colab": {
          "base_uri": "https://localhost:8080/"
        }
      },
      "outputs": [
        {
          "output_type": "stream",
          "name": "stdout",
          "text": [
            "El pvalue de una cola, mayor es 0.0003409222061673267\n",
            "El pvalue de una cola, menor es 0.9996590777938327\n",
            "El pvalue de dis colas es 0.0006818444123346534\n"
          ]
        }
      ],
      "source": [
        "one_tail_greater = 1 - st.t.cdf(t_value, df)\n",
        "one_tail_lower = st.t.cdf(t_value, df)\n",
        "\n",
        "two_tails = 2 * min(one_tail_greater, one_tail_lower)\n",
        "print(f\"El pvalue de una cola, mayor es {one_tail_greater}\")\n",
        "print(f\"El pvalue de una cola, menor es {one_tail_lower}\")\n",
        "print(f\"El pvalue de dis colas es {two_tails}\")"
      ]
    },
    {
      "cell_type": "code",
      "execution_count": 13,
      "metadata": {
        "id": "4VNNyVoUv-Wv",
        "outputId": "83ba41bd-d93a-40f2-dd0a-e519cecdee78",
        "colab": {
          "base_uri": "https://localhost:8080/"
        }
      },
      "outputs": [
        {
          "output_type": "stream",
          "name": "stdout",
          "text": [
            "El pvalue de una cola, mayor es 0.00034092220616735675\n",
            "El pvalue de una cola, menor es 0.9996590777938327\n",
            "El pvalue de dis colas es 0.0006818444123347135\n"
          ]
        }
      ],
      "source": [
        "one_tail_greater = st.ttest_1samp(normal_sample, popmean = 0, alternative = \"greater\")\n",
        "one_tail_lower = st.ttest_1samp(normal_sample, popmean = 0, alternative = \"less\")\n",
        "two_tails = st.ttest_1samp(normal_sample, popmean = 0, alternative = \"two-sided\")\n",
        "print(f\"El pvalue de una cola, mayor es {one_tail_greater.pvalue}\")\n",
        "print(f\"El pvalue de una cola, menor es {one_tail_lower.pvalue}\")\n",
        "print(f\"El pvalue de dis colas es {two_tails.pvalue}\")"
      ]
    },
    {
      "cell_type": "code",
      "execution_count": null,
      "metadata": {
        "id": "ONub1W7Lv-Ww",
        "outputId": "d5971332-592f-46bc-ff6c-dd3cdfdb65f1"
      },
      "outputs": [
        {
          "data": {
            "text/plain": [
              "Text(0.5, 1.0, 'Dos colas')"
            ]
          },
          "execution_count": 8,
          "metadata": {},
          "output_type": "execute_result"
        },
        {
          "data": {
            "image/png": "[encoded data removed]",
            "text/plain": [
              "<Figure size 600x900 with 3 Axes>"
            ]
          },
          "metadata": {},
          "output_type": "display_data"
        }
      ],
      "source": [
        "import matplotlib.pyplot as plt\n",
        "import numpy as np\n",
        "\n",
        "x = np.linspace(-5, 5, 100)\n",
        "x1 = np.linspace(2, 5, 100)\n",
        "x2 = np.linspace(-5, 2, 100)\n",
        "x3 = np.linspace(-5, -2, 100)\n",
        "\n",
        "fig, axes = plt.subplots(figsize = (6, 9), nrows = 3)\n",
        "\n",
        "axes[0].plot(x, st.t.pdf(x, 9))\n",
        "axes[0].fill_between(x1, st.t.pdf(x1, 9), color=\"lightblue\")\n",
        "axes[0].set_title(\"Una cola (mayor)\")\n",
        "\n",
        "axes[1].plot(x, st.t.pdf(x, 9))\n",
        "axes[1].fill_between(x2, st.t.pdf(x2, 9), color=\"lightblue\")\n",
        "axes[1].set_title(\"Una cola (menor)\")\n",
        "\n",
        "axes[2].plot(x, st.t.pdf(x, 9))\n",
        "axes[2].fill_between(x3, st.t.pdf(x3, 9), color=\"lightblue\")\n",
        "axes[2].fill_between(x1, st.t.pdf(x1, 9), color=\"lightblue\")\n",
        "axes[2].set_title(\"Dos colas\")"
      ]
    },
    {
      "cell_type": "markdown",
      "metadata": {
        "id": "FZc-ObCsv-Ww"
      },
      "source": [
        "En el caso del test de dos colas:\n",
        "- Parece evidente:\n",
        "  - multiplicar por dos al de menor de los p-valores las colas.\n",
        "- Esto es por la simetría de la distribución.\n",
        "- En distribuciones asimétricas, no es evidente que hacer:\n",
        "  - En general se toma la idea de doblar el p-valor menor.\n",
        "\n",
        "En particular, para una variable aleatoria $X$, que sigue una determinada\n",
        "distribución si $H_0$ es cierta, dado un estimador $x_0$, el *p value* es:"
      ]
    },
    {
      "cell_type": "markdown",
      "metadata": {
        "id": "TUY0AiXov-Ww"
      },
      "source": [
        "### Intervalo de confianza\n",
        "\n",
        "Es un tipo de estimador por intervalo\n",
        "- para un parámetro de la población.\n",
        "- Se calcula a partir de una o más muestras\n",
        "- posee un **nivel de confianza**\n",
        "  - qué tan frecuentemente una serie de intervalos estimados de la misma manera\n",
        "  - contiene al parámetro poblacional.\n",
        "- Un intervalo de confianza del 95%\n",
        "  - No significa que hay un probabilidad del 95% de contener el parámetro.\n",
        "- Para una muestra dada\n",
        "  - Puede darse que el parámetro estimado quede afuera del intervalo.\n",
        "- Intervalo = $(\\bar{x}-t\\frac{s}{\\sqrt{n}} , \\bar{x}+t\\frac{s}{\\sqrt{n}})$\n",
        "  - El valor t se elige dependiendo de la confidencia que queremos.\n",
        "  - $t = Cuantil_T(\\alpha / 2)$\n",
        "  - $\\alpha$ es 1 - la confidencia del rango\n",
        "    - al 95%, $\\alpha$ es 0.05"
      ]
    },
    {
      "cell_type": "code",
      "execution_count": 21,
      "metadata": {
        "id": "d1iNUDGDv-Wx",
        "outputId": "06ba7158-1c27-4d6d-bd3a-581b22d877a0",
        "colab": {
          "base_uri": "https://localhost:8080/",
          "height": 332
        }
      },
      "outputs": [
        {
          "output_type": "stream",
          "name": "stdout",
          "text": [
            "El intervalo es: (0.09012764451922806, 1.5614919204242017)\n",
            "El intervalo es: (0.09012764451922783, 1.561491920424202)\n"
          ]
        },
        {
          "output_type": "display_data",
          "data": {
            "text/plain": [
              "<Figure size 432x288 with 1 Axes>"
            ],
            "image/png": "[encoded data removed]"
          },
          "metadata": {
            "needs_background": "light"
          }
        }
      ],
      "source": [
        "from matplotlib.patches import FancyArrowPatch\n",
        "\n",
        "interval = st.t.interval(\n",
        "    alpha = 0.95,\n",
        "    df = len(normal_sample) - 1,\n",
        "    loc = normal_sample.mean(),\n",
        "    scale = normal_sample.std() / math.sqrt(df)\n",
        ")\n",
        "print(f\"El intervalo es: {interval}\")\n",
        "\n",
        "interval2 = (\n",
        "    normal_sample.mean() + st.t.ppf(0.025, 9) * (normal_sample.std()/math.sqrt(9)),\n",
        "    normal_sample.mean() - st.t.ppf(0.025, 9) * (normal_sample.std()/math.sqrt(9))\n",
        ")\n",
        "print(f\"El intervalo es: {interval2}\")\n",
        "\n",
        "fig, axes = plt.subplots()\n",
        "axes.hist(normal_sample, 5)\n",
        "\n",
        "patch = FancyArrowPatch(\n",
        "    (interval[0], 1),\n",
        "    (interval[1], 1),\n",
        "    arrowstyle = \"|-|\",\n",
        "    mutation_scale = 10\n",
        ")\n",
        "axes.add_patch(patch)\n",
        "fig.tight_layout()\n"
      ]
    },
    {
      "cell_type": "markdown",
      "metadata": {
        "id": "emgP3uaFv-Wx"
      },
      "source": [
        "### Nivel de confianza\n"
      ]
    },
    {
      "cell_type": "code",
      "execution_count": 27,
      "metadata": {
        "id": "T6C3Pk3Iv-Wx",
        "outputId": "4f0dc1b3-47b7-417e-e1e0-5ceb1a094316",
        "colab": {
          "base_uri": "https://localhost:8080/"
        }
      },
      "outputs": [
        {
          "output_type": "stream",
          "name": "stdout",
          "text": [
            "El 95.00% de las muestras tienen un intervalo de confianza que contiene la media poblacional\n"
          ]
        }
      ],
      "source": [
        "import pandas as pd\n",
        "samples_1000 = pd.Series(np.zeros(1000)).apply(\n",
        "    st.norm.rvs,\n",
        "    size = 10\n",
        ")\n",
        "\n",
        "intervals = samples_1000.map(\n",
        "    lambda x: st.t.interval(\n",
        "        alpha = 0.95,\n",
        "        df = 9,\n",
        "        loc = x.mean(),\n",
        "        scale = st.sem(x)\n",
        "    )\n",
        ").explode().to_numpy().reshape((1000,2))\n",
        "\n",
        "success_ratio = (\n",
        "    (intervals.T[0] <= 0) & (intervals.T[1] >= 0)\n",
        ").sum() / 1000\n",
        "print(\n",
        "    f\"El {success_ratio*100:0.2f}% de las muestras tienen un \"\n",
        "    \"intervalo de confianza que contiene la media poblacional\"\n",
        ")"
      ]
    },
    {
      "cell_type": "markdown",
      "metadata": {
        "id": "4pAVu1r1v-Wy"
      },
      "source": [
        "\n",
        "### Bootstrap\n",
        "\n",
        "- Se usa para obtener:\n",
        "  - estimaciones puntuales o por intervalos\n",
        "    - en particular, intervalos de confianza\n",
        "  - para parámetros poblacionales\n",
        "  - sin necesidad de conocer la distribución subyacente.\n",
        "- se basa en hacer un muestreo aleatorio con reemplazo de nuestra muestra,\n",
        "  - calculando el parámetro de interés en cada sub-muestra.\n",
        "- La muestra inicial debe:\n",
        "  - tener valores independientes\n",
        "  - idénticamente distribuidos.\n",
        "- puede presentar problemas con distribuciones discretas y poco densas.\n"
      ]
    },
    {
      "cell_type": "code",
      "execution_count": 28,
      "metadata": {
        "id": "UXt3Egzzv-Wy",
        "outputId": "65ddcd30-786c-413d-9216-8ea395c5fc9b",
        "colab": {
          "base_uri": "https://localhost:8080/",
          "height": 282
        }
      },
      "outputs": [
        {
          "output_type": "stream",
          "name": "stdout",
          "text": [
            "[-0.34844550193720375, 0.3948961483193541]\n"
          ]
        },
        {
          "output_type": "display_data",
          "data": {
            "text/plain": [
              "<Figure size 432x288 with 1 Axes>"
            ],
            "image/png": "[encoded data removed]"
          },
          "metadata": {
            "needs_background": "light"
          }
        }
      ],
      "source": [
        "main_sample = st.norm.rvs(size=100)\n",
        "\n",
        "replicate = pd.Series(\n",
        "    [\n",
        "        np.random.choice(\n",
        "            main_sample,\n",
        "            size = 25\n",
        "        )\n",
        "        for _ in range(10000)\n",
        "    ]\n",
        ")\n",
        "means = replicate.apply(np.mean)\n",
        "plt.hist(means, bins = 20)\n",
        "interval = [\n",
        "    means.quantile(0.025),\n",
        "    means.quantile(0.975)\n",
        "]\n",
        "print(interval)\n"
      ]
    },
    {
      "cell_type": "markdown",
      "metadata": {
        "id": "bBxiOQVSv-Wy"
      },
      "source": [
        "\n",
        "### Prueba χ²\n",
        "\n",
        "Se puede utilizar para testear la bondad de ajuste de:\n",
        "- cualquier distribución univariada\n",
        "  - para la cual se pueda calcular la *CDF*.\n",
        "- Requiere datos en grupos\n",
        "  - Para poder utilizar el test en una distribución continua\n",
        "    - debemos discretizar los datos (como en un histograma)\n",
        "- Es sensible a la elección de los bins.\n",
        "  - El tamaño muestral debe ser relativamente grande.\n",
        "- $ χ^{2} = \\sum_{i=1}^{k}{\\frac{(O_i - E_i)^{2}}{E_i}} $"
      ]
    },
    {
      "cell_type": "code",
      "execution_count": 30,
      "metadata": {
        "id": "Mt5sYdqvv-Wy",
        "outputId": "a550a49a-c47b-40d2-e1fc-414cbb8fd745",
        "colab": {
          "base_uri": "https://localhost:8080/",
          "height": 265
        }
      },
      "outputs": [
        {
          "output_type": "display_data",
          "data": {
            "text/plain": [
              "<Figure size 432x288 with 1 Axes>"
            ],
            "image/png": "[encoded data removed]"
          },
          "metadata": {
            "needs_background": "light"
          }
        }
      ],
      "source": [
        "import scipy.stats as st\n",
        "import matplotlib.pyplot as plt\n",
        "import numpy as np\n",
        "\n",
        "observed = st.binom.rvs(n=10, p=0.05, size = 1000)\n",
        "_= plt.hist(observed, bins = 5)"
      ]
    },
    {
      "cell_type": "code",
      "execution_count": 37,
      "metadata": {
        "id": "RyA6kIIzv-Wz",
        "outputId": "82a2b7a5-fb72-40a5-f741-eeedfba337fd",
        "colab": {
          "base_uri": "https://localhost:8080/"
        }
      },
      "outputs": [
        {
          "output_type": "stream",
          "name": "stdout",
          "text": [
            "[ 557.  898.  980.  999. 1000.]\n",
            "[667.75298292 909.94318399 949.47163649 953.29476834 953.53742826]\n"
          ]
        }
      ],
      "source": [
        "obs_cdf = st.cumfreq(\n",
        "  observed,\n",
        "  numbins=5,\n",
        "  defaultreallimits = (0, 5)\n",
        ").cumcount\n",
        "\n",
        "teoretical_cdf = st.binom.cdf(\n",
        "  np.arange(5),\n",
        "  n=10,\n",
        "  p=0.035\n",
        ")\n",
        "teoretical_cdf = teoretical_cdf * 1000\n",
        "teoretical_cdf = teoretical_cdf * sum(obs_cdf) / sum (teoretical_cdf)\n",
        "\n",
        "print(obs_cdf)\n",
        "print(teoretical_cdf)\n"
      ]
    },
    {
      "cell_type": "code",
      "execution_count": 38,
      "metadata": {
        "id": "tpjdc3s2v-Wz",
        "outputId": "91cdc896-be34-46f1-8da0-b80bd03994ff",
        "colab": {
          "base_uri": "https://localhost:8080/"
        }
      },
      "outputs": [
        {
          "output_type": "execute_result",
          "data": {
            "text/plain": [
              "Power_divergenceResult(statistic=23.96301155937566, pvalue=8.124997313016481e-05)"
            ]
          },
          "metadata": {},
          "execution_count": 38
        }
      ],
      "source": [
        "st.chisquare(f_obs=obs_cdf, f_exp=teoretical_cdf)"
      ]
    },
    {
      "cell_type": "markdown",
      "metadata": {
        "id": "g-MKke7ov-Wz"
      },
      "source": [
        "### Prueba de Kolmogórov-Smirnov\n",
        "\n",
        "- Usa la función de densidad acumulada (*CDF*).\n",
        "- Su estadístico, $D$:\n",
        "  - mide la distancia entre:\n",
        "    - la *CDF* de la distribución de la hipótesis nula,\n",
        "    - y la *ECDF* de la muestra.\n",
        "  - Es el valor máximo de las diferencias.\n",
        "  - $D=0$ si ambas distribuciones acumuladas son idénticas.\n",
        "- Es un test paramétrico\n",
        "- La dsitribución nula debe ser **continua**.\n",
        "- Es sensible tanto a cambios en:\n",
        "  - la ubicación\n",
        "  - la escala\n",
        "- No tiene gran poder\n",
        "  - puede requerir un tamaño muestral grande para rechazar la hipótesis nula."
      ]
    },
    {
      "cell_type": "code",
      "execution_count": 42,
      "metadata": {
        "id": "0on3QJgmv-Wz",
        "outputId": "a8ecb31c-693a-47d3-8785-5a5ec39626d1",
        "colab": {
          "base_uri": "https://localhost:8080/"
        }
      },
      "outputs": [
        {
          "output_type": "execute_result",
          "data": {
            "text/plain": [
              "KstestResult(statistic=0.11694113843657322, pvalue=0.0019546650627891857)"
            ]
          },
          "metadata": {},
          "execution_count": 42
        }
      ],
      "source": [
        "import scipy.stats as st\n",
        "\n",
        "sample_one = st.norm.rvs(size=250)\n",
        "\n",
        "st.kstest(sample_one, st.norm.cdf)"
      ]
    },
    {
      "cell_type": "markdown",
      "metadata": {
        "id": "RG4wvDC0v-Wz"
      },
      "source": [
        "## Comparación de dos muestras\n"
      ]
    },
    {
      "cell_type": "markdown",
      "metadata": {
        "id": "UaxsoF1Yv-W0"
      },
      "source": [
        "### Tests de forma"
      ]
    },
    {
      "cell_type": "markdown",
      "metadata": {
        "id": "ccPv7ZRMv-W0"
      },
      "source": [
        "### Test de Kolmogorov-Smirnov\n",
        "\n",
        "- Una variante del test del mismo nombre ya visto.\n",
        "  - Permite comparar dos muestras\n",
        "  - La hipótesis nula es que ambas provienen de la misma población."
      ]
    },
    {
      "cell_type": "code",
      "execution_count": 47,
      "metadata": {
        "id": "_uMbmZvnv-W0",
        "outputId": "85a08ac0-1bcf-4efe-b3e0-60887d514b71",
        "colab": {
          "base_uri": "https://localhost:8080/"
        }
      },
      "outputs": [
        {
          "output_type": "stream",
          "name": "stdout",
          "text": [
            "El pvalue para dos muestras de la misma población es: KstestResult(statistic=0.076, pvalue=0.4665404259526072)\n",
            "El pvalue para dos muestras de diferentes poblaciones es: KstestResult(statistic=0.164, pvalue=0.0023632687259002)\n"
          ]
        }
      ],
      "source": [
        "import scipy.stats as st\n",
        "\n",
        "sample_one = st.norm.rvs(size=250)\n",
        "sample_two = st.norm.rvs(size=250)\n",
        "sample_three = st.t.rvs(1, size=250)\n",
        "\n",
        "same_dist_res = st.kstest(sample_one, sample_two)\n",
        "print(f\"El pvalue para dos muestras de la misma población es:\", same_dist_res)\n",
        "diff_dist_res = st.kstest(sample_one, sample_three)\n",
        "print(\n",
        "    f\"El pvalue para dos muestras de diferentes poblaciones es:\",\n",
        "    diff_dist_res\n",
        ")\n"
      ]
    },
    {
      "cell_type": "markdown",
      "metadata": {
        "id": "gy7LEJMsv-W0"
      },
      "source": [
        "### Test de $\\chi2$ para dos muestras\n",
        "\n",
        "- Requiere agrupar los datos en *bins*\n",
        "- Es sensible a:\n",
        "  - valores extremos.\n",
        "  - Cantidad de *bins*\n"
      ]
    },
    {
      "cell_type": "code",
      "execution_count": 54,
      "metadata": {
        "id": "ZJbnORa1v-W0",
        "outputId": "49fcf5a4-a4c6-4cbf-973e-2d0fdd655779",
        "colab": {
          "base_uri": "https://localhost:8080/"
        }
      },
      "outputs": [
        {
          "output_type": "stream",
          "name": "stdout",
          "text": [
            "El primer grupo es: [ 4 20 41 29  6]\n",
            " El segundo grupo es: [ 4 21 45 25  5]\n"
          ]
        }
      ],
      "source": [
        "# Genero las muestras\n",
        "sample_one = st.norm.rvs(size=100)\n",
        "sample_two = st.norm.rvs(size=100)\n",
        "# Agrupo los datos en categorias\n",
        "maxval = np.concatenate((sample_one, sample_two)).max()\n",
        "minval = np.concatenate((sample_one, sample_two)).min()\n",
        "s1hist = np.histogram(sample_one, bins=5, range=(minval, maxval))\n",
        "s2hist = np.histogram(sample_two, bins=5, range=(minval, maxval))\n",
        "print(\n",
        "    f\"El primer grupo es: {s1hist[0]}\\n\",\n",
        "    f\"El segundo grupo es: {s2hist[0]}\"\n",
        ")"
      ]
    },
    {
      "cell_type": "code",
      "execution_count": 58,
      "metadata": {
        "id": "ERM3vLaHv-W0",
        "outputId": "372a2da8-006e-45cc-ae9e-5cee9b83aeea",
        "colab": {
          "base_uri": "https://localhost:8080/"
        }
      },
      "outputs": [
        {
          "output_type": "stream",
          "name": "stdout",
          "text": [
            "Las frecuencias esperadas son:\n",
            "[[ 4.  20.5 43.  27.   5.5]\n",
            " [ 4.  20.5 43.  27.   5.5]]\n",
            "Los datos obsrevados son:\n",
            "[[ 4 20 41 29  6]\n",
            " [ 4 21 45 25  5]]\n",
            "Los grados de libertad son: 4\n"
          ]
        }
      ],
      "source": [
        "# Calculo las frecuencias esperadas:\n",
        "fexp = (s1hist[0] + s2hist[0])/2\n",
        "fexp = np.array([fexp, fexp])\n",
        "\n",
        "# Genero un array 2D con los datos observados\n",
        "fobs = np.array([s1hist[0], s2hist[0]])\n",
        "\n",
        "print(f\"Las frecuencias esperadas son:\\n{fexp}\")\n",
        "print(f\"Los datos obsrevados son:\\n{fobs}\")\n",
        "dof = len(fobs[0])-1\n",
        "print(f\"Los grados de libertad son: {dof}\")\n"
      ]
    },
    {
      "cell_type": "code",
      "execution_count": 59,
      "metadata": {
        "id": "pl_LNgaIv-W1",
        "outputId": "cb787644-4863-4897-98e9-6e41de04bb45",
        "colab": {
          "base_uri": "https://localhost:8080/"
        }
      },
      "outputs": [
        {
          "output_type": "execute_result",
          "data": {
            "text/plain": [
              "Power_divergenceResult(statistic=0.5976421427357331, pvalue=0.9633253377105487)"
            ]
          },
          "metadata": {},
          "execution_count": 59
        }
      ],
      "source": [
        "st.chisquare(\n",
        "    f_obs = fobs.ravel(),\n",
        "    f_exp = fexp.ravel(),\n",
        "    ddof = fobs.size - 1 - dof\n",
        ")"
      ]
    },
    {
      "cell_type": "markdown",
      "metadata": {
        "id": "oans_-b_v-W1"
      },
      "source": [
        "Otra opción es usar tablas de contigencia"
      ]
    },
    {
      "cell_type": "code",
      "execution_count": 62,
      "metadata": {
        "id": "fCA589mTv-W1",
        "outputId": "d01105ce-29d5-4a50-cc35-982855cc7c93",
        "colab": {
          "base_uri": "https://localhost:8080/"
        }
      },
      "outputs": [
        {
          "output_type": "stream",
          "name": "stdout",
          "text": [
            "0.5976421427357331 0.9633253377105487 4 [[ 4.  20.5 43.  27.   5.5]\n",
            " [ 4.  20.5 43.  27.   5.5]]\n"
          ]
        }
      ],
      "source": [
        "chi2, p, dof, ex = st.chi2_contingency(fobs)\n",
        "print(chi2, p, dof, ex)"
      ]
    },
    {
      "cell_type": "markdown",
      "metadata": {
        "id": "_VGqFkyOv-W1"
      },
      "source": [
        "Usando tablas de contingencia podemos comparar distribuciones de variables\n",
        "categóricas.\n"
      ]
    },
    {
      "cell_type": "code",
      "execution_count": 71,
      "metadata": {
        "id": "cxQZtd7Gv-W1",
        "outputId": "4aa7f7cb-f3a8-4f2b-e42a-6a1c5d87e489",
        "colab": {
          "base_uri": "https://localhost:8080/",
          "height": 143
        }
      },
      "outputs": [
        {
          "output_type": "execute_result",
          "data": {
            "text/plain": [
              "         MarcaA  MarcaB  MarcaC  MarcaD  MarcaE\n",
              "Niños        24       4       8       1      13\n",
              "Jovenes       1      15      17       5      12\n",
              "Adultos      21       0      16       3      10"
            ],
            "text/html": [
              "\n",
              "  <div id=\"df-9b641d6b-cc74-4b4c-888f-56c3e73d28dc\">\n",
              "    <div class=\"colab-df-container\">\n",
              "      <div>\n",
              "<style scoped>\n",
              "    .dataframe tbody tr th:only-of-type {\n",
              "        vertical-align: middle;\n",
              "    }\n",
              "\n",
              "    .dataframe tbody tr th {\n",
              "        vertical-align: top;\n",
              "    }\n",
              "\n",
              "    .dataframe thead th {\n",
              "        text-align: right;\n",
              "    }\n",
              "</style>\n",
              "<table border=\"1\" class=\"dataframe\">\n",
              "  <thead>\n",
              "    <tr style=\"text-align: right;\">\n",
              "      <th></th>\n",
              "      <th>MarcaA</th>\n",
              "      <th>MarcaB</th>\n",
              "      <th>MarcaC</th>\n",
              "      <th>MarcaD</th>\n",
              "      <th>MarcaE</th>\n",
              "    </tr>\n",
              "  </thead>\n",
              "  <tbody>\n",
              "    <tr>\n",
              "      <th>Niños</th>\n",
              "      <td>24</td>\n",
              "      <td>4</td>\n",
              "      <td>8</td>\n",
              "      <td>1</td>\n",
              "      <td>13</td>\n",
              "    </tr>\n",
              "    <tr>\n",
              "      <th>Jovenes</th>\n",
              "      <td>1</td>\n",
              "      <td>15</td>\n",
              "      <td>17</td>\n",
              "      <td>5</td>\n",
              "      <td>12</td>\n",
              "    </tr>\n",
              "    <tr>\n",
              "      <th>Adultos</th>\n",
              "      <td>21</td>\n",
              "      <td>0</td>\n",
              "      <td>16</td>\n",
              "      <td>3</td>\n",
              "      <td>10</td>\n",
              "    </tr>\n",
              "  </tbody>\n",
              "</table>\n",
              "</div>\n",
              "      <button class=\"colab-df-convert\" onclick=\"convertToInteractive('df-9b641d6b-cc74-4b4c-888f-56c3e73d28dc')\"\n",
              "              title=\"Convert this dataframe to an interactive table.\"\n",
              "              style=\"display:none;\">\n",
              "        \n",
              "  <svg xmlns=\"http://www.w3.org/2000/svg\" height=\"24px\"viewBox=\"0 0 24 24\"\n",
              "       width=\"24px\">\n",
              "    <path d=\"M0 0h24v24H0V0z\" fill=\"none\"/>\n",
              "    <path d=\"M18.56 5.44l.94 2.06.94-2.06 2.06-.94-2.06-.94-.94-2.06-.94 2.06-2.06.94zm-11 1L8.5 8.5l.94-2.06 2.06-.94-2.06-.94L8.5 2.5l-.94 2.06-2.06.94zm10 10l.94 2.06.94-2.06 2.06-.94-2.06-.94-.94-2.06-.94 2.06-2.06.94z\"/><path d=\"M17.41 7.96l-1.37-1.37c-.4-.4-.92-.59-1.43-.59-.52 0-1.04.2-1.43.59L10.3 9.45l-7.72 7.72c-.78.78-.78 2.05 0 2.83L4 21.41c.39.39.9.59 1.41.59.51 0 1.02-.2 1.41-.59l7.78-7.78 2.81-2.81c.8-.78.8-2.07 0-2.86zM5.41 20L4 18.59l7.72-7.72 1.47 1.35L5.41 20z\"/>\n",
              "  </svg>\n",
              "      </button>\n",
              "      \n",
              "  <style>\n",
              "    .colab-df-container {\n",
              "      display:flex;\n",
              "      flex-wrap:wrap;\n",
              "      gap: 12px;\n",
              "    }\n",
              "\n",
              "    .colab-df-convert {\n",
              "      background-color: #E8F0FE;\n",
              "      border: none;\n",
              "      border-radius: 50%;\n",
              "      cursor: pointer;\n",
              "      display: none;\n",
              "      fill: #1967D2;\n",
              "      height: 32px;\n",
              "      padding: 0 0 0 0;\n",
              "      width: 32px;\n",
              "    }\n",
              "\n",
              "    .colab-df-convert:hover {\n",
              "      background-color: #E2EBFA;\n",
              "      box-shadow: 0px 1px 2px rgba(60, 64, 67, 0.3), 0px 1px 3px 1px rgba(60, 64, 67, 0.15);\n",
              "      fill: #174EA6;\n",
              "    }\n",
              "\n",
              "    [theme=dark] .colab-df-convert {\n",
              "      background-color: #3B4455;\n",
              "      fill: #D2E3FC;\n",
              "    }\n",
              "\n",
              "    [theme=dark] .colab-df-convert:hover {\n",
              "      background-color: #434B5C;\n",
              "      box-shadow: 0px 1px 3px 1px rgba(0, 0, 0, 0.15);\n",
              "      filter: drop-shadow(0px 1px 2px rgba(0, 0, 0, 0.3));\n",
              "      fill: #FFFFFF;\n",
              "    }\n",
              "  </style>\n",
              "\n",
              "      <script>\n",
              "        const buttonEl =\n",
              "          document.querySelector('#df-9b641d6b-cc74-4b4c-888f-56c3e73d28dc button.colab-df-convert');\n",
              "        buttonEl.style.display =\n",
              "          google.colab.kernel.accessAllowed ? 'block' : 'none';\n",
              "\n",
              "        async function convertToInteractive(key) {\n",
              "          const element = document.querySelector('#df-9b641d6b-cc74-4b4c-888f-56c3e73d28dc');\n",
              "          const dataTable =\n",
              "            await google.colab.kernel.invokeFunction('convertToInteractive',\n",
              "                                                     [key], {});\n",
              "          if (!dataTable) return;\n",
              "\n",
              "          const docLinkHtml = 'Like what you see? Visit the ' +\n",
              "            '<a target=\"_blank\" href=https://colab.research.google.com/notebooks/data_table.ipynb>data table notebook</a>'\n",
              "            + ' to learn more about interactive tables.';\n",
              "          element.innerHTML = '';\n",
              "          dataTable['output_type'] = 'display_data';\n",
              "          await google.colab.output.renderOutput(dataTable, element);\n",
              "          const docLink = document.createElement('div');\n",
              "          docLink.innerHTML = docLinkHtml;\n",
              "          element.appendChild(docLink);\n",
              "        }\n",
              "      </script>\n",
              "    </div>\n",
              "  </div>\n",
              "  "
            ]
          },
          "metadata": {},
          "execution_count": 71
        }
      ],
      "source": [
        "from time import time_ns, sleep\n",
        "marcas = [\"MarcaA\", \"MarcaB\", \"MarcaC\", \"MarcaD\", \"MarcaE\"]\n",
        "\n",
        "grupos = [\n",
        "    \"Niños\",\n",
        "    \"Jovenes\",\n",
        "    \"Adultos\"\n",
        "]\n",
        "\n",
        "sample_size = 50\n",
        "data = []\n",
        "for g in grupos:\n",
        "    # np.random.seed(3)\n",
        "    freqs = np.random.uniform(size=len(marcas))\n",
        "    freqs = freqs/freqs.sum()\n",
        "    sleep(0.001)\n",
        "    sample_summary = st.multinomial.rvs(\n",
        "        sample_size,\n",
        "        freqs,\n",
        "        1,\n",
        "        random_state = time_ns() % 323\n",
        "    ).squeeze()\n",
        "    data.append(sample_summary)\n",
        "data = np.array(data)\n",
        "data.T\n",
        "data = pd.DataFrame(\n",
        "    data = data,\n",
        "    index = grupos,\n",
        "    columns = marcas\n",
        ")\n",
        "data"
      ]
    },
    {
      "cell_type": "code",
      "execution_count": 72,
      "metadata": {
        "id": "M9T58Rnjv-W2",
        "outputId": "0c708e5d-e838-40ed-d51f-0a32e59580e0",
        "colab": {
          "base_uri": "https://localhost:8080/"
        }
      },
      "outputs": [
        {
          "output_type": "stream",
          "name": "stdout",
          "text": [
            "El pvalue es 2.3036655027291846e-07\n"
          ]
        }
      ],
      "source": [
        "chi2, pval, dof, ex = st.contingency.chi2_contingency(data)\n",
        "print(f\"El pvalue es {pval}\")"
      ]
    },
    {
      "cell_type": "markdown",
      "metadata": {
        "id": "XmsT5tZ-v-W2"
      },
      "source": [
        "### Tests de igualdad de varianza"
      ]
    },
    {
      "cell_type": "code",
      "execution_count": 73,
      "metadata": {
        "id": "p4EGx27Nv-W2",
        "outputId": "35d912cf-5acb-47f3-d6ba-974550ed3151",
        "colab": {
          "base_uri": "https://localhost:8080/",
          "height": 175
        }
      },
      "outputs": [
        {
          "output_type": "execute_result",
          "data": {
            "text/plain": [
              "        sepal length (cm)  sepal width (cm)  petal length (cm)  \\\n",
              "target                                                           \n",
              "0                0.124249          0.143690           0.030159   \n",
              "1                0.266433          0.098469           0.220816   \n",
              "2                0.404343          0.104004           0.304588   \n",
              "\n",
              "        petal width (cm)  \n",
              "target                    \n",
              "0               0.011106  \n",
              "1               0.039106  \n",
              "2               0.075433  "
            ],
            "text/html": [
              "\n",
              "  <div id=\"df-9ad977fa-3ac2-47ad-b946-7df7cbf53850\">\n",
              "    <div class=\"colab-df-container\">\n",
              "      <div>\n",
              "<style scoped>\n",
              "    .dataframe tbody tr th:only-of-type {\n",
              "        vertical-align: middle;\n",
              "    }\n",
              "\n",
              "    .dataframe tbody tr th {\n",
              "        vertical-align: top;\n",
              "    }\n",
              "\n",
              "    .dataframe thead th {\n",
              "        text-align: right;\n",
              "    }\n",
              "</style>\n",
              "<table border=\"1\" class=\"dataframe\">\n",
              "  <thead>\n",
              "    <tr style=\"text-align: right;\">\n",
              "      <th></th>\n",
              "      <th>sepal length (cm)</th>\n",
              "      <th>sepal width (cm)</th>\n",
              "      <th>petal length (cm)</th>\n",
              "      <th>petal width (cm)</th>\n",
              "    </tr>\n",
              "    <tr>\n",
              "      <th>target</th>\n",
              "      <th></th>\n",
              "      <th></th>\n",
              "      <th></th>\n",
              "      <th></th>\n",
              "    </tr>\n",
              "  </thead>\n",
              "  <tbody>\n",
              "    <tr>\n",
              "      <th>0</th>\n",
              "      <td>0.124249</td>\n",
              "      <td>0.143690</td>\n",
              "      <td>0.030159</td>\n",
              "      <td>0.011106</td>\n",
              "    </tr>\n",
              "    <tr>\n",
              "      <th>1</th>\n",
              "      <td>0.266433</td>\n",
              "      <td>0.098469</td>\n",
              "      <td>0.220816</td>\n",
              "      <td>0.039106</td>\n",
              "    </tr>\n",
              "    <tr>\n",
              "      <th>2</th>\n",
              "      <td>0.404343</td>\n",
              "      <td>0.104004</td>\n",
              "      <td>0.304588</td>\n",
              "      <td>0.075433</td>\n",
              "    </tr>\n",
              "  </tbody>\n",
              "</table>\n",
              "</div>\n",
              "      <button class=\"colab-df-convert\" onclick=\"convertToInteractive('df-9ad977fa-3ac2-47ad-b946-7df7cbf53850')\"\n",
              "              title=\"Convert this dataframe to an interactive table.\"\n",
              "              style=\"display:none;\">\n",
              "        \n",
              "  <svg xmlns=\"http://www.w3.org/2000/svg\" height=\"24px\"viewBox=\"0 0 24 24\"\n",
              "       width=\"24px\">\n",
              "    <path d=\"M0 0h24v24H0V0z\" fill=\"none\"/>\n",
              "    <path d=\"M18.56 5.44l.94 2.06.94-2.06 2.06-.94-2.06-.94-.94-2.06-.94 2.06-2.06.94zm-11 1L8.5 8.5l.94-2.06 2.06-.94-2.06-.94L8.5 2.5l-.94 2.06-2.06.94zm10 10l.94 2.06.94-2.06 2.06-.94-2.06-.94-.94-2.06-.94 2.06-2.06.94z\"/><path d=\"M17.41 7.96l-1.37-1.37c-.4-.4-.92-.59-1.43-.59-.52 0-1.04.2-1.43.59L10.3 9.45l-7.72 7.72c-.78.78-.78 2.05 0 2.83L4 21.41c.39.39.9.59 1.41.59.51 0 1.02-.2 1.41-.59l7.78-7.78 2.81-2.81c.8-.78.8-2.07 0-2.86zM5.41 20L4 18.59l7.72-7.72 1.47 1.35L5.41 20z\"/>\n",
              "  </svg>\n",
              "      </button>\n",
              "      \n",
              "  <style>\n",
              "    .colab-df-container {\n",
              "      display:flex;\n",
              "      flex-wrap:wrap;\n",
              "      gap: 12px;\n",
              "    }\n",
              "\n",
              "    .colab-df-convert {\n",
              "      background-color: #E8F0FE;\n",
              "      border: none;\n",
              "      border-radius: 50%;\n",
              "      cursor: pointer;\n",
              "      display: none;\n",
              "      fill: #1967D2;\n",
              "      height: 32px;\n",
              "      padding: 0 0 0 0;\n",
              "      width: 32px;\n",
              "    }\n",
              "\n",
              "    .colab-df-convert:hover {\n",
              "      background-color: #E2EBFA;\n",
              "      box-shadow: 0px 1px 2px rgba(60, 64, 67, 0.3), 0px 1px 3px 1px rgba(60, 64, 67, 0.15);\n",
              "      fill: #174EA6;\n",
              "    }\n",
              "\n",
              "    [theme=dark] .colab-df-convert {\n",
              "      background-color: #3B4455;\n",
              "      fill: #D2E3FC;\n",
              "    }\n",
              "\n",
              "    [theme=dark] .colab-df-convert:hover {\n",
              "      background-color: #434B5C;\n",
              "      box-shadow: 0px 1px 3px 1px rgba(0, 0, 0, 0.15);\n",
              "      filter: drop-shadow(0px 1px 2px rgba(0, 0, 0, 0.3));\n",
              "      fill: #FFFFFF;\n",
              "    }\n",
              "  </style>\n",
              "\n",
              "      <script>\n",
              "        const buttonEl =\n",
              "          document.querySelector('#df-9ad977fa-3ac2-47ad-b946-7df7cbf53850 button.colab-df-convert');\n",
              "        buttonEl.style.display =\n",
              "          google.colab.kernel.accessAllowed ? 'block' : 'none';\n",
              "\n",
              "        async function convertToInteractive(key) {\n",
              "          const element = document.querySelector('#df-9ad977fa-3ac2-47ad-b946-7df7cbf53850');\n",
              "          const dataTable =\n",
              "            await google.colab.kernel.invokeFunction('convertToInteractive',\n",
              "                                                     [key], {});\n",
              "          if (!dataTable) return;\n",
              "\n",
              "          const docLinkHtml = 'Like what you see? Visit the ' +\n",
              "            '<a target=\"_blank\" href=https://colab.research.google.com/notebooks/data_table.ipynb>data table notebook</a>'\n",
              "            + ' to learn more about interactive tables.';\n",
              "          element.innerHTML = '';\n",
              "          dataTable['output_type'] = 'display_data';\n",
              "          await google.colab.output.renderOutput(dataTable, element);\n",
              "          const docLink = document.createElement('div');\n",
              "          docLink.innerHTML = docLinkHtml;\n",
              "          element.appendChild(docLink);\n",
              "        }\n",
              "      </script>\n",
              "    </div>\n",
              "  </div>\n",
              "  "
            ]
          },
          "metadata": {},
          "execution_count": 73
        }
      ],
      "source": [
        "import sklearn.datasets as datasets\n",
        "\n",
        "iris = datasets.load_iris(as_frame=True)\n",
        "\n",
        "iris[\"frame\"].groupby(\"target\").var()"
      ]
    },
    {
      "cell_type": "markdown",
      "metadata": {
        "id": "x6XVGLrMv-W2"
      },
      "source": [
        "### F test de igualdad de varianzas\n",
        "\n",
        "- Asume que las dos distribuciones son normales\n",
        "- La hipótesis nula es que las varianzas son iguales.\n",
        "- Se calcula un estadístico F.\n",
        "- Luego se calcula un p-value de acuerdo a la distribución F teórica."
      ]
    },
    {
      "cell_type": "code",
      "execution_count": 74,
      "metadata": {
        "id": "ByyMQMaqv-W2",
        "outputId": "45eeb861-6725-49be-8202-3f928a85638e",
        "colab": {
          "base_uri": "https://localhost:8080/",
          "height": 297
        }
      },
      "outputs": [
        {
          "output_type": "display_data",
          "data": {
            "text/plain": [
              "<Figure size 432x288 with 1 Axes>"
            ],
            "image/png": "[encoded data removed]"
          },
          "metadata": {
            "needs_background": "light"
          }
        }
      ],
      "source": [
        "g1 = iris[\"frame\"].loc[iris[\"frame\"][\"target\"]==0, \"sepal width (cm)\"]\n",
        "g2 = iris[\"frame\"].loc[iris[\"frame\"][\"target\"]==1, \"sepal width (cm)\"]\n",
        "\n",
        "fig, axes = plt.subplots()\n",
        "for i, d in enumerate((g1, g2)):\n",
        "  x = np.linspace(-0.3, 0.3, len(d))\n",
        "  axes.scatter(x+i, d-d.mean(), label = f\"G{i+1}\")\n",
        "axes.set_ylim(-2, 2)\n",
        "axes.legend(loc=\"lower left\")\n",
        "axes.set_ylabel(\"data - mean(data)\")\n",
        "axes.set_xlabel(\"Grupos\")\n",
        "axes.set_xticks([])\n",
        "plt.legend()\n",
        "fig.tight_layout()\n"
      ]
    },
    {
      "cell_type": "markdown",
      "metadata": {
        "id": "uH-K2DlRv-W2"
      },
      "source": [
        "Comprobemos que las distribuciones \"son\" normales."
      ]
    },
    {
      "cell_type": "code",
      "execution_count": 75,
      "metadata": {
        "id": "4Y55luD7v-W2",
        "outputId": "3e6559c4-e2bb-4b0d-85b6-d8699da31432",
        "colab": {
          "base_uri": "https://localhost:8080/"
        }
      },
      "outputs": [
        {
          "output_type": "stream",
          "name": "stdout",
          "text": [
            "0.2715264856815338\n",
            "0.33798879384994507\n"
          ]
        }
      ],
      "source": [
        "r1 = st.shapiro(g1)\n",
        "r2 = st.shapiro(g2)\n",
        "for x in (r1, r2):\n",
        "  print(x.pvalue)"
      ]
    },
    {
      "cell_type": "markdown",
      "metadata": {
        "id": "7gN9XuS8v-W3"
      },
      "source": [
        "Calculamos el estadístico F y el pvalue."
      ]
    },
    {
      "cell_type": "code",
      "execution_count": 81,
      "metadata": {
        "id": "8teuVECnv-W3",
        "outputId": "16ebed5f-0de3-47da-b430-358b44e2d87b",
        "colab": {
          "base_uri": "https://localhost:8080/",
          "height": 332
        }
      },
      "outputs": [
        {
          "output_type": "stream",
          "name": "stdout",
          "text": [
            "F es: 0.6852914441540733\n",
            "El pvalue es: 0.9052557358429342\n"
          ]
        },
        {
          "output_type": "display_data",
          "data": {
            "text/plain": [
              "<Figure size 432x288 with 1 Axes>"
            ],
            "image/png": "[encoded data removed]"
          },
          "metadata": {
            "needs_background": "light"
          }
        }
      ],
      "source": [
        "import matplotlib.pyplot as plt\n",
        "\n",
        "f_statistic = g2.var() / g1.var()\n",
        "pvalue = 1 - st.f.cdf(\n",
        "  f_statistic,\n",
        "  g1.size-1,\n",
        "  g2.size-1\n",
        ")\n",
        "\n",
        "pvalue2 = st.f.cdf(\n",
        "  f_statistic,\n",
        "  g1.size-1,\n",
        "  g2.size-1\n",
        ")\n",
        "\n",
        "x = np.linspace(0, 2.5, 100)\n",
        "xf = np.linspace(0, f_statistic, 100)\n",
        "\n",
        "plt.plot(x, st.f.pdf(x, g1.size-1, g2.size-1))\n",
        "plt.fill_between(xf, st.f.pdf(xf, g1.size-1, g2.size-1), color=\"lightblue\")\n",
        "plt.annotate(\n",
        "  xy = (1.6, 0.15),\n",
        "  xytext = (1.35, 0.75),\n",
        "  text = f\"$P_{{val}}$ = $1-CDF_F(f)$ = {pvalue:0.3f}\",\n",
        "  arrowprops = {\"arrowstyle\": \"->\"},\n",
        "  fontsize = 14\n",
        ")\n",
        "plt.scatter([f_statistic], [0], color = \"green\")\n",
        "plt.annotate(\n",
        "  xy = (f_statistic, 0),\n",
        "  xytext = (0.6, 0.35),\n",
        "  text = f\"F = $\\\\frac{{S_{{g1}}^2}}{{S_{{g2}}^2}}$ = {f_statistic:0.2f}\",\n",
        "  arrowprops = {\"arrowstyle\": \"->\"},\n",
        "  fontsize = 14\n",
        ")\n",
        "plt.tight_layout()\n",
        "\n",
        "print(f\"F es: {f_statistic}\")\n",
        "print(f\"El pvalue es: {pvalue}\")\n"
      ]
    },
    {
      "cell_type": "markdown",
      "metadata": {
        "id": "Q134lHXkv-W3"
      },
      "source": [
        "### Test de igualdad de varianzas de Bartlett\n",
        "\n",
        "- Asume que las distribuciones son normales.\n",
        "- Es sensible a alejamientos de la normalidad.\n",
        "- Se puede utilizar con varias muestras simultáneamente.\n"
      ]
    },
    {
      "cell_type": "code",
      "execution_count": 84,
      "metadata": {
        "id": "3TAmATssv-W3",
        "outputId": "8f94e35a-00a1-4fca-9ca2-c7fa866f8681",
        "colab": {
          "base_uri": "https://localhost:8080/"
        }
      },
      "outputs": [
        {
          "output_type": "stream",
          "name": "stdout",
          "text": [
            "BartlettResult(statistic=1.7216251488751655, pvalue=0.1894839869728239) 0.18948398697282753\n"
          ]
        }
      ],
      "source": [
        "a = st.bartlett(g1, g2)\n",
        "b = 1 - st.chi2.cdf(a.statistic, 1)\n",
        "print(a, b)\n"
      ]
    },
    {
      "cell_type": "code",
      "execution_count": null,
      "metadata": {
        "id": "MZ1F8KB0v-W3",
        "outputId": "4b7de431-73f6-4c52-c71f-155057f21dd3"
      },
      "outputs": [
        {
          "data": {
            "image/png": "[encoded data removed]",
            "text/plain": [
              "<Figure size 640x480 with 1 Axes>"
            ]
          },
          "metadata": {},
          "output_type": "display_data"
        }
      ],
      "source": [
        "import matplotlib.pyplot as plt\n",
        "\n",
        "A = [85, 86, 88, 75, 78, 94, 98, 79, 71, 80]\n",
        "B = [91, 92, 93, 85, 87, 84, 82, 88, 95, 96]\n",
        "C = [79, 78, 88, 94, 92, 85, 83, 85, 82, 81]\n",
        "D = [59, 68, 99, 93, 72, 65, 73, 82, 72, 89]\n",
        "\n",
        "a = st.bartlett(A, B, C, D)\n",
        "b = 1 - st.chi2.cdf(a.statistic, 3)\n",
        "fig, axes = plt.subplots()\n",
        "for i, d in enumerate((A, B, C ,D)):\n",
        "    x = np.linspace(-0.3, 0.3, len(d))\n",
        "    axes.scatter(x+i, d, label = f\"G{i}\")\n",
        "axes.set_ylim(20, 110)\n",
        "axes.legend(loc=\"lower left\")\n",
        "axes.text(\n",
        "    x = 1.5,\n",
        "    y = 30,\n",
        "    s = (\n",
        "        f\"Bartlett Statistic ($B_S$) = {a.statistic:0.3f}\\n\"\n",
        "        f\"Bartlett P-Value = {a.pvalue:0.5f}\\n\"\n",
        "        f\"$1 - CDF_T(B_S)$ = {b:0.5f}\"\n",
        "    )\n",
        ")\n",
        "fig.tight_layout()"
      ]
    },
    {
      "cell_type": "markdown",
      "metadata": {
        "id": "Mc--RmXYv-W4"
      },
      "source": [
        "### Test de igualdad de varianzas de Levene\n",
        "\n",
        "- Es más robusto ante distribuciones no normales.\n",
        "- Se calcula un estadístico W\n",
        "  - $A = {\\sum_{i=1}^{N}N_i(\\bar{Z}_{i.}-\\bar{Z}_{..})^2}$\n",
        "  - $B = {\\sum_{i=1}^k\\sum_{j=1}^{N_i}(Z_{ij}-\\bar{Z}_{i.})^2}$\n",
        "  - $Z = |Y_{ij} - \\bar{Y}_{i.}|$\n",
        "  - $W = \\frac{N-k}{k-1}\\frac{A}{B}$\n",
        "- Luego se calcula el p-value sobre la función $F_{k-1,N-k}$"
      ]
    },
    {
      "cell_type": "code",
      "execution_count": 85,
      "metadata": {
        "id": "trFCSj5ov-W4",
        "outputId": "785b3059-cfd9-4b18-952a-583ec46ed6f2",
        "colab": {
          "base_uri": "https://localhost:8080/"
        }
      },
      "outputs": [
        {
          "output_type": "stream",
          "name": "stdout",
          "text": [
            "0.443880640246864\n",
            "0.44388064024686147\n"
          ]
        }
      ],
      "source": [
        "levene_result = st.levene(g1, g2)\n",
        "levene_stat = levene_result.statistic\n",
        "levene_pval = levene_result.pvalue\n",
        "print(1 - st.f.cdf(levene_stat, 1, 98))\n",
        "print(levene_pval)"
      ]
    },
    {
      "cell_type": "markdown",
      "metadata": {
        "id": "kl7afuDEv-W4"
      },
      "source": [
        "### Test de igualdad de medias"
      ]
    },
    {
      "cell_type": "markdown",
      "metadata": {
        "id": "aCU5nqHIv-W4"
      },
      "source": [
        "### Test de Student para dos muestras\n",
        "\n",
        "- Asume que las varianzas son iguales\n",
        "  - existe una alternativa a este test:\n",
        "    - test de Welch\n",
        "    - no requiere asumir esta condición"
      ]
    },
    {
      "cell_type": "code",
      "execution_count": 88,
      "metadata": {
        "id": "E3R2xQeiv-W4",
        "outputId": "9ba68658-4ea7-4a80-cff7-b5ccb9794771",
        "colab": {
          "base_uri": "https://localhost:8080/",
          "height": 282
        }
      },
      "outputs": [
        {
          "output_type": "execute_result",
          "data": {
            "text/plain": [
              "Ttest_indResult(statistic=0.5121526859231018, pvalue=0.6104889201575666)"
            ]
          },
          "metadata": {},
          "execution_count": 88
        },
        {
          "output_type": "display_data",
          "data": {
            "text/plain": [
              "<Figure size 432x288 with 1 Axes>"
            ],
            "image/png": "[encoded data removed]"
          },
          "metadata": {
            "needs_background": "light"
          }
        }
      ],
      "source": [
        "sample_one = st.lognorm.rvs(\n",
        "    s=1,\n",
        "    size = 30\n",
        ")\n",
        "sample_two = st.norm.rvs(\n",
        "    scale = st.lognorm.std(s=1),\n",
        "    size = 30,\n",
        "    loc = st.lognorm.mean(s=1)\n",
        ")\n",
        "plt.hist(\n",
        "    [\n",
        "        sample_one,\n",
        "        sample_two\n",
        "    ],\n",
        "    bins = 10\n",
        ")\n",
        "plt.xlim(-3, 7)\n",
        "\n",
        "m1 = sample_one.mean()\n",
        "m2 = sample_two.mean()\n",
        "plt.plot([m1, m1],[0, 5], color = \"red\")\n",
        "plt.annotate(\n",
        "    xy = [m1, 5],\n",
        "    xytext = [0.95, 0.95],\n",
        "    ha = \"right\",\n",
        "    text = \"Mean LogNormal\",\n",
        "    textcoords = \"axes fraction\",\n",
        "    arrowprops = {\"arrowstyle\":\"->\"}\n",
        ")\n",
        "plt.plot([m2, m2],[0, 5], color = \"green\")\n",
        "plt.annotate(\n",
        "    xy = [m2, 5],\n",
        "    xytext = [0.95, 0.85],\n",
        "    textcoords = \"axes fraction\",\n",
        "    ha = \"right\",\n",
        "    text = \"Mean Normal\",\n",
        "    arrowprops = {\"arrowstyle\":\"->\"}\n",
        ")\n",
        "\n",
        "st.ttest_ind(sample_one, sample_two)"
      ]
    },
    {
      "cell_type": "markdown",
      "metadata": {
        "id": "P3rjxPFpv-W4"
      },
      "source": [
        "\n",
        "### Test de Student para muestras apareadas\n",
        "\n",
        "- Las mediciones de ambas muestras\n",
        "  - corresponden a los mismos individuos\n",
        "  - en dos condiciones diferentes.\n",
        "  - Por ejemplo, antes y después de un tratamiento."
      ]
    },
    {
      "cell_type": "code",
      "execution_count": 96,
      "metadata": {
        "id": "kIoBIOpHv-W5",
        "outputId": "048ee4b6-07af-4fba-a520-9b5378ddb6e8",
        "colab": {
          "base_uri": "https://localhost:8080/"
        }
      },
      "outputs": [
        {
          "output_type": "stream",
          "name": "stdout",
          "text": [
            "El pvalue con efecto es 1.3794567705101516e-06\n",
            "El pvalue sin efecto es 0.21193695257006728\n"
          ]
        }
      ],
      "source": [
        "sample_one = st.uniform.rvs(size=20)\n",
        "effect = st.uniform.rvs(scale=0.01, size = 20)\n",
        "sample_two = sample_one + effect\n",
        "sample_three = st.uniform.rvs(size=20, loc=0.15)\n",
        "\n",
        "with_effect = st.ttest_rel(sample_one, sample_two)\n",
        "without_effect = st.ttest_rel(sample_one, sample_three)\n",
        "print(f\"El pvalue con efecto es {with_effect.pvalue}\")\n",
        "print(f\"El pvalue sin efecto es {without_effect.pvalue}\")"
      ]
    },
    {
      "cell_type": "markdown",
      "metadata": {
        "id": "9NMPkZOfv-W5"
      },
      "source": [
        "### Mann Whitney U Test\n",
        "\n",
        "- Es un test no paramétrico.\n",
        "- Asume que:\n",
        "  - Las observaciones son independientes en ambos grupos.\n",
        "- La hipótesis nula asume que las distribuciones de las dos poblaciones son\n",
        "  iguales.\n",
        "- Es semejante a un test de medias:\n",
        "  - Dados x, y\n",
        "    - Tomados de las muestras X e Y\n",
        "  - La probabilidad de x > y es la misma que la de y > x\n"
      ]
    },
    {
      "cell_type": "code",
      "execution_count": 103,
      "metadata": {
        "id": "TyCr6UhBv-W5",
        "outputId": "f51b0e57-dcad-4684-d775-9616e365c0ce",
        "colab": {
          "base_uri": "https://localhost:8080/"
        }
      },
      "outputs": [
        {
          "output_type": "execute_result",
          "data": {
            "text/plain": [
              "MannwhitneyuResult(statistic=457.0, pvalue=0.0025889396120505285)"
            ]
          },
          "metadata": {},
          "execution_count": 103
        }
      ],
      "source": [
        "sample_one = st.binom.rvs(n=10, p=0.3, size=20)\n",
        "sample_two = st.binom.rvs(n=10, p=0.45, size=80)\n",
        "\n",
        "st.mannwhitneyu(sample_one, sample_two)"
      ]
    },
    {
      "cell_type": "markdown",
      "metadata": {
        "id": "dkq1AN8Dv-W5"
      },
      "source": [
        "\n",
        "#### Wilcoxon signed rank text\n",
        "\n",
        "- Test para muestras pareadas\n",
        "- La hipótesis nula es que no hay un efecto:\n",
        "  - Se comprueba analizando el signo de las diferencias de ambas muestras.\n",
        "  - Se verifica si tiene una distribución binomial con p=0.5"
      ]
    },
    {
      "cell_type": "code",
      "execution_count": 118,
      "metadata": {
        "id": "va1t1k4Mv-W5",
        "outputId": "74ed4ea0-ba50-44ec-c5ac-fc522d78c995",
        "colab": {
          "base_uri": "https://localhost:8080/"
        }
      },
      "outputs": [
        {
          "output_type": "execute_result",
          "data": {
            "text/plain": [
              "WilcoxonResult(statistic=57.0, pvalue=0.003419220447540283)"
            ]
          },
          "metadata": {},
          "execution_count": 118
        }
      ],
      "source": [
        "sample_one = st.expon.rvs(size= 25)\n",
        "effect = st.uniform.rvs(size=25, scale=0.01)\n",
        "errors = st.norm.rvs(size=25, scale=0.01)\n",
        "sample_two = sample_one + effect + errors\n",
        "\n",
        "st.wilcoxon(sample_one, sample_two)"
      ]
    },
    {
      "cell_type": "markdown",
      "metadata": {
        "id": "K7O1h29nv-W6"
      },
      "source": [
        "Ejercicio: Calcular el pvalue usando la CDF de la distribución binomial."
      ]
    },
    {
      "cell_type": "markdown",
      "metadata": {
        "id": "FVwdlpuPv-W6"
      },
      "source": [
        "\n",
        "### Test de la mediana\n",
        "\n",
        "- Es un caso especial de la prueba de **chi-cuadrado**.\n",
        "- Se genera una tabla de contingencia:\n",
        "    - Se calcula la mediana para todos los datos ($x$ e $y$)\n",
        "    - Se arman grupos:\n",
        "      - por encima o por debajo de la mediana.\n",
        "      - las variables $x$ y $y$.\n",
        "- Esta prueba posee poco poder."
      ]
    },
    {
      "cell_type": "code",
      "execution_count": 123,
      "metadata": {
        "id": "QmEKaQpqv-W6",
        "outputId": "4f3d444b-2d09-4f79-ed2d-214676e8ea4d",
        "colab": {
          "base_uri": "https://localhost:8080/"
        }
      },
      "outputs": [
        {
          "output_type": "stream",
          "name": "stdout",
          "text": [
            "El p-value es 0.04598286052002971\n"
          ]
        }
      ],
      "source": [
        "sample_one = st.uniform.rvs(size = 25)\n",
        "sample_two = st.uniform.rvs(size = 45, loc=0.5)\n",
        "global_median = np.median(np.concatenate([sample_one, sample_two]))\n",
        "global_median\n",
        "data = [\n",
        "    [\n",
        "        (sample_one<=global_median).sum(),\n",
        "        (sample_one>global_median).sum()\n",
        "    ],\n",
        "    [\n",
        "        (sample_two<=global_median).sum(),\n",
        "        (sample_two>global_median).sum()\n",
        "    ],\n",
        "]\n",
        "data = np.array(data)\n",
        "data\n",
        "stat, pval, df, ex = st.contingency.chi2_contingency(data)\n",
        "print(f\"El p-value es {pval}\")"
      ]
    },
    {
      "cell_type": "markdown",
      "metadata": {
        "id": "9BSd0Y6Bv-W6"
      },
      "source": [
        "### Test de Fischer\n",
        "\n",
        "- Se usa para determinar si existe\n",
        "  - una asoociación significante entre dos variables nominales.\n",
        "- Es una variante al test $\\chi^2$ cuando hay pocas cuentas.\n",
        "- Se comparan:\n",
        "  - dos grupos\n",
        "  - dos variables\n",
        "  - Tabla de contingencia $2\\times2$\n",
        "\n"
      ]
    },
    {
      "cell_type": "code",
      "execution_count": 124,
      "metadata": {
        "id": "nvD993aRv-W6",
        "outputId": "7450b060-7195-4b63-ac4b-42e94d1f23c5",
        "colab": {
          "base_uri": "https://localhost:8080/",
          "height": 833
        }
      },
      "outputs": [
        {
          "output_type": "execute_result",
          "data": {
            "text/plain": [
              "      age     sex   disease\n",
              "0     old  female  advanced\n",
              "1   young  female  advanced\n",
              "2     old    male  advanced\n",
              "3     old  female    stable\n",
              "4   young    male  advanced\n",
              "5     old  female  advanced\n",
              "6     old  female  advanced\n",
              "7   young    male  advanced\n",
              "8   young    male    stable\n",
              "9     old    male    stable\n",
              "10  young    male    stable\n",
              "11  young    male    stable\n",
              "12    old    male    stable\n",
              "13    old    male    stable\n",
              "14    old  female  advanced\n",
              "15  young    male    stable\n",
              "16    old  female    stable\n",
              "17    old    male  advanced\n",
              "18  young  female  advanced\n",
              "19    old  female  advanced\n",
              "20    old    male    stable\n",
              "21    old    male    stable\n",
              "22  young    male    stable\n",
              "23    old    male  advanced\n",
              "24    old  female  advanced"
            ],
            "text/html": [
              "\n",
              "  <div id=\"df-da3faaec-a0bd-437d-8eeb-f7bd0d580784\">\n",
              "    <div class=\"colab-df-container\">\n",
              "      <div>\n",
              "<style scoped>\n",
              "    .dataframe tbody tr th:only-of-type {\n",
              "        vertical-align: middle;\n",
              "    }\n",
              "\n",
              "    .dataframe tbody tr th {\n",
              "        vertical-align: top;\n",
              "    }\n",
              "\n",
              "    .dataframe thead th {\n",
              "        text-align: right;\n",
              "    }\n",
              "</style>\n",
              "<table border=\"1\" class=\"dataframe\">\n",
              "  <thead>\n",
              "    <tr style=\"text-align: right;\">\n",
              "      <th></th>\n",
              "      <th>age</th>\n",
              "      <th>sex</th>\n",
              "      <th>disease</th>\n",
              "    </tr>\n",
              "  </thead>\n",
              "  <tbody>\n",
              "    <tr>\n",
              "      <th>0</th>\n",
              "      <td>old</td>\n",
              "      <td>female</td>\n",
              "      <td>advanced</td>\n",
              "    </tr>\n",
              "    <tr>\n",
              "      <th>1</th>\n",
              "      <td>young</td>\n",
              "      <td>female</td>\n",
              "      <td>advanced</td>\n",
              "    </tr>\n",
              "    <tr>\n",
              "      <th>2</th>\n",
              "      <td>old</td>\n",
              "      <td>male</td>\n",
              "      <td>advanced</td>\n",
              "    </tr>\n",
              "    <tr>\n",
              "      <th>3</th>\n",
              "      <td>old</td>\n",
              "      <td>female</td>\n",
              "      <td>stable</td>\n",
              "    </tr>\n",
              "    <tr>\n",
              "      <th>4</th>\n",
              "      <td>young</td>\n",
              "      <td>male</td>\n",
              "      <td>advanced</td>\n",
              "    </tr>\n",
              "    <tr>\n",
              "      <th>5</th>\n",
              "      <td>old</td>\n",
              "      <td>female</td>\n",
              "      <td>advanced</td>\n",
              "    </tr>\n",
              "    <tr>\n",
              "      <th>6</th>\n",
              "      <td>old</td>\n",
              "      <td>female</td>\n",
              "      <td>advanced</td>\n",
              "    </tr>\n",
              "    <tr>\n",
              "      <th>7</th>\n",
              "      <td>young</td>\n",
              "      <td>male</td>\n",
              "      <td>advanced</td>\n",
              "    </tr>\n",
              "    <tr>\n",
              "      <th>8</th>\n",
              "      <td>young</td>\n",
              "      <td>male</td>\n",
              "      <td>stable</td>\n",
              "    </tr>\n",
              "    <tr>\n",
              "      <th>9</th>\n",
              "      <td>old</td>\n",
              "      <td>male</td>\n",
              "      <td>stable</td>\n",
              "    </tr>\n",
              "    <tr>\n",
              "      <th>10</th>\n",
              "      <td>young</td>\n",
              "      <td>male</td>\n",
              "      <td>stable</td>\n",
              "    </tr>\n",
              "    <tr>\n",
              "      <th>11</th>\n",
              "      <td>young</td>\n",
              "      <td>male</td>\n",
              "      <td>stable</td>\n",
              "    </tr>\n",
              "    <tr>\n",
              "      <th>12</th>\n",
              "      <td>old</td>\n",
              "      <td>male</td>\n",
              "      <td>stable</td>\n",
              "    </tr>\n",
              "    <tr>\n",
              "      <th>13</th>\n",
              "      <td>old</td>\n",
              "      <td>male</td>\n",
              "      <td>stable</td>\n",
              "    </tr>\n",
              "    <tr>\n",
              "      <th>14</th>\n",
              "      <td>old</td>\n",
              "      <td>female</td>\n",
              "      <td>advanced</td>\n",
              "    </tr>\n",
              "    <tr>\n",
              "      <th>15</th>\n",
              "      <td>young</td>\n",
              "      <td>male</td>\n",
              "      <td>stable</td>\n",
              "    </tr>\n",
              "    <tr>\n",
              "      <th>16</th>\n",
              "      <td>old</td>\n",
              "      <td>female</td>\n",
              "      <td>stable</td>\n",
              "    </tr>\n",
              "    <tr>\n",
              "      <th>17</th>\n",
              "      <td>old</td>\n",
              "      <td>male</td>\n",
              "      <td>advanced</td>\n",
              "    </tr>\n",
              "    <tr>\n",
              "      <th>18</th>\n",
              "      <td>young</td>\n",
              "      <td>female</td>\n",
              "      <td>advanced</td>\n",
              "    </tr>\n",
              "    <tr>\n",
              "      <th>19</th>\n",
              "      <td>old</td>\n",
              "      <td>female</td>\n",
              "      <td>advanced</td>\n",
              "    </tr>\n",
              "    <tr>\n",
              "      <th>20</th>\n",
              "      <td>old</td>\n",
              "      <td>male</td>\n",
              "      <td>stable</td>\n",
              "    </tr>\n",
              "    <tr>\n",
              "      <th>21</th>\n",
              "      <td>old</td>\n",
              "      <td>male</td>\n",
              "      <td>stable</td>\n",
              "    </tr>\n",
              "    <tr>\n",
              "      <th>22</th>\n",
              "      <td>young</td>\n",
              "      <td>male</td>\n",
              "      <td>stable</td>\n",
              "    </tr>\n",
              "    <tr>\n",
              "      <th>23</th>\n",
              "      <td>old</td>\n",
              "      <td>male</td>\n",
              "      <td>advanced</td>\n",
              "    </tr>\n",
              "    <tr>\n",
              "      <th>24</th>\n",
              "      <td>old</td>\n",
              "      <td>female</td>\n",
              "      <td>advanced</td>\n",
              "    </tr>\n",
              "  </tbody>\n",
              "</table>\n",
              "</div>\n",
              "      <button class=\"colab-df-convert\" onclick=\"convertToInteractive('df-da3faaec-a0bd-437d-8eeb-f7bd0d580784')\"\n",
              "              title=\"Convert this dataframe to an interactive table.\"\n",
              "              style=\"display:none;\">\n",
              "        \n",
              "  <svg xmlns=\"http://www.w3.org/2000/svg\" height=\"24px\"viewBox=\"0 0 24 24\"\n",
              "       width=\"24px\">\n",
              "    <path d=\"M0 0h24v24H0V0z\" fill=\"none\"/>\n",
              "    <path d=\"M18.56 5.44l.94 2.06.94-2.06 2.06-.94-2.06-.94-.94-2.06-.94 2.06-2.06.94zm-11 1L8.5 8.5l.94-2.06 2.06-.94-2.06-.94L8.5 2.5l-.94 2.06-2.06.94zm10 10l.94 2.06.94-2.06 2.06-.94-2.06-.94-.94-2.06-.94 2.06-2.06.94z\"/><path d=\"M17.41 7.96l-1.37-1.37c-.4-.4-.92-.59-1.43-.59-.52 0-1.04.2-1.43.59L10.3 9.45l-7.72 7.72c-.78.78-.78 2.05 0 2.83L4 21.41c.39.39.9.59 1.41.59.51 0 1.02-.2 1.41-.59l7.78-7.78 2.81-2.81c.8-.78.8-2.07 0-2.86zM5.41 20L4 18.59l7.72-7.72 1.47 1.35L5.41 20z\"/>\n",
              "  </svg>\n",
              "      </button>\n",
              "      \n",
              "  <style>\n",
              "    .colab-df-container {\n",
              "      display:flex;\n",
              "      flex-wrap:wrap;\n",
              "      gap: 12px;\n",
              "    }\n",
              "\n",
              "    .colab-df-convert {\n",
              "      background-color: #E8F0FE;\n",
              "      border: none;\n",
              "      border-radius: 50%;\n",
              "      cursor: pointer;\n",
              "      display: none;\n",
              "      fill: #1967D2;\n",
              "      height: 32px;\n",
              "      padding: 0 0 0 0;\n",
              "      width: 32px;\n",
              "    }\n",
              "\n",
              "    .colab-df-convert:hover {\n",
              "      background-color: #E2EBFA;\n",
              "      box-shadow: 0px 1px 2px rgba(60, 64, 67, 0.3), 0px 1px 3px 1px rgba(60, 64, 67, 0.15);\n",
              "      fill: #174EA6;\n",
              "    }\n",
              "\n",
              "    [theme=dark] .colab-df-convert {\n",
              "      background-color: #3B4455;\n",
              "      fill: #D2E3FC;\n",
              "    }\n",
              "\n",
              "    [theme=dark] .colab-df-convert:hover {\n",
              "      background-color: #434B5C;\n",
              "      box-shadow: 0px 1px 3px 1px rgba(0, 0, 0, 0.15);\n",
              "      filter: drop-shadow(0px 1px 2px rgba(0, 0, 0, 0.3));\n",
              "      fill: #FFFFFF;\n",
              "    }\n",
              "  </style>\n",
              "\n",
              "      <script>\n",
              "        const buttonEl =\n",
              "          document.querySelector('#df-da3faaec-a0bd-437d-8eeb-f7bd0d580784 button.colab-df-convert');\n",
              "        buttonEl.style.display =\n",
              "          google.colab.kernel.accessAllowed ? 'block' : 'none';\n",
              "\n",
              "        async function convertToInteractive(key) {\n",
              "          const element = document.querySelector('#df-da3faaec-a0bd-437d-8eeb-f7bd0d580784');\n",
              "          const dataTable =\n",
              "            await google.colab.kernel.invokeFunction('convertToInteractive',\n",
              "                                                     [key], {});\n",
              "          if (!dataTable) return;\n",
              "\n",
              "          const docLinkHtml = 'Like what you see? Visit the ' +\n",
              "            '<a target=\"_blank\" href=https://colab.research.google.com/notebooks/data_table.ipynb>data table notebook</a>'\n",
              "            + ' to learn more about interactive tables.';\n",
              "          element.innerHTML = '';\n",
              "          dataTable['output_type'] = 'display_data';\n",
              "          await google.colab.output.renderOutput(dataTable, element);\n",
              "          const docLink = document.createElement('div');\n",
              "          docLink.innerHTML = docLinkHtml;\n",
              "          element.appendChild(docLink);\n",
              "        }\n",
              "      </script>\n",
              "    </div>\n",
              "  </div>\n",
              "  "
            ]
          },
          "metadata": {},
          "execution_count": 124
        }
      ],
      "source": [
        "import pandas as pd\n",
        "data = [\n",
        "    [\"old\", \"female\", \"advanced\"], [\"young\", \"female\", \"advanced\"],\n",
        "    [\"old\", \"male\", \"advanced\"], [\"old\", \"female\", \"stable\"],\n",
        "    [\"young\", \"male\", \"advanced\"], [\"old\", \"female\", \"advanced\"],\n",
        "    [\"old\", \"female\", \"advanced\"], [\"young\", \"male\", \"advanced\"],\n",
        "    [\"young\", \"male\", \"stable\"], [\"old\", \"male\", \"stable\"],\n",
        "    [\"young\", \"male\", \"stable\"], [\"young\", \"male\", \"stable\"],\n",
        "    [\"old\", \"male\", \"stable\"], [\"old\", \"male\", \"stable\"],\n",
        "    [\"old\", \"female\", \"advanced\"], [\"young\", \"male\", \"stable\"],\n",
        "    [\"old\", \"female\", \"stable\"], [\"old\", \"male\", \"advanced\"],\n",
        "    [\"young\", \"female\", \"advanced\"], [\"old\", \"female\", \"advanced\"],\n",
        "    [\"old\", \"male\", \"stable\"], [\"old\", \"male\", \"stable\"],\n",
        "    [\"young\", \"male\", \"stable\"], [\"old\", \"male\", \"advanced\"],\n",
        "    [\"old\", \"female\", \"advanced\"]\n",
        "]\n",
        "df = pd.DataFrame(\n",
        "    data,\n",
        "    columns = [\"age\", \"sex\", \"disease\"]\n",
        ")\n",
        "df"
      ]
    },
    {
      "cell_type": "code",
      "execution_count": 129,
      "metadata": {
        "id": "AR5lq4BTv-W6",
        "outputId": "00d15e1f-e842-4a90-959c-d237052b33c4",
        "colab": {
          "base_uri": "https://localhost:8080/"
        }
      },
      "outputs": [
        {
          "output_type": "stream",
          "name": "stdout",
          "text": [
            "        advanced  stable\n",
            "female         8       2\n",
            "male           5      10\n",
            "8.0 0.041405303540180446\n"
          ]
        }
      ],
      "source": [
        "import scipy.stats as st\n",
        "\n",
        "elements, counts = st.contingency.crosstab(df[\"sex\"], df[\"disease\"])\n",
        "df_counts = pd.DataFrame(counts)\n",
        "df_counts.index = elements[0]\n",
        "df_counts.columns = elements[1]\n",
        "print(df_counts)\n",
        "\n",
        "odds_ratio, pvalue = st.fisher_exact(counts)\n",
        "print(odds_ratio, pvalue)\n",
        "\n",
        "# ¿Qué pasa con el sexo?"
      ]
    },
    {
      "cell_type": "markdown",
      "metadata": {
        "id": "sbujIV3Av-W7"
      },
      "source": [
        "### McNemar test\n",
        "\n",
        "- Se usa para buscar diferencias en tablas de contingencia (2x2)\n",
        "  - cuando se tienen muestra aparedas.\n",
        "- El uso típico es buscar cambios es individuos\n",
        "  - Antes vs. después de un tratamiento\n",
        "  - El tipo de variable que se mide es la misma"
      ]
    },
    {
      "cell_type": "code",
      "execution_count": 132,
      "metadata": {
        "id": "CEiB8bFBv-W7",
        "outputId": "1a7e4897-570a-4367-a629-bd6d7f0c3bac",
        "colab": {
          "base_uri": "https://localhost:8080/"
        }
      },
      "outputs": [
        {
          "output_type": "stream",
          "name": "stdout",
          "text": [
            "                   (after, stage_1)  (after, stage_2)\n",
            "(before, stage_1)                13                 2\n",
            "(before, stage_2)                 9                 1\n"
          ]
        },
        {
          "output_type": "execute_result",
          "data": {
            "text/plain": [
              "0.0654296875"
            ]
          },
          "metadata": {},
          "execution_count": 132
        }
      ],
      "source": [
        "from statsmodels.stats.contingency_tables import mcnemar\n",
        "\n",
        "data =[\n",
        "    ['stage_2', 'stage_1'], ['stage_1', 'stage_2'],\n",
        "    ['stage_2', 'stage_1'], ['stage_1', 'stage_1'],\n",
        "    ['stage_1', 'stage_1'], ['stage_2', 'stage_1'],\n",
        "    ['stage_2', 'stage_1'], ['stage_1', 'stage_1'],\n",
        "    ['stage_1', 'stage_1'], ['stage_1', 'stage_1'],\n",
        "    ['stage_1', 'stage_1'], ['stage_1', 'stage_2'],\n",
        "    ['stage_2', 'stage_1'], ['stage_2', 'stage_1'],\n",
        "    ['stage_1', 'stage_1'], ['stage_2', 'stage_1'],\n",
        "    ['stage_1', 'stage_1'], ['stage_2', 'stage_1'],\n",
        "    ['stage_1', 'stage_1'], ['stage_1', 'stage_1'],\n",
        "    ['stage_1', 'stage_1'], ['stage_2', 'stage_1'],\n",
        "    ['stage_1', 'stage_1'], ['stage_2', 'stage_2'],\n",
        "    ['stage_1', 'stage_1']\n",
        "]\n",
        "df = pd.DataFrame(\n",
        "    data,\n",
        "    columns = [\"before\", \"after_1y\"]\n",
        ")\n",
        "df\n",
        "\n",
        "elements, counts = st.contingency.crosstab(df[\"before\"], df[\"after_1y\"])\n",
        "\n",
        "df_counts = pd.DataFrame(counts)\n",
        "df_counts.index = [(\"before\", x) for x in elements[0]]\n",
        "df_counts.columns = [(\"after\", x) for x in elements[1]]\n",
        "print(df_counts)\n",
        "\n",
        "result = mcnemar(counts)\n",
        "\n",
        "result.pvalue\n",
        "\n",
        "# Y si las variables tienen más de dos valoresposibles.\n"
      ]
    },
    {
      "cell_type": "code",
      "source": [
        "# Test de cochran Q test / dos variables aleatorias, mas de dos categorias.\n",
        "# Tambien está implementado en statsmodels."
      ],
      "metadata": {
        "id": "XdkCjr_QfrDI"
      },
      "execution_count": null,
      "outputs": []
    }
  ],
  "metadata": {
    "kernelspec": {
      "display_name": "Python 3.9.4 ('.venv': venv)",
      "language": "python",
      "name": "python3"
    },
    "language_info": {
      "codemirror_mode": {
        "name": "ipython",
        "version": 3
      },
      "file_extension": ".py",
      "mimetype": "text/x-python",
      "name": "python",
      "nbconvert_exporter": "python",
      "pygments_lexer": "ipython3",
      "version": "3.9.4"
    },
    "orig_nbformat": 4,
    "vscode": {
      "interpreter": {
        "hash": "2642d409aca2f3e50c4cc7e12f906abb96a179c2b76bcb58c2b6a9943c6a4da3"
      }
    },
    "colab": {
      "provenance": []
    }
  },
  "nbformat": 4,
  "nbformat_minor": 0
}