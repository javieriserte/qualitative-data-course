{
 "cells": [
  {
   "cell_type": "markdown",
   "metadata": {},
   "source": [
    "# Trabajo Final - Análisis de datos cualitativos\n",
    "\n",
    "La resolución de los ejercicios debe entregarse en un documento junto\n",
    "con el código fuente en python para resolverlo. La fecha límite de\n",
    "entrega es el lunes 29 de abril de 2024."
   ]
  },
  {
   "cell_type": "markdown",
   "id": "4564ba72",
   "metadata": {},
   "source": [
    "## Ejercicio 1\n",
    "\n",
    "El archivo “exercise_one_data.csv” contiene un dataset de datos\n",
    "cualitativos sobre pacientes diagnosticados con cancer de mama. El\n",
    "objetivo es crear predictor que pueda estimar la sobrevida de un\n",
    "paciente luego de cinco años del momento del diagnóstico positivo.\n",
    "\n",
    "Las variables utilizadas para describir los datos son:\n",
    "\n",
    "-   provincia: Provincia de origen del paciente.\n",
    "-   centro_de_salud_cercano: Es “True” si el paciente tiene un centro\n",
    "    médico de de atención disponible a 10 km o menos, “False” en caso\n",
    "    contrario.\n",
    "-   estadio_al_momento_de_diagnostico: El estadio de tumor, desde “I”\n",
    "    hasta “IV”.\n",
    "-   consulta_en_el_ano_previo_al_diagnostico: “True” si el paciente\n",
    "    realizó una consulta oncológica en el año previo al diagnóstico.\n",
    "-   cobertura_de_salud: Tipo de cobertura de salud: “Publico” si el\n",
    "    paciente se fue diagnosticado en un centro de salud público.\n",
    "    “Proveedor A” si el paciente fue diagnosticado en en centro de salud\n",
    "    privado del tercio superior en precio promedio. “Proveedor B”, si el\n",
    "    paciente fue diagnosticado en un centro de salud del segundo de\n",
    "    tercio en precio promedio y “Proveedor C” si el paciente fue\n",
    "    diagnosticado en un centro de salud privado del tercer tercio en\n",
    "    precio promedio.\n",
    "-   edad: rango de edad del paciente.\n",
    "-   comorbilidad_cardiaca: “True” si el paciente tiene un diagnóstico\n",
    "    positivo para una afección cardíaca al momento de diagnóstico.\n",
    "-   comorbilidad_sistema_digestivo: “True” si el paciente tiene un\n",
    "    diagnóstico positivo para una afección del sistema digestivo al\n",
    "    momento del diagnóstico.\n",
    "-   comorbilidad_sistema_endocrino: “True” si el paciente tiene un\n",
    "    diagnóstico positivo para una afección del sistema endócrino al\n",
    "    momento de diagnóstico.\n",
    "-   tamano_tumor: Tamaño del tumor, “pequeno” si el es de 2cm o menos,\n",
    "    “mediano” si es de 2 a 5 cm, y “grande” si es de más de 5cm.\n",
    "-   estado_nodos_linfatico: “positivo” si se encontraron células\n",
    "    tumorales en los nodos linfáticos. “negativo” de lo contrario.\n",
    "-   estado_receptor_hormonas: “ER” si el tumor expresa el receptor de\n",
    "    estrógeno, “PR” si expresa el receptor de progesterona, “ER/PR” si\n",
    "    expresa ambos, “Ninguno” si no expresa ninguno de los dos.\n",
    "-   grado_diferenciacion_tumor: Grado de diferenciación de las células\n",
    "    del tumor: “bajo”, “medio”, “alto”.\n",
    "-   sobrevida_a\\_cinco_anos: “True” si el paciente tuvo una sobrevida\n",
    "    mayor a 5 años del momento del diagnóstico, “False” de lo contrario.\n",
    "\n",
    "Nota: Los datos de este ejercicio son simulados y no guardan ninguna\n",
    "relación con pacientes reales, ni tienen valor diagnótico.\n"
   ]
  },
  {
   "cell_type": "markdown",
   "id": "b6d8a7fc",
   "metadata": {},
   "source": [
    "### 1.A - Descripción inicial del data set\n",
    "\n",
    "-   Realizar un análisis de correspondencia múltiple de los datos.\n",
    "    -   Mostrar gráficos (uno por variable aleatoria) donde se puedan\n",
    "        observar el agrupamiento de los datos distinguiendo los valores\n",
    "        de la variable con diferentes colores o marcadores.\n",
    "-   Estime las frecuencias de aparición de cada valor para cada variable\n",
    "    aleatoria.\n",
    "-   Busque posibles asociaciones entre pares de variables aleatorias."
   ]
  },
  {
   "cell_type": "markdown",
   "id": "ecfa8b56",
   "metadata": {},
   "source": [
    "### 1.B - Métodos de predición\n",
    "\n",
    "Genere tres métodos de predición:\n",
    "\n",
    "-   Uno basado en un modelo lineal logístico.\n",
    "-   Otro basado en Random Forest.\n",
    "-   El último basado en el análisis de discriminantes lineales.\n",
    "\n",
    "Para los tres casos, muestre la forma de evaluación y el resultado con\n",
    "curvas ROC y el área bajo la curva ROC."
   ]
  },
  {
   "cell_type": "markdown",
   "id": "b7a75738",
   "metadata": {},
   "source": [
    "## Ejercicio 2\n",
    "\n",
    "En su lugar de trabajo están desarrollando un método de predicción tal\n",
    "que permita estimar el tamaño de la planta modelo *A. thaliana* en\n",
    "función del nivel de expresión de cinco genes medidos a nivel\n",
    "cualitativo.\n",
    "\n",
    "La expresión de los genes está medida en cinco niveles: “No_expresado”,\n",
    "“Poco_expresado”, “Medianamente_expresado”, “Bastante_expreado”,\n",
    "“Muy_Expresado”. Los genes medidos son: “AT1G01239”, “AT2G01130”,\n",
    "“AT1G01060”, “AT3G02860” y “AT5G12041”.\n",
    "\n",
    "También se tienen datos del crecimiento de las plantas crecidas a tres\n",
    "diferentes temperaturas 20°C, 25°C y 30°C."
   ]
  },
  {
   "cell_type": "markdown",
   "id": "5e1bec75",
   "metadata": {},
   "source": [
    "### 2.A - Diseño de un modelo lineal\n",
    "\n",
    "En base a las variables descriptas y a los datos presentes en el archivo\n",
    "“exercise_two_data.csv”, diseñe un modelo lineal que permita predecir la\n",
    "altura de la planta."
   ]
  },
  {
   "cell_type": "markdown",
   "id": "2afa0558",
   "metadata": {},
   "source": [
    "### 2.B - Importancia de variables\n",
    "\n",
    "¿Cuales de las variables incluidas en el modelo son las más y menos\n",
    "importantes para la predicción final?"
   ]
  }
 ],
 "metadata": {
  "language_info": {
   "name": "python"
  }
 },
 "nbformat": 4,
 "nbformat_minor": 5
}
